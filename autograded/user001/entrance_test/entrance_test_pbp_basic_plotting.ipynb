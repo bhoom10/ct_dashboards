{
 "cells": [
  {
   "cell_type": "markdown",
   "metadata": {
    "deletable": false,
    "editable": false
   },
   "source": [
    "# Python Entry Test¶\n",
    "\n",
    "## Part 4 of 4: Basic plotting\n",
    "\n",
    "## Instructions\n",
    "\n",
    "Below are 5 Exercises: python problems you need to solve, in order to pass this test. For each correct answer, you will be assigned points, with a maximum of 100 points in total. If you score 80 points or higher, you have passed the test. You cannot see your score immediately; your test will be graded as part of a batch job, later on.\n",
    "\n",
    "Note the following:\n",
    "1. You are asked to code in **Python3** (version 3), not Python2\n",
    "2. For some answers, you obtain a *skeleton*, to frame your answer. You are asked to complete it\n",
    "3. The answer you are expected to given starts where it says:\n",
    "```python\n",
    "    # YOUR CODE HERE\n",
    "    raise NotImplementedError()\n",
    "```\n",
    "   Start your answer by *removing these two lines*. Do not put your answer anywhere else than *just here, in this box*\n",
    "4. You may use as many lines for your answer as you see necessary\n",
    "5. In general, however, no more than 5 lines of code are needed\n",
    "6. Ignore all boxes that are completely empty; just focus on `# YOUR CODE HERE`"
   ]
  },
  {
   "cell_type": "markdown",
   "metadata": {
    "deletable": false,
    "editable": false
   },
   "source": [
    "# Begin of the Test\n",
    "\n",
    "#### Exercise 1: make a plot of a given function\n",
    "\n",
    "Given a function: $y = (x-5)^2 + 2$. \n",
    "\n",
    " 1. prepare the function coordinates: $(x, F(x))$ in two lists `X` and `Y` in the below code skeleton\n",
    " \n",
    " 2. plot the function as a red solid line (use: `plt.plot(..., ..., 'r-')`), using the below given code skeleton\n",
    " \n",
    " 3. plot a horizontal asymptote (line) $y = constant = y_{min}$ and a vertical symmetry line $x=constant$ as dashed blue lines. \n",
    " \n",
    "    For 3. do this:   \n",
    " \n",
    "    * Create lists `X_asymp` and `Y_asymp` and `X_symm` and `Y_symm` to contain the coordinates for the asymptote and the vertical symmetry line, resp.    \n",
    " \n",
    "    * to plot a straight line, we need at least 2 points (begin and end point). Compute or simply code in the below skeleton two points $(x_0, y_{min})$ and $(x_1, y_{min})$ for the horizontal asymptote. Append these two points to the lists: `X_asymp` and `Y_asymp`, resp. (remember we need separate lists for X and Y)   \n",
    " \n",
    "    * do the same for the symmetry line   \n",
    " \n",
    "    * then: plot each of them in the same way as the plotting in 2. To obtain a dashed blue line, use: `plt.plot(..., ..., 'b--')`"
   ]
  },
  {
   "cell_type": "code",
   "execution_count": 1,
   "metadata": {
    "deletable": false,
    "nbgrader": {
     "cell_type": "code",
     "checksum": "85f9e4c756275edb1479935cb1953cfa",
     "grade": false,
     "grade_id": "q1",
     "locked": false,
     "schema_version": 3,
     "solution": true
    },
    "tags": []
   },
   "outputs": [
    {
     "ename": "ModuleNotFoundError",
     "evalue": "No module named 'matplotlib'",
     "output_type": "error",
     "traceback": [
      "\u001b[0;31m---------------------------------------------------------------------------\u001b[0m",
      "\u001b[0;31mModuleNotFoundError\u001b[0m                       Traceback (most recent call last)",
      "\u001b[0;32m<ipython-input-1-d2f5c34ac6c0>\u001b[0m in \u001b[0;36m<module>\u001b[0;34m\u001b[0m\n\u001b[0;32m----> 1\u001b[0;31m \u001b[0mget_ipython\u001b[0m\u001b[0;34m(\u001b[0m\u001b[0;34m)\u001b[0m\u001b[0;34m.\u001b[0m\u001b[0mrun_line_magic\u001b[0m\u001b[0;34m(\u001b[0m\u001b[0;34m'matplotlib'\u001b[0m\u001b[0;34m,\u001b[0m \u001b[0;34m'inline'\u001b[0m\u001b[0;34m)\u001b[0m\u001b[0;34m\u001b[0m\u001b[0;34m\u001b[0m\u001b[0m\n\u001b[0m\u001b[1;32m      2\u001b[0m \u001b[0;34m\u001b[0m\u001b[0m\n\u001b[1;32m      3\u001b[0m \u001b[0;31m# use pyplot ...\u001b[0m\u001b[0;34m\u001b[0m\u001b[0;34m\u001b[0m\u001b[0;34m\u001b[0m\u001b[0m\n\u001b[1;32m      4\u001b[0m \u001b[0;32mimport\u001b[0m \u001b[0mmatplotlib\u001b[0m\u001b[0;34m.\u001b[0m\u001b[0mpyplot\u001b[0m \u001b[0;32mas\u001b[0m \u001b[0mplt\u001b[0m\u001b[0;34m\u001b[0m\u001b[0;34m\u001b[0m\u001b[0m\n\u001b[1;32m      5\u001b[0m \u001b[0;34m\u001b[0m\u001b[0m\n",
      "\u001b[0;32m~/.local/lib/python3.8/site-packages/IPython/core/interactiveshell.py\u001b[0m in \u001b[0;36mrun_line_magic\u001b[0;34m(self, magic_name, line, _stack_depth)\u001b[0m\n\u001b[1;32m   2346\u001b[0m                 \u001b[0mkwargs\u001b[0m\u001b[0;34m[\u001b[0m\u001b[0;34m'local_ns'\u001b[0m\u001b[0;34m]\u001b[0m \u001b[0;34m=\u001b[0m \u001b[0mself\u001b[0m\u001b[0;34m.\u001b[0m\u001b[0mget_local_scope\u001b[0m\u001b[0;34m(\u001b[0m\u001b[0mstack_depth\u001b[0m\u001b[0;34m)\u001b[0m\u001b[0;34m\u001b[0m\u001b[0;34m\u001b[0m\u001b[0m\n\u001b[1;32m   2347\u001b[0m             \u001b[0;32mwith\u001b[0m \u001b[0mself\u001b[0m\u001b[0;34m.\u001b[0m\u001b[0mbuiltin_trap\u001b[0m\u001b[0;34m:\u001b[0m\u001b[0;34m\u001b[0m\u001b[0;34m\u001b[0m\u001b[0m\n\u001b[0;32m-> 2348\u001b[0;31m                 \u001b[0mresult\u001b[0m \u001b[0;34m=\u001b[0m \u001b[0mfn\u001b[0m\u001b[0;34m(\u001b[0m\u001b[0;34m*\u001b[0m\u001b[0margs\u001b[0m\u001b[0;34m,\u001b[0m \u001b[0;34m**\u001b[0m\u001b[0mkwargs\u001b[0m\u001b[0;34m)\u001b[0m\u001b[0;34m\u001b[0m\u001b[0;34m\u001b[0m\u001b[0m\n\u001b[0m\u001b[1;32m   2349\u001b[0m             \u001b[0;32mreturn\u001b[0m \u001b[0mresult\u001b[0m\u001b[0;34m\u001b[0m\u001b[0;34m\u001b[0m\u001b[0m\n\u001b[1;32m   2350\u001b[0m \u001b[0;34m\u001b[0m\u001b[0m\n",
      "\u001b[0;32m<decorator-gen-108>\u001b[0m in \u001b[0;36mmatplotlib\u001b[0;34m(self, line)\u001b[0m\n",
      "\u001b[0;32m~/.local/lib/python3.8/site-packages/IPython/core/magic.py\u001b[0m in \u001b[0;36m<lambda>\u001b[0;34m(f, *a, **k)\u001b[0m\n\u001b[1;32m    185\u001b[0m     \u001b[0;31m# but it's overkill for just that one bit of state.\u001b[0m\u001b[0;34m\u001b[0m\u001b[0;34m\u001b[0m\u001b[0;34m\u001b[0m\u001b[0m\n\u001b[1;32m    186\u001b[0m     \u001b[0;32mdef\u001b[0m \u001b[0mmagic_deco\u001b[0m\u001b[0;34m(\u001b[0m\u001b[0marg\u001b[0m\u001b[0;34m)\u001b[0m\u001b[0;34m:\u001b[0m\u001b[0;34m\u001b[0m\u001b[0;34m\u001b[0m\u001b[0m\n\u001b[0;32m--> 187\u001b[0;31m         \u001b[0mcall\u001b[0m \u001b[0;34m=\u001b[0m \u001b[0;32mlambda\u001b[0m \u001b[0mf\u001b[0m\u001b[0;34m,\u001b[0m \u001b[0;34m*\u001b[0m\u001b[0ma\u001b[0m\u001b[0;34m,\u001b[0m \u001b[0;34m**\u001b[0m\u001b[0mk\u001b[0m\u001b[0;34m:\u001b[0m \u001b[0mf\u001b[0m\u001b[0;34m(\u001b[0m\u001b[0;34m*\u001b[0m\u001b[0ma\u001b[0m\u001b[0;34m,\u001b[0m \u001b[0;34m**\u001b[0m\u001b[0mk\u001b[0m\u001b[0;34m)\u001b[0m\u001b[0;34m\u001b[0m\u001b[0;34m\u001b[0m\u001b[0m\n\u001b[0m\u001b[1;32m    188\u001b[0m \u001b[0;34m\u001b[0m\u001b[0m\n\u001b[1;32m    189\u001b[0m         \u001b[0;32mif\u001b[0m \u001b[0mcallable\u001b[0m\u001b[0;34m(\u001b[0m\u001b[0marg\u001b[0m\u001b[0;34m)\u001b[0m\u001b[0;34m:\u001b[0m\u001b[0;34m\u001b[0m\u001b[0;34m\u001b[0m\u001b[0m\n",
      "\u001b[0;32m~/.local/lib/python3.8/site-packages/IPython/core/magics/pylab.py\u001b[0m in \u001b[0;36mmatplotlib\u001b[0;34m(self, line)\u001b[0m\n\u001b[1;32m     97\u001b[0m             \u001b[0mprint\u001b[0m\u001b[0;34m(\u001b[0m\u001b[0;34m\"Available matplotlib backends: %s\"\u001b[0m \u001b[0;34m%\u001b[0m \u001b[0mbackends_list\u001b[0m\u001b[0;34m)\u001b[0m\u001b[0;34m\u001b[0m\u001b[0;34m\u001b[0m\u001b[0m\n\u001b[1;32m     98\u001b[0m         \u001b[0;32melse\u001b[0m\u001b[0;34m:\u001b[0m\u001b[0;34m\u001b[0m\u001b[0;34m\u001b[0m\u001b[0m\n\u001b[0;32m---> 99\u001b[0;31m             \u001b[0mgui\u001b[0m\u001b[0;34m,\u001b[0m \u001b[0mbackend\u001b[0m \u001b[0;34m=\u001b[0m \u001b[0mself\u001b[0m\u001b[0;34m.\u001b[0m\u001b[0mshell\u001b[0m\u001b[0;34m.\u001b[0m\u001b[0menable_matplotlib\u001b[0m\u001b[0;34m(\u001b[0m\u001b[0margs\u001b[0m\u001b[0;34m.\u001b[0m\u001b[0mgui\u001b[0m\u001b[0;34m.\u001b[0m\u001b[0mlower\u001b[0m\u001b[0;34m(\u001b[0m\u001b[0;34m)\u001b[0m \u001b[0;32mif\u001b[0m \u001b[0misinstance\u001b[0m\u001b[0;34m(\u001b[0m\u001b[0margs\u001b[0m\u001b[0;34m.\u001b[0m\u001b[0mgui\u001b[0m\u001b[0;34m,\u001b[0m \u001b[0mstr\u001b[0m\u001b[0;34m)\u001b[0m \u001b[0;32melse\u001b[0m \u001b[0margs\u001b[0m\u001b[0;34m.\u001b[0m\u001b[0mgui\u001b[0m\u001b[0;34m)\u001b[0m\u001b[0;34m\u001b[0m\u001b[0;34m\u001b[0m\u001b[0m\n\u001b[0m\u001b[1;32m    100\u001b[0m             \u001b[0mself\u001b[0m\u001b[0;34m.\u001b[0m\u001b[0m_show_matplotlib_backend\u001b[0m\u001b[0;34m(\u001b[0m\u001b[0margs\u001b[0m\u001b[0;34m.\u001b[0m\u001b[0mgui\u001b[0m\u001b[0;34m,\u001b[0m \u001b[0mbackend\u001b[0m\u001b[0;34m)\u001b[0m\u001b[0;34m\u001b[0m\u001b[0;34m\u001b[0m\u001b[0m\n\u001b[1;32m    101\u001b[0m \u001b[0;34m\u001b[0m\u001b[0m\n",
      "\u001b[0;32m~/.local/lib/python3.8/site-packages/ipykernel/zmqshell.py\u001b[0m in \u001b[0;36menable_matplotlib\u001b[0;34m(self, gui)\u001b[0m\n\u001b[1;32m    599\u001b[0m \u001b[0;34m\u001b[0m\u001b[0m\n\u001b[1;32m    600\u001b[0m     \u001b[0;32mdef\u001b[0m \u001b[0menable_matplotlib\u001b[0m\u001b[0;34m(\u001b[0m\u001b[0mself\u001b[0m\u001b[0;34m,\u001b[0m \u001b[0mgui\u001b[0m\u001b[0;34m=\u001b[0m\u001b[0;32mNone\u001b[0m\u001b[0;34m)\u001b[0m\u001b[0;34m:\u001b[0m\u001b[0;34m\u001b[0m\u001b[0;34m\u001b[0m\u001b[0m\n\u001b[0;32m--> 601\u001b[0;31m         \u001b[0mgui\u001b[0m\u001b[0;34m,\u001b[0m \u001b[0mbackend\u001b[0m \u001b[0;34m=\u001b[0m \u001b[0msuper\u001b[0m\u001b[0;34m(\u001b[0m\u001b[0mZMQInteractiveShell\u001b[0m\u001b[0;34m,\u001b[0m \u001b[0mself\u001b[0m\u001b[0;34m)\u001b[0m\u001b[0;34m.\u001b[0m\u001b[0menable_matplotlib\u001b[0m\u001b[0;34m(\u001b[0m\u001b[0mgui\u001b[0m\u001b[0;34m)\u001b[0m\u001b[0;34m\u001b[0m\u001b[0;34m\u001b[0m\u001b[0m\n\u001b[0m\u001b[1;32m    602\u001b[0m \u001b[0;34m\u001b[0m\u001b[0m\n\u001b[1;32m    603\u001b[0m         \u001b[0;32mtry\u001b[0m\u001b[0;34m:\u001b[0m\u001b[0;34m\u001b[0m\u001b[0;34m\u001b[0m\u001b[0m\n",
      "\u001b[0;32m~/.local/lib/python3.8/site-packages/IPython/core/interactiveshell.py\u001b[0m in \u001b[0;36menable_matplotlib\u001b[0;34m(self, gui)\u001b[0m\n\u001b[1;32m   3515\u001b[0m         \"\"\"\n\u001b[1;32m   3516\u001b[0m         \u001b[0;32mfrom\u001b[0m \u001b[0mIPython\u001b[0m\u001b[0;34m.\u001b[0m\u001b[0mcore\u001b[0m \u001b[0;32mimport\u001b[0m \u001b[0mpylabtools\u001b[0m \u001b[0;32mas\u001b[0m \u001b[0mpt\u001b[0m\u001b[0;34m\u001b[0m\u001b[0;34m\u001b[0m\u001b[0m\n\u001b[0;32m-> 3517\u001b[0;31m         \u001b[0;32mfrom\u001b[0m \u001b[0mmatplotlib_inline\u001b[0m\u001b[0;34m.\u001b[0m\u001b[0mbackend_inline\u001b[0m \u001b[0;32mimport\u001b[0m \u001b[0mconfigure_inline_support\u001b[0m\u001b[0;34m\u001b[0m\u001b[0;34m\u001b[0m\u001b[0m\n\u001b[0m\u001b[1;32m   3518\u001b[0m         \u001b[0mgui\u001b[0m\u001b[0;34m,\u001b[0m \u001b[0mbackend\u001b[0m \u001b[0;34m=\u001b[0m \u001b[0mpt\u001b[0m\u001b[0;34m.\u001b[0m\u001b[0mfind_gui_and_backend\u001b[0m\u001b[0;34m(\u001b[0m\u001b[0mgui\u001b[0m\u001b[0;34m,\u001b[0m \u001b[0mself\u001b[0m\u001b[0;34m.\u001b[0m\u001b[0mpylab_gui_select\u001b[0m\u001b[0;34m)\u001b[0m\u001b[0;34m\u001b[0m\u001b[0;34m\u001b[0m\u001b[0m\n\u001b[1;32m   3519\u001b[0m \u001b[0;34m\u001b[0m\u001b[0m\n",
      "\u001b[0;32m~/.local/lib/python3.8/site-packages/matplotlib_inline/backend_inline.py\u001b[0m in \u001b[0;36m<module>\u001b[0;34m\u001b[0m\n\u001b[1;32m      4\u001b[0m \u001b[0;31m# Distributed under the terms of the BSD 3-Clause License.\u001b[0m\u001b[0;34m\u001b[0m\u001b[0;34m\u001b[0m\u001b[0;34m\u001b[0m\u001b[0m\n\u001b[1;32m      5\u001b[0m \u001b[0;34m\u001b[0m\u001b[0m\n\u001b[0;32m----> 6\u001b[0;31m \u001b[0;32mimport\u001b[0m \u001b[0mmatplotlib\u001b[0m\u001b[0;34m\u001b[0m\u001b[0;34m\u001b[0m\u001b[0m\n\u001b[0m\u001b[1;32m      7\u001b[0m from matplotlib.backends.backend_agg import (  # noqa\n\u001b[1;32m      8\u001b[0m     \u001b[0mnew_figure_manager\u001b[0m\u001b[0;34m,\u001b[0m\u001b[0;34m\u001b[0m\u001b[0;34m\u001b[0m\u001b[0m\n",
      "\u001b[0;31mModuleNotFoundError\u001b[0m: No module named 'matplotlib'"
     ]
    }
   ],
   "source": [
    "%matplotlib inline\n",
    "\n",
    "# use pyplot ...\n",
    "import matplotlib.pyplot as plt\n",
    "\n",
    "# program your function to plot below ...\n",
    "def F(x):\n",
    "    # specify y=F(x) below ...\n",
    "    # like in: y = (x ...)**2 etc.\n",
    "    # YOUR CODE HERE\n",
    "    raise NotImplementedError()\n",
    "    return y\n",
    "\n",
    "# nr of points acros X-domain ...\n",
    "N = 10+1 # 1 extra for endpoint ...\n",
    "\n",
    "# empty lists to hold your function x and y coordinates ...\n",
    "X, Y = [], []\n",
    "\n",
    "# use this code to generate your data ...\n",
    "for x in range(N):\n",
    "    # append the next x to X ...\n",
    "    # YOUR CODE HERE\n",
    "    raise NotImplementedError()\n",
    "    # ... and the F(x) to Y ...\n",
    "    # YOUR CODE HERE\n",
    "    raise NotImplementedError()\n",
    "\n",
    "# plot the line using the prepared lists X and Y ...\n",
    "\n",
    "# plt.plot( list of x-coordinates, list of y-coordinates, 'r-')\n",
    "# YOUR CODE HERE\n",
    "raise NotImplementedError()\n",
    "\n",
    "# do something similar here, for the y_min line and line x=5 ...\n",
    "X_asymp, Y_asymp = [], []\n",
    "X_symm,  Y_symm  = [], []\n",
    "\n",
    "# APPEND COORDINATES needed to plot the\n",
    "# asymptote and the symmetry line BELOW\n",
    "# like so:\n",
    "#    x_0 = ...\n",
    "#    x_1 = ...\n",
    "#    X_asymp.append(x_0)\n",
    "#    X_asymp.append(x_1)\n",
    "#    ...\n",
    "# then issue a plot comand to plot the lines ...\n",
    "\n",
    "# YOUR CODE HERE\n",
    "raise NotImplementedError()\n",
    "\n",
    "# ----- do not change below -------\n",
    "plt.grid(True)\n",
    "plt.title('$F(x)=(x-5)^{2}+2$,   for $x \\in [0..10]$')\n",
    "plt.show()"
   ]
  },
  {
   "cell_type": "code",
   "execution_count": 2,
   "metadata": {
    "deletable": false,
    "editable": false,
    "nbgrader": {
     "cell_type": "code",
     "checksum": "cfbbfff8f67ea21167d48bcbe159e96f",
     "grade": true,
     "grade_id": "at11",
     "locked": true,
     "points": 5,
     "schema_version": 3,
     "solution": false
    },
    "tags": [
     "visualization"
    ]
   },
   "outputs": [
    {
     "name": "stderr",
     "output_type": "stream",
     "text": [
      "test_F_producing_correct_y (__main__.MyEntryTestClasses) ... "
     ]
    },
    {
     "name": "stderr",
     "output_type": "stream",
     "text": [
      "ERROR\n",
      "\n",
      "======================================================================\n",
      "ERROR: test_F_producing_correct_y (__main__.MyEntryTestClasses)\n",
      "----------------------------------------------------------------------\n",
      "Traceback (most recent call last):\n",
      "  File \"<ipython-input-2-ac23643f70db>\", line 13, in test_F_producing_correct_y\n",
      "    for k in range(N):\n",
      "NameError: name 'N' is not defined\n",
      "\n",
      "----------------------------------------------------------------------\n",
      "Ran 1 test in 0.003s\n",
      "\n",
      "FAILED (errors=1)\n"
     ]
    }
   ],
   "source": [
    "### BEGIN HIDDEN TESTS\n",
    "import unittest\n",
    "\n",
    "class MyEntryTestClasses(unittest.TestCase):\n",
    "    \n",
    "    def setUp(self):\n",
    "        N_test = 10+1\n",
    "        self.X_test = [x for x in range(N_test)]\n",
    "        self.Y_test = [(x-5)**2 + 2 for x in range(N_test)]\n",
    "        \n",
    "        \n",
    "    def test_F_producing_correct_y(self):\n",
    "        for k in range(N):\n",
    "            self.assertEqual(self.X_test[k], X[k])\n",
    "            self.assertEqual(self.Y_test[k], F(X[k]))\n",
    "            \n",
    "    def tearDown(self):\n",
    "        pass\n",
    "\n",
    "        \n",
    "def run_MyEntryTestClasses():\n",
    "    suite = unittest.TestLoader().loadTestsFromTestCase(MyEntryTestClasses)\n",
    "    unittest.TextTestRunner(verbosity=2).run(suite)\n",
    "\n",
    "run_MyEntryTestClasses()\n",
    "### END HIDDEN TESTS"
   ]
  },
  {
   "cell_type": "code",
   "execution_count": 3,
   "metadata": {
    "deletable": false,
    "editable": false,
    "nbgrader": {
     "cell_type": "code",
     "checksum": "80b1d68f9be903b439a65fbf73abe34d",
     "grade": true,
     "grade_id": "at12",
     "locked": true,
     "points": 5,
     "schema_version": 3,
     "solution": false
    },
    "tags": [
     "visualization"
    ]
   },
   "outputs": [
    {
     "name": "stderr",
     "output_type": "stream",
     "text": [
      "test_data_lists_dimensions_correct (__main__.MyEntryTestClasses) ... "
     ]
    },
    {
     "name": "stderr",
     "output_type": "stream",
     "text": [
      "ERROR\n",
      "\n",
      "======================================================================\n",
      "ERROR: test_data_lists_dimensions_correct (__main__.MyEntryTestClasses)\n",
      "----------------------------------------------------------------------\n",
      "Traceback (most recent call last):\n",
      "  File \"<ipython-input-3-b512f94d975d>\", line 12, in test_data_lists_dimensions_correct\n",
      "    self.assertEqual(self.N_test, N)\n",
      "NameError: name 'N' is not defined\n",
      "\n",
      "----------------------------------------------------------------------\n",
      "Ran 1 test in 0.002s\n",
      "\n",
      "FAILED (errors=1)\n"
     ]
    }
   ],
   "source": [
    "### BEGIN HIDDEN TESTS\n",
    "import unittest\n",
    "\n",
    "class MyEntryTestClasses(unittest.TestCase):  \n",
    "        \n",
    "    def setUp(self):\n",
    "        self.N_test = 10+1\n",
    "        self.X_test = [x for x in range(self.N_test)]\n",
    "        self.Y_test = [(x-5)**2 + 2 for x in range(self.N_test)]\n",
    "        \n",
    "    def test_data_lists_dimensions_correct(self):\n",
    "        self.assertEqual(self.N_test, N)\n",
    "        self.assertEqual(len(self.X_test), len(X))\n",
    "        self.assertEqual(len(self.Y_test), len(Y))\n",
    "\n",
    "    def tearDown(self):\n",
    "        pass\n",
    "    \n",
    "def run_MyEntryTestClasses():\n",
    "    suite = unittest.TestLoader().loadTestsFromTestCase(MyEntryTestClasses)\n",
    "    unittest.TextTestRunner(verbosity=2).run(suite)\n",
    "\n",
    "run_MyEntryTestClasses()\n",
    "### END HIDDEN TESTS"
   ]
  },
  {
   "cell_type": "code",
   "execution_count": 4,
   "metadata": {
    "deletable": false,
    "editable": false,
    "nbgrader": {
     "cell_type": "code",
     "checksum": "8903b493040b6cbee80ddba1f0b3e889",
     "grade": true,
     "grade_id": "at13",
     "locked": true,
     "points": 5,
     "schema_version": 3,
     "solution": false
    },
    "tags": [
     "visualization"
    ]
   },
   "outputs": [
    {
     "name": "stderr",
     "output_type": "stream",
     "text": [
      "test_plot_correct_asympthotics (__main__.MyEntryTestClasses) ... "
     ]
    },
    {
     "name": "stderr",
     "output_type": "stream",
     "text": [
      "ERROR\n",
      "\n",
      "======================================================================\n",
      "ERROR: test_plot_correct_asympthotics (__main__.MyEntryTestClasses)\n",
      "----------------------------------------------------------------------\n",
      "Traceback (most recent call last):\n",
      "  File \"<ipython-input-4-977f055a246b>\", line 12, in test_plot_correct_asympthotics\n",
      "    self.assertEqual(self.Y_asymp_test, Y_asymp)\n",
      "NameError: name 'Y_asymp' is not defined\n",
      "\n",
      "----------------------------------------------------------------------\n",
      "Ran 1 test in 0.002s\n",
      "\n",
      "FAILED (errors=1)\n"
     ]
    }
   ],
   "source": [
    "### BEGIN HIDDEN TESTS\n",
    "import unittest\n",
    "\n",
    "class MyEntryTestClasses(unittest.TestCase):\n",
    "    \n",
    "    def setUp(self):\n",
    "        self.X_asymp_test = [0, 10]\n",
    "        self.Y_asymp_test = [2, 2]\n",
    "        \n",
    "    def test_plot_correct_asympthotics(self):\n",
    "        #self.assertEqual(self.X_asymp_test, X_asymp)\n",
    "        self.assertEqual(self.Y_asymp_test, Y_asymp)\n",
    "            \n",
    "    def tearDown(self):\n",
    "        pass\n",
    "\n",
    "        \n",
    "def run_MyEntryTestClasses():\n",
    "    suite = unittest.TestLoader().loadTestsFromTestCase(MyEntryTestClasses)\n",
    "    unittest.TextTestRunner(verbosity=2).run(suite)\n",
    "\n",
    "run_MyEntryTestClasses()\n",
    "### END HIDDEN TESTS"
   ]
  },
  {
   "cell_type": "code",
   "execution_count": 5,
   "metadata": {
    "deletable": false,
    "editable": false,
    "nbgrader": {
     "cell_type": "code",
     "checksum": "ebe2174fe1033a85460c92ad3864bc5c",
     "grade": true,
     "grade_id": "at14",
     "locked": true,
     "points": 5,
     "schema_version": 3,
     "solution": false
    },
    "tags": [
     "visualization"
    ]
   },
   "outputs": [
    {
     "name": "stderr",
     "output_type": "stream",
     "text": [
      "test_plot_correct_asympthotics (__main__.MyEntryTestClasses) ... "
     ]
    },
    {
     "name": "stderr",
     "output_type": "stream",
     "text": [
      "ERROR\n",
      "\n",
      "======================================================================\n",
      "ERROR: test_plot_correct_asympthotics (__main__.MyEntryTestClasses)\n",
      "----------------------------------------------------------------------\n",
      "Traceback (most recent call last):\n",
      "  File \"<ipython-input-5-aaf6f7ce591e>\", line 11, in test_plot_correct_asympthotics\n",
      "    self.assertEqual(self.X_symm_test, X_symm)\n",
      "NameError: name 'X_symm' is not defined\n",
      "\n",
      "----------------------------------------------------------------------\n",
      "Ran 1 test in 0.003s\n",
      "\n",
      "FAILED (errors=1)\n"
     ]
    }
   ],
   "source": [
    "### BEGIN HIDDEN TESTS\n",
    "import unittest\n",
    "\n",
    "class MyEntryTestClasses(unittest.TestCase):\n",
    "    \n",
    "    def setUp(self):\n",
    "        self.X_symm_test = [5, 5]\n",
    "        self.Y_symm_test = [0, 25+2]\n",
    "        \n",
    "    def test_plot_correct_asympthotics(self):\n",
    "        self.assertEqual(self.X_symm_test, X_symm)\n",
    "        # self.assertEqual(self.Y_symm_test, Y_symm)\n",
    "            \n",
    "    def tearDown(self):\n",
    "        pass\n",
    "\n",
    "        \n",
    "def run_MyEntryTestClasses():\n",
    "    suite = unittest.TestLoader().loadTestsFromTestCase(MyEntryTestClasses)\n",
    "    unittest.TextTestRunner(verbosity=2).run(suite)\n",
    "\n",
    "run_MyEntryTestClasses()\n",
    "### END HIDDEN TESTS"
   ]
  },
  {
   "cell_type": "code",
   "execution_count": 6,
   "metadata": {
    "deletable": false,
    "editable": false,
    "nbgrader": {
     "cell_type": "code",
     "checksum": "5f31bdac9a0b32c83d1674b60446e442",
     "grade": true,
     "grade_id": "at15",
     "locked": true,
     "points": 0,
     "schema_version": 3,
     "solution": false
    },
    "tags": [
     "visualization"
    ]
   },
   "outputs": [
    {
     "name": "stderr",
     "output_type": "stream",
     "text": [
      "test_plot_called_with_correct_data (__main__.MyEntryTestClasses) ... "
     ]
    },
    {
     "name": "stderr",
     "output_type": "stream",
     "text": [
      "ok\n",
      "\n",
      "----------------------------------------------------------------------\n",
      "Ran 1 test in 0.002s\n",
      "\n",
      "OK\n"
     ]
    }
   ],
   "source": [
    "### BEGIN HIDDEN TESTS\n",
    "import unittest\n",
    "\n",
    "class MyEntryTestClasses(unittest.TestCase):\n",
    "    \n",
    "    def setUp(self):\n",
    "        N_test = 10+1\n",
    "        self.X_test = [x for x in range(N_test)]\n",
    "        self.Y_test = [(x-5)**2 + 2 for x in range(N_test)]\n",
    "        \n",
    "    def test_plot_called_with_correct_data(self):\n",
    "        pass\n",
    "            \n",
    "    def tearDown(self):\n",
    "        pass\n",
    "\n",
    "        \n",
    "def run_MyEntryTestClasses():\n",
    "    suite = unittest.TestLoader().loadTestsFromTestCase(MyEntryTestClasses)\n",
    "    unittest.TextTestRunner(verbosity=2).run(suite)\n",
    "\n",
    "run_MyEntryTestClasses()\n",
    "### END HIDDEN TESTS"
   ]
  },
  {
   "cell_type": "markdown",
   "metadata": {
    "deletable": false,
    "editable": false
   },
   "source": [
    "#### Exercise 2: make a scatter plot of 40 randomly distributed points (x,y)∈[0,1)×[0,1)\n",
    "\n",
    "Finalize the code skeleton given below to produce the following plot:\n",
    "\n",
    "![expected result 2](./figures/expected_result2.png)\n",
    "\n",
    " 1. specify the domains\n",
    " 2. specify the correct number of point N to generate\n",
    " 3. generate N random point coordinates $(x,y)$ and append them to two lists `X` and `Y`\n",
    " 4. specify a blue small dot marker string\n",
    " 5. plot the points"
   ]
  },
  {
   "cell_type": "code",
   "execution_count": 7,
   "metadata": {
    "deletable": false,
    "nbgrader": {
     "cell_type": "code",
     "checksum": "329c471e831b18edca1f390a5cb0488d",
     "grade": false,
     "grade_id": "q2",
     "locked": false,
     "schema_version": 3,
     "solution": true
    },
    "tags": []
   },
   "outputs": [
    {
     "ename": "ModuleNotFoundError",
     "evalue": "No module named 'matplotlib'",
     "output_type": "error",
     "traceback": [
      "\u001b[0;31m---------------------------------------------------------------------------\u001b[0m",
      "\u001b[0;31mModuleNotFoundError\u001b[0m                       Traceback (most recent call last)",
      "\u001b[0;32m<ipython-input-7-171e7106c3eb>\u001b[0m in \u001b[0;36m<module>\u001b[0;34m\u001b[0m\n\u001b[0;32m----> 1\u001b[0;31m \u001b[0mget_ipython\u001b[0m\u001b[0;34m(\u001b[0m\u001b[0;34m)\u001b[0m\u001b[0;34m.\u001b[0m\u001b[0mrun_line_magic\u001b[0m\u001b[0;34m(\u001b[0m\u001b[0;34m'matplotlib'\u001b[0m\u001b[0;34m,\u001b[0m \u001b[0;34m'inline'\u001b[0m\u001b[0;34m)\u001b[0m\u001b[0;34m\u001b[0m\u001b[0;34m\u001b[0m\u001b[0m\n\u001b[0m\u001b[1;32m      2\u001b[0m \u001b[0;34m\u001b[0m\u001b[0m\n\u001b[1;32m      3\u001b[0m \u001b[0;31m# import random generator ...\u001b[0m\u001b[0;34m\u001b[0m\u001b[0;34m\u001b[0m\u001b[0;34m\u001b[0m\u001b[0m\n\u001b[1;32m      4\u001b[0m \u001b[0;32mimport\u001b[0m \u001b[0mrandom\u001b[0m \u001b[0;32mas\u001b[0m \u001b[0mrnd\u001b[0m\u001b[0;34m\u001b[0m\u001b[0;34m\u001b[0m\u001b[0m\n\u001b[1;32m      5\u001b[0m \u001b[0;34m\u001b[0m\u001b[0m\n",
      "\u001b[0;32m~/.local/lib/python3.8/site-packages/IPython/core/interactiveshell.py\u001b[0m in \u001b[0;36mrun_line_magic\u001b[0;34m(self, magic_name, line, _stack_depth)\u001b[0m\n\u001b[1;32m   2346\u001b[0m                 \u001b[0mkwargs\u001b[0m\u001b[0;34m[\u001b[0m\u001b[0;34m'local_ns'\u001b[0m\u001b[0;34m]\u001b[0m \u001b[0;34m=\u001b[0m \u001b[0mself\u001b[0m\u001b[0;34m.\u001b[0m\u001b[0mget_local_scope\u001b[0m\u001b[0;34m(\u001b[0m\u001b[0mstack_depth\u001b[0m\u001b[0;34m)\u001b[0m\u001b[0;34m\u001b[0m\u001b[0;34m\u001b[0m\u001b[0m\n\u001b[1;32m   2347\u001b[0m             \u001b[0;32mwith\u001b[0m \u001b[0mself\u001b[0m\u001b[0;34m.\u001b[0m\u001b[0mbuiltin_trap\u001b[0m\u001b[0;34m:\u001b[0m\u001b[0;34m\u001b[0m\u001b[0;34m\u001b[0m\u001b[0m\n\u001b[0;32m-> 2348\u001b[0;31m                 \u001b[0mresult\u001b[0m \u001b[0;34m=\u001b[0m \u001b[0mfn\u001b[0m\u001b[0;34m(\u001b[0m\u001b[0;34m*\u001b[0m\u001b[0margs\u001b[0m\u001b[0;34m,\u001b[0m \u001b[0;34m**\u001b[0m\u001b[0mkwargs\u001b[0m\u001b[0;34m)\u001b[0m\u001b[0;34m\u001b[0m\u001b[0;34m\u001b[0m\u001b[0m\n\u001b[0m\u001b[1;32m   2349\u001b[0m             \u001b[0;32mreturn\u001b[0m \u001b[0mresult\u001b[0m\u001b[0;34m\u001b[0m\u001b[0;34m\u001b[0m\u001b[0m\n\u001b[1;32m   2350\u001b[0m \u001b[0;34m\u001b[0m\u001b[0m\n",
      "\u001b[0;32m<decorator-gen-108>\u001b[0m in \u001b[0;36mmatplotlib\u001b[0;34m(self, line)\u001b[0m\n",
      "\u001b[0;32m~/.local/lib/python3.8/site-packages/IPython/core/magic.py\u001b[0m in \u001b[0;36m<lambda>\u001b[0;34m(f, *a, **k)\u001b[0m\n\u001b[1;32m    185\u001b[0m     \u001b[0;31m# but it's overkill for just that one bit of state.\u001b[0m\u001b[0;34m\u001b[0m\u001b[0;34m\u001b[0m\u001b[0;34m\u001b[0m\u001b[0m\n\u001b[1;32m    186\u001b[0m     \u001b[0;32mdef\u001b[0m \u001b[0mmagic_deco\u001b[0m\u001b[0;34m(\u001b[0m\u001b[0marg\u001b[0m\u001b[0;34m)\u001b[0m\u001b[0;34m:\u001b[0m\u001b[0;34m\u001b[0m\u001b[0;34m\u001b[0m\u001b[0m\n\u001b[0;32m--> 187\u001b[0;31m         \u001b[0mcall\u001b[0m \u001b[0;34m=\u001b[0m \u001b[0;32mlambda\u001b[0m \u001b[0mf\u001b[0m\u001b[0;34m,\u001b[0m \u001b[0;34m*\u001b[0m\u001b[0ma\u001b[0m\u001b[0;34m,\u001b[0m \u001b[0;34m**\u001b[0m\u001b[0mk\u001b[0m\u001b[0;34m:\u001b[0m \u001b[0mf\u001b[0m\u001b[0;34m(\u001b[0m\u001b[0;34m*\u001b[0m\u001b[0ma\u001b[0m\u001b[0;34m,\u001b[0m \u001b[0;34m**\u001b[0m\u001b[0mk\u001b[0m\u001b[0;34m)\u001b[0m\u001b[0;34m\u001b[0m\u001b[0;34m\u001b[0m\u001b[0m\n\u001b[0m\u001b[1;32m    188\u001b[0m \u001b[0;34m\u001b[0m\u001b[0m\n\u001b[1;32m    189\u001b[0m         \u001b[0;32mif\u001b[0m \u001b[0mcallable\u001b[0m\u001b[0;34m(\u001b[0m\u001b[0marg\u001b[0m\u001b[0;34m)\u001b[0m\u001b[0;34m:\u001b[0m\u001b[0;34m\u001b[0m\u001b[0;34m\u001b[0m\u001b[0m\n",
      "\u001b[0;32m~/.local/lib/python3.8/site-packages/IPython/core/magics/pylab.py\u001b[0m in \u001b[0;36mmatplotlib\u001b[0;34m(self, line)\u001b[0m\n\u001b[1;32m     97\u001b[0m             \u001b[0mprint\u001b[0m\u001b[0;34m(\u001b[0m\u001b[0;34m\"Available matplotlib backends: %s\"\u001b[0m \u001b[0;34m%\u001b[0m \u001b[0mbackends_list\u001b[0m\u001b[0;34m)\u001b[0m\u001b[0;34m\u001b[0m\u001b[0;34m\u001b[0m\u001b[0m\n\u001b[1;32m     98\u001b[0m         \u001b[0;32melse\u001b[0m\u001b[0;34m:\u001b[0m\u001b[0;34m\u001b[0m\u001b[0;34m\u001b[0m\u001b[0m\n\u001b[0;32m---> 99\u001b[0;31m             \u001b[0mgui\u001b[0m\u001b[0;34m,\u001b[0m \u001b[0mbackend\u001b[0m \u001b[0;34m=\u001b[0m \u001b[0mself\u001b[0m\u001b[0;34m.\u001b[0m\u001b[0mshell\u001b[0m\u001b[0;34m.\u001b[0m\u001b[0menable_matplotlib\u001b[0m\u001b[0;34m(\u001b[0m\u001b[0margs\u001b[0m\u001b[0;34m.\u001b[0m\u001b[0mgui\u001b[0m\u001b[0;34m.\u001b[0m\u001b[0mlower\u001b[0m\u001b[0;34m(\u001b[0m\u001b[0;34m)\u001b[0m \u001b[0;32mif\u001b[0m \u001b[0misinstance\u001b[0m\u001b[0;34m(\u001b[0m\u001b[0margs\u001b[0m\u001b[0;34m.\u001b[0m\u001b[0mgui\u001b[0m\u001b[0;34m,\u001b[0m \u001b[0mstr\u001b[0m\u001b[0;34m)\u001b[0m \u001b[0;32melse\u001b[0m \u001b[0margs\u001b[0m\u001b[0;34m.\u001b[0m\u001b[0mgui\u001b[0m\u001b[0;34m)\u001b[0m\u001b[0;34m\u001b[0m\u001b[0;34m\u001b[0m\u001b[0m\n\u001b[0m\u001b[1;32m    100\u001b[0m             \u001b[0mself\u001b[0m\u001b[0;34m.\u001b[0m\u001b[0m_show_matplotlib_backend\u001b[0m\u001b[0;34m(\u001b[0m\u001b[0margs\u001b[0m\u001b[0;34m.\u001b[0m\u001b[0mgui\u001b[0m\u001b[0;34m,\u001b[0m \u001b[0mbackend\u001b[0m\u001b[0;34m)\u001b[0m\u001b[0;34m\u001b[0m\u001b[0;34m\u001b[0m\u001b[0m\n\u001b[1;32m    101\u001b[0m \u001b[0;34m\u001b[0m\u001b[0m\n",
      "\u001b[0;32m~/.local/lib/python3.8/site-packages/ipykernel/zmqshell.py\u001b[0m in \u001b[0;36menable_matplotlib\u001b[0;34m(self, gui)\u001b[0m\n\u001b[1;32m    599\u001b[0m \u001b[0;34m\u001b[0m\u001b[0m\n\u001b[1;32m    600\u001b[0m     \u001b[0;32mdef\u001b[0m \u001b[0menable_matplotlib\u001b[0m\u001b[0;34m(\u001b[0m\u001b[0mself\u001b[0m\u001b[0;34m,\u001b[0m \u001b[0mgui\u001b[0m\u001b[0;34m=\u001b[0m\u001b[0;32mNone\u001b[0m\u001b[0;34m)\u001b[0m\u001b[0;34m:\u001b[0m\u001b[0;34m\u001b[0m\u001b[0;34m\u001b[0m\u001b[0m\n\u001b[0;32m--> 601\u001b[0;31m         \u001b[0mgui\u001b[0m\u001b[0;34m,\u001b[0m \u001b[0mbackend\u001b[0m \u001b[0;34m=\u001b[0m \u001b[0msuper\u001b[0m\u001b[0;34m(\u001b[0m\u001b[0mZMQInteractiveShell\u001b[0m\u001b[0;34m,\u001b[0m \u001b[0mself\u001b[0m\u001b[0;34m)\u001b[0m\u001b[0;34m.\u001b[0m\u001b[0menable_matplotlib\u001b[0m\u001b[0;34m(\u001b[0m\u001b[0mgui\u001b[0m\u001b[0;34m)\u001b[0m\u001b[0;34m\u001b[0m\u001b[0;34m\u001b[0m\u001b[0m\n\u001b[0m\u001b[1;32m    602\u001b[0m \u001b[0;34m\u001b[0m\u001b[0m\n\u001b[1;32m    603\u001b[0m         \u001b[0;32mtry\u001b[0m\u001b[0;34m:\u001b[0m\u001b[0;34m\u001b[0m\u001b[0;34m\u001b[0m\u001b[0m\n",
      "\u001b[0;32m~/.local/lib/python3.8/site-packages/IPython/core/interactiveshell.py\u001b[0m in \u001b[0;36menable_matplotlib\u001b[0;34m(self, gui)\u001b[0m\n\u001b[1;32m   3515\u001b[0m         \"\"\"\n\u001b[1;32m   3516\u001b[0m         \u001b[0;32mfrom\u001b[0m \u001b[0mIPython\u001b[0m\u001b[0;34m.\u001b[0m\u001b[0mcore\u001b[0m \u001b[0;32mimport\u001b[0m \u001b[0mpylabtools\u001b[0m \u001b[0;32mas\u001b[0m \u001b[0mpt\u001b[0m\u001b[0;34m\u001b[0m\u001b[0;34m\u001b[0m\u001b[0m\n\u001b[0;32m-> 3517\u001b[0;31m         \u001b[0;32mfrom\u001b[0m \u001b[0mmatplotlib_inline\u001b[0m\u001b[0;34m.\u001b[0m\u001b[0mbackend_inline\u001b[0m \u001b[0;32mimport\u001b[0m \u001b[0mconfigure_inline_support\u001b[0m\u001b[0;34m\u001b[0m\u001b[0;34m\u001b[0m\u001b[0m\n\u001b[0m\u001b[1;32m   3518\u001b[0m         \u001b[0mgui\u001b[0m\u001b[0;34m,\u001b[0m \u001b[0mbackend\u001b[0m \u001b[0;34m=\u001b[0m \u001b[0mpt\u001b[0m\u001b[0;34m.\u001b[0m\u001b[0mfind_gui_and_backend\u001b[0m\u001b[0;34m(\u001b[0m\u001b[0mgui\u001b[0m\u001b[0;34m,\u001b[0m \u001b[0mself\u001b[0m\u001b[0;34m.\u001b[0m\u001b[0mpylab_gui_select\u001b[0m\u001b[0;34m)\u001b[0m\u001b[0;34m\u001b[0m\u001b[0;34m\u001b[0m\u001b[0m\n\u001b[1;32m   3519\u001b[0m \u001b[0;34m\u001b[0m\u001b[0m\n",
      "\u001b[0;32m~/.local/lib/python3.8/site-packages/matplotlib_inline/backend_inline.py\u001b[0m in \u001b[0;36m<module>\u001b[0;34m\u001b[0m\n\u001b[1;32m      4\u001b[0m \u001b[0;31m# Distributed under the terms of the BSD 3-Clause License.\u001b[0m\u001b[0;34m\u001b[0m\u001b[0;34m\u001b[0m\u001b[0;34m\u001b[0m\u001b[0m\n\u001b[1;32m      5\u001b[0m \u001b[0;34m\u001b[0m\u001b[0m\n\u001b[0;32m----> 6\u001b[0;31m \u001b[0;32mimport\u001b[0m \u001b[0mmatplotlib\u001b[0m\u001b[0;34m\u001b[0m\u001b[0;34m\u001b[0m\u001b[0m\n\u001b[0m\u001b[1;32m      7\u001b[0m from matplotlib.backends.backend_agg import (  # noqa\n\u001b[1;32m      8\u001b[0m     \u001b[0mnew_figure_manager\u001b[0m\u001b[0;34m,\u001b[0m\u001b[0;34m\u001b[0m\u001b[0;34m\u001b[0m\u001b[0m\n",
      "\u001b[0;31mModuleNotFoundError\u001b[0m: No module named 'matplotlib'"
     ]
    }
   ],
   "source": [
    "%matplotlib inline\n",
    "\n",
    "# import random generator ...\n",
    "import random as rnd\n",
    "\n",
    "# define the x and y domain ...\n",
    "#XMIN, XMAX = ( , )\n",
    "#YMIN, YMAX = ( , )\n",
    "# YOUR CODE HERE\n",
    "raise NotImplementedError()\n",
    "\n",
    "# how many points to generate?\n",
    "# specify N below ...\n",
    "#N = \n",
    "# YOUR CODE HERE\n",
    "raise NotImplementedError()\n",
    "\n",
    "# create empty coordinates lists...\n",
    "X, Y = [], []\n",
    "\n",
    "# generate N random data point coordinates ...\n",
    "# and append them to X and Y ...\n",
    "for n in range(N):\n",
    "    # rnd.random() returns random float in [0,1)\n",
    "    # ... generate a random x coordinate and an y ...\n",
    "    \n",
    "    # YOUR CODE HERE\n",
    "    raise NotImplementedError()\n",
    "    \n",
    "    # ... add them to the list to plot ...\n",
    "    \n",
    "    # YOUR CODE HERE\n",
    "    raise NotImplementedError()\n",
    "\n",
    "# add the marker string to plot a blue dot ...\n",
    "#marker = \n",
    "# YOUR CODE HERE\n",
    "raise NotImplementedError()\n",
    "\n",
    "# uncomment the following line and fill in X, Y and marker ...\n",
    "# plt.plot( list of x-coordinates, list of y-coordinates, marker string)\n",
    "# YOUR CODE HERE\n",
    "raise NotImplementedError()\n",
    "\n",
    "# ----- do not change below -------\n",
    "plt.grid(True)\n",
    "title = 'scatterplot random points on [{:4.1f},{:4.1f}] x [{:4.1f},{:4.1f}] (N={:d})'. \\\n",
    "          format(XMIN,XMAX,YMIN,YMAX, N)\n",
    "plt.title(title)\n",
    "plt.show()   "
   ]
  },
  {
   "cell_type": "code",
   "execution_count": 8,
   "metadata": {
    "deletable": false,
    "editable": false,
    "nbgrader": {
     "cell_type": "code",
     "checksum": "89cc63ee84f1533cbab825dfe67d5e5c",
     "grade": true,
     "grade_id": "at21",
     "locked": true,
     "points": 5,
     "schema_version": 3,
     "solution": false
    },
    "tags": [
     "visualization"
    ]
   },
   "outputs": [
    {
     "name": "stderr",
     "output_type": "stream",
     "text": [
      "test_domain_dimensions (__main__.MyEntryTestClasses)\n",
      "verify domain parameters are chosen correctly ... "
     ]
    },
    {
     "name": "stderr",
     "output_type": "stream",
     "text": [
      "ERROR\n",
      "\n",
      "======================================================================\n",
      "ERROR: test_domain_dimensions (__main__.MyEntryTestClasses)\n",
      "verify domain parameters are chosen correctly\n",
      "----------------------------------------------------------------------\n",
      "Traceback (most recent call last):\n",
      "  File \"<ipython-input-8-e48d16d905e0>\", line 11, in test_domain_dimensions\n",
      "    self.assertEqual(XMIN, min(self.XDOMAIN))\n",
      "NameError: name 'XMIN' is not defined\n",
      "\n",
      "----------------------------------------------------------------------\n",
      "Ran 1 test in 0.001s\n",
      "\n",
      "FAILED (errors=1)\n"
     ]
    }
   ],
   "source": [
    "### BEGIN HIDDEN TESTS\n",
    "import unittest\n",
    "\n",
    "class MyEntryTestClasses(unittest.TestCase):\n",
    "    \n",
    "    def setUp(self):\n",
    "        self.XDOMAIN,self.YDOMAIN = (0, 1), (0, 1)\n",
    "              \n",
    "    def test_domain_dimensions(self):\n",
    "        '''verify domain parameters are chosen correctly'''\n",
    "        self.assertEqual(XMIN, min(self.XDOMAIN))\n",
    "        self.assertEqual(XMAX, max(self.XDOMAIN))\n",
    "        self.assertEqual(YMIN, min(self.YDOMAIN))\n",
    "        self.assertEqual(YMAX, max(self.YDOMAIN))\n",
    "        \n",
    "    def tearDown(self):\n",
    "        pass\n",
    "\n",
    "        \n",
    "def run_MyEntryTestClasses():\n",
    "    suite = unittest.TestLoader().loadTestsFromTestCase(MyEntryTestClasses)\n",
    "    unittest.TextTestRunner(verbosity=2).run(suite)\n",
    "\n",
    "run_MyEntryTestClasses()\n",
    "### END HIDDEN TESTS"
   ]
  },
  {
   "cell_type": "code",
   "execution_count": 9,
   "metadata": {
    "deletable": false,
    "editable": false,
    "nbgrader": {
     "cell_type": "code",
     "checksum": "903d7c4a0ac8f6ddbfb3cd182a6b55da",
     "grade": true,
     "grade_id": "at22",
     "locked": true,
     "points": 5,
     "schema_version": 3,
     "solution": false
    },
    "tags": [
     "visualization"
    ]
   },
   "outputs": [
    {
     "name": "stderr",
     "output_type": "stream",
     "text": [
      "test_correct_N (__main__.MyEntryTestClasses)\n",
      "verify N correctly specified ... "
     ]
    },
    {
     "name": "stderr",
     "output_type": "stream",
     "text": [
      "ERROR\n",
      "\n",
      "======================================================================\n",
      "ERROR: test_correct_N (__main__.MyEntryTestClasses)\n",
      "verify N correctly specified\n",
      "----------------------------------------------------------------------\n",
      "Traceback (most recent call last):\n",
      "  File \"<ipython-input-9-ecfed7d4f6ee>\", line 10, in test_correct_N\n",
      "    self.assertEqual(N, expected_N)\n",
      "NameError: name 'N' is not defined\n",
      "\n",
      "----------------------------------------------------------------------\n",
      "Ran 1 test in 0.001s\n",
      "\n",
      "FAILED (errors=1)\n"
     ]
    }
   ],
   "source": [
    "### BEGIN HIDDEN TESTS\n",
    "import unittest\n",
    "\n",
    "class MyEntryTestClasses(unittest.TestCase):\n",
    "        \n",
    "    def test_correct_N(self):\n",
    "        '''verify N correctly specified'''\n",
    "        \n",
    "        expected_N = 40\n",
    "        self.assertEqual(N, expected_N)\n",
    "\n",
    "        \n",
    "def run_MyEntryTestClasses():\n",
    "    suite = unittest.TestLoader().loadTestsFromTestCase(MyEntryTestClasses)\n",
    "    unittest.TextTestRunner(verbosity=2).run(suite)\n",
    "\n",
    "run_MyEntryTestClasses()\n",
    "### END HIDDEN TESTS"
   ]
  },
  {
   "cell_type": "code",
   "execution_count": 10,
   "metadata": {
    "deletable": false,
    "editable": false,
    "nbgrader": {
     "cell_type": "code",
     "checksum": "f9245fde6c98ef05d31d678ea14e2ea9",
     "grade": true,
     "grade_id": "at24",
     "locked": true,
     "points": 5,
     "schema_version": 3,
     "solution": false
    },
    "tags": [
     "visualization"
    ]
   },
   "outputs": [
    {
     "name": "stderr",
     "output_type": "stream",
     "text": [
      "test_X_Y_in_domain_boundaries (__main__.MyEntryTestClasses)\n",
      "verify generated data within domain boundaries ... "
     ]
    },
    {
     "name": "stderr",
     "output_type": "stream",
     "text": [
      "ERROR\n",
      "\n",
      "======================================================================\n",
      "ERROR: test_X_Y_in_domain_boundaries (__main__.MyEntryTestClasses)\n",
      "verify generated data within domain boundaries\n",
      "----------------------------------------------------------------------\n",
      "Traceback (most recent call last):\n",
      "  File \"<ipython-input-10-719944a69c68>\", line 12, in test_X_Y_in_domain_boundaries\n",
      "    for n in range(N):\n",
      "NameError: name 'N' is not defined\n",
      "\n",
      "----------------------------------------------------------------------\n",
      "Ran 1 test in 0.001s\n",
      "\n",
      "FAILED (errors=1)\n"
     ]
    }
   ],
   "source": [
    "### BEGIN HIDDEN TESTS\n",
    "import unittest\n",
    "\n",
    "class MyEntryTestClasses(unittest.TestCase):\n",
    "    \n",
    "    def setUp(self):\n",
    "        self.XDOMAIN,self.YDOMAIN = (0, 1), (0, 1)\n",
    "        \n",
    "    def test_X_Y_in_domain_boundaries(self):\n",
    "        '''verify generated data within domain boundaries'''\n",
    "        \n",
    "        for n in range(N): \n",
    "            self.assertGreater(X[n],   min(self.XDOMAIN))\n",
    "            self.assertLessEqual(X[n], max(self.XDOMAIN))\n",
    "            \n",
    "            self.assertGreater(Y[n],   min(self.YDOMAIN))\n",
    "            self.assertLessEqual(Y[n], max(self.YDOMAIN))\n",
    "\n",
    "        \n",
    "def run_MyEntryTestClasses():\n",
    "    suite = unittest.TestLoader().loadTestsFromTestCase(MyEntryTestClasses)\n",
    "    unittest.TextTestRunner(verbosity=2).run(suite)\n",
    "\n",
    "run_MyEntryTestClasses()\n",
    "### END HIDDEN TESTS"
   ]
  },
  {
   "cell_type": "code",
   "execution_count": 11,
   "metadata": {
    "deletable": false,
    "editable": false,
    "nbgrader": {
     "cell_type": "code",
     "checksum": "80a5b403a83eefee0c2cbf93a62b1710",
     "grade": true,
     "grade_id": "at23",
     "locked": true,
     "points": 5,
     "schema_version": 3,
     "solution": false
    },
    "tags": [
     "visualization"
    ]
   },
   "outputs": [
    {
     "name": "stderr",
     "output_type": "stream",
     "text": [
      "test_marker (__main__.MyEntryTestClasses)\n",
      "verify marker plots a blue dot symbol ... "
     ]
    },
    {
     "name": "stderr",
     "output_type": "stream",
     "text": [
      "ERROR\n",
      "\n",
      "======================================================================\n",
      "ERROR: test_marker (__main__.MyEntryTestClasses)\n",
      "verify marker plots a blue dot symbol\n",
      "----------------------------------------------------------------------\n",
      "Traceback (most recent call last):\n",
      "  File \"<ipython-input-11-3f82cea27d44>\", line 9, in test_marker\n",
      "    self.assertTrue( 'b' in marker )\n",
      "NameError: name 'marker' is not defined\n",
      "\n",
      "----------------------------------------------------------------------\n",
      "Ran 1 test in 0.001s\n",
      "\n",
      "FAILED (errors=1)\n"
     ]
    }
   ],
   "source": [
    "### BEGIN HIDDEN TESTS\n",
    "import unittest\n",
    "\n",
    "class MyEntryTestClasses(unittest.TestCase):\n",
    "        \n",
    "    def test_marker(self):\n",
    "        '''verify marker plots a blue dot symbol'''\n",
    "        \n",
    "        self.assertTrue( 'b' in marker )\n",
    "        self.assertTrue( '.' in marker or '*' in marker or 'o' in marker)\n",
    "        \n",
    "def run_MyEntryTestClasses():\n",
    "    suite = unittest.TestLoader().loadTestsFromTestCase(MyEntryTestClasses)\n",
    "    unittest.TextTestRunner(verbosity=2).run(suite)\n",
    "\n",
    "run_MyEntryTestClasses()\n",
    "### END HIDDEN TESTS"
   ]
  },
  {
   "cell_type": "markdown",
   "metadata": {
    "deletable": false,
    "editable": false
   },
   "source": [
    "#### Exercise 3: plot random points in a scatter plot and recolor points belonging to a given sub-domain\n",
    "\n",
    "Random points $(u,v)$ are randomly generated by a random generator on a unit domain $[0,1)$. You are to map and plot 100 random points so generated, on the wider target domain $[X_{min},X_{max}) \\times [Y_{min}, Y_{max})$. To accomplish this, we are going to define and program a *shift* and a *scaling*, with which we can *map* the unit domain on the target domain. See the below sketch.\n",
    "\n",
    " To map $(u,v) \\rightarrow (x,y)$ use:\n",
    "```python\n",
    "    (x,y)=(shift + scale*u, shift + scale*v)\n",
    "```\n",
    "in which:\n",
    "- `shift` is $O_d- O_r = -10$, and\n",
    "- `scale` is $X~range_d / range_r = 20$.\n",
    "\n",
    "<img width=\"380\" src=\"./figures/transform.png\">\n",
    "\n",
    "We are going to do the above pltting task step-by-step. And to help you, we provide you again with a code skeleton. \n",
    "\n",
    "Do this:\n",
    "\n",
    "1. implement the `shift` and `scale` as described above, in the below code skeleton\n",
    "\n",
    "2. implement the generation of unit random numbers `(u,v)`, and its mapping onto `(x,y)` using the `shift` and `scale` factors computed under 1. Add the so mapped points `(x,y)` to the lists `X` and `Y`\n",
    "\n",
    "3. plot points $(x,y)$ that are **in quadrant 1** (i.e, the points for which: $x > 0 \\wedge y > 0$) using **red square marker**, and points in the other quadrants (for which either $x \\leq 0 \\vee y \\leq 0$), with a **blue dot marker**. Do the plotting in the **left subplot** (the left part of the plot).\n",
    "\n",
    "Additional hints for 3: \n",
    "\n",
    "* for plotting a red square, you code in the below code skeleton: `marker = 'rs'`. For a blue dot, set: `marker = 'bo'`\n",
    "* to plot in the left subplot, you use the code: `ax[0].plot()` in the code skeleton\n",
    "* to have an impression of what is asked from you, see the expected plot given in the below figure\n",
    "\n",
    "4. in the right subplot, we are going to plot the same data, but with their markers *reversed*: the blue dot marker for quadrant 1 and the red square marker for every point not in quadrant 1. We could just change the markers, or leave the markers as is, and change the selection of points (the line: `p > x0 ...` in your code). Do the latter: update the selection of the points to be plotted **now** with a red square, the rest with a blue dot\n",
    "\n",
    "Additional hints for 4:\n",
    "\n",
    "* what you actually are asked to do, is to select the **logical complement** of the data points that you plotted with a red marker in 3. You **logically invert** the selection\n",
    "* now use `ax[1].plot()` to make your code plotting in the right subplot\n",
    "\n",
    "The expected result is shown below.\n",
    "\n",
    "![expected result](./figures/expected_result3.png)"
   ]
  },
  {
   "cell_type": "code",
   "execution_count": 12,
   "metadata": {
    "deletable": false,
    "nbgrader": {
     "cell_type": "code",
     "checksum": "9579bfee809aba3162d92c33027f84d1",
     "grade": false,
     "grade_id": "q3",
     "locked": false,
     "schema_version": 3,
     "solution": true
    },
    "tags": []
   },
   "outputs": [
    {
     "ename": "ModuleNotFoundError",
     "evalue": "No module named 'matplotlib'",
     "output_type": "error",
     "traceback": [
      "\u001b[0;31m---------------------------------------------------------------------------\u001b[0m",
      "\u001b[0;31mModuleNotFoundError\u001b[0m                       Traceback (most recent call last)",
      "\u001b[0;32m<ipython-input-12-3aceaa581af7>\u001b[0m in \u001b[0;36m<module>\u001b[0;34m\u001b[0m\n\u001b[0;32m----> 1\u001b[0;31m \u001b[0mget_ipython\u001b[0m\u001b[0;34m(\u001b[0m\u001b[0;34m)\u001b[0m\u001b[0;34m.\u001b[0m\u001b[0mrun_line_magic\u001b[0m\u001b[0;34m(\u001b[0m\u001b[0;34m'matplotlib'\u001b[0m\u001b[0;34m,\u001b[0m \u001b[0;34m'inline'\u001b[0m\u001b[0;34m)\u001b[0m\u001b[0;34m\u001b[0m\u001b[0;34m\u001b[0m\u001b[0m\n\u001b[0m\u001b[1;32m      2\u001b[0m \u001b[0;32mimport\u001b[0m \u001b[0mmatplotlib\u001b[0m\u001b[0;34m.\u001b[0m\u001b[0mpyplot\u001b[0m \u001b[0;32mas\u001b[0m \u001b[0mplt\u001b[0m\u001b[0;34m\u001b[0m\u001b[0;34m\u001b[0m\u001b[0m\n\u001b[1;32m      3\u001b[0m \u001b[0;34m\u001b[0m\u001b[0m\n\u001b[1;32m      4\u001b[0m \u001b[0;32mimport\u001b[0m \u001b[0mnumpy\u001b[0m\u001b[0;34m\u001b[0m\u001b[0;34m\u001b[0m\u001b[0m\n\u001b[1;32m      5\u001b[0m \u001b[0;34m\u001b[0m\u001b[0m\n",
      "\u001b[0;32m~/.local/lib/python3.8/site-packages/IPython/core/interactiveshell.py\u001b[0m in \u001b[0;36mrun_line_magic\u001b[0;34m(self, magic_name, line, _stack_depth)\u001b[0m\n\u001b[1;32m   2346\u001b[0m                 \u001b[0mkwargs\u001b[0m\u001b[0;34m[\u001b[0m\u001b[0;34m'local_ns'\u001b[0m\u001b[0;34m]\u001b[0m \u001b[0;34m=\u001b[0m \u001b[0mself\u001b[0m\u001b[0;34m.\u001b[0m\u001b[0mget_local_scope\u001b[0m\u001b[0;34m(\u001b[0m\u001b[0mstack_depth\u001b[0m\u001b[0;34m)\u001b[0m\u001b[0;34m\u001b[0m\u001b[0;34m\u001b[0m\u001b[0m\n\u001b[1;32m   2347\u001b[0m             \u001b[0;32mwith\u001b[0m \u001b[0mself\u001b[0m\u001b[0;34m.\u001b[0m\u001b[0mbuiltin_trap\u001b[0m\u001b[0;34m:\u001b[0m\u001b[0;34m\u001b[0m\u001b[0;34m\u001b[0m\u001b[0m\n\u001b[0;32m-> 2348\u001b[0;31m                 \u001b[0mresult\u001b[0m \u001b[0;34m=\u001b[0m \u001b[0mfn\u001b[0m\u001b[0;34m(\u001b[0m\u001b[0;34m*\u001b[0m\u001b[0margs\u001b[0m\u001b[0;34m,\u001b[0m \u001b[0;34m**\u001b[0m\u001b[0mkwargs\u001b[0m\u001b[0;34m)\u001b[0m\u001b[0;34m\u001b[0m\u001b[0;34m\u001b[0m\u001b[0m\n\u001b[0m\u001b[1;32m   2349\u001b[0m             \u001b[0;32mreturn\u001b[0m \u001b[0mresult\u001b[0m\u001b[0;34m\u001b[0m\u001b[0;34m\u001b[0m\u001b[0m\n\u001b[1;32m   2350\u001b[0m \u001b[0;34m\u001b[0m\u001b[0m\n",
      "\u001b[0;32m<decorator-gen-108>\u001b[0m in \u001b[0;36mmatplotlib\u001b[0;34m(self, line)\u001b[0m\n",
      "\u001b[0;32m~/.local/lib/python3.8/site-packages/IPython/core/magic.py\u001b[0m in \u001b[0;36m<lambda>\u001b[0;34m(f, *a, **k)\u001b[0m\n\u001b[1;32m    185\u001b[0m     \u001b[0;31m# but it's overkill for just that one bit of state.\u001b[0m\u001b[0;34m\u001b[0m\u001b[0;34m\u001b[0m\u001b[0;34m\u001b[0m\u001b[0m\n\u001b[1;32m    186\u001b[0m     \u001b[0;32mdef\u001b[0m \u001b[0mmagic_deco\u001b[0m\u001b[0;34m(\u001b[0m\u001b[0marg\u001b[0m\u001b[0;34m)\u001b[0m\u001b[0;34m:\u001b[0m\u001b[0;34m\u001b[0m\u001b[0;34m\u001b[0m\u001b[0m\n\u001b[0;32m--> 187\u001b[0;31m         \u001b[0mcall\u001b[0m \u001b[0;34m=\u001b[0m \u001b[0;32mlambda\u001b[0m \u001b[0mf\u001b[0m\u001b[0;34m,\u001b[0m \u001b[0;34m*\u001b[0m\u001b[0ma\u001b[0m\u001b[0;34m,\u001b[0m \u001b[0;34m**\u001b[0m\u001b[0mk\u001b[0m\u001b[0;34m:\u001b[0m \u001b[0mf\u001b[0m\u001b[0;34m(\u001b[0m\u001b[0;34m*\u001b[0m\u001b[0ma\u001b[0m\u001b[0;34m,\u001b[0m \u001b[0;34m**\u001b[0m\u001b[0mk\u001b[0m\u001b[0;34m)\u001b[0m\u001b[0;34m\u001b[0m\u001b[0;34m\u001b[0m\u001b[0m\n\u001b[0m\u001b[1;32m    188\u001b[0m \u001b[0;34m\u001b[0m\u001b[0m\n\u001b[1;32m    189\u001b[0m         \u001b[0;32mif\u001b[0m \u001b[0mcallable\u001b[0m\u001b[0;34m(\u001b[0m\u001b[0marg\u001b[0m\u001b[0;34m)\u001b[0m\u001b[0;34m:\u001b[0m\u001b[0;34m\u001b[0m\u001b[0;34m\u001b[0m\u001b[0m\n",
      "\u001b[0;32m~/.local/lib/python3.8/site-packages/IPython/core/magics/pylab.py\u001b[0m in \u001b[0;36mmatplotlib\u001b[0;34m(self, line)\u001b[0m\n\u001b[1;32m     97\u001b[0m             \u001b[0mprint\u001b[0m\u001b[0;34m(\u001b[0m\u001b[0;34m\"Available matplotlib backends: %s\"\u001b[0m \u001b[0;34m%\u001b[0m \u001b[0mbackends_list\u001b[0m\u001b[0;34m)\u001b[0m\u001b[0;34m\u001b[0m\u001b[0;34m\u001b[0m\u001b[0m\n\u001b[1;32m     98\u001b[0m         \u001b[0;32melse\u001b[0m\u001b[0;34m:\u001b[0m\u001b[0;34m\u001b[0m\u001b[0;34m\u001b[0m\u001b[0m\n\u001b[0;32m---> 99\u001b[0;31m             \u001b[0mgui\u001b[0m\u001b[0;34m,\u001b[0m \u001b[0mbackend\u001b[0m \u001b[0;34m=\u001b[0m \u001b[0mself\u001b[0m\u001b[0;34m.\u001b[0m\u001b[0mshell\u001b[0m\u001b[0;34m.\u001b[0m\u001b[0menable_matplotlib\u001b[0m\u001b[0;34m(\u001b[0m\u001b[0margs\u001b[0m\u001b[0;34m.\u001b[0m\u001b[0mgui\u001b[0m\u001b[0;34m.\u001b[0m\u001b[0mlower\u001b[0m\u001b[0;34m(\u001b[0m\u001b[0;34m)\u001b[0m \u001b[0;32mif\u001b[0m \u001b[0misinstance\u001b[0m\u001b[0;34m(\u001b[0m\u001b[0margs\u001b[0m\u001b[0;34m.\u001b[0m\u001b[0mgui\u001b[0m\u001b[0;34m,\u001b[0m \u001b[0mstr\u001b[0m\u001b[0;34m)\u001b[0m \u001b[0;32melse\u001b[0m \u001b[0margs\u001b[0m\u001b[0;34m.\u001b[0m\u001b[0mgui\u001b[0m\u001b[0;34m)\u001b[0m\u001b[0;34m\u001b[0m\u001b[0;34m\u001b[0m\u001b[0m\n\u001b[0m\u001b[1;32m    100\u001b[0m             \u001b[0mself\u001b[0m\u001b[0;34m.\u001b[0m\u001b[0m_show_matplotlib_backend\u001b[0m\u001b[0;34m(\u001b[0m\u001b[0margs\u001b[0m\u001b[0;34m.\u001b[0m\u001b[0mgui\u001b[0m\u001b[0;34m,\u001b[0m \u001b[0mbackend\u001b[0m\u001b[0;34m)\u001b[0m\u001b[0;34m\u001b[0m\u001b[0;34m\u001b[0m\u001b[0m\n\u001b[1;32m    101\u001b[0m \u001b[0;34m\u001b[0m\u001b[0m\n",
      "\u001b[0;32m~/.local/lib/python3.8/site-packages/ipykernel/zmqshell.py\u001b[0m in \u001b[0;36menable_matplotlib\u001b[0;34m(self, gui)\u001b[0m\n\u001b[1;32m    599\u001b[0m \u001b[0;34m\u001b[0m\u001b[0m\n\u001b[1;32m    600\u001b[0m     \u001b[0;32mdef\u001b[0m \u001b[0menable_matplotlib\u001b[0m\u001b[0;34m(\u001b[0m\u001b[0mself\u001b[0m\u001b[0;34m,\u001b[0m \u001b[0mgui\u001b[0m\u001b[0;34m=\u001b[0m\u001b[0;32mNone\u001b[0m\u001b[0;34m)\u001b[0m\u001b[0;34m:\u001b[0m\u001b[0;34m\u001b[0m\u001b[0;34m\u001b[0m\u001b[0m\n\u001b[0;32m--> 601\u001b[0;31m         \u001b[0mgui\u001b[0m\u001b[0;34m,\u001b[0m \u001b[0mbackend\u001b[0m \u001b[0;34m=\u001b[0m \u001b[0msuper\u001b[0m\u001b[0;34m(\u001b[0m\u001b[0mZMQInteractiveShell\u001b[0m\u001b[0;34m,\u001b[0m \u001b[0mself\u001b[0m\u001b[0;34m)\u001b[0m\u001b[0;34m.\u001b[0m\u001b[0menable_matplotlib\u001b[0m\u001b[0;34m(\u001b[0m\u001b[0mgui\u001b[0m\u001b[0;34m)\u001b[0m\u001b[0;34m\u001b[0m\u001b[0;34m\u001b[0m\u001b[0m\n\u001b[0m\u001b[1;32m    602\u001b[0m \u001b[0;34m\u001b[0m\u001b[0m\n\u001b[1;32m    603\u001b[0m         \u001b[0;32mtry\u001b[0m\u001b[0;34m:\u001b[0m\u001b[0;34m\u001b[0m\u001b[0;34m\u001b[0m\u001b[0m\n",
      "\u001b[0;32m~/.local/lib/python3.8/site-packages/IPython/core/interactiveshell.py\u001b[0m in \u001b[0;36menable_matplotlib\u001b[0;34m(self, gui)\u001b[0m\n\u001b[1;32m   3515\u001b[0m         \"\"\"\n\u001b[1;32m   3516\u001b[0m         \u001b[0;32mfrom\u001b[0m \u001b[0mIPython\u001b[0m\u001b[0;34m.\u001b[0m\u001b[0mcore\u001b[0m \u001b[0;32mimport\u001b[0m \u001b[0mpylabtools\u001b[0m \u001b[0;32mas\u001b[0m \u001b[0mpt\u001b[0m\u001b[0;34m\u001b[0m\u001b[0;34m\u001b[0m\u001b[0m\n\u001b[0;32m-> 3517\u001b[0;31m         \u001b[0;32mfrom\u001b[0m \u001b[0mmatplotlib_inline\u001b[0m\u001b[0;34m.\u001b[0m\u001b[0mbackend_inline\u001b[0m \u001b[0;32mimport\u001b[0m \u001b[0mconfigure_inline_support\u001b[0m\u001b[0;34m\u001b[0m\u001b[0;34m\u001b[0m\u001b[0m\n\u001b[0m\u001b[1;32m   3518\u001b[0m         \u001b[0mgui\u001b[0m\u001b[0;34m,\u001b[0m \u001b[0mbackend\u001b[0m \u001b[0;34m=\u001b[0m \u001b[0mpt\u001b[0m\u001b[0;34m.\u001b[0m\u001b[0mfind_gui_and_backend\u001b[0m\u001b[0;34m(\u001b[0m\u001b[0mgui\u001b[0m\u001b[0;34m,\u001b[0m \u001b[0mself\u001b[0m\u001b[0;34m.\u001b[0m\u001b[0mpylab_gui_select\u001b[0m\u001b[0;34m)\u001b[0m\u001b[0;34m\u001b[0m\u001b[0;34m\u001b[0m\u001b[0m\n\u001b[1;32m   3519\u001b[0m \u001b[0;34m\u001b[0m\u001b[0m\n",
      "\u001b[0;32m~/.local/lib/python3.8/site-packages/matplotlib_inline/backend_inline.py\u001b[0m in \u001b[0;36m<module>\u001b[0;34m\u001b[0m\n\u001b[1;32m      4\u001b[0m \u001b[0;31m# Distributed under the terms of the BSD 3-Clause License.\u001b[0m\u001b[0;34m\u001b[0m\u001b[0;34m\u001b[0m\u001b[0;34m\u001b[0m\u001b[0m\n\u001b[1;32m      5\u001b[0m \u001b[0;34m\u001b[0m\u001b[0m\n\u001b[0;32m----> 6\u001b[0;31m \u001b[0;32mimport\u001b[0m \u001b[0mmatplotlib\u001b[0m\u001b[0;34m\u001b[0m\u001b[0;34m\u001b[0m\u001b[0m\n\u001b[0m\u001b[1;32m      7\u001b[0m from matplotlib.backends.backend_agg import (  # noqa\n\u001b[1;32m      8\u001b[0m     \u001b[0mnew_figure_manager\u001b[0m\u001b[0;34m,\u001b[0m\u001b[0;34m\u001b[0m\u001b[0;34m\u001b[0m\u001b[0m\n",
      "\u001b[0;31mModuleNotFoundError\u001b[0m: No module named 'matplotlib'"
     ]
    }
   ],
   "source": [
    "%matplotlib inline\n",
    "import matplotlib.pyplot as plt\n",
    "\n",
    "import numpy\n",
    "\n",
    "\n",
    "# domain (equal for x and y)\n",
    "target_domain  = (-10,10)\n",
    "unit_domain    = (  0, 1)\n",
    "\n",
    "# indices into domain\n",
    "MIN, MAX =    0, 1\n",
    "\n",
    "N = 100\n",
    "\n",
    "# using the above explanation on `shift` and `scale`, program\n",
    "# below the computation of these two transform-factors, like so:\n",
    "#shift   = target_domain[...] - unit_domain[...]\n",
    "#range_d = target_domain[...] - target_domain[...]\n",
    "#range_r = unit_domain[...]   - unit_domain[...]\n",
    "#scale = ... / ...\n",
    "# YOUR CODE HERE\n",
    "raise NotImplementedError()\n",
    "\n",
    "X, Y = numpy.empty(N), numpy.empty(N)\n",
    "# below, you are going to use scale and shift to\n",
    "# compute X and Y coordinates of the generated points,\n",
    "# like so:\n",
    "#for j in range(N):\n",
    "#    u = numpy.random.random()\n",
    "#    v = numpy.random.random()\n",
    "#    X[j] = shift + scale*u\n",
    "#    Y[j] = shift + scale*v\n",
    "# YOUR CODE HERE\n",
    "raise NotImplementedError()\n",
    "\n",
    "NR_ROWS, NR_COLS, FIG_SIZE = 1, 2, (10,4)\n",
    "fig, ax = plt.subplots(NR_ROWS, NR_COLS, figsize=FIG_SIZE)\n",
    "fig.tight_layout(pad=2.0, w_pad=4.5, h_pad=0.0)\n",
    "\n",
    "# use: ax[0] to plot in the left subplot, ax[1] for the right subplot \n",
    "\n",
    "ax[0].set_xlim(target_domain)\n",
    "ax[0].set_ylim(target_domain)\n",
    "# we compute x0 and y0 as the central x and y in the target_domain\n",
    "# this is where we put the axis system ...\n",
    "x0 = y0 = ( target_domain[MIN] + target_domain[MAX]) / 2\n",
    "ax[0].plot([target_domain[MIN], target_domain[MAX]], [y0, y0], 'k--', linewidth=2.0)\n",
    "ax[0].plot([x0, x0], [target_domain[MIN], target_domain[MAX]], 'k--', linewidth=2.0)\n",
    "\n",
    "for p, q in zip(X,Y):\n",
    "    # with next p from X and q from Y ...\n",
    "    # ... test in which quadrant ...\n",
    "    # ... plot with the correct marker ...\n",
    "    # ... set the marker to:  marker = 'rs'   for a red square\n",
    "    # ....or:            to:  marker = 'bo'   for a blue dot\n",
    "\n",
    "    # YOUR CODE HERE\n",
    "    raise NotImplementedError()\n",
    "    \n",
    "ax[0].grid(axis='both', which='major')\n",
    "ax[0].set_title('{:d} samples, red: quadrant 1'.format(N))\n",
    "    \n",
    "# next, in the right subplot, plot the inverted data ...\n",
    "ax[1].set_xlim(target_domain)\n",
    "ax[1].set_ylim(target_domain)\n",
    "ax[1].plot([target_domain[MIN], target_domain[MAX]], [y0, y0], 'k--', linewidth=2.0)\n",
    "ax[1].plot([x0, x0], [target_domain[MIN], target_domain[MAX]], 'k--', linewidth=2.0)\n",
    "\n",
    "# now invert your selection of red squared points ...\n",
    "\n",
    "for p, q in zip(X,Y):\n",
    "    # YOUR CODE HERE\n",
    "    raise NotImplementedError()\n",
    "    \n",
    "ax[1].grid(axis='both', which='major')\n",
    "ax[1].set_title('{:d} samples, red: quadrant 2,3,4'.format(N))\n",
    "\n",
    "plt.show()"
   ]
  },
  {
   "cell_type": "code",
   "execution_count": 13,
   "metadata": {
    "deletable": false,
    "editable": false,
    "nbgrader": {
     "cell_type": "code",
     "checksum": "0780865dce40291b8c7d9a6e1b054208",
     "grade": true,
     "grade_id": "at31",
     "locked": true,
     "points": 5,
     "schema_version": 3,
     "solution": false
    },
    "tags": [
     "visualization"
    ]
   },
   "outputs": [
    {
     "name": "stderr",
     "output_type": "stream",
     "text": [
      "test_transform_parms (__main__.MyEntryTestClasses)\n",
      "verify transform parameters set correctly ... "
     ]
    },
    {
     "name": "stderr",
     "output_type": "stream",
     "text": [
      "ERROR\n",
      "\n",
      "======================================================================\n",
      "ERROR: test_transform_parms (__main__.MyEntryTestClasses)\n",
      "verify transform parameters set correctly\n",
      "----------------------------------------------------------------------\n",
      "Traceback (most recent call last):\n",
      "  File \"<ipython-input-13-314934d377ab>\", line 14, in test_transform_parms\n",
      "    self.assertEqual(shift, target_domain[MIN]-unit_domain[MIN])\n",
      "NameError: name 'shift' is not defined\n",
      "\n",
      "----------------------------------------------------------------------\n",
      "Ran 1 test in 0.001s\n",
      "\n",
      "FAILED (errors=1)\n"
     ]
    }
   ],
   "source": [
    "### BEGIN HIDDEN TESTS\n",
    "import unittest\n",
    "\n",
    "class MyEntryTestClasses(unittest.TestCase):\n",
    "    \n",
    "    def setUp(self):\n",
    "        self.XDOMAIN,self.YDOMAIN = (-10, 10), (-10, 10)\n",
    "        self.X_RANGE = max(self.XDOMAIN) - min(self.XDOMAIN)\n",
    "        self.Y_RANGE = max(self.YDOMAIN) - min(self.YDOMAIN)\n",
    "              \n",
    "    def test_transform_parms(self):\n",
    "        '''verify transform parameters set correctly'''\n",
    "        \n",
    "        self.assertEqual(shift, target_domain[MIN]-unit_domain[MIN])\n",
    "        self.assertEqual(range_d, target_domain[MAX]-target_domain[MIN])\n",
    "        self.assertEqual(range_d, self.X_RANGE)\n",
    "        self.assertEqual(range_r, unit_domain[MAX]-unit_domain[MIN])\n",
    "        self.assertEqual(range_r, 1)\n",
    "        self.assertEqual(scale, range_d/range_r)\n",
    "        \n",
    "    def tearDown(self):\n",
    "        pass\n",
    "        \n",
    "def run_MyEntryTestClasses():\n",
    "    suite = unittest.TestLoader().loadTestsFromTestCase(MyEntryTestClasses)\n",
    "    unittest.TextTestRunner(verbosity=2).run(suite)\n",
    "\n",
    "run_MyEntryTestClasses()\n",
    "### END HIDDEN TESTS"
   ]
  },
  {
   "cell_type": "code",
   "execution_count": 14,
   "metadata": {
    "deletable": false,
    "editable": false,
    "nbgrader": {
     "cell_type": "code",
     "checksum": "6bf5efae68b0ee8766770c4cd3a24ee1",
     "grade": true,
     "grade_id": "at32",
     "locked": true,
     "points": 5,
     "schema_version": 3,
     "solution": false
    },
    "tags": [
     "visualization"
    ]
   },
   "outputs": [
    {
     "name": "stderr",
     "output_type": "stream",
     "text": [
      "test_transform (__main__.MyEntryTestClasses) ... "
     ]
    },
    {
     "name": "stderr",
     "output_type": "stream",
     "text": [
      "ERROR\n",
      "test_transformation (__main__.MyEntryTestClasses) ... "
     ]
    },
    {
     "name": "stderr",
     "output_type": "stream",
     "text": [
      "ERROR\n",
      "test_transformed_in_range_domain (__main__.MyEntryTestClasses)\n",
      "verify all points lie in the correct target domain ... "
     ]
    },
    {
     "name": "stderr",
     "output_type": "stream",
     "text": [
      "ERROR\n",
      "\n",
      "======================================================================\n",
      "ERROR: test_transform (__main__.MyEntryTestClasses)\n",
      "----------------------------------------------------------------------\n",
      "Traceback (most recent call last):\n",
      "  File \"<ipython-input-14-3065d4c5d98a>\", line 21, in test_transform\n",
      "    self.assertAlmostEqual(shift, expected_shift)\n",
      "NameError: name 'shift' is not defined\n",
      "\n",
      "======================================================================\n",
      "ERROR: test_transformation (__main__.MyEntryTestClasses)\n",
      "----------------------------------------------------------------------\n",
      "Traceback (most recent call last):\n",
      "  File \"<ipython-input-14-3065d4c5d98a>\", line 26, in test_transformation\n",
      "    self.assertAlmostEqual(shift + scale * test_u, -5.0, 6)\n",
      "NameError: name 'shift' is not defined\n",
      "\n",
      "======================================================================\n",
      "ERROR: test_transformed_in_range_domain (__main__.MyEntryTestClasses)\n",
      "verify all points lie in the correct target domain\n",
      "----------------------------------------------------------------------\n",
      "Traceback (most recent call last):\n",
      "  File \"<ipython-input-14-3065d4c5d98a>\", line 12, in test_transformed_in_range_domain\n",
      "    for (x,y) in zip(X,Y):\n",
      "NameError: name 'X' is not defined\n",
      "\n",
      "----------------------------------------------------------------------\n",
      "Ran 3 tests in 0.002s\n",
      "\n",
      "FAILED (errors=3)\n"
     ]
    }
   ],
   "source": [
    "### BEGIN HIDDEN TESTS\n",
    "import unittest\n",
    "\n",
    "class MyEntryTestClasses(unittest.TestCase):\n",
    "    \n",
    "    def setUp(self):\n",
    "        self.DOMAIN = (-10, 10)\n",
    "        self.RANGE = max(self.DOMAIN) - min(self.DOMAIN)\n",
    "              \n",
    "    def test_transformed_in_range_domain(self):\n",
    "        '''verify all points lie in the correct target domain'''\n",
    "        for (x,y) in zip(X,Y):\n",
    "            self.assertGreaterEqual(x, min(self.DOMAIN))\n",
    "            self.assertGreaterEqual(y, min(self.DOMAIN))\n",
    "            self.assertLess(x,min(self.DOMAIN)+self.RANGE)\n",
    "            self.assertLess(y,min(self.DOMAIN)+self.RANGE)\n",
    "            \n",
    "    def test_transform(self):\n",
    "        expected_shift = -10.0\n",
    "        expected_scale = +20.0\n",
    "        self.assertAlmostEqual(shift, expected_shift)\n",
    "        self.assertAlmostEqual(scale, expected_scale)\n",
    "    \n",
    "    def test_transformation(self):\n",
    "        test_u,test_v = 0.25,  0.40\n",
    "        self.assertAlmostEqual(shift + scale * test_u, -5.0, 6)\n",
    "        self.assertAlmostEqual(shift + scale * test_v, -2.0, 6)\n",
    "        \n",
    "    def tearDown(self):\n",
    "        pass\n",
    "\n",
    "        \n",
    "def run_MyEntryTestClasses():\n",
    "    suite = unittest.TestLoader().loadTestsFromTestCase(MyEntryTestClasses)\n",
    "    unittest.TextTestRunner(verbosity=2).run(suite)\n",
    "\n",
    "run_MyEntryTestClasses()\n",
    "### END HIDDEN TESTS"
   ]
  },
  {
   "cell_type": "code",
   "execution_count": 15,
   "metadata": {
    "deletable": false,
    "editable": false,
    "nbgrader": {
     "cell_type": "code",
     "checksum": "f012bfa14af80e8240639021a797f129",
     "grade": true,
     "grade_id": "at33",
     "locked": true,
     "points": 5,
     "schema_version": 3,
     "solution": false
    },
    "tags": [
     "visualization"
    ]
   },
   "outputs": [
    {
     "name": "stderr",
     "output_type": "stream",
     "text": [
      "test_points_mapped (__main__.MyEntryTestClasses) ... "
     ]
    },
    {
     "name": "stderr",
     "output_type": "stream",
     "text": [
      "ERROR\n",
      "\n",
      "======================================================================\n",
      "ERROR: test_points_mapped (__main__.MyEntryTestClasses)\n",
      "----------------------------------------------------------------------\n",
      "Traceback (most recent call last):\n",
      "  File \"<ipython-input-15-5ecb374a9e20>\", line 11, in test_points_mapped\n",
      "    for p,q in zip(X,Y):\n",
      "NameError: name 'X' is not defined\n",
      "\n",
      "----------------------------------------------------------------------\n",
      "Ran 1 test in 0.001s\n",
      "\n",
      "FAILED (errors=1)\n"
     ]
    }
   ],
   "source": [
    "### BEGIN HIDDEN TESTS\n",
    "import unittest\n",
    "\n",
    "class MyEntryTestClasses(unittest.TestCase):\n",
    "    \n",
    "    def setUp(self):\n",
    "        self.XDOMAIN,self.YDOMAIN = (-10, 10), (-10, 10)\n",
    "    \n",
    "    def test_points_mapped(self):\n",
    "        MIN, MAX = (0,1)\n",
    "        for p,q in zip(X,Y):\n",
    "            self.assertTrue( p >= self.XDOMAIN[MIN] )\n",
    "            self.assertTrue( p <  self.XDOMAIN[MAX] )\n",
    "            self.assertTrue( q >= self.YDOMAIN[MIN] )\n",
    "            self.assertTrue( q <  self.YDOMAIN[MAX] )            \n",
    "            \n",
    "    def tearDown(self):\n",
    "        pass\n",
    "\n",
    "        \n",
    "def run_MyEntryTestClasses():\n",
    "    suite = unittest.TestLoader().loadTestsFromTestCase(MyEntryTestClasses)\n",
    "    unittest.TextTestRunner(verbosity=2).run(suite)\n",
    "\n",
    "run_MyEntryTestClasses()\n",
    "### END HIDDEN TESTS"
   ]
  },
  {
   "cell_type": "code",
   "execution_count": 16,
   "metadata": {
    "deletable": false,
    "editable": false,
    "nbgrader": {
     "cell_type": "code",
     "checksum": "8f16031c345163a996a5f9ab0f4039b9",
     "grade": true,
     "grade_id": "at34",
     "locked": true,
     "points": 5,
     "schema_version": 3,
     "solution": false
    },
    "tags": [
     "visualization"
    ]
   },
   "outputs": [
    {
     "name": "stderr",
     "output_type": "stream",
     "text": [
      "test_X_Y_in_domain (__main__.MyEntryTestClasses)\n",
      "verify generate points in domain ... "
     ]
    },
    {
     "name": "stderr",
     "output_type": "stream",
     "text": [
      "ERROR\n",
      "\n",
      "======================================================================\n",
      "ERROR: test_X_Y_in_domain (__main__.MyEntryTestClasses)\n",
      "verify generate points in domain\n",
      "----------------------------------------------------------------------\n",
      "Traceback (most recent call last):\n",
      "  File \"<ipython-input-16-c01e4d57e150>\", line 13, in test_X_Y_in_domain\n",
      "    if p <= 0 or q <= 0:\n",
      "NameError: name 'p' is not defined\n",
      "\n",
      "----------------------------------------------------------------------\n",
      "Ran 1 test in 0.001s\n",
      "\n",
      "FAILED (errors=1)\n"
     ]
    }
   ],
   "source": [
    "### BEGIN HIDDEN TESTS\n",
    "import unittest\n",
    "\n",
    "class MyEntryTestClasses(unittest.TestCase):\n",
    "    \n",
    "    def setUp(self):\n",
    "        self.XDOMAIN,self.YDOMAIN = (-10, 10), (-10, 10)\n",
    "              \n",
    "    def test_X_Y_in_domain(self):\n",
    "        '''verify generate points in domain'''\n",
    "        \n",
    "        # test the last combinatio used ...\n",
    "        if p <= 0 or q <= 0:\n",
    "            self.assertEqual(marker, 'rs')\n",
    "        else:\n",
    "            self.assertEqual(marker, 'bo')\n",
    "        \n",
    "    def tearDown(self):\n",
    "        pass\n",
    "\n",
    "        \n",
    "def run_MyEntryTestClasses():\n",
    "    suite = unittest.TestLoader().loadTestsFromTestCase(MyEntryTestClasses)\n",
    "    unittest.TextTestRunner(verbosity=2).run(suite)\n",
    "\n",
    "run_MyEntryTestClasses()\n",
    "### END HIDDEN TESTS"
   ]
  },
  {
   "cell_type": "markdown",
   "metadata": {
    "deletable": false,
    "editable": false
   },
   "source": [
    "#### Exercise 4: plot two orthogonal vectors and a circle, using a given code skeleton\n",
    "\n",
    "Given a vector $\\vec{v}=(4,2)$, starting from origin $O=(0,0)$ and heading to point $P=(4,2)$. We want to create a vector $\\vec{w}=(-v[1],v[0])$, such that $\\vec{w} \\perp \\vec{v}$. Also, we want to show that the length (the *norm*) $| \\vec{w} |~=~ | \\vec{v}|$. We achieve this by drawing a circle with radius $R=|\\vec{v}|$, showing that both $\\vec{v}$ and $\\vec{w}$ end exactly on this circle.\n",
    "\n",
    "Using the below code skeleton, your are asked to:\n",
    "1. implement `Orig = (0,0)`, `v = (4,2)`, and perpendicular `w` as defined above\n",
    "2. implement $L = |\\vec{v}| = \\sqrt{v_x^2 + v_y^2}$, the length of vector `v` which is equal to the distance of point `(4,2)` from the origin in this case\n",
    "3. run the program to plot the vectors implemented, and the circle with radius $L$\n",
    "\n",
    "The expected result is shown below.\n",
    "\n",
    "![expected result 4](./figures/expected_result4.png)\n"
   ]
  },
  {
   "cell_type": "code",
   "execution_count": 17,
   "metadata": {
    "deletable": false,
    "nbgrader": {
     "cell_type": "code",
     "checksum": "e3032213ffd82cee89a449232b873052",
     "grade": false,
     "grade_id": "q4",
     "locked": false,
     "schema_version": 3,
     "solution": true
    },
    "tags": []
   },
   "outputs": [
    {
     "ename": "ModuleNotFoundError",
     "evalue": "No module named 'matplotlib'",
     "output_type": "error",
     "traceback": [
      "\u001b[0;31m---------------------------------------------------------------------------\u001b[0m",
      "\u001b[0;31mModuleNotFoundError\u001b[0m                       Traceback (most recent call last)",
      "\u001b[0;32m<ipython-input-17-5e7f9bcf645f>\u001b[0m in \u001b[0;36m<module>\u001b[0;34m\u001b[0m\n\u001b[0;32m----> 1\u001b[0;31m \u001b[0mget_ipython\u001b[0m\u001b[0;34m(\u001b[0m\u001b[0;34m)\u001b[0m\u001b[0;34m.\u001b[0m\u001b[0mrun_line_magic\u001b[0m\u001b[0;34m(\u001b[0m\u001b[0;34m'matplotlib'\u001b[0m\u001b[0;34m,\u001b[0m \u001b[0;34m'inline'\u001b[0m\u001b[0;34m)\u001b[0m\u001b[0;34m\u001b[0m\u001b[0;34m\u001b[0m\u001b[0m\n\u001b[0m\u001b[1;32m      2\u001b[0m \u001b[0;32mimport\u001b[0m \u001b[0mmath\u001b[0m\u001b[0;34m\u001b[0m\u001b[0;34m\u001b[0m\u001b[0m\n\u001b[1;32m      3\u001b[0m \u001b[0;32mimport\u001b[0m \u001b[0mmatplotlib\u001b[0m\u001b[0;34m.\u001b[0m\u001b[0mpyplot\u001b[0m \u001b[0;32mas\u001b[0m \u001b[0mplt\u001b[0m\u001b[0;34m\u001b[0m\u001b[0;34m\u001b[0m\u001b[0m\n\u001b[1;32m      4\u001b[0m \u001b[0;34m\u001b[0m\u001b[0m\n\u001b[1;32m      5\u001b[0m \u001b[0mXMIN\u001b[0m\u001b[0;34m,\u001b[0m \u001b[0mXMAX\u001b[0m \u001b[0;34m=\u001b[0m \u001b[0;34m-\u001b[0m\u001b[0;36m10\u001b[0m\u001b[0;34m,\u001b[0m \u001b[0;34m+\u001b[0m\u001b[0;36m10\u001b[0m\u001b[0;34m\u001b[0m\u001b[0;34m\u001b[0m\u001b[0m\n",
      "\u001b[0;32m~/.local/lib/python3.8/site-packages/IPython/core/interactiveshell.py\u001b[0m in \u001b[0;36mrun_line_magic\u001b[0;34m(self, magic_name, line, _stack_depth)\u001b[0m\n\u001b[1;32m   2346\u001b[0m                 \u001b[0mkwargs\u001b[0m\u001b[0;34m[\u001b[0m\u001b[0;34m'local_ns'\u001b[0m\u001b[0;34m]\u001b[0m \u001b[0;34m=\u001b[0m \u001b[0mself\u001b[0m\u001b[0;34m.\u001b[0m\u001b[0mget_local_scope\u001b[0m\u001b[0;34m(\u001b[0m\u001b[0mstack_depth\u001b[0m\u001b[0;34m)\u001b[0m\u001b[0;34m\u001b[0m\u001b[0;34m\u001b[0m\u001b[0m\n\u001b[1;32m   2347\u001b[0m             \u001b[0;32mwith\u001b[0m \u001b[0mself\u001b[0m\u001b[0;34m.\u001b[0m\u001b[0mbuiltin_trap\u001b[0m\u001b[0;34m:\u001b[0m\u001b[0;34m\u001b[0m\u001b[0;34m\u001b[0m\u001b[0m\n\u001b[0;32m-> 2348\u001b[0;31m                 \u001b[0mresult\u001b[0m \u001b[0;34m=\u001b[0m \u001b[0mfn\u001b[0m\u001b[0;34m(\u001b[0m\u001b[0;34m*\u001b[0m\u001b[0margs\u001b[0m\u001b[0;34m,\u001b[0m \u001b[0;34m**\u001b[0m\u001b[0mkwargs\u001b[0m\u001b[0;34m)\u001b[0m\u001b[0;34m\u001b[0m\u001b[0;34m\u001b[0m\u001b[0m\n\u001b[0m\u001b[1;32m   2349\u001b[0m             \u001b[0;32mreturn\u001b[0m \u001b[0mresult\u001b[0m\u001b[0;34m\u001b[0m\u001b[0;34m\u001b[0m\u001b[0m\n\u001b[1;32m   2350\u001b[0m \u001b[0;34m\u001b[0m\u001b[0m\n",
      "\u001b[0;32m<decorator-gen-108>\u001b[0m in \u001b[0;36mmatplotlib\u001b[0;34m(self, line)\u001b[0m\n",
      "\u001b[0;32m~/.local/lib/python3.8/site-packages/IPython/core/magic.py\u001b[0m in \u001b[0;36m<lambda>\u001b[0;34m(f, *a, **k)\u001b[0m\n\u001b[1;32m    185\u001b[0m     \u001b[0;31m# but it's overkill for just that one bit of state.\u001b[0m\u001b[0;34m\u001b[0m\u001b[0;34m\u001b[0m\u001b[0;34m\u001b[0m\u001b[0m\n\u001b[1;32m    186\u001b[0m     \u001b[0;32mdef\u001b[0m \u001b[0mmagic_deco\u001b[0m\u001b[0;34m(\u001b[0m\u001b[0marg\u001b[0m\u001b[0;34m)\u001b[0m\u001b[0;34m:\u001b[0m\u001b[0;34m\u001b[0m\u001b[0;34m\u001b[0m\u001b[0m\n\u001b[0;32m--> 187\u001b[0;31m         \u001b[0mcall\u001b[0m \u001b[0;34m=\u001b[0m \u001b[0;32mlambda\u001b[0m \u001b[0mf\u001b[0m\u001b[0;34m,\u001b[0m \u001b[0;34m*\u001b[0m\u001b[0ma\u001b[0m\u001b[0;34m,\u001b[0m \u001b[0;34m**\u001b[0m\u001b[0mk\u001b[0m\u001b[0;34m:\u001b[0m \u001b[0mf\u001b[0m\u001b[0;34m(\u001b[0m\u001b[0;34m*\u001b[0m\u001b[0ma\u001b[0m\u001b[0;34m,\u001b[0m \u001b[0;34m**\u001b[0m\u001b[0mk\u001b[0m\u001b[0;34m)\u001b[0m\u001b[0;34m\u001b[0m\u001b[0;34m\u001b[0m\u001b[0m\n\u001b[0m\u001b[1;32m    188\u001b[0m \u001b[0;34m\u001b[0m\u001b[0m\n\u001b[1;32m    189\u001b[0m         \u001b[0;32mif\u001b[0m \u001b[0mcallable\u001b[0m\u001b[0;34m(\u001b[0m\u001b[0marg\u001b[0m\u001b[0;34m)\u001b[0m\u001b[0;34m:\u001b[0m\u001b[0;34m\u001b[0m\u001b[0;34m\u001b[0m\u001b[0m\n",
      "\u001b[0;32m~/.local/lib/python3.8/site-packages/IPython/core/magics/pylab.py\u001b[0m in \u001b[0;36mmatplotlib\u001b[0;34m(self, line)\u001b[0m\n\u001b[1;32m     97\u001b[0m             \u001b[0mprint\u001b[0m\u001b[0;34m(\u001b[0m\u001b[0;34m\"Available matplotlib backends: %s\"\u001b[0m \u001b[0;34m%\u001b[0m \u001b[0mbackends_list\u001b[0m\u001b[0;34m)\u001b[0m\u001b[0;34m\u001b[0m\u001b[0;34m\u001b[0m\u001b[0m\n\u001b[1;32m     98\u001b[0m         \u001b[0;32melse\u001b[0m\u001b[0;34m:\u001b[0m\u001b[0;34m\u001b[0m\u001b[0;34m\u001b[0m\u001b[0m\n\u001b[0;32m---> 99\u001b[0;31m             \u001b[0mgui\u001b[0m\u001b[0;34m,\u001b[0m \u001b[0mbackend\u001b[0m \u001b[0;34m=\u001b[0m \u001b[0mself\u001b[0m\u001b[0;34m.\u001b[0m\u001b[0mshell\u001b[0m\u001b[0;34m.\u001b[0m\u001b[0menable_matplotlib\u001b[0m\u001b[0;34m(\u001b[0m\u001b[0margs\u001b[0m\u001b[0;34m.\u001b[0m\u001b[0mgui\u001b[0m\u001b[0;34m.\u001b[0m\u001b[0mlower\u001b[0m\u001b[0;34m(\u001b[0m\u001b[0;34m)\u001b[0m \u001b[0;32mif\u001b[0m \u001b[0misinstance\u001b[0m\u001b[0;34m(\u001b[0m\u001b[0margs\u001b[0m\u001b[0;34m.\u001b[0m\u001b[0mgui\u001b[0m\u001b[0;34m,\u001b[0m \u001b[0mstr\u001b[0m\u001b[0;34m)\u001b[0m \u001b[0;32melse\u001b[0m \u001b[0margs\u001b[0m\u001b[0;34m.\u001b[0m\u001b[0mgui\u001b[0m\u001b[0;34m)\u001b[0m\u001b[0;34m\u001b[0m\u001b[0;34m\u001b[0m\u001b[0m\n\u001b[0m\u001b[1;32m    100\u001b[0m             \u001b[0mself\u001b[0m\u001b[0;34m.\u001b[0m\u001b[0m_show_matplotlib_backend\u001b[0m\u001b[0;34m(\u001b[0m\u001b[0margs\u001b[0m\u001b[0;34m.\u001b[0m\u001b[0mgui\u001b[0m\u001b[0;34m,\u001b[0m \u001b[0mbackend\u001b[0m\u001b[0;34m)\u001b[0m\u001b[0;34m\u001b[0m\u001b[0;34m\u001b[0m\u001b[0m\n\u001b[1;32m    101\u001b[0m \u001b[0;34m\u001b[0m\u001b[0m\n",
      "\u001b[0;32m~/.local/lib/python3.8/site-packages/ipykernel/zmqshell.py\u001b[0m in \u001b[0;36menable_matplotlib\u001b[0;34m(self, gui)\u001b[0m\n\u001b[1;32m    599\u001b[0m \u001b[0;34m\u001b[0m\u001b[0m\n\u001b[1;32m    600\u001b[0m     \u001b[0;32mdef\u001b[0m \u001b[0menable_matplotlib\u001b[0m\u001b[0;34m(\u001b[0m\u001b[0mself\u001b[0m\u001b[0;34m,\u001b[0m \u001b[0mgui\u001b[0m\u001b[0;34m=\u001b[0m\u001b[0;32mNone\u001b[0m\u001b[0;34m)\u001b[0m\u001b[0;34m:\u001b[0m\u001b[0;34m\u001b[0m\u001b[0;34m\u001b[0m\u001b[0m\n\u001b[0;32m--> 601\u001b[0;31m         \u001b[0mgui\u001b[0m\u001b[0;34m,\u001b[0m \u001b[0mbackend\u001b[0m \u001b[0;34m=\u001b[0m \u001b[0msuper\u001b[0m\u001b[0;34m(\u001b[0m\u001b[0mZMQInteractiveShell\u001b[0m\u001b[0;34m,\u001b[0m \u001b[0mself\u001b[0m\u001b[0;34m)\u001b[0m\u001b[0;34m.\u001b[0m\u001b[0menable_matplotlib\u001b[0m\u001b[0;34m(\u001b[0m\u001b[0mgui\u001b[0m\u001b[0;34m)\u001b[0m\u001b[0;34m\u001b[0m\u001b[0;34m\u001b[0m\u001b[0m\n\u001b[0m\u001b[1;32m    602\u001b[0m \u001b[0;34m\u001b[0m\u001b[0m\n\u001b[1;32m    603\u001b[0m         \u001b[0;32mtry\u001b[0m\u001b[0;34m:\u001b[0m\u001b[0;34m\u001b[0m\u001b[0;34m\u001b[0m\u001b[0m\n",
      "\u001b[0;32m~/.local/lib/python3.8/site-packages/IPython/core/interactiveshell.py\u001b[0m in \u001b[0;36menable_matplotlib\u001b[0;34m(self, gui)\u001b[0m\n\u001b[1;32m   3515\u001b[0m         \"\"\"\n\u001b[1;32m   3516\u001b[0m         \u001b[0;32mfrom\u001b[0m \u001b[0mIPython\u001b[0m\u001b[0;34m.\u001b[0m\u001b[0mcore\u001b[0m \u001b[0;32mimport\u001b[0m \u001b[0mpylabtools\u001b[0m \u001b[0;32mas\u001b[0m \u001b[0mpt\u001b[0m\u001b[0;34m\u001b[0m\u001b[0;34m\u001b[0m\u001b[0m\n\u001b[0;32m-> 3517\u001b[0;31m         \u001b[0;32mfrom\u001b[0m \u001b[0mmatplotlib_inline\u001b[0m\u001b[0;34m.\u001b[0m\u001b[0mbackend_inline\u001b[0m \u001b[0;32mimport\u001b[0m \u001b[0mconfigure_inline_support\u001b[0m\u001b[0;34m\u001b[0m\u001b[0;34m\u001b[0m\u001b[0m\n\u001b[0m\u001b[1;32m   3518\u001b[0m         \u001b[0mgui\u001b[0m\u001b[0;34m,\u001b[0m \u001b[0mbackend\u001b[0m \u001b[0;34m=\u001b[0m \u001b[0mpt\u001b[0m\u001b[0;34m.\u001b[0m\u001b[0mfind_gui_and_backend\u001b[0m\u001b[0;34m(\u001b[0m\u001b[0mgui\u001b[0m\u001b[0;34m,\u001b[0m \u001b[0mself\u001b[0m\u001b[0;34m.\u001b[0m\u001b[0mpylab_gui_select\u001b[0m\u001b[0;34m)\u001b[0m\u001b[0;34m\u001b[0m\u001b[0;34m\u001b[0m\u001b[0m\n\u001b[1;32m   3519\u001b[0m \u001b[0;34m\u001b[0m\u001b[0m\n",
      "\u001b[0;32m~/.local/lib/python3.8/site-packages/matplotlib_inline/backend_inline.py\u001b[0m in \u001b[0;36m<module>\u001b[0;34m\u001b[0m\n\u001b[1;32m      4\u001b[0m \u001b[0;31m# Distributed under the terms of the BSD 3-Clause License.\u001b[0m\u001b[0;34m\u001b[0m\u001b[0;34m\u001b[0m\u001b[0;34m\u001b[0m\u001b[0m\n\u001b[1;32m      5\u001b[0m \u001b[0;34m\u001b[0m\u001b[0m\n\u001b[0;32m----> 6\u001b[0;31m \u001b[0;32mimport\u001b[0m \u001b[0mmatplotlib\u001b[0m\u001b[0;34m\u001b[0m\u001b[0;34m\u001b[0m\u001b[0m\n\u001b[0m\u001b[1;32m      7\u001b[0m from matplotlib.backends.backend_agg import (  # noqa\n\u001b[1;32m      8\u001b[0m     \u001b[0mnew_figure_manager\u001b[0m\u001b[0;34m,\u001b[0m\u001b[0;34m\u001b[0m\u001b[0;34m\u001b[0m\u001b[0m\n",
      "\u001b[0;31mModuleNotFoundError\u001b[0m: No module named 'matplotlib'"
     ]
    }
   ],
   "source": [
    "%matplotlib inline\n",
    "import math\n",
    "import matplotlib.pyplot as plt\n",
    "\n",
    "XMIN, XMAX = -10, +10\n",
    "YMIN, YMAX = -10, +10\n",
    "\n",
    "# instantiate: Orig, v, w below (each a 2-tuple (x,y)) ...\n",
    "# Orig is given below, as an example of what is epected from you ...\n",
    "# Orig = (0,0)   # origin (begin point) of the vectors v and w\n",
    "# v = ( , )      # destination (end point) of vector v\n",
    "# w = ( , )      # same, vector w, w perpendicular to v\n",
    "# YOUR CODE HERE\n",
    "raise NotImplementedError()\n",
    "\n",
    "# we need these for plotting ...\n",
    "v_x, v_y  = v[0]-Orig[0], v[1]-Orig[1]\n",
    "w_x, w_y  = w[0]-Orig[0], w[1]-Orig[1]\n",
    "\n",
    "# compute the length L using the definition given ...\n",
    "#L = math.sqrt( ... )\n",
    "# YOUR CODE HERE\n",
    "raise NotImplementedError()\n",
    "\n",
    "# now w're good to plot ... no changes needed below.\n",
    "\n",
    "# arrow parameters ...\n",
    "HD_WIDTH  = .5     # head width\n",
    "HD_LNGTH  = .5     # head length\n",
    "FC_COLOR  = 'red'  # face color\n",
    "EC_COLOR  = 'red'  # edge color\n",
    "\n",
    "#cricle parameters ...\n",
    "CL_FILL   = False  # do not fill circle\n",
    "CL_LCOLOR = 'blue'\n",
    "CL_LSTYLE = '-.'\n",
    "CL_LWIDTH = 2\n",
    "\n",
    "# no need to change anything below ...\n",
    "ax = plt.axes()\n",
    "ax.set_xlim(XMIN, XMAX)\n",
    "ax.set_ylim(YMIN, YMAX)\n",
    "\n",
    "# plot vector v (just fill in first line of command; keep rest)\n",
    "ax.arrow(x=Orig[0], y=Orig[1], dx=v_x, dy=v_y, \\\n",
    "    head_width=HD_WIDTH, head_length=HD_LNGTH, \\\n",
    "    length_includes_head=True, \\\n",
    "    fc=FC_COLOR, ec=EC_COLOR)\n",
    "ax.text(2, 1.2, r'$\\vec{v}$')\n",
    "\n",
    "# plot vector w (just fill in first line of command; keep rest)\n",
    "ax.arrow(x=Orig[0], y=Orig[1], dx=w_x, dy=w_y, \\\n",
    "    head_width=HD_WIDTH, head_length=HD_LNGTH, \\\n",
    "    length_includes_head=True, \\\n",
    "    fc=FC_COLOR, ec=EC_COLOR)\n",
    "ax.text(-.8, 2, r'$\\vec{w}$')\n",
    "\n",
    "# label the origin ...\n",
    "ax.text(-0.9, -0.5, r'$O=(0,0)$')\n",
    "\n",
    "# plot radius ...\n",
    "ax.arrow(x=Orig[0], y=Orig[1], dx=L, dy=0, \\\n",
    "    head_width=HD_WIDTH/2, head_length=HD_LNGTH/2, \\\n",
    "    length_includes_head=True, fc='k', ec='k')\n",
    "ax.text(2.2, .1, 'R={:4.2f}'.format(L))\n",
    "\n",
    "crcle = plt.Circle(Orig, radius=L, \\\n",
    "    fill=CL_FILL, color=CL_LCOLOR, \\\n",
    "    linestyle=CL_LSTYLE, linewidth=CL_LWIDTH)\n",
    "ax = plt.gca()\n",
    "ax.add_patch(crcle)\n",
    "ax.axis('scaled')\n",
    "\n",
    "plt.grid(True)\n",
    "plt.show()"
   ]
  },
  {
   "cell_type": "code",
   "execution_count": 18,
   "metadata": {
    "deletable": false,
    "editable": false,
    "nbgrader": {
     "cell_type": "code",
     "checksum": "e7e4bfd9467d9c23e9521c6b748969b7",
     "grade": true,
     "grade_id": "at41",
     "locked": true,
     "points": 10,
     "schema_version": 3,
     "solution": false
    },
    "tags": [
     "visualization"
    ]
   },
   "outputs": [
    {
     "name": "stderr",
     "output_type": "stream",
     "text": [
      "test_correct_ortho (__main__.MyEntryTestClasses)\n",
      "verify domain parameters are chosen correctly ... "
     ]
    },
    {
     "name": "stderr",
     "output_type": "stream",
     "text": [
      "ERROR\n",
      "\n",
      "======================================================================\n",
      "ERROR: test_correct_ortho (__main__.MyEntryTestClasses)\n",
      "verify domain parameters are chosen correctly\n",
      "----------------------------------------------------------------------\n",
      "Traceback (most recent call last):\n",
      "  File \"<ipython-input-18-b1cfedabb791>\", line 13, in test_correct_ortho\n",
      "    self.assertEqual(Orig, self.expected_orig)\n",
      "NameError: name 'Orig' is not defined\n",
      "\n",
      "----------------------------------------------------------------------\n",
      "Ran 1 test in 0.001s\n",
      "\n",
      "FAILED (errors=1)\n"
     ]
    }
   ],
   "source": [
    "### BEGIN HIDDEN TESTS\n",
    "import unittest\n",
    "\n",
    "class MyEntryTestClasses(unittest.TestCase):\n",
    "    \n",
    "    def setUp(self):\n",
    "        self.expected_orig = (0,0)\n",
    "        self.expected_v = (4,2)\n",
    "        self.expected_w = (-2,4)\n",
    "              \n",
    "    def test_correct_ortho(self):\n",
    "        '''verify domain parameters are chosen correctly'''\n",
    "        self.assertEqual(Orig, self.expected_orig)\n",
    "        self.assertEqual(  v,  self.expected_v)\n",
    "        self.assertEqual(  w,  self.expected_w)\n",
    "                \n",
    "    def tearDown(self):\n",
    "        pass\n",
    "\n",
    "        \n",
    "def run_MyEntryTestClasses():\n",
    "    suite = unittest.TestLoader().loadTestsFromTestCase(MyEntryTestClasses)\n",
    "    unittest.TextTestRunner(verbosity=2).run(suite)\n",
    "\n",
    "run_MyEntryTestClasses()\n",
    "### END HIDDEN TESTS"
   ]
  },
  {
   "cell_type": "code",
   "execution_count": 19,
   "metadata": {
    "deletable": false,
    "editable": false,
    "nbgrader": {
     "cell_type": "code",
     "checksum": "b73d663596ceb22ca43c1d4abe8a2e14",
     "grade": true,
     "grade_id": "at42",
     "locked": true,
     "points": 10,
     "schema_version": 3,
     "solution": false
    },
    "tags": [
     "visualization"
    ]
   },
   "outputs": [
    {
     "name": "stderr",
     "output_type": "stream",
     "text": [
      "test_function_correct (__main__.MyEntryTestClasses)\n",
      "verify domain parameters are chosen correctly ... "
     ]
    },
    {
     "name": "stderr",
     "output_type": "stream",
     "text": [
      "ERROR\n",
      "\n",
      "======================================================================\n",
      "ERROR: test_function_correct (__main__.MyEntryTestClasses)\n",
      "verify domain parameters are chosen correctly\n",
      "----------------------------------------------------------------------\n",
      "Traceback (most recent call last):\n",
      "  File \"<ipython-input-19-aa385b0df2a0>\", line 9, in test_function_correct\n",
      "    expected_norm = math.sqrt( v[0]**2 + v[1]**2 )\n",
      "NameError: name 'math' is not defined\n",
      "\n",
      "----------------------------------------------------------------------\n",
      "Ran 1 test in 0.001s\n",
      "\n",
      "FAILED (errors=1)\n"
     ]
    }
   ],
   "source": [
    "### BEGIN HIDDEN TESTS\n",
    "import unittest\n",
    "\n",
    "class MyEntryTestClasses(unittest.TestCase):\n",
    "              \n",
    "    def test_function_correct(self):\n",
    "        '''verify domain parameters are chosen correctly'''\n",
    "        v = (4,2)\n",
    "        expected_norm = math.sqrt( v[0]**2 + v[1]**2 )\n",
    "        self.assertEqual(L, expected_norm)\n",
    "\n",
    "        \n",
    "def run_MyEntryTestClasses():\n",
    "    suite = unittest.TestLoader().loadTestsFromTestCase(MyEntryTestClasses)\n",
    "    unittest.TextTestRunner(verbosity=2).run(suite)\n",
    "\n",
    "run_MyEntryTestClasses()\n",
    "### END HIDDEN TESTS"
   ]
  },
  {
   "cell_type": "markdown",
   "metadata": {
    "deletable": false,
    "editable": false
   },
   "source": [
    "#### Exercise 5: prepare and plot a simple histogram\n",
    "\n",
    "Data on ball bearing rolling friction coefficients $C_r$ are read from a test data file `Bearings.dat`. The file contains 109 bearing data records: `id, cr`, where `id` is the bearing id, and `cr` is its rolling friction coefficient. The below code skeleton reads in these data already, you are to program the data analysis.\n",
    "\n",
    "More in detail, you are asked to analyze this $C_r$ value, and identify the bearings (by their id's) with the minimum, and maximum values for $C_r$. Also, compute the average value, using the below skeleton. Finally, plot a histogram with bars for each of the $C_r$ classes (called: bins), and a line of the average value. The expected diagram is shown below.\n",
    "\n",
    "![expected histogram](./figures/expected_result5.png)\n",
    "\n",
    "\n",
    "1. in function `printAnalysis()`, implement the statistical analysis;\n",
    "  * check out all min, max and avg initializations first\n",
    "  * using a `for` .. `in` loop:\n",
    "     - find the min, max `cr` (record their `id`)\n",
    "     - sum up all `cr` values to compute avg afterwards\n",
    "  * once the loop is done, divide sum by number of bearings to find average\n",
    "2. run the program, check the printed analysis and the plot and verify the results. Expected results;\n",
    "```\n",
    "    Ball bearing analysis (N=109)\n",
    "    Count  : 109 data values\n",
    "    Cr min : 2.1000000000e-04 [id 25]\n",
    "    Cr max : 9.8100000000e-03 [id 31]\n",
    "    Cr avg : 4.6193577982e-03\n",
    "```\n",
    "3. plot a vertical dashed line for `cr` equal to the average value, much like the plotting of the minimum `cr`. To that end, in `plotStats()`, prepare `X` and `Y` with two coordinate pairs for the vertical line. The minimum `cr` value is contained in `mma` and for `Y`, just take frequencies 0 to 20.  Implement and rerun\n"
   ]
  },
  {
   "cell_type": "code",
   "execution_count": 20,
   "metadata": {
    "deletable": false,
    "nbgrader": {
     "cell_type": "code",
     "checksum": "a1386db81b21749ffc5e68d7d3ae43df",
     "grade": false,
     "grade_id": "q5",
     "locked": false,
     "schema_version": 3,
     "solution": true
    },
    "tags": []
   },
   "outputs": [
    {
     "ename": "ModuleNotFoundError",
     "evalue": "No module named 'matplotlib'",
     "output_type": "error",
     "traceback": [
      "\u001b[0;31m---------------------------------------------------------------------------\u001b[0m",
      "\u001b[0;31mModuleNotFoundError\u001b[0m                       Traceback (most recent call last)",
      "\u001b[0;32m<ipython-input-20-736d2d49e2d5>\u001b[0m in \u001b[0;36m<module>\u001b[0;34m\u001b[0m\n\u001b[0;32m----> 1\u001b[0;31m \u001b[0mget_ipython\u001b[0m\u001b[0;34m(\u001b[0m\u001b[0;34m)\u001b[0m\u001b[0;34m.\u001b[0m\u001b[0mrun_line_magic\u001b[0m\u001b[0;34m(\u001b[0m\u001b[0;34m'matplotlib'\u001b[0m\u001b[0;34m,\u001b[0m \u001b[0;34m'inline'\u001b[0m\u001b[0;34m)\u001b[0m\u001b[0;34m\u001b[0m\u001b[0;34m\u001b[0m\u001b[0m\n\u001b[0m\u001b[1;32m      2\u001b[0m \u001b[0;34m\u001b[0m\u001b[0m\n\u001b[1;32m      3\u001b[0m \u001b[0;32mimport\u001b[0m \u001b[0mmatplotlib\u001b[0m\u001b[0;34m.\u001b[0m\u001b[0mpyplot\u001b[0m \u001b[0;32mas\u001b[0m \u001b[0mplt\u001b[0m\u001b[0;34m\u001b[0m\u001b[0;34m\u001b[0m\u001b[0m\n\u001b[1;32m      4\u001b[0m \u001b[0;34m\u001b[0m\u001b[0m\n\u001b[1;32m      5\u001b[0m \u001b[0;31m# import other modules we need ...\u001b[0m\u001b[0;34m\u001b[0m\u001b[0;34m\u001b[0m\u001b[0;34m\u001b[0m\u001b[0m\n",
      "\u001b[0;32m~/.local/lib/python3.8/site-packages/IPython/core/interactiveshell.py\u001b[0m in \u001b[0;36mrun_line_magic\u001b[0;34m(self, magic_name, line, _stack_depth)\u001b[0m\n\u001b[1;32m   2346\u001b[0m                 \u001b[0mkwargs\u001b[0m\u001b[0;34m[\u001b[0m\u001b[0;34m'local_ns'\u001b[0m\u001b[0;34m]\u001b[0m \u001b[0;34m=\u001b[0m \u001b[0mself\u001b[0m\u001b[0;34m.\u001b[0m\u001b[0mget_local_scope\u001b[0m\u001b[0;34m(\u001b[0m\u001b[0mstack_depth\u001b[0m\u001b[0;34m)\u001b[0m\u001b[0;34m\u001b[0m\u001b[0;34m\u001b[0m\u001b[0m\n\u001b[1;32m   2347\u001b[0m             \u001b[0;32mwith\u001b[0m \u001b[0mself\u001b[0m\u001b[0;34m.\u001b[0m\u001b[0mbuiltin_trap\u001b[0m\u001b[0;34m:\u001b[0m\u001b[0;34m\u001b[0m\u001b[0;34m\u001b[0m\u001b[0m\n\u001b[0;32m-> 2348\u001b[0;31m                 \u001b[0mresult\u001b[0m \u001b[0;34m=\u001b[0m \u001b[0mfn\u001b[0m\u001b[0;34m(\u001b[0m\u001b[0;34m*\u001b[0m\u001b[0margs\u001b[0m\u001b[0;34m,\u001b[0m \u001b[0;34m**\u001b[0m\u001b[0mkwargs\u001b[0m\u001b[0;34m)\u001b[0m\u001b[0;34m\u001b[0m\u001b[0;34m\u001b[0m\u001b[0m\n\u001b[0m\u001b[1;32m   2349\u001b[0m             \u001b[0;32mreturn\u001b[0m \u001b[0mresult\u001b[0m\u001b[0;34m\u001b[0m\u001b[0;34m\u001b[0m\u001b[0m\n\u001b[1;32m   2350\u001b[0m \u001b[0;34m\u001b[0m\u001b[0m\n",
      "\u001b[0;32m<decorator-gen-108>\u001b[0m in \u001b[0;36mmatplotlib\u001b[0;34m(self, line)\u001b[0m\n",
      "\u001b[0;32m~/.local/lib/python3.8/site-packages/IPython/core/magic.py\u001b[0m in \u001b[0;36m<lambda>\u001b[0;34m(f, *a, **k)\u001b[0m\n\u001b[1;32m    185\u001b[0m     \u001b[0;31m# but it's overkill for just that one bit of state.\u001b[0m\u001b[0;34m\u001b[0m\u001b[0;34m\u001b[0m\u001b[0;34m\u001b[0m\u001b[0m\n\u001b[1;32m    186\u001b[0m     \u001b[0;32mdef\u001b[0m \u001b[0mmagic_deco\u001b[0m\u001b[0;34m(\u001b[0m\u001b[0marg\u001b[0m\u001b[0;34m)\u001b[0m\u001b[0;34m:\u001b[0m\u001b[0;34m\u001b[0m\u001b[0;34m\u001b[0m\u001b[0m\n\u001b[0;32m--> 187\u001b[0;31m         \u001b[0mcall\u001b[0m \u001b[0;34m=\u001b[0m \u001b[0;32mlambda\u001b[0m \u001b[0mf\u001b[0m\u001b[0;34m,\u001b[0m \u001b[0;34m*\u001b[0m\u001b[0ma\u001b[0m\u001b[0;34m,\u001b[0m \u001b[0;34m**\u001b[0m\u001b[0mk\u001b[0m\u001b[0;34m:\u001b[0m \u001b[0mf\u001b[0m\u001b[0;34m(\u001b[0m\u001b[0;34m*\u001b[0m\u001b[0ma\u001b[0m\u001b[0;34m,\u001b[0m \u001b[0;34m**\u001b[0m\u001b[0mk\u001b[0m\u001b[0;34m)\u001b[0m\u001b[0;34m\u001b[0m\u001b[0;34m\u001b[0m\u001b[0m\n\u001b[0m\u001b[1;32m    188\u001b[0m \u001b[0;34m\u001b[0m\u001b[0m\n\u001b[1;32m    189\u001b[0m         \u001b[0;32mif\u001b[0m \u001b[0mcallable\u001b[0m\u001b[0;34m(\u001b[0m\u001b[0marg\u001b[0m\u001b[0;34m)\u001b[0m\u001b[0;34m:\u001b[0m\u001b[0;34m\u001b[0m\u001b[0;34m\u001b[0m\u001b[0m\n",
      "\u001b[0;32m~/.local/lib/python3.8/site-packages/IPython/core/magics/pylab.py\u001b[0m in \u001b[0;36mmatplotlib\u001b[0;34m(self, line)\u001b[0m\n\u001b[1;32m     97\u001b[0m             \u001b[0mprint\u001b[0m\u001b[0;34m(\u001b[0m\u001b[0;34m\"Available matplotlib backends: %s\"\u001b[0m \u001b[0;34m%\u001b[0m \u001b[0mbackends_list\u001b[0m\u001b[0;34m)\u001b[0m\u001b[0;34m\u001b[0m\u001b[0;34m\u001b[0m\u001b[0m\n\u001b[1;32m     98\u001b[0m         \u001b[0;32melse\u001b[0m\u001b[0;34m:\u001b[0m\u001b[0;34m\u001b[0m\u001b[0;34m\u001b[0m\u001b[0m\n\u001b[0;32m---> 99\u001b[0;31m             \u001b[0mgui\u001b[0m\u001b[0;34m,\u001b[0m \u001b[0mbackend\u001b[0m \u001b[0;34m=\u001b[0m \u001b[0mself\u001b[0m\u001b[0;34m.\u001b[0m\u001b[0mshell\u001b[0m\u001b[0;34m.\u001b[0m\u001b[0menable_matplotlib\u001b[0m\u001b[0;34m(\u001b[0m\u001b[0margs\u001b[0m\u001b[0;34m.\u001b[0m\u001b[0mgui\u001b[0m\u001b[0;34m.\u001b[0m\u001b[0mlower\u001b[0m\u001b[0;34m(\u001b[0m\u001b[0;34m)\u001b[0m \u001b[0;32mif\u001b[0m \u001b[0misinstance\u001b[0m\u001b[0;34m(\u001b[0m\u001b[0margs\u001b[0m\u001b[0;34m.\u001b[0m\u001b[0mgui\u001b[0m\u001b[0;34m,\u001b[0m \u001b[0mstr\u001b[0m\u001b[0;34m)\u001b[0m \u001b[0;32melse\u001b[0m \u001b[0margs\u001b[0m\u001b[0;34m.\u001b[0m\u001b[0mgui\u001b[0m\u001b[0;34m)\u001b[0m\u001b[0;34m\u001b[0m\u001b[0;34m\u001b[0m\u001b[0m\n\u001b[0m\u001b[1;32m    100\u001b[0m             \u001b[0mself\u001b[0m\u001b[0;34m.\u001b[0m\u001b[0m_show_matplotlib_backend\u001b[0m\u001b[0;34m(\u001b[0m\u001b[0margs\u001b[0m\u001b[0;34m.\u001b[0m\u001b[0mgui\u001b[0m\u001b[0;34m,\u001b[0m \u001b[0mbackend\u001b[0m\u001b[0;34m)\u001b[0m\u001b[0;34m\u001b[0m\u001b[0;34m\u001b[0m\u001b[0m\n\u001b[1;32m    101\u001b[0m \u001b[0;34m\u001b[0m\u001b[0m\n",
      "\u001b[0;32m~/.local/lib/python3.8/site-packages/ipykernel/zmqshell.py\u001b[0m in \u001b[0;36menable_matplotlib\u001b[0;34m(self, gui)\u001b[0m\n\u001b[1;32m    599\u001b[0m \u001b[0;34m\u001b[0m\u001b[0m\n\u001b[1;32m    600\u001b[0m     \u001b[0;32mdef\u001b[0m \u001b[0menable_matplotlib\u001b[0m\u001b[0;34m(\u001b[0m\u001b[0mself\u001b[0m\u001b[0;34m,\u001b[0m \u001b[0mgui\u001b[0m\u001b[0;34m=\u001b[0m\u001b[0;32mNone\u001b[0m\u001b[0;34m)\u001b[0m\u001b[0;34m:\u001b[0m\u001b[0;34m\u001b[0m\u001b[0;34m\u001b[0m\u001b[0m\n\u001b[0;32m--> 601\u001b[0;31m         \u001b[0mgui\u001b[0m\u001b[0;34m,\u001b[0m \u001b[0mbackend\u001b[0m \u001b[0;34m=\u001b[0m \u001b[0msuper\u001b[0m\u001b[0;34m(\u001b[0m\u001b[0mZMQInteractiveShell\u001b[0m\u001b[0;34m,\u001b[0m \u001b[0mself\u001b[0m\u001b[0;34m)\u001b[0m\u001b[0;34m.\u001b[0m\u001b[0menable_matplotlib\u001b[0m\u001b[0;34m(\u001b[0m\u001b[0mgui\u001b[0m\u001b[0;34m)\u001b[0m\u001b[0;34m\u001b[0m\u001b[0;34m\u001b[0m\u001b[0m\n\u001b[0m\u001b[1;32m    602\u001b[0m \u001b[0;34m\u001b[0m\u001b[0m\n\u001b[1;32m    603\u001b[0m         \u001b[0;32mtry\u001b[0m\u001b[0;34m:\u001b[0m\u001b[0;34m\u001b[0m\u001b[0;34m\u001b[0m\u001b[0m\n",
      "\u001b[0;32m~/.local/lib/python3.8/site-packages/IPython/core/interactiveshell.py\u001b[0m in \u001b[0;36menable_matplotlib\u001b[0;34m(self, gui)\u001b[0m\n\u001b[1;32m   3515\u001b[0m         \"\"\"\n\u001b[1;32m   3516\u001b[0m         \u001b[0;32mfrom\u001b[0m \u001b[0mIPython\u001b[0m\u001b[0;34m.\u001b[0m\u001b[0mcore\u001b[0m \u001b[0;32mimport\u001b[0m \u001b[0mpylabtools\u001b[0m \u001b[0;32mas\u001b[0m \u001b[0mpt\u001b[0m\u001b[0;34m\u001b[0m\u001b[0;34m\u001b[0m\u001b[0m\n\u001b[0;32m-> 3517\u001b[0;31m         \u001b[0;32mfrom\u001b[0m \u001b[0mmatplotlib_inline\u001b[0m\u001b[0;34m.\u001b[0m\u001b[0mbackend_inline\u001b[0m \u001b[0;32mimport\u001b[0m \u001b[0mconfigure_inline_support\u001b[0m\u001b[0;34m\u001b[0m\u001b[0;34m\u001b[0m\u001b[0m\n\u001b[0m\u001b[1;32m   3518\u001b[0m         \u001b[0mgui\u001b[0m\u001b[0;34m,\u001b[0m \u001b[0mbackend\u001b[0m \u001b[0;34m=\u001b[0m \u001b[0mpt\u001b[0m\u001b[0;34m.\u001b[0m\u001b[0mfind_gui_and_backend\u001b[0m\u001b[0;34m(\u001b[0m\u001b[0mgui\u001b[0m\u001b[0;34m,\u001b[0m \u001b[0mself\u001b[0m\u001b[0;34m.\u001b[0m\u001b[0mpylab_gui_select\u001b[0m\u001b[0;34m)\u001b[0m\u001b[0;34m\u001b[0m\u001b[0;34m\u001b[0m\u001b[0m\n\u001b[1;32m   3519\u001b[0m \u001b[0;34m\u001b[0m\u001b[0m\n",
      "\u001b[0;32m~/.local/lib/python3.8/site-packages/matplotlib_inline/backend_inline.py\u001b[0m in \u001b[0;36m<module>\u001b[0;34m\u001b[0m\n\u001b[1;32m      4\u001b[0m \u001b[0;31m# Distributed under the terms of the BSD 3-Clause License.\u001b[0m\u001b[0;34m\u001b[0m\u001b[0;34m\u001b[0m\u001b[0;34m\u001b[0m\u001b[0m\n\u001b[1;32m      5\u001b[0m \u001b[0;34m\u001b[0m\u001b[0m\n\u001b[0;32m----> 6\u001b[0;31m \u001b[0;32mimport\u001b[0m \u001b[0mmatplotlib\u001b[0m\u001b[0;34m\u001b[0m\u001b[0;34m\u001b[0m\u001b[0m\n\u001b[0m\u001b[1;32m      7\u001b[0m from matplotlib.backends.backend_agg import (  # noqa\n\u001b[1;32m      8\u001b[0m     \u001b[0mnew_figure_manager\u001b[0m\u001b[0;34m,\u001b[0m\u001b[0;34m\u001b[0m\u001b[0;34m\u001b[0m\u001b[0m\n",
      "\u001b[0;31mModuleNotFoundError\u001b[0m: No module named 'matplotlib'"
     ]
    }
   ],
   "source": [
    "%matplotlib inline\n",
    "\n",
    "import matplotlib.pyplot as plt\n",
    "\n",
    "# import other modules we need ...\n",
    "import numpy as np\n",
    "import scipy.stats as st\n",
    "\n",
    "\n",
    "def loadBearingDataFromFile(flname,delim=','):\n",
    "    ''' load bearing data from 'flname'; return N, data'''\n",
    "    id, cr = np.loadtxt(flname, delimiter=delim, comments='#', \\\n",
    "                        usecols=(0,1), unpack=True)\n",
    "    N = len(id)\n",
    "    # print('{:d} data records gelezen van file: {:s}'.format(N,flname))\n",
    "    data = np.empty(N*2, dtype=float).reshape(N,2)\n",
    "    data[...,0] = id\n",
    "    data[...,1] = cr\n",
    "    return data\n",
    "\n",
    "def printAnalysis(data,domain):\n",
    "    '''analyze data and return min,max,avg'''\n",
    "    # indexes data record layout ...\n",
    "    ID,CR = (0,1)\n",
    "    CRMIN,CRMAX  = max(domain), min(domain) #(domain[1],domain[0])\n",
    "    \n",
    "    # nr data items in data array ?\n",
    "    N = len(data)\n",
    "    \n",
    "    # init running statistics ...\n",
    "    crmin, crmax, crsum =(CRMIN,CRMAX,0.0)\n",
    "    # keep track of items ...\n",
    "    idmin, idmax = (None,None)\n",
    "    \n",
    "    # implement the statistical analysis below;\n",
    "    # check out the above initializations first\n",
    "    #\n",
    "    # using a for .. in loop over data:\n",
    "    # - find min CR-value and store in crmin (register id in idmin)\n",
    "    # - find max CR-value and store in crmax (register id in idmax)\n",
    "    # - sum up all CR in crsum\n",
    "    # once the loop has terminated, divide crsum by nr of bearings \n",
    "    # to find cravg\n",
    "    \n",
    "    # YOUR CODE HERE\n",
    "    raise NotImplementedError()\n",
    "    \n",
    "    # statistical analysis ...\n",
    "    hdr='Ball bearing analysis (N={:d})'.format(N)   \n",
    "    print(hdr)\n",
    "    print('Count  : {:d} data values'.    format(N))\n",
    "    print('Cr min : {:15.10e} [id {:d}]'. format(crmin,int(idmin)))\n",
    "    print('Cr max : {:15.10e} [id {:d}]'. format(crmax,int(idmax)))\n",
    "    print('Cr avg : {:15.10e}'.           format(cravg))\n",
    "    # return main stats ...\n",
    "    return (crmin,crmax,cravg)\n",
    "\n",
    "def plotStats(data,domain,mma):\n",
    "    '''plot data and results in a histogram'''\n",
    "    \n",
    "    # define plotting constants constant ...\n",
    "    # ... #classes (bins) in histo\n",
    "    NRCLASSES    = 10\n",
    "    # ... domain interval sizes (width of the bins)\n",
    "    LOW,HGH,STEP = (domain[0],domain[1],(domain[1]-domain[0])/NRCLASSES)\n",
    "    # ... indexes in min,max,avg typle\n",
    "    MIN,MAX,AVG = (0,1,2)\n",
    "    \n",
    "    # skeleton for histogram ....\n",
    "    plt.subplots(1, figsize=(8,4))\n",
    "    axis = plt.subplot(111)\n",
    "    \n",
    "    axis.set_title('Histogram $C_r$ (N={:d})'.format(len(data)))\n",
    "    axis.set_xlabel('$C_r$')\n",
    "    axis.set_ylabel('Frequency')\n",
    "    axis.set_xticks(np.arange(LOW, HGH+STEP, STEP ))\n",
    "    axis.set_yticks([0,5,10,15,20])\n",
    "    \n",
    "    # ... now start plotting the histogram iself ...\n",
    "    axis.hist(data[...,1], \n",
    "              bins=np.arange(LOW, HGH+STEP, STEP), rwidth=.72, \\\n",
    "              color='orange',histtype='bar')\n",
    "    \n",
    "    # ...  vertical line for min value found during analyse ...\n",
    "    axis.plot([mma[MIN],mma[MIN]],[0, 5], \\\n",
    "              color='red',linestyle='--',linewidth=3.0,\\\n",
    "              label='minimum $C_r$')\n",
    "    \n",
    "    # in similar vein, plot vertical line for avg below:\n",
    "    # 1. use the correct X_avg = [x=avg,x=avg]  , as calculated\n",
    "    # 2. use Y_avg=[0,20] to plot your x=avg line ...\n",
    "    # X_avg = [ , ]\n",
    "    # Y_avg = [ , ]\n",
    "    # YOUR CODE HERE\n",
    "    raise NotImplementedError()\n",
    "    \n",
    "    axis.plot(X_avg, Y_avg, \\\n",
    "              color='brown',linestyle=':',linewidth=3.0,\\\n",
    "              label='average $C_r$')\n",
    "    axis.grid(which='major',axis='both',alpha=.75)\n",
    "    # ... best position for legend in plot ...\n",
    "    plt.legend(loc='best')\n",
    "    \n",
    "    return X_avg, Y_avg\n",
    "\n",
    "# -----------------------------------------------------------\n",
    "\n",
    "COMMA       = ','\n",
    "flname      = './resources/Bearings.dat'\n",
    "# values of Cr belong to this OPEN domain\n",
    "CRLOW,CRHGH = (0.000, 0.010)    \n",
    "DOMAIN      = (CRLOW,CRHGH) # 2-tuple domain boundaries \n",
    "\n",
    "# ... load data from file ...\n",
    "data = loadBearingDataFromFile(flname,COMMA)\n",
    "# ... analyze. print results ...\n",
    "mma = printAnalysis(data,DOMAIN)\n",
    "# ... plot histogram ...\n",
    "X_avg, Y_avg = plotStats(data,DOMAIN,mma)\n"
   ]
  },
  {
   "cell_type": "code",
   "execution_count": 21,
   "metadata": {
    "deletable": false,
    "editable": false,
    "nbgrader": {
     "cell_type": "code",
     "checksum": "b9297a138e0d773f55775734f1321d62",
     "grade": true,
     "grade_id": "at51",
     "locked": true,
     "points": 10,
     "schema_version": 3,
     "solution": false
    },
    "tags": [
     "visualization"
    ]
   },
   "outputs": [
    {
     "name": "stderr",
     "output_type": "stream",
     "text": [
      "test_stats_bearing_correct (__main__.MyEntryTestClasses) ... "
     ]
    },
    {
     "name": "stderr",
     "output_type": "stream",
     "text": [
      "ERROR\n",
      "\n",
      "======================================================================\n",
      "ERROR: test_stats_bearing_correct (__main__.MyEntryTestClasses)\n",
      "----------------------------------------------------------------------\n",
      "Traceback (most recent call last):\n",
      "  File \"<ipython-input-21-5b89477072a9>\", line 23, in setUp\n",
      "    self.data = loadBearingDataFromFile(flname,delim=',')\n",
      "NameError: name 'loadBearingDataFromFile' is not defined\n",
      "\n",
      "----------------------------------------------------------------------\n",
      "Ran 1 test in 0.001s\n",
      "\n",
      "FAILED (errors=1)\n"
     ]
    }
   ],
   "source": [
    "### BEGIN HIDDEN TESTS\n",
    "import sys\n",
    "import unittest\n",
    "from contextlib import contextmanager\n",
    "from io import StringIO\n",
    "\n",
    "@contextmanager\n",
    "def captured_output():\n",
    "    new_out, new_err = StringIO(), StringIO()\n",
    "    old_out, old_err = sys.stdout, sys.stderr\n",
    "    try:\n",
    "        sys.stdout, sys.stderr = new_out, new_err\n",
    "        yield sys.stdout, sys.stderr\n",
    "    finally:\n",
    "        sys.stdout, sys.stderr = old_out, old_err\n",
    "\n",
    "    \n",
    "class MyEntryTestClasses(unittest.TestCase):\n",
    "    \n",
    "    def setUp(self):\n",
    "        self.domain = (0.000, 0.010)\n",
    "        self.flname = './resources/Bearings.dat'\n",
    "        self.data = loadBearingDataFromFile(flname,delim=',')\n",
    "\n",
    "    def test_stats_bearing_correct(self):\n",
    "        \n",
    "        with captured_output() as (out, err):\n",
    "            printAnalysis(self.data, self.domain)\n",
    "    \n",
    "        # This can go inside or outside the `with` block\n",
    "        output = out.getvalue().strip()\n",
    "        self.assertEqual(output,\n",
    "        'Ball bearing analysis (N=109)\\n'\n",
    "        'Count  : 109 data values\\n'\n",
    "        'Cr min : 2.1000000000e-04 [id 25]\\n'\n",
    "        'Cr max : 9.8100000000e-03 [id 31]\\n'\n",
    "        'Cr avg : 4.6193577982e-03')\n",
    "        \n",
    "def run_MyEntryTestClasses():\n",
    "    suite = unittest.TestLoader().loadTestsFromTestCase(MyEntryTestClasses)\n",
    "    unittest.TextTestRunner(verbosity=2).run(suite)\n",
    "\n",
    "run_MyEntryTestClasses()\n",
    "### END HIDDEN TESTS"
   ]
  },
  {
   "cell_type": "code",
   "execution_count": 22,
   "metadata": {
    "deletable": false,
    "editable": false,
    "nbgrader": {
     "cell_type": "code",
     "checksum": "5c69bce033be96b7eaadcc129b3222db",
     "grade": true,
     "grade_id": "at52",
     "locked": true,
     "points": 5,
     "schema_version": 3,
     "solution": false
    },
    "tags": [
     "visualization"
    ]
   },
   "outputs": [
    {
     "name": "stderr",
     "output_type": "stream",
     "text": [
      "test_mma_correct (__main__.MyEntryTestClasses)\n",
      "verify statistics calculated correctly ... "
     ]
    },
    {
     "name": "stderr",
     "output_type": "stream",
     "text": [
      "ERROR\n",
      "\n",
      "======================================================================\n",
      "ERROR: test_mma_correct (__main__.MyEntryTestClasses)\n",
      "verify statistics calculated correctly\n",
      "----------------------------------------------------------------------\n",
      "Traceback (most recent call last):\n",
      "  File \"<ipython-input-22-23e6613a2663>\", line 11, in test_mma_correct\n",
      "    self.assertAlmostEqual(mma[MIN], expected_mma[MIN], 5)\n",
      "NameError: name 'mma' is not defined\n",
      "\n",
      "----------------------------------------------------------------------\n",
      "Ran 1 test in 0.001s\n",
      "\n",
      "FAILED (errors=1)\n"
     ]
    }
   ],
   "source": [
    "### BEGIN HIDDEN TESTS\n",
    "import unittest\n",
    "\n",
    "class MyEntryTestClasses(unittest.TestCase):\n",
    "              \n",
    "    def test_mma_correct(self):\n",
    "        '''verify statistics calculated correctly'''\n",
    "        \n",
    "        MIN,MAX,AVG = (0,1,2)\n",
    "        expected_mma = (2.1000000000e-04, 9.8100000000e-03, 4.6193577982e-03)\n",
    "        self.assertAlmostEqual(mma[MIN], expected_mma[MIN], 5)\n",
    "        self.assertAlmostEqual(mma[MAX], expected_mma[MAX], 5)\n",
    "        self.assertAlmostEqual(mma[AVG], expected_mma[AVG], 5)      \n",
    "        \n",
    "    def tearDown(self):\n",
    "        pass\n",
    "\n",
    "        \n",
    "def run_MyEntryTestClasses():\n",
    "    suite = unittest.TestLoader().loadTestsFromTestCase(MyEntryTestClasses)\n",
    "    unittest.TextTestRunner(verbosity=2).run(suite)\n",
    "\n",
    "run_MyEntryTestClasses()\n",
    "### END HIDDEN TESTS"
   ]
  },
  {
   "cell_type": "code",
   "execution_count": 23,
   "metadata": {
    "deletable": false,
    "editable": false,
    "nbgrader": {
     "cell_type": "code",
     "checksum": "83b6e18b569ef8e41fd51593446e39aa",
     "grade": true,
     "grade_id": "at53",
     "locked": true,
     "points": 5,
     "schema_version": 3,
     "solution": false
    },
    "tags": [
     "visualization"
    ]
   },
   "outputs": [
    {
     "name": "stderr",
     "output_type": "stream",
     "text": [
      "test_mma_line_correct (__main__.MyEntryTestClasses)\n",
      "verify average line correctly located ... "
     ]
    },
    {
     "name": "stderr",
     "output_type": "stream",
     "text": [
      "ERROR\n",
      "\n",
      "======================================================================\n",
      "ERROR: test_mma_line_correct (__main__.MyEntryTestClasses)\n",
      "verify average line correctly located\n",
      "----------------------------------------------------------------------\n",
      "Traceback (most recent call last):\n",
      "  File \"<ipython-input-23-808454e82217>\", line 11, in test_mma_line_correct\n",
      "    self.assertAlmostEqual(X_avg[0], mma[AVG], 5)\n",
      "NameError: name 'X_avg' is not defined\n",
      "\n",
      "----------------------------------------------------------------------\n",
      "Ran 1 test in 0.001s\n",
      "\n",
      "FAILED (errors=1)\n"
     ]
    }
   ],
   "source": [
    "### BEGIN HIDDEN TESTS\n",
    "import unittest\n",
    "\n",
    "class MyEntryTestClasses(unittest.TestCase):\n",
    "              \n",
    "    def test_mma_line_correct(self):\n",
    "        '''verify average line correctly located'''\n",
    "        \n",
    "        MIN,MAX,AVG = (0,1,2)\n",
    "        \n",
    "        self.assertAlmostEqual(X_avg[0], mma[AVG], 5)\n",
    "        self.assertAlmostEqual(X_avg[1], mma[AVG], 5)\n",
    "        self.assertGreaterEqual(Y_avg[0], 0)\n",
    "        self.assertGreaterEqual(Y_avg[1], 1)\n",
    "        \n",
    "        \n",
    "    def tearDown(self):\n",
    "        pass\n",
    "\n",
    "        \n",
    "def run_MyEntryTestClasses():\n",
    "    suite = unittest.TestLoader().loadTestsFromTestCase(MyEntryTestClasses)\n",
    "    unittest.TextTestRunner(verbosity=2).run(suite)\n",
    "\n",
    "run_MyEntryTestClasses()\n",
    "### END HIDDEN TESTS"
   ]
  },
  {
   "cell_type": "markdown",
   "metadata": {
    "deletable": false,
    "editable": false
   },
   "source": [
    "## End of the Test"
   ]
  }
 ],
 "metadata": {
  "kernelspec": {
   "display_name": "Python 3",
   "language": "python",
   "name": "python3"
  },
  "language_info": {
   "codemirror_mode": {
    "name": "ipython",
    "version": 3
   },
   "file_extension": ".py",
   "mimetype": "text/x-python",
   "name": "python",
   "nbconvert_exporter": "python",
   "pygments_lexer": "ipython3",
   "version": "3.8.10"
  },
  "latex_envs": {
   "LaTeX_envs_menu_present": true,
   "autoclose": false,
   "autocomplete": true,
   "bibliofile": "biblio.bib",
   "cite_by": "apalike",
   "current_citInitial": 1,
   "eqLabelWithNumbers": true,
   "eqNumInitial": 1,
   "hotkeys": {
    "equation": "Ctrl-E",
    "itemize": "Ctrl-I"
   },
   "labels_anchors": false,
   "latex_user_defs": false,
   "report_style_numbering": false,
   "user_envs_cfg": false
  }
 },
 "nbformat": 4,
 "nbformat_minor": 2
}
