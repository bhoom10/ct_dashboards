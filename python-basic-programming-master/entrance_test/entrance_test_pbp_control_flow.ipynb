{
 "cells": [
  {
   "cell_type": "markdown",
   "metadata": {
    "deletable": false,
    "editable": false
   },
   "source": [
    "# Python Entry Test\n",
    "\n",
    "## Part 2 of 4: Control flow (for loops, while loops and if-then-else statements)\n",
    "\n",
    "## Instructions\n",
    "\n",
    "Below are 5 Exercises: python problems you need to solve, in order to pass this test. For each correct answer, you will be assigned points, with a maximum of 100 points in total. If you score 80 points or higher, you have passed the test. You cannot see your score immediately; your test will be graded as part of a batch job, later on.\n",
    "\n",
    "Note the following:\n",
    "1. You are asked to code in **Python3** (version 3), not Python2\n",
    "2. For some answers, you obtain a *skeleton*, to frame your answer. You are asked to complete it\n",
    "3. The answer you are expected to given starts where it says:\n",
    "```python\n",
    "    # YOUR CODE HERE\n",
    "    raise NotImplementedError()\n",
    "```\n",
    "   Start your answer by *removing these two lines*. Do not put your answer anywhere else than *just here, in this box*\n",
    "4. You may use as many lines for your answer as you see necessary\n",
    "5. In general, however, no more than 5 lines of code are needed\n",
    "6. Ignore all boxes that are completely empty; just focus on `# YOUR CODE HERE`"
   ]
  },
  {
   "cell_type": "markdown",
   "metadata": {
    "deletable": false,
    "editable": false
   },
   "source": [
    "## Begin of the Test\n",
    "\n",
    "#### Exercise 1: complete the following function, that is to print all integer numbers $m \\in [0..10]$, using a for loop. The expected output is: \n",
    "```\n",
    "integer number: 0\n",
    "integer number: 1\n",
    "integer number: 2\n",
    "...\n",
    "integer number: 10\n",
    "```\n",
    "\n",
    "11 lines in total, no tabs before, just lowercase, and a single space after the colon `:`"
   ]
  },
  {
   "cell_type": "code",
   "execution_count": 33,
   "metadata": {
    "nbgrader": {
     "grade": false,
     "grade_id": "q1",
     "locked": false,
     "schema_version": 3,
     "solution": true
    },
    "scrolled": true
   },
   "outputs": [
    {
     "name": "stdout",
     "output_type": "stream",
     "text": [
      "integer number: 0\n",
      "integer number: 1\n",
      "integer number: 2\n",
      "integer number: 3\n",
      "integer number: 4\n",
      "integer number: 5\n",
      "integer number: 6\n",
      "integer number: 7\n",
      "integer number: 8\n",
      "integer number: 9\n",
      "integer number: 10\n"
     ]
    }
   ],
   "source": [
    "def print_numbers_in_for_loop(first, last):\n",
    "    # for all integer numbers m in [first..last] ...\n",
    "    ### BEGIN SOLUTION\n",
    "    for m in range(first, last+1):\n",
    "        print('integer number: {:d}'. format(m))\n",
    "    ### END SOLUTION\n",
    "\n",
    "print_numbers_in_for_loop(0,10)"
   ]
  },
  {
   "cell_type": "code",
   "execution_count": 34,
   "metadata": {
    "nbgrader": {
     "grade": true,
     "grade_id": "at1",
     "locked": true,
     "points": 15,
     "schema_version": 3,
     "solution": false
    }
   },
   "outputs": [
    {
     "name": "stderr",
     "output_type": "stream",
     "text": [
      "test_q1_print_numbers_for_loop (__main__.MyEntryTestClasses) ... ok\n",
      "\n",
      "----------------------------------------------------------------------\n",
      "Ran 1 test in 0.002s\n",
      "\n",
      "OK\n"
     ]
    }
   ],
   "source": [
    "### BEGIN HIDDEN TESTS\n",
    "import sys\n",
    "import unittest\n",
    "from contextlib import contextmanager\n",
    "from io import StringIO\n",
    "\n",
    "@contextmanager\n",
    "def captured_output():\n",
    "    new_out, new_err = StringIO(), StringIO()\n",
    "    old_out, old_err = sys.stdout, sys.stderr\n",
    "    try:\n",
    "        sys.stdout, sys.stderr = new_out, new_err\n",
    "        yield sys.stdout, sys.stderr\n",
    "    finally:\n",
    "        sys.stdout, sys.stderr = old_out, old_err\n",
    "\n",
    "    \n",
    "class MyEntryTestClasses(unittest.TestCase):\n",
    "\n",
    "    def test_q1_print_numbers_for_loop(self):\n",
    "        \n",
    "        with captured_output() as (out, err):\n",
    "            print_numbers_in_for_loop(0, 10)\n",
    "    \n",
    "        # This can go inside or outside the `with` block\n",
    "        output = out.getvalue().strip()\n",
    "        self.assertEqual(output, \n",
    "        'integer number: 0\\n'\n",
    "        'integer number: 1\\n'\n",
    "        'integer number: 2\\n'\n",
    "        'integer number: 3\\n'\n",
    "        'integer number: 4\\n'\n",
    "        'integer number: 5\\n'\n",
    "        'integer number: 6\\n'\n",
    "        'integer number: 7\\n'\n",
    "        'integer number: 8\\n'\n",
    "        'integer number: 9\\n'\n",
    "        'integer number: 10')\n",
    "        \n",
    "def run_MyEntryTestClasses():\n",
    "    suite = unittest.TestLoader().loadTestsFromTestCase(MyEntryTestClasses)\n",
    "    unittest.TextTestRunner(verbosity=2).run(suite)\n",
    "\n",
    "run_MyEntryTestClasses()\n",
    "### END HIDDEN TESTS"
   ]
  },
  {
   "cell_type": "markdown",
   "metadata": {
    "deletable": false,
    "editable": false
   },
   "source": [
    "#### Exercise 2: given a sorted list `my_list = [0,1,2,3,4,5,6,7,8,9,10]`. Also given: 4 initially empty lists `list_1, list_2, list_3, list_4` and 4 half-open intervals:\n",
    "\n",
    "\\begin{enumerate}\n",
    "\\item \\hspace{1.0cm} $I_1 = [0..2)$\n",
    "\n",
    "\\item \\hspace{1.0cm} $I_2 = [2..5)$   \n",
    "\n",
    "\\item \\hspace{1.0cm} $I_3 = [5..8)$   \n",
    "\n",
    "\\item \\hspace{1.0cm} $I_4 = [8..11)$   \n",
    "\\end{enumerate}\n",
    "\n",
    "Copy each of the integer numbers in `my_list` belonging to interval $I_k$ to `list_k`, using `if-elif-else` statements. To copy a number `m` to `list_k` use: `list_k.append(m)`."
   ]
  },
  {
   "cell_type": "code",
   "execution_count": 35,
   "metadata": {
    "nbgrader": {
     "grade": false,
     "grade_id": "q2",
     "locked": false,
     "schema_version": 3,
     "solution": true
    }
   },
   "outputs": [
    {
     "name": "stdout",
     "output_type": "stream",
     "text": [
      "list 1: [0, 1]\n",
      "list 2: [2, 3, 4]\n",
      "list 3: [5, 6, 7]\n",
      "list 4: [8, 9, 10]\n"
     ]
    }
   ],
   "source": [
    "my_list = [0,1,2,3,4,5,6,7,8,9,10]\n",
    "list_1, list_2, list_3, list_4 = [], [], [], []\n",
    "\n",
    "# sub-optimal but most likely solution ...\n",
    "for m in my_list:\n",
    "    # put each m in the correct list ...\n",
    "    ### BEGIN SOLUTION\n",
    "    if m < 2:\n",
    "        list_1.append(m)\n",
    "    elif m >= 2 and m < 5:\n",
    "        list_2.append(m)\n",
    "    elif m >= 5 and m < 8:\n",
    "        list_3.append(m)\n",
    "    else:\n",
    "        list_4.append(m)\n",
    "    ### END SOLUTION\n",
    "    \n",
    "# print all lists...\n",
    "for k, lst in enumerate([list_1, list_2, list_3, list_4]):\n",
    "    print('list {:d}: {:s}'.format(k+1, str(lst)))"
   ]
  },
  {
   "cell_type": "code",
   "execution_count": 36,
   "metadata": {
    "nbgrader": {
     "grade": true,
     "grade_id": "at21",
     "locked": true,
     "points": 2,
     "schema_version": 3,
     "solution": false
    }
   },
   "outputs": [],
   "source": [
    "### BEGIN HIDDEN TESTS\n",
    "from nose.tools import assert_equal\n",
    "assert_equal(len(list_1),2)\n",
    "### END HIDDEN TESTS"
   ]
  },
  {
   "cell_type": "code",
   "execution_count": 37,
   "metadata": {
    "nbgrader": {
     "grade": true,
     "grade_id": "at22",
     "locked": true,
     "points": 3,
     "schema_version": 3,
     "solution": false
    }
   },
   "outputs": [],
   "source": [
    "### BEGIN HIDDEN TESTS\n",
    "from nose.tools import assert_equal\n",
    "assert_equal(sorted(list_1), [0, 1])\n",
    "### END HIDDEN TESTS"
   ]
  },
  {
   "cell_type": "code",
   "execution_count": 38,
   "metadata": {
    "nbgrader": {
     "grade": true,
     "grade_id": "at23",
     "locked": true,
     "points": 2,
     "schema_version": 3,
     "solution": false
    }
   },
   "outputs": [],
   "source": [
    "### BEGIN HIDDEN TESTS\n",
    "from nose.tools import assert_equal\n",
    "assert_equal(len(list_2),3)\n",
    "### END HIDDEN TESTS"
   ]
  },
  {
   "cell_type": "code",
   "execution_count": 39,
   "metadata": {
    "nbgrader": {
     "grade": true,
     "grade_id": "at24",
     "locked": true,
     "points": 3,
     "schema_version": 3,
     "solution": false
    }
   },
   "outputs": [],
   "source": [
    "### BEGIN HIDDEN TESTS\n",
    "from nose.tools import assert_equal\n",
    "assert_equal(sorted(list_2), [2, 3, 4])\n",
    "### END HIDDEN TESTS"
   ]
  },
  {
   "cell_type": "code",
   "execution_count": 40,
   "metadata": {
    "nbgrader": {
     "grade": true,
     "grade_id": "at25",
     "locked": true,
     "points": 2,
     "schema_version": 3,
     "solution": false
    }
   },
   "outputs": [],
   "source": [
    "### BEGIN HIDDEN TESTS\n",
    "from nose.tools import assert_equal\n",
    "assert_equal(len(list_3),3)\n",
    "### END HIDDEN TESTS"
   ]
  },
  {
   "cell_type": "code",
   "execution_count": 41,
   "metadata": {
    "nbgrader": {
     "grade": true,
     "grade_id": "at26",
     "locked": true,
     "points": 3,
     "schema_version": 3,
     "solution": false
    }
   },
   "outputs": [],
   "source": [
    "### BEGIN HIDDEN TESTS\n",
    "from nose.tools import assert_equal\n",
    "assert_equal(sorted(list_3), [5, 6, 7])\n",
    "### END HIDDEN TESTS"
   ]
  },
  {
   "cell_type": "code",
   "execution_count": 42,
   "metadata": {
    "nbgrader": {
     "grade": true,
     "grade_id": "at27",
     "locked": true,
     "points": 2,
     "schema_version": 3,
     "solution": false
    }
   },
   "outputs": [],
   "source": [
    "### BEGIN HIDDEN TESTS\n",
    "from nose.tools import assert_equal\n",
    "assert_equal(len(list_4),3)\n",
    "### END HIDDEN TESTS"
   ]
  },
  {
   "cell_type": "code",
   "execution_count": 43,
   "metadata": {
    "nbgrader": {
     "grade": true,
     "grade_id": "at28",
     "locked": true,
     "points": 3,
     "schema_version": 3,
     "solution": false
    }
   },
   "outputs": [],
   "source": [
    "### BEGIN HIDDEN TESTS\n",
    "from nose.tools import assert_equal\n",
    "assert_equal(sorted(list_4), [8, 9, 10])\n",
    "### END HIDDEN TESTS"
   ]
  },
  {
   "cell_type": "markdown",
   "metadata": {
    "deletable": false,
    "editable": false
   },
   "source": [
    "#### Exercise 3\n",
    "Let $P > 0$ be an arbitrary big number. Recall that for a big enough $n$, we have that $P^{\\left( \\frac{1}{2} \\right) ^n} \\approx 1$. \n",
    "\n",
    "Repeatedly take the square root of $P$ until:\n",
    "\n",
    "$|~P-1~| \\leq \\epsilon$\n",
    "\n",
    "Here, $|P-1|$ denotes the absolute value of $P-1$. Use $\\epsilon = 1.0E-06$. \n",
    "\n",
    "Complete the below skeleton."
   ]
  },
  {
   "cell_type": "code",
   "execution_count": 44,
   "metadata": {
    "nbgrader": {
     "grade": false,
     "grade_id": "q3",
     "locked": false,
     "schema_version": 3,
     "solution": true
    }
   },
   "outputs": [
    {
     "name": "stdout",
     "output_type": "stream",
     "text": [
      "the 27-th root of 879857982742398758947958728934798758934 = 1.000000 +/- 1.000000e-06\n"
     ]
    }
   ],
   "source": [
    "import math\n",
    "\n",
    "bigNum = 879857982742398758947958728934798758934\n",
    "\n",
    "EPS = 1.0e-06\n",
    "number = bigNum\n",
    "\n",
    "n_root = 0\n",
    "# while number more than EPS away from 1.0 do ...\n",
    "### BEGIN SOLUTION\n",
    "while abs(number -1.0) > EPS:   \n",
    "### END SOLUTION\n",
    "    number = math.sqrt(number)\n",
    "    n_root += 1\n",
    "    if n_root >= 50:\n",
    "        break\n",
    "\n",
    "    \n",
    "print('the {:d}-th root of {:d} = 1.000000 +/- {:8.6e}'. format(n_root, bigNum, EPS))"
   ]
  },
  {
   "cell_type": "code",
   "execution_count": 45,
   "metadata": {
    "nbgrader": {
     "grade": true,
     "grade_id": "at31",
     "locked": true,
     "points": 4,
     "schema_version": 3,
     "solution": false
    }
   },
   "outputs": [],
   "source": [
    "### BEGIN HIDDEN TESTS\n",
    "# is the while loop broken?\n",
    "assert n_root < 50\n",
    "### END HIDDEN TESTS"
   ]
  },
  {
   "cell_type": "code",
   "execution_count": 46,
   "metadata": {
    "nbgrader": {
     "grade": true,
     "grade_id": "at32",
     "locked": true,
     "points": 4,
     "schema_version": 3,
     "solution": false
    }
   },
   "outputs": [],
   "source": [
    "### BEGIN HIDDEN TESTS\n",
    "from nose.tools import assert_equal\n",
    "assert_equal(EPS,1.0e-06)\n",
    "### END HIDDEN TESTS"
   ]
  },
  {
   "cell_type": "code",
   "execution_count": 47,
   "metadata": {
    "nbgrader": {
     "grade": true,
     "grade_id": "at33",
     "locked": true,
     "points": 4,
     "schema_version": 3,
     "solution": false
    }
   },
   "outputs": [],
   "source": [
    "### BEGIN HIDDEN TESTS\n",
    "from nose.tools import assert_greater\n",
    "assert_greater(bigNum, 0.0)\n",
    "### END HIDDEN TESTS"
   ]
  },
  {
   "cell_type": "code",
   "execution_count": 48,
   "metadata": {
    "nbgrader": {
     "grade": true,
     "grade_id": "at34",
     "locked": true,
     "points": 4,
     "schema_version": 3,
     "solution": false
    }
   },
   "outputs": [],
   "source": [
    "### BEGIN HIDDEN TESTS\n",
    "from nose.tools import assert_greater_equal\n",
    "assert_greater_equal (EPS, abs(number-1.0))\n",
    "### END HIDDEN TESTS"
   ]
  },
  {
   "cell_type": "code",
   "execution_count": 49,
   "metadata": {
    "nbgrader": {
     "grade": true,
     "grade_id": "at35",
     "locked": true,
     "points": 4,
     "schema_version": 3,
     "solution": false
    }
   },
   "outputs": [],
   "source": [
    "### BEGIN HIDDEN TESTS\n",
    "# check whether big number and number are on the same side of 1\n",
    "from nose.tools import assert_true\n",
    "assert_true ( (bigNum > 1.0 and number > 1.0) or (bigNum < 1.0 and number < 1.0) )\n",
    "### END HIDDEN TESTS"
   ]
  },
  {
   "cell_type": "markdown",
   "metadata": {
    "deletable": false,
    "editable": false
   },
   "source": [
    "#### Exercise 4: let `my_list` be a list of items. Remove items from that list in a while loop, one-by-one, until you find that the list is empty. Print how many items the list apparently had. Do not use function `len()`; use  `item = my_list.pop()` to remove an item from the list, and increment the item count. Avoid popping from an empty list."
   ]
  },
  {
   "cell_type": "code",
   "execution_count": 50,
   "metadata": {
    "nbgrader": {
     "grade": false,
     "grade_id": "q4",
     "locked": false,
     "schema_version": 3,
     "solution": true
    }
   },
   "outputs": [
    {
     "name": "stdout",
     "output_type": "stream",
     "text": [
      "my_list contained 15 items\n"
     ]
    }
   ],
   "source": [
    "my_list = ['a', 1, 5, '6', (3, 5), 13, 11, 'Z', '!', 5, 2, 4, 9, 6, 'y']\n",
    "\n",
    "item_count = 0\n",
    "# while my_list is not empty do ...\n",
    "### BEGIN SOLUTION\n",
    "while my_list:\n",
    "### END SOLUTION\n",
    "    item = my_list.pop()\n",
    "    item_count += 1\n",
    "    if item_count >= 50:\n",
    "        break\n",
    "\n",
    "print('my_list contained {:d} items'.format(item_count))"
   ]
  },
  {
   "cell_type": "code",
   "execution_count": 51,
   "metadata": {
    "nbgrader": {
     "grade": true,
     "grade_id": "at41",
     "locked": true,
     "points": 5,
     "schema_version": 3,
     "solution": false
    }
   },
   "outputs": [],
   "source": [
    "### BEGIN HIDDEN TESTS\n",
    "from nose.tools import assert_equal\n",
    "assert len(my_list) == 0 # really empty?\n",
    "### END HIDDEN TESTS"
   ]
  },
  {
   "cell_type": "code",
   "execution_count": 52,
   "metadata": {
    "nbgrader": {
     "grade": true,
     "grade_id": "at42",
     "locked": true,
     "points": 10,
     "schema_version": 3,
     "solution": false
    }
   },
   "outputs": [],
   "source": [
    "### BEGIN HIDDEN TESTS\n",
    "from nose.tools import assert_true\n",
    "assert_true ( item_count < 50 ) # loop not broken ?\n",
    "### END HIDDEN TESTS"
   ]
  },
  {
   "cell_type": "code",
   "execution_count": 53,
   "metadata": {
    "nbgrader": {
     "grade": true,
     "grade_id": "at43",
     "locked": true,
     "points": 5,
     "schema_version": 3,
     "solution": false
    }
   },
   "outputs": [],
   "source": [
    "### BEGIN HIDDEN TESTS\n",
    "from nose.tools import assert_equal\n",
    "assert_equal(item_count,15)\n",
    "### END HIDDEN TESTS"
   ]
  },
  {
   "cell_type": "markdown",
   "metadata": {
    "deletable": false,
    "editable": false
   },
   "source": [
    "#### Exercise 5: Given a list `points` of 10 points $(x,y)$ in the plane. We select all points from `points` lieing in the first quadrant, i.e., above the $X$-axis ( line $y=0$ ) and right of the $Y$-axis ( line $x=0$ ) and collect them in a list `Q1`; the code skeleton below shows this. You are asked to select all other points (i.e., points lieing in quadrant two, three and four) by adding a second for-loop, with inverted  selection criteria, and collect these points in a single second list `Q234`. Print the list `Q234` as a string."
   ]
  },
  {
   "cell_type": "code",
   "execution_count": 54,
   "metadata": {
    "nbgrader": {
     "grade": false,
     "grade_id": "q5",
     "locked": false,
     "schema_version": 3,
     "solution": true
    }
   },
   "outputs": [
    {
     "name": "stdout",
     "output_type": "stream",
     "text": [
      "3 points in Q1  : [(1, 3), (1, 2), (2, 3)]\n",
      "7 points in Q234: [(-1, -2), (1, -1), (-2, 0), (3, -1), (-4, 1), (-1, -3), (-4, -1)]\n"
     ]
    }
   ],
   "source": [
    "X0, Y0 = 0.0, 0.0\n",
    "\n",
    "points = [(1,3), (-1,-2), (1,-1), (-2,0), (3,-1), (-4,1), (1,2), (-1,-3), (2,3), (-4,-1)]\n",
    "\n",
    "Q1 = []\n",
    "# make a for-loop to find points in quadrant 1 ...\n",
    "for p in points:\n",
    "    if p[0] > X0 and p[1] > Y0:\n",
    "        Q1.append(p)\n",
    "    \n",
    "print('{:d} points in Q1  : {:s}'.format(len(Q1), str(Q1)))\n",
    "\n",
    "Q234 = []\n",
    "# now make a 2nd for-loop and invert the selection to find points in quadrant 2 to 4 ...\n",
    "for p in points:\n",
    "    ### BEGIN SOLUTION\n",
    "    if p[0] < X0 or p[1] < Y0:\n",
    "        Q234.append(p)\n",
    "    ### END SOLUTION\n",
    "    \n",
    "# print the Q234 list ...\n",
    "### BEGIN SOLUTION\n",
    "print('{:d} points in Q234: {:s}'.format(len(Q234), str(Q234)))\n",
    "### END SOLUTION"
   ]
  },
  {
   "cell_type": "code",
   "execution_count": 55,
   "metadata": {
    "nbgrader": {
     "grade": true,
     "grade_id": "at51",
     "locked": true,
     "points": 5,
     "schema_version": 3,
     "solution": false
    }
   },
   "outputs": [],
   "source": [
    "### BEGIN HIDDEN TESTS\n",
    "from nose.tools import assert_true\n",
    "# check lieing in quadrant 1\n",
    "for p in Q1:\n",
    "    assert_true( p[0] > 0 and p[1] > 0 )\n",
    "### END HIDDEN TESTS"
   ]
  },
  {
   "cell_type": "code",
   "execution_count": 56,
   "metadata": {
    "nbgrader": {
     "grade": true,
     "grade_id": "at52",
     "locked": true,
     "points": 5,
     "schema_version": 3,
     "solution": false
    }
   },
   "outputs": [],
   "source": [
    "### BEGIN HIDDEN TESTS\n",
    "from nose.tools import assert_true\n",
    "assert_true ( len(Q1) == 3 )\n",
    "### END HIDDEN TESTS"
   ]
  },
  {
   "cell_type": "code",
   "execution_count": 57,
   "metadata": {
    "nbgrader": {
     "grade": true,
     "grade_id": "at53",
     "locked": true,
     "points": 10,
     "schema_version": 3,
     "solution": false
    }
   },
   "outputs": [],
   "source": [
    "### BEGIN HIDDEN TESTS\n",
    "from nose.tools import assert_true\n",
    "X0, Y0 = 0, 0\n",
    "# check lieing in quadrant 2, 3, or 4\n",
    "for p in Q234:\n",
    "    assert_true( p[0] < 0 or p[1] < 0 )\n",
    "### END HIDDEN TESTS"
   ]
  },
  {
   "cell_type": "code",
   "execution_count": 58,
   "metadata": {
    "nbgrader": {
     "grade": true,
     "grade_id": "at54",
     "locked": true,
     "points": 5,
     "schema_version": 3,
     "solution": false
    }
   },
   "outputs": [],
   "source": [
    "### BEGIN HIDDEN TESTS\n",
    "from nose.tools import assert_true\n",
    "assert_true ( len(Q234) == len(points) - len(Q1) )\n",
    "### END HIDDEN TESTS"
   ]
  },
  {
   "cell_type": "markdown",
   "metadata": {
    "deletable": false,
    "editable": false
   },
   "source": [
    "## End of the Test"
   ]
  }
 ],
 "metadata": {
  "kernelspec": {
   "display_name": "Python 3",
   "language": "python",
   "name": "python3"
  },
  "language_info": {
   "codemirror_mode": {
    "name": "ipython",
    "version": 3
   },
   "file_extension": ".py",
   "mimetype": "text/x-python",
   "name": "python",
   "nbconvert_exporter": "python",
   "pygments_lexer": "ipython3",
   "version": "3.7.6"
  },
  "latex_envs": {
   "LaTeX_envs_menu_present": true,
   "autoclose": false,
   "autocomplete": true,
   "bibliofile": "biblio.bib",
   "cite_by": "apalike",
   "current_citInitial": 1,
   "eqLabelWithNumbers": true,
   "eqNumInitial": 1,
   "hotkeys": {
    "equation": "Ctrl-E",
    "itemize": "Ctrl-I"
   },
   "labels_anchors": false,
   "latex_user_defs": false,
   "report_style_numbering": false,
   "user_envs_cfg": false
  }
 },
 "nbformat": 4,
 "nbformat_minor": 2
}
