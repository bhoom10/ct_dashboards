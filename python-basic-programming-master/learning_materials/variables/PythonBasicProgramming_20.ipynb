{
 "cells": [
  {
   "cell_type": "markdown",
   "metadata": {
    "deletable": false,
    "editable": false
   },
   "source": [
    "<header>\n",
    "    <div style=\"overflow: auto;\">\n",
    "        <img src= \"https://digital-skills.tudelft.nl/nb_style/figures/TUDelft.jpg\" style=\"float: left;\" />\n",
    "        <img src=\"https://digital-skills.tudelft.nl/nb_style/figures/DUT_Flame.png\" style=\"float: right; width: 100px;\" />\n",
    "    </div>\n",
    "    <div style=\"text-align: center;\">\n",
    "        <h2><large>Digital Skills</large> -- Python Basic Programming --</h2>\n",
    "        <h6>&copy; 2019, TU Delft. Creative Commons</h6>     \n",
    "    </div>\n",
    "    <br>   \n",
    "    <br>\n",
    "</header>"
   ]
  },
  {
   "cell_type": "markdown",
   "metadata": {
    "deletable": false,
    "editable": false
   },
   "source": [
    "## Introduction to programming\n",
    "\n",
    "You want to be an engineer, a scientist. Then sooner or later, you will use computer programs, to do things such as:\n",
    " \n",
    " - simulate robots\n",
    " - analyze big data\n",
    " - solve planning problems\n",
    "\n",
    "or something similar. Sure; you can get along with spreadsheets, but at some point, you will discover that certain problems, such as big data analysis, or machine learning, are not supported well by spreadsheet programs. That is why every Delft University student has to get acquainted with a set of digital skills, and learn to program in the first place. Programming is no *abracadabra*, although it may seem so to novices.\n",
    "\n",
    "This course presents easy-to-follow basics of programming in [Python](http://www.python.org): an elegant yet expressive and versatile programming language, in wide-spread use around the globe. For Python, a wealthy collection of libraries, solutions, instruction videos, and problem discussions exist, fueled by a vastly growing community of Python programmers. There is virtually no domain in which Python has nothing to offer. Enjoy your Python Basic Programming course. Don't forget to check out additional learning materials that come with this course! \n",
    "\n",
    "*Go ahead, actively participate, and most importantly: don't just read but DO!*"
   ]
  },
  {
   "cell_type": "markdown",
   "metadata": {
    "deletable": false,
    "editable": false
   },
   "source": [
    "<table>\n",
    "    <tr>\n",
    "        <td><img width=\"320\" src=\"./figures/call_for_help_vid.png\"></td>\n",
    "        <td><img width=\"320\" src=\"./figures/why_python_vid.png\"></td>\n",
    "    </tr><tr>\n",
    "        <td><<a href=\"https://www.youtube.com/watch?v=Y8Tko2YC5hA\">https://www.youtube.com/watch?v=Y8Tko2YC5hA</a></td>\n",
    "        <td><a href=\"https://www.youtube.com/watch?v=dwniU_VJvRE\">https://www.youtube.com/watch?v=dwniU_VJvRE</td>\n",
    "    </tr>\n",
    "</table>"
   ]
  },
  {
   "cell_type": "markdown",
   "metadata": {
    "deletable": false,
    "editable": false
   },
   "source": [
    "## Your first program\n",
    "\n",
    "Central in virtually any program are **variables** that capture and represent some aspect of your model, concept, data ... You give a variable a **name** (in order to be able to refer to it by that name), and you will assign it a **value**. In the course of your program's execution, this value may be operated upon or replaced by another value: much like a cell in a spreadsheet, no?\n",
    "\n",
    "Example: you just *survived* your first week at the university &#128526;, but didn't have much of a sleep &#128552;\n",
    "\n",
    "```python\n",
    "# begin of my sleep program\n",
    "\n",
    "hours_first_week = 8       # the number of hours I really slept in my first week\n",
    "hours_regular_week = 36    # the number of hours I regularly sleep in a week\n",
    "\n",
    "print(\"lack of sleep: \", hours_regular_week - hours_first_week, \" hours!\")\n",
    "\n",
    "# end of my sleep program\n",
    "```"
   ]
  },
  {
   "cell_type": "markdown",
   "metadata": {
    "deletable": false,
    "editable": false
   },
   "source": [
    "#### DO THIS\n",
    "1. copy-paste the *code lines* of your first program (above; not all the text, just the code with the Courrier type setting, below the last smiley) into the below cell (the box below this one)\n",
    "2. make sure that like above, all lines are left-aligned\n",
    "3. the press on the **Run** button in the button bar in the top of this Notebook (see the image below)\n",
    " \n",
    " <table align=\"center\" border=\"2pt\">\n",
    "    <tr><td><img width=\"520\" src=\"./figures/nb_buttonbar.png\"></td></tr>\n",
    "    <tr><td><caption><i>Press the Run button in the buttonbar</i></caption></td></tr>\n",
    " </table>"
   ]
  },
  {
   "cell_type": "code",
   "execution_count": 20,
   "metadata": {},
   "outputs": [
    {
     "name": "stdout",
     "output_type": "stream",
     "text": [
      "lack of sleep: 63 hours!\n"
     ]
    }
   ],
   "source": [
    "# begin of my sleep program\n",
    "\n",
    "hours_first_week = 9      # the number of hours I really slept in my first week\n",
    "hours_regular_week = 72    # the number of hours I regularly sleep in a week\n",
    "\n",
    "print(\"lack of sleep:\", hours_regular_week - hours_first_week, \"hours!\")\n",
    "\n",
    "# end of my sleep program"
   ]
  },
  {
   "cell_type": "markdown",
   "metadata": {
    "deletable": false,
    "editable": false
   },
   "source": [
    "### Well, you have just finished your first Python program!\n",
    "\n",
    "You see in this first program:\n",
    "- how a *variable*, such as `hours_first_week` is created  and set, simply by giving it a unique (within the program that is) *name*, and assigning it a *value*\n",
    "- how you can choose a variable name such that it expresses what the variable represents\n",
    "- how a variable can be used in a print statement, in which its *value* can be looked up and *printed*\n",
    "- how a variable can be involved in a *mathematical operation* such as subtraction, and the resulting value can be printed\n",
    "- how additional *comments* (lines and line parts starting with a pound sign `#`) can further document the program in plain language \n",
    "\n",
    "The first time you introduce the variable name and assign it an initial value the program will register it, and every next time you refer to the same name, it looks up that variable in its registry (it will *not* create duplicates of your variable). When we say **... program ...** we actually mean: the Python environment that holds **the source code line of the program** and executes the code when we press the run button. Execution means: interpreting and doing the code in the program, line by line. So when your code says: `print(...)` execution means, really printing the result in the green box, including doing the coded calculations.  "
   ]
  },
  {
   "cell_type": "markdown",
   "metadata": {
    "deletable": false,
    "editable": false
   },
   "source": [
    "#### A few more hints on working with a Notebook:\n",
    "\n",
    "- when you select a program cell (like the one of your first program), the dropdown menu box a little more to the right from the `|> Run` button, says: **code**. Code cells (of type **code**) can be executed \n",
    "- other cells, containing texts figures, or tables, are **Markdown** cells. You **can** execute these as well, but not change them; they are marked *read-only* by the authors\n",
    "- if you inadvertently changed the type of some cell, then select it and reset it to the correct type using this dropdown menu box in the button bar\n",
    "- you **cannot** and must not try to change the **output**, if you want to correct your program. If you want to modify the result, you correct the **source code** of your program and then re-run it\n",
    "- should the notebook get stuck or crash, then select **Kernel->Interrupt** or even: **Kernel->Restart** in the menu\n",
    "\n",
    "Two further tips:\n",
    "\n",
    "1. use **View->Toggle Line Numbers** to make line numbers visible in you code cells\n",
    "2. use **File->Save and Checkpoint** to save intermediate versions of your work. This is also done automatically, at regular intervals. Checkpoints are versions of your Notebook that you can return to, should you want to abandon the current version and return to the previously saved content\n",
    " \n",
    "[See here](https://jupyter-notebook-beginner-guide.readthedocs.io/en/latest/execute.html) for further details."
   ]
  },
  {
   "cell_type": "markdown",
   "metadata": {
    "deletable": false,
    "editable": false
   },
   "source": [
    "## What more will you be learning?\n",
    "\n",
    "#### In the course as a whole\n",
    "This Notebook is one of several notebooks that make up the Python Basic Programming course. The **whole course** treats the following aspects of Python programming:\n",
    "\n",
    " * Variables (types, assignments, print formats, precision, operators; this part)\n",
    " \n",
    " * Control flow (for loops, while loops, conditions, and if-then-else statements)\n",
    "\n",
    " * Code Organization (Indentation, execution flow, import, functions)\n",
    " \n",
    " * Basic Plotting\n",
    " \n",
    "#### In this Notebook:\n",
    "In the remainder of **this Notebook**, we will further explore and practice 4 topics of the various variables Python offers:\n",
    "\n",
    " 1. How to create different types of variables\n",
    "\n",
    " 2. How to assign values to variables\n",
    "\n",
    " 3. How to manipulate the variable value\n",
    "\n",
    " 4. How to print variable values"
   ]
  },
  {
   "cell_type": "markdown",
   "metadata": {
    "deletable": false,
    "editable": false
   },
   "source": [
    "# Variables\n",
    "\n",
    "## How to create different types of variables?\n",
    "\n",
    "Python offers several types of variables, the most important of which are:\n",
    "\n",
    "| type | main purpose | example |\n",
    "|:---:|:---|:---|\n",
    "| numeric | represent numbers | `my_counter = 1`, `delta = -0.001`, `amount = 1000`, `start = 0` |\n",
    "| boolean | represent True or False | `flag = True`, `has_paid = False`, `initialized = False` |\n",
    "| string  | represent text    | `my_text = \"I will remember this day forever!\"`, `your_text = \"Why?\"` |\n",
    "| sequence| represent sequences of values | `visitors = [\"Zack\", \"Vadim\", \"Pete\"]`, `users = [\"jhead\", \"admin\"]` |\n",
    "| NoneType| represent a non-defined | `hours_spent = None, flag_colors = (None, None, None), target_xy=[None, None]` |\n",
    "\n",
    "We will discuss these below. In the course of your programming efforts, you will see that there are more types. For now, we keep things simple and discuss just the ones above.\n",
    "\n",
    "## How to assign a value to a variable?\n",
    "After you've typed in a new name for a variable in your code, you *must* also assign it a value. You do this using the *assignment operator* `=` following the variable name, again followed by some value specification. When Python reads the `=` operator in your code, it expects a value to follow. It will ignore spaces and, once read a `=`, it will interpret the first non-space as the start of a value-specification. A value-specification can be a *literal* (such as `1.45` , decimal point, no quotes), or a complete expression that needs to be evaluated first, before its *result* can be assigned to the variable. We come back to this, below.\n",
    "\n",
    "<img width=\"280\" src=\"./figures/var_assignment.png\"/>\n",
    "\n",
    "In Python you do not need to specify the variable *type* in your code; Python derives the type of the variable itself, from the type of value you assign it. To that end, Python *first* evaluates  the *\"right-hand-side\"*; what is to the right of the assignment operator. Recall that left of the `=` is the variable name, right of the operator is the variable value. The above sketch depicts this mechanism. In this case, with `1.45` being interpreted as a specification of a real number, variable `my_var` will be said to have a value of Python's numeric type for real numbers. To be precise, it is the *value* that set forth the type, the variable itself is merely an identifying name to refer to that value.  As a consequence, in Python, you cannot just create a variable *without* a value. If you really have no clue as to the value to assign to a variable, assign it value `None` (of type `NoneType`), which can be replaced by another type of value, later on. \n",
    "\n",
    "## How to manipulate the variable value?\n",
    "Once a variable has been created and assigned a value, its value can be modified. If the variable is of a *mutable* type, its *existing value is changeable*, and will simply be updated to the new value. Done. To change an *immutable* type, Python operates a bit different: the *existing value* cannot be updated to the new value. Rather, the new value is preserved in memory, the variable name is disconnected from the old value, and then reconnected to this newly preserved value. We also call this *reassignment*. The new value is not necessarily of the same type; the type is redetermined from the new value. The old value goes to waste after a while. It may seen complicated to you, but its operation is usually straightforward. Later on, we will come back to this important aspect.\n",
    "\n",
    "How do you know types are mutable or not? You have to know or look up. To help you out: of the variable types we will be discussing in this notebook, only `list` is mutable, the rest is immutable (yes, also numeric types `int`, `float`, and also strings type `str`). Until we will discuss *functions* we lay this topic aside. Let's focus again on whole numbers and real number values (first row in the above table). Although immutable, using numeric operators such as `+` (addition), like in:\n",
    "```python\n",
    "my_var = my_var + 1\n",
    "``` \n",
    "is just as you would expect; the existing value is replaced by the result of the right-hand-side operation. In the above example, we can almost spell out what happens in the right-hand-side evaluation: we read the current value of `my_var`, add `1` to it, giving us the new value to store in memory. The assignment operator finally reassigns the result of the right-hand-side to `my_var`.\n",
    "\n",
    "Try it yourself, using the below program, in the next cell): \n",
    "\n",
    "#### DO THIS\n",
    "1.  try numeric operations:\n",
    "```python\n",
    "my_var = my_var**2      # exponentiation\n",
    "my_var = my_var * 2     # multiplication\n",
    "my_var = my_var / 1.45  # division\n",
    "my_var = my_var - 3.5   # subtraction\n",
    "my_var = my_var + 2.90  # addition\n",
    "```\n",
    "2. analyze the result of these operation in case `my_var` have zero-value, or negative value"
   ]
  },
  {
   "cell_type": "code",
   "execution_count": 21,
   "metadata": {},
   "outputs": [
    {
     "name": "stdout",
     "output_type": "stream",
     "text": [
      "3.45\n"
     ]
    }
   ],
   "source": [
    "my_var = 1.45\n",
    "my_var = my_var + 2\n",
    "print(my_var)"
   ]
  },
  {
   "cell_type": "markdown",
   "metadata": {
    "deletable": false,
    "editable": false
   },
   "source": [
    "The above numeric operations are listed in *decreasing order of priority*. Exponentiation takes priority (precedence ) over multiplication, etc. In: `my_var = my_var**2 - my_var * my_var`, the right-hand-side is evaluated as follows. Considering the priorities of the numeric operations, the term `my_var**2` is computed first. Having done this, next in the priority comes multiplication, giving the term `my_var * my_var` and finally, these two intermediate results are subtracted, resulting to zero in this case. The assignment operator now reassigns this value to `my_var`."
   ]
  },
  {
   "cell_type": "markdown",
   "metadata": {
    "deletable": false,
    "editable": false
   },
   "source": [
    "## How to print variable values?\n",
    "We have already seen variable values being printed. Apparently, `print()` is capable of just accepting a variable name and print its value. So far, we fed `print()` with a mix of text strings and variables, separated by commas, and `print()` printed this for us, separated by a single space. Instead of a variable, we may also give it a literal value or some expression; something that still has to be computed before being printed, like the lacking sleeping hours in our first program. Here's an example printing an expression with a literal and a variable:"
   ]
  },
  {
   "cell_type": "code",
   "execution_count": 22,
   "metadata": {},
   "outputs": [
    {
     "name": "stdout",
     "output_type": "stream",
     "text": [
      "2.PI radians is equal to: 6.283185307179586\n"
     ]
    }
   ],
   "source": [
    "pi = 3.14159265358979323846264338327950288419716939937510\n",
    "print(\"2.PI radians is equal to:\", 2*pi)"
   ]
  },
  {
   "cell_type": "markdown",
   "metadata": {
    "deletable": false,
    "editable": false
   },
   "source": [
    "Printing this way may not always precisely give you the results that you need: we lose precision when we try to print $2\\pi$ with many decimals above. Don't worry; there are other ways of printing with which we can specify the number of decimals we want to see printed. The printing of variables will be discussed and demonstrated further while discussing the various numeric and other types in more detail, below. Since accurate printing of results is important in science and engineering, a separate Notebook is available, with background explanation, exercises, and further details. Go into this matter only after you finished this notebook first. See the bottom section of this notebook. "
   ]
  },
  {
   "cell_type": "markdown",
   "metadata": {
    "deletable": false,
    "editable": false
   },
   "source": [
    "## Numeric variables\n",
    "In the examples given in the above table, you may have noticed that:\n",
    "\n",
    " - some numeric variables have a *whole-number-value specification* (`amount = 1000`). These are **integer** types\n",
    " - some have a *real value* (`delta = -0.001`) specification. These are **float** types (for: floating point) \n",
    " \n",
    "As discussed, Python infers the variable type from the value that you assign it. In the above case of variable `my_var = 1.45`, we guessed the variable needs to become a real number, or in the language of programmers: a float, because `1.45` is a floating point number. If a literal value-specification can be interpreted as an integer (no decimal point, not part of a fraction), the variable will be an integer. When the decimal point is contained in the specification, Python will make the variable a float. `my_var = 1` leads to `my_var` an integer, while `my_var = 1.0` or even `my_var = 1.` leads to a float.\n",
    "\n",
    "Various literals can be interpreted by Python. A few examples are given below.\n",
    "\n",
    "```python\n",
    "my_var = -100\n",
    "my_var = +1000\n",
    "my_var =  1000\n",
    "my_var = 1.0E+05  # scientific value specification\n",
    "my_var = 1.95428\n",
    "my_var = -.95428\n",
    "```\n",
    "\n",
    "Python offers more than just the two numeric types `int` and `float`, but these are for now the most important for us. \n",
    "\n",
    "Let's code! Below, you will be assigning literal values to a variable `my_var` and check its type. An easy way to do this is by using `type(my_var)`. If you print the result of this operation, the type becomes visible. Like so:"
   ]
  },
  {
   "cell_type": "code",
   "execution_count": 23,
   "metadata": {},
   "outputs": [
    {
     "name": "stdout",
     "output_type": "stream",
     "text": [
      "my_var has value 1000.0 and is of type <class 'float'>\n"
     ]
    }
   ],
   "source": [
    "# determine variable-types\n",
    "\n",
    "my_var =1000.0\n",
    "print(\"my_var has value\", my_var, \"and is of type\", type(my_var))"
   ]
  },
  {
   "cell_type": "markdown",
   "metadata": {
    "deletable": false,
    "editable": false
   },
   "source": [
    "Using the above code\n",
    "\n",
    "#### DO THIS\n",
    "1. assign the example values given in the above text box to `my_var` and verify the type `my_var`\n",
    "2. assign a value `1000` to `my_var` and check its type, which is expected to be `class 'int'` (integer)\n",
    "3. now add just a period (a `.`) right after `1000` in the assignment of `my_var`. Run the program again. What is the effect? Can you explain why this is?\n",
    "4. assign value `1/3` to `my_var`. There is no decimal point, neither in the numerator nor in the denominator. Which type would you guess Python will make this? Now run the program and check it. Add a decimal point in either the denominator or the numerator or in both, run the program and see if there is a difference. Why or why not?\n",
    "5. we assigned `my_var = 1.0E+05`. Change this to: `my_var = 1E+05`. Which type would you expect now? Run the program and verify. What does Python make it?"
   ]
  },
  {
   "cell_type": "markdown",
   "metadata": {
    "deletable": false,
    "editable": false
   },
   "source": [
    "## Boolean variables\n",
    "\n",
    "Boolean variables represent truth-values `True` or `False`. For programmers, these are very important variables. You use them, to represent a state or formulate a condition. Example: we are about to launch a space vessel for a journey to Mars:\n",
    "\n",
    "```python\n",
    "docking = True                  # space craft is still hooked on launching pad\n",
    "engines_on = False              # engines not yet fired\n",
    "ready_for_take_off = False      # in this state, we are not yet ready for take off ...\n",
    "\n",
    "# preparing the spacecraft for take off ...\n",
    "\n",
    "# ... we successfully completed countdown and fired the engines ... update ...\n",
    "engines_on = True\n",
    "\n",
    "# ... we released the space vessel from its docking ... update ...\n",
    "docking = False                 # release the docking of the space craft\n",
    "\n",
    "# ... update the state: vessel ready to separate from launching pad? ...\n",
    "docking_cleared = not docking   # the opposite of docking ...\n",
    "\n",
    "\n",
    "# ... now update the state: ready for lift off ? ...\n",
    "ready_for_take_off = engines_on and docking_cleared\n",
    "```\n",
    "\n",
    "Can you guess already how this works?\n",
    "\n",
    "A variable is of type `bool` if you assign it a value equal to literal `True` or `False` (try it yourself, above, using `my_var` in our earlier program, above). Like with numeric types, a variable can also be assigned type `bool` through evaluation of the right-hand side of the assignment operator. Rather than by mathematical operations (as with numeric variables), boolean variables are manipulated by *boolean operations*. Like in: \n",
    "```python\n",
    "docking_cleared = not docking\n",
    "```\n",
    "In this case, Python will evaluate evaluate the right hand side `not docking`, and determine that `docking` has value `False`, so `docking_cleared` is assigned boolean value `True`. Had `docking` had value `True`, `docking_released` would have been assigned value `False`; Boolean operator `not` *negates*. For Boolean variables, which can have only two values, negating implies: flipping `True` to `False`, vice verse. The `and` operator evaluates to `True` if both its left hand side and the right hand side evaluate to `True`. In the above example: `ready_for_take_off = engines_on and docking_cleared`, only if both `engines_on` and `docking_cleared` are `True`, we are ready for take off. Finally, Boolean operator `or` evaluates to `True` if either its left hand side or its right hand side evaluates to `True`, or both, and evaluates to `False` otherwise.\n",
    "\n",
    "Like mathematical operators, boolean operators have a precedence, a priority of evaluation. In this case: `not` has priority over `and`, so with `docking = False` and `engines_on = True`, `not docking and engines_on` evaluates to: `True` and `True` and therefore to `True`, because `not docking` is evaluated first, before its result in used in the evaluation of `True and engines_on`. You can influence the effect of boolean operators using parentheses (like with numeric operations)."
   ]
  },
  {
   "cell_type": "code",
   "execution_count": 24,
   "metadata": {},
   "outputs": [
    {
     "name": "stdout",
     "output_type": "stream",
     "text": [
      "ready to take off? True\n"
     ]
    }
   ],
   "source": [
    "# taking-off-to-Mars\n",
    "\n",
    "docking = True                  # space craft is still hooked on launching pad\n",
    "engines_on = False              # engines not yet fired\n",
    "ready_for_take_off = False      # in this state, we are not yet ready for take off ...\n",
    "\n",
    "# ... we succesfully completed countdown and fired the engines ... update  ...\n",
    "engines_on = True\n",
    "\n",
    "# ... we released the space vessel from its docking ... update ...\n",
    "docking = False                 # release the docking of the space craft\n",
    "\n",
    "# ... update the state: vessel ready to separate from launching pad? ...\n",
    "docking_cleared = not docking   # the opposite of docking ...\n",
    "\n",
    "# ... now update the state: ready for lift off ? ...\n",
    "ready_for_take_off = engines_on and docking_cleared\n",
    "\n",
    "print(\"ready to take off?\", ready_for_take_off)"
   ]
  },
  {
   "cell_type": "markdown",
   "metadata": {
    "deletable": false,
    "editable": false
   },
   "source": [
    "Using the above code\n",
    "\n",
    "#### DO THIS\n",
    "1. replace `ready_for_take_off = engines_on and docking_cleared` by: `ready_for_take_off = docking_cleared and engines_on`. We just swap the variables engaged in the `and` operator. Which impact would you foresee on variable value `ready_to_take_off`? Run the program and verify\n",
    "2. substitute `docking_cleared` by `not docking`. Their values are the same. Verify this as well! Which impact would you foresee on variable value `ready_to_take_off` now? Run the program and verify\n",
    "3. analyze the order in which variable values are evaluated in the final form:\n",
    "```python\n",
    "ready_for_take_off = not docking and engines_on\n",
    "```\n",
    "4. let's assume, the engines suddenly stopped working somehow just before we check `ready_for_take_off`. Insert an extra line of code in the program, prior to the `ready_for_take_off` test, setting the `engine_on = False`. What do you expect for the test outcome now? Rerun the program and verify the result. Remove the line of code you added again  \n",
    "5. let's assume a different scenario: you initiated the docking to release, but the uncoupling of the space vessel failed. Prior to the `ready_for_take_off` test, simulate that the undocking failed, by changing: `docking = True` to `docking = False`. Will you be ready for take off now, you think? Run the program and verify it. "
   ]
  },
  {
   "cell_type": "markdown",
   "metadata": {
    "deletable": false,
    "editable": false
   },
   "source": [
    "## String variables\n",
    "\n",
    "A string variable represents text: en-quoted literals (digits, characters, punctuations, spaces, tabs ...). Python has multiple ways of quoting:\n",
    "\n",
    "| option | quotes | example |\n",
    "|:---:|:---:|:---:|\n",
    "| 1 | single-quotes | `'Hi! I am in a good mood'`|\n",
    "| 2 | double-quotes | `\"Hi! I am in a good mood\"`|\n",
    "| 3 | triple-quotes | `'''Hi! I am in a good mood'''`|\n",
    "| . | or: | `\"\"\"Hi! I am in a good mood\"\"\"`|\n",
    " \n",
    "All three forms have overlapping use, but there are some differences and they also have their own *conventional* purpose in Python. We explore them, in a separate Notebook. See for further pointers at the bottom of this Notebook. In the remainder of this Notebook, we will merely use `\"` to en-quote strings. Now you understand that when coding: `print(\"ready to take off?\", ready_for_take_off)` we are actually printing a *literal string*: `\"ready to take off?\"`, followed by the value of variable `ready_for_take_off`, a Boolean variable, giving output:\n",
    "```python\n",
    "ready to take off? True\n",
    "```\n",
    "Observe that:\n",
    "- string literals are en-quoted and therefore can contain for instance spaces, but also digits, exclamation marks, punctuations, etc.\n",
    "- the quotes demarcate the beginning and ending of a string, but the quotes themselves do not belong the string, and are therefore not printed\n",
    "- a space is inserted between the print of the literal string and the value of `ready_to_take_off`\n",
    "Behind the scenes, to print a value of a variable that is not already a string, a value-string is made of the value, which is then printed in the output. Look again how `pi` was printed, earlier in this notebook.\n",
    "\n",
    "There are many operators to manipulate strings. We will discuss some of them in a separate notebook on strings; see further pointers at the bottom of this notebook."
   ]
  },
  {
   "cell_type": "code",
   "execution_count": 25,
   "metadata": {},
   "outputs": [
    {
     "name": "stdout",
     "output_type": "stream",
     "text": [
      "Many characters can be used in strings, also *numbers*, like 1000.\n",
      "Python will not interprete `1000` as a number.\n",
      "Make sure, however, that the beginning and ending of a string by quotes are correct!\n"
     ]
    }
   ],
   "source": [
    "# simple-strings\n",
    "\n",
    "promise = \"Many characters can be used in strings, also *numbers*, like 1000.\"\n",
    "reason  = \"Python will not interprete `1000` as a number.\"\n",
    "warning = \"Make sure, however, that the beginning and ending of a string by quotes are correct!\"\n",
    "\n",
    "print(promise)\n",
    "print(reason)\n",
    "print(warning)"
   ]
  },
  {
   "cell_type": "markdown",
   "metadata": {
    "deletable": false,
    "editable": false
   },
   "source": [
    "Using the above code\n",
    "\n",
    "#### DO THIS\n",
    "1. print string variable `promise`. Add to its value, at the right:  `also *numbers*, like 1000`. Make sure you en-quote the new value of `promise` correctly and run the program again\n",
    "2. print string variable `reason`. Append a second code line `print()`, under the print of `promise`\n",
    "3. in `reason` wrap `1000` in single quotes, like this: `'1000'`. Run the program. Does this work? \n",
    "4. replace the single quotes in `reason` by double quotes, like this: `\"1000\"`. Run the program. Does this work? Undo this by using single quotes again: `'1000'`\n",
    "5. print string variable `warning` on a separate line, after printing `reason` and run the program. Deliberately, remove the end-of-string quote of variable `warning`; you'll have a `SyntaxError`, because Python reads an end-of-line character in the value specification of `warning` if you remove the closing `\"`. You cannot see this end-of-line character, but it is there ... Repair it by putting the removed `\"` back in place, and run to see if your program works again\n",
    "6. finally, replace the three successive `print(...)` lines by a single `print(promise, reason, warning)` and run the program. What's the difference with your earlier result? Try to reason why this is."
   ]
  },
  {
   "cell_type": "markdown",
   "metadata": {
    "deletable": false,
    "editable": false
   },
   "source": [
    "## Sequences\n",
    "\n",
    "Sequences, in Python, are *ordered series of items*: a series of integers `[1, 2, 3, 4, 5]` or a series of names: `['Pete', 'Roy', 'Jennifer', 'Tarik']`, held in a single variable. Here, all items in the series have the same type, but this is not necessary. There are three types of sequences we will discuss in this notebook:\n",
    "\n",
    " - lists\n",
    " - tuples\n",
    " - ranges\n",
    " \n",
    "See the below diagram.\n",
    "\n",
    "<img src=\"./figures/Sequences.png\" \n",
    "    style=\"width:720px;background:rgb(220, 232, 240);border:5px\"/>\n",
    "\n",
    "## Lists\n",
    "Lists are ordered containers of *items*. In: `my_list = [1, 2, 3]`, `my_list` is the variable, and `[1, 2, 3]` is a sequence of item values, assigned to `my_list`. Ordering implies: a list `[3, 1, 2]` is a different list from `[1, 2, 3]`. In this example, all items are integers. A list of *items of the same type* is also called an *Array*. A list may also have heterogeneous values: `my_other_list = [-1, 'abc', False]` has three item values (in short: 'items'), reps. an integer, a string and a Boolean. List are mutable types, and assignment: `my_list[0] = 100` could be used to set the first *item* in the list to value 100, leaving all other items untouched.\n",
    " \n",
    "Individual list items can be accessed using their *index*; a ordering number starting from `0` for the first item, and ending at position equal to the number of items minus 1. See the below sketch:\n",
    "\n",
    "<img width=\"480\" src=\"./figures/list_index.png\"/>\n",
    "\n",
    "A code line like: `print('item:', my_list[2])` would print: `item: 23`. Use `my_list[start:end]`-indexing, to get multiple list values, ranging from index `start` up to `end` (but not included); see the below sketch.\n",
    "\n",
    "<img width=\"520\" src=\"./figures/list_sublist.png\"/>\n",
    "\n",
    "List operations are, among the many:\n",
    "- `+`                 # concatenate two lists to form one list\n",
    "- `len(my_list)`      # give the value of the length of `my_list`\n",
    "\n",
    "With the below code\n",
    "\n",
    "#### DO THIS\n",
    "1. print `my_list` item at index 0 (add a line of code underneath the print of the whole list). Run the program and check if the result is expected\n",
    "2. change `my_list[0]` to value `100` (add an extra line of code), and rerun the program to print this updated value\n",
    "3. print the length of `my_list`, using: `len(my_list)`. Append an extra line of code for this. Verify the result\n",
    "4. print the last item in `my_list`, using index `len(my_list)-1`. Check the result\n",
    "5. print the sublist `my_list[1:4]`\n",
    "6. extend `my_list` by adding up a second list `[61,72,83,94]` to `my_list`. Add yet an extra line of code to the program. Print the extended list by rerunning the program\n",
    "7. print again the length of the extended list\n",
    "8. print again the last item in the extended list"
   ]
  },
  {
   "cell_type": "code",
   "execution_count": 26,
   "metadata": {},
   "outputs": [
    {
     "name": "stdout",
     "output_type": "stream",
     "text": [
      "my_list has items: [10, 12, 23, 41, 15]\n"
     ]
    }
   ],
   "source": [
    "my_list = my_list = [10, 12, 23, 41, 15]\n",
    "\n",
    "print(\"my_list has items:\", my_list)\n",
    "\n",
    "# CONTINUE YOUR PROGRAM HERE\n",
    "# --------------------------\n"
   ]
  },
  {
   "cell_type": "markdown",
   "metadata": {
    "deletable": false,
    "editable": false
   },
   "source": [
    "## Tuples\n",
    "\n",
    "Like sequence type `list`, `tuple` is intended to group together several values that can be assigned to a single variable. But whereas a list is a mutable type, a tuple is *immutable*, making it well-suited for items that are not meant to be changed (all the time). You will see them widely around in Python modules, to specify items composed of multiple values. For instance: Assume points in a plane. We might want to represent the origin $P=(0,0)$, by `origin = (0.0, 0.0)`. A striking difference with lists is that *any sequence of numbers, separated by a comma* is interpreted as a tuple, unless surrounded by quotes (in which case it will be interpreted as a string), or by `[`, `]` (in which case it is a list). To illustrate: `tpl1 = (0, 1, 2)` and `tpl2 = 0, 1, 2` will yield exactly the same tuple, whereas `tpl3 = [0, 1, 2]` will be no tuple but a list.\n",
    "\n",
    "Indexing of tuples is pretty much the same as with lists. The operators specified for lists (`+`, `len(my_tuple)`),  are also available for tuples. \n",
    "\n",
    "[More background on tuples](http://www.datacamp.com/community/tutorials/python-tuples-tutorial)\n",
    "\n",
    "With the below code\n",
    "\n",
    "#### DO THIS\n",
    "1. print tuple `my_domain` and verify its item values\n",
    "2. print the origin `origin`\n",
    "3. remove the `(` and `)` from the value specification of the origin. rerun the program. What is the difference?\n",
    "4. print the number of coordinates of the origin using `len(origin)`\n",
    "5. we are going to compose the domain specification tuple in another way, as a verification. Create a tuple variable `x_range = (x_min, x_max)`. Do the same for variable `y_range = (y_min, y_max)`. Add up: `my_domain_check = x_range + y_range`. Print this `my_domain_check` and verify that it is equal to the value of `my_domain`"
   ]
  },
  {
   "cell_type": "code",
   "execution_count": 27,
   "metadata": {},
   "outputs": [
    {
     "name": "stdout",
     "output_type": "stream",
     "text": [
      "domain (-10, 10, -10, 10)\n",
      "origin O: (0, 0)\n"
     ]
    }
   ],
   "source": [
    "# Program-tuples\n",
    "\n",
    "origin = (0, 0)\n",
    "\n",
    "# specify the range of x ... \n",
    "x_min = -10\n",
    "x_max =  10\n",
    "\n",
    "# specify the range of y ...\n",
    "y_min = -10\n",
    "y_max =  10\n",
    "\n",
    "my_domain = (x_min, x_max, y_min, y_max)\n",
    "\n",
    "print(\"domain\", my_domain)\n",
    "print(\"origin O:\", origin)\n",
    "\n",
    "# CONTINUE YOUR CODE HERE\n",
    "# -----------------------\n"
   ]
  },
  {
   "cell_type": "markdown",
   "metadata": {
    "deletable": false,
    "editable": false
   },
   "source": [
    "## Ranges\n",
    "\n",
    "Ranges are the third sequence type we discuss and practice. You'll use `range` mostly in *loops*. A loop is an iterating group of Python operations. Discussion of loops follows in a later notebook. To give you already some clue, we give a simple example in the below program that prints the square of `x` ranging from `0..9`."
   ]
  },
  {
   "cell_type": "code",
   "execution_count": 28,
   "metadata": {},
   "outputs": [
    {
     "name": "stdout",
     "output_type": "stream",
     "text": [
      "value of 0 squared: 0\n",
      "value of 1 squared: 1\n",
      "value of 2 squared: 4\n",
      "value of 3 squared: 9\n",
      "value of 4 squared: 16\n",
      "value of 5 squared: 25\n",
      "value of 6 squared: 36\n",
      "value of 7 squared: 49\n",
      "value of 8 squared: 64\n",
      "value of 9 squared: 81\n"
     ]
    }
   ],
   "source": [
    "# typical use of range in a loop\n",
    "\n",
    "for x in range(10):\n",
    "    print(\"value of\", x, \"squared:\", x**2)"
   ]
  },
  {
   "cell_type": "markdown",
   "metadata": {
    "deletable": false,
    "editable": false
   },
   "source": [
    "### Did we hear a   *Wow*??\n",
    "\n",
    "A `range` is created a bit different from what we have seen up till now. It has no form to assign it a value using an assignment operator plus a literal value specification. Instead, we must create a range using the `range()` *constructor* that we give a value parameter. The format is:\n",
    "```python\n",
    "range(start_at_number, stop_before_number, step_size)\n",
    "```\n",
    "in which the `start` value may be omitted (taken: 0, if absent), the `stop` value is mandatory, and the `step` is again optional (taken: 1, if absent). As an illustration: `range(10)` is the same range as: `range(0,10)` is the same range as `range(0,10,1)`. Verify that, indeed, the default values are being used for the `start` and the `step` values. Further example uses of `range()`, and the resulting range they specify, are given in the below table. Notice that `stop` may be smaller than `start` and `step` may be negative.\n",
    "\n",
    "Python expands a range specification into a sequence of integer values: `start, start+1*step, start+2*step, ..., stop-2*step, stop-step` that typically may serve as *loop variable*. Value `stop` itself is *not* included. You can use this sequence and the loop variable to control iterating through a loop, like we did above. In this example program, it is `x` that is successively assigned the value of the`range(10)` expansion, being: `x = 0`, `x=1` etc. until the last one: `x=9`. A soon as `x=10`, the range is depleted and the loop terminates. We will come back to this in one of the next notebooks. \n",
    "\n",
    "By the way, `list()` and `tuple()` constructors also exist. We will be seeing these constructors also back in follow-up notebooks. You use them to create a variable of type list or tuple. And whereas we can also make lists and tuples also the way we showed in this notebook, no such way exist for ranges: a `range` *must* be made using the constructor `range()`.\n",
    "\n",
    "| example | range | what it does |\n",
    "|:---:|:---:|:---|\n",
    "| 1 | `range(10)` | integer range starting at 0 to 10 (10 not included)|\n",
    "| 2 | `range(0,10)` | same range of integers |\n",
    "| 3 | `range(0,10,1)` | same range of integers |\n",
    "| 4 | `range(220,241,2)` | integer range 220, 222, 224 ... 240 |\n",
    "| 5 | `range(100,0,-10)` | integer range 100, 90, 80 ... 10 |\n",
    "| 6 | `range(100,-1,-10)`| integer range 100, 90, 80 ... 0 |\n",
    "\n",
    "with the above code\n",
    "\n",
    "#### DO THIS\n",
    "1. replace `range(10)` by `range(0,10)` and rerun the program. Verify that the result looks exactly the same\n",
    "2. we want the square of `x=10` to be included in the resulting output. Adapt the `range` by increasing the `stop` value by 1. Rerun to see the effect\n",
    "3. We do not want the square of every `x` to be computed, but only the square for `x` an even number. Change the range to `range(0,10,2)`. Rerun the program and verify the result\n",
    "4. we want the squares to be computed in reversed order, that is, starting at 10 down to 0. Change the range to `range(10,0,-1)`. Rerun the program. Is the effect what you expected? If not, what to change to make it correct?\n",
    "5. create three variable: `first`, `last` and `step` and assign them values: `0`, `10`, and `1`, resp. Using these, create a range `range(first, last, step)` and rerun the program. Is it working as expected?"
   ]
  },
  {
   "cell_type": "markdown",
   "metadata": {
    "deletable": false,
    "editable": false
   },
   "source": [
    "# Recommended follow-up\n",
    "## Programming Project\n",
    "\n",
    "You are firmly recommended to rehearse the above new knowledge and concepts, by doing a *Programming Project* yourself: ask your teacher for a fitting ProgrammingProject. If no one can be made available, consider doing **ProgrammingProject_20.ipynb** .\n",
    "\n",
    "## Pointers to extensional and optional materials\n",
    "More info on extensional and optional materials be found in the [README.md](./README.md)"
   ]
  },
  {
   "cell_type": "markdown",
   "metadata": {
    "deletable": false,
    "editable": false
   },
   "source": [
    "## Done"
   ]
  }
 ],
 "metadata": {
  "kernelspec": {
   "display_name": "Python 3",
   "language": "python",
   "name": "python3"
  },
  "language_info": {
   "codemirror_mode": {
    "name": "ipython",
    "version": 3
   },
   "file_extension": ".py",
   "mimetype": "text/x-python",
   "name": "python",
   "nbconvert_exporter": "python",
   "pygments_lexer": "ipython3",
   "version": "3.7.6"
  },
  "latex_envs": {
   "LaTeX_envs_menu_present": true,
   "autoclose": false,
   "autocomplete": true,
   "bibliofile": "biblio.bib",
   "cite_by": "apalike",
   "current_citInitial": 1,
   "eqLabelWithNumbers": true,
   "eqNumInitial": 1,
   "hotkeys": {
    "equation": "Ctrl-E",
    "itemize": "Ctrl-I"
   },
   "labels_anchors": false,
   "latex_user_defs": false,
   "report_style_numbering": false,
   "user_envs_cfg": false
  }
 },
 "nbformat": 4,
 "nbformat_minor": 4
}
