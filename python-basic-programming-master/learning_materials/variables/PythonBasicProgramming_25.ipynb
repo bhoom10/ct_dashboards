{
 "cells": [
  {
   "cell_type": "markdown",
   "metadata": {
    "deletable": false,
    "editable": false
   },
   "source": [
    "<header>\n",
    "    <div style=\"overflow: auto;\">\n",
    "        <img src=\"https://digital-skills.tudelft.nl/nb_style/figures/TUDelft.jpg\" style=\"float: left;\" />\n",
    "        <img src=\"https://digital-skills.tudelft.nl/nb_style/figures/DUT_Flame.png\" style=\"float: right; width: 100px;\" />\n",
    "    </div>\n",
    "    <div style=\"text-align: center;\">\n",
    "        <h2><large>Digital Skills</large> -- Python Basic Programming --</h2>\n",
    "        <h6>&copy; 2019, TU Delft. Creative Commons</h6>     \n",
    "    </div>\n",
    "    <br>   \n",
    "    <br>\n",
    "</header>"
   ]
  },
  {
   "cell_type": "markdown",
   "metadata": {
    "deletable": false,
    "editable": false
   },
   "source": [
    "# Strings\n",
    "\n",
    "## In this Notebook\n",
    "\n",
    "In this notebook, we discuss the basic use of strings:\n",
    "* Python's UTF-8 default string encoding\n",
    "* Python's string en-quoting\n",
    "* review of the creation of string variables from literals\n",
    "* string interpretation, special characters, escaping, and raw strings\n",
    "* embedding quoted string literals within strings\n",
    "* strings and characters\n",
    "* review of indexing, slices, and substrings\n",
    "* string manipulation\n",
    "* string operations\n",
    "* lexicographical comparison of strings\n",
    "* number-to-string and string-to-number\n",
    "* composing formatted strings and tables\n",
    "\n",
    "All topics will be discussed at basic programming level.\n",
    "\n",
    "#### Assumed prior knowledge and skills\n",
    "- Notebook PythonBasicProgramming_20 on Variables"
   ]
  },
  {
   "cell_type": "markdown",
   "metadata": {
    "deletable": false,
    "editable": false
   },
   "source": [
    "## String encoding\n",
    "\n",
    "String-encoding has to do with how you represent and manipulate characters. Today, the default encoding for Python source code is UTF-8, which means that you can introduce string value-specifications in assignments that include UTF-8 characters. Going into this matter is beyond the scope of this notebook; just check the below example. Important for now is that:\n",
    "* the UTF-8 (UTF-16, ...) encoding is a superset of the ASCII system\n",
    "* ASCII as well as UTF-8 have printable and alpha-numerical, printable and non-printable characters, digits, spaces, ..., a property you can query using operations on strings\n",
    "\n",
    "Further background: \n",
    "* [UTF-characters](https://en.wikipedia.org/wiki/UTF-8)\n",
    "* [Python Howto](https://docs.python.org/3/howto/unicode.html)"
   ]
  },
  {
   "cell_type": "code",
   "execution_count": 1,
   "metadata": {},
   "outputs": [
    {
     "name": "stdout",
     "output_type": "stream",
     "text": [
      "my_count_list : ['(líng, 零)', '(yī, 一)', '(èr, 二)', '(sān, 三)', '(sì, 四)', '(wǔ, 五)']\n",
      "counting 0..5 : 零 一 二 三 四 五\n"
     ]
    }
   ],
   "source": [
    "my_count_list = [ '(líng, 零)', '(yī, 一)', '(èr, 二)', '(sān, 三)', '(sì, 四)', '(wǔ, 五)' ]      # 0, 1, 2, 3, 4, 5\n",
    "print('my_count_list :', my_count_list)\n",
    "\n",
    "my_zero  = my_count_list[0][-2]  # no utf encoding needed\n",
    "my_one   = my_count_list[1][-2]\n",
    "my_two   = my_count_list[2][-2]\n",
    "my_three = my_count_list[3][-2]\n",
    "my_four  = my_count_list[4][-2]\n",
    "my_five  = my_count_list[5][-2]\n",
    "\n",
    "# no utf decoding needed ...\n",
    "print('counting 0..5 :', my_zero, my_one, my_two, my_three, my_four, my_five)"
   ]
  },
  {
   "cell_type": "markdown",
   "metadata": {
    "deletable": false,
    "editable": false
   },
   "source": [
    "## String en-quoting\n",
    "\n",
    "A string variable represents text: en-quoted literals (digits, characters, punctuations, spaces, tabs ...). Python has multiple ways of quoting:\n",
    "\n",
    "| option | quotes | example |\n",
    "|:---:|:---:|:---:|\n",
    "| 1 | single-quotes | `'Hi! I am in a good mood'`|\n",
    "| 2 | double-quotes | `\"Hi! I am in a good mood\"`|\n",
    "| 3 | triple-quotes | `'''Hi! I am in a good mood'''`|\n",
    "| . | or: | `\"\"\"Hi! I am in a good mood\"\"\"`|\n",
    "\n",
    "## String interpretation, special characters, escaping, raw strings\n",
    " \n",
    "Some characters have a *special meaning*, interpret by Python. We can cancel their special meaning by *escaping them*, using a `\\` in front of the special character to undo. The interpretation of special characters is dependent on the en-quoting used:\n",
    "```\n",
    "    my_law = 'Murphy\\'s law'  # we have to escape ' here\n",
    "    my_law = \"Murphy's law\"   # no escape needed\n",
    "```\n",
    "To escape-the-escape, again use an escape:\n",
    "```\n",
    "    my_tip = \"use a newline `\\\\n` in a string to continue printing on the next line\"\n",
    "```\n",
    "\n",
    "Python can also be prevented from interpolating the content of a string *altogether* by turning the string into a so called *raw string*, by putting a `r` in front of the string. A typical use case is passing on a string in *(La)TeX* format to Matplotlib, preventing it from any interpretation by Python. For example: `title_plot = r'$\\Phi(\\omega)=\\omega^2-\\frac{3}{2}\\pi$'`, plotting $\\Phi(\\omega)=\\omega^2-\\frac{3}{2}\\pi$.\n",
    "\n",
    "For additional background information, see [this article](https://realpython.com/python-strings/)"
   ]
  },
  {
   "cell_type": "code",
   "execution_count": 2,
   "metadata": {},
   "outputs": [
    {
     "name": "stdout",
     "output_type": "stream",
     "text": [
      "use a newline `\\n` in a string to continue printing on the next line\n"
     ]
    }
   ],
   "source": [
    "# single-quoted string literal embedded in double-quoted string ...\n",
    "my_tip = \"use a newline `\\\\n` in a string to continue printing on the next line\"\n",
    "print(my_tip)"
   ]
  },
  {
   "cell_type": "markdown",
   "metadata": {
    "deletable": false,
    "editable": false
   },
   "source": [
    "The `\\` is used (in the same fashion) in cases where your code line is too long to fit on a single line, and you want to prevent Python from interpreting the remainder as a new code line. You just terminate the first part of your code line using a `\\` and continue on the next line (indentation of the continuation line is just ignored). White space in front of the `\\` is ignored, but after the `\\` there must not be any character anymore; otherwise you escape something else!"
   ]
  },
  {
   "cell_type": "code",
   "execution_count": 3,
   "metadata": {},
   "outputs": [
    {
     "name": "stdout",
     "output_type": "stream",
     "text": [
      "Sometimes you have a tip that takes a longer literal string to type. Break it up in parts this way, and Python will concatenate them for you. In this example, we use the escape character `\\` to cancel the newlines `\\n`, basically expanding the code line on which the literal string value is specified to one long-stretched line. Don't be misled by the green output terminal below folding this long line in its output.\n"
     ]
    }
   ],
   "source": [
    "# escaping (invisible) newlines while embedding a visible string literal `\\\\n` in a string ...\n",
    "my_longer_tip = \\\n",
    "   \"Sometimes you have a tip that takes a longer literal string to type. \"             \\\n",
    "   \"Break it up in parts this way, and Python will concatenate them for you. \"         \\\n",
    "   \"In this example, we use the escape character `\\\\` to cancel the newlines `\\\\n`, \"  \\\n",
    "   \"basically expanding the code line on which the literal string value is specified \" \\\n",
    "   \"to one long-stretched line. Don\\'t be misled by the green output terminal below \"  \\\n",
    "   \"folding this long line in its output.\" \\\n",
    "   \n",
    "print(my_longer_tip)"
   ]
  },
  {
   "cell_type": "code",
   "execution_count": 4,
   "metadata": {},
   "outputs": [
    {
     "name": "stdout",
     "output_type": "stream",
     "text": [
      "raw string in LaTeX: $\\Phi(\\omega)=\\omega^2-\\frac{3}{2}\\pi$\n",
      "part one (\\n\\n\\t) and part two\n"
     ]
    }
   ],
   "source": [
    "# using a raw string ...\n",
    "title_plot = r'$\\Phi(\\omega)=\\omega^2-\\frac{3}{2}\\pi$'\n",
    "print(\"raw string in LaTeX:\", title_plot)\n",
    "\n",
    "yet_another_line = r'part one (\\n\\n\\t) and part two'    # try removing the `r`\n",
    "print(yet_another_line)"
   ]
  },
  {
   "cell_type": "markdown",
   "metadata": {
    "deletable": false,
    "editable": false
   },
   "source": [
    "## Strings and characters\n",
    "Some languages make a difference between single-character data types and string data types. Python does not do that and just uses the `str` string data type: run the below code cell yourself to verify this:"
   ]
  },
  {
   "cell_type": "code",
   "execution_count": 5,
   "metadata": {},
   "outputs": [
    {
     "name": "stdout",
     "output_type": "stream",
     "text": [
      "type of char: <class 'str'>\n"
     ]
    }
   ],
   "source": [
    "char = 'c'\n",
    "print('type of char:', type(char))"
   ]
  },
  {
   "cell_type": "markdown",
   "metadata": {},
   "source": [
    "However, single characters can be converted back and forth to integers, which represent their positions in the ASCII-table. We just give some examples. "
   ]
  },
  {
   "cell_type": "code",
   "execution_count": 6,
   "metadata": {},
   "outputs": [
    {
     "name": "stdout",
     "output_type": "stream",
     "text": [
      "In the ASCII-table, char c is represented by integer 99: check: c\n",
      "ASCII lowercase letters: a-z have ord()-representation: 97-122\n"
     ]
    }
   ],
   "source": [
    "char = 'c'\n",
    "int_c = ord('c')   # given a char, give the integer representing char in ASCII table\n",
    "ch_c  = chr(int_c) # given an integer, look up the char in ASCII table\n",
    "\n",
    "print('In the ASCII-table, char {:s} is represented by integer {:d}: check: {:s}'.\\\n",
    "     format(char, int_c, ch_c))\n",
    "print('ASCII lowercase letters: {:s}-{:s} have ord()-representation: {:d}-{:d}'. \\\n",
    "      format('a', 'z', ord('a'), ord('z')))"
   ]
  },
  {
   "cell_type": "markdown",
   "metadata": {
    "deletable": false,
    "editable": false
   },
   "source": [
    "## String indexing, slices, and substrings\n",
    "\n",
    "A string is much like a list. You can access individual characters and character ranges, by indexing. String are indexed starting from 0. Try it yourself below. Furthermore, for formatted printing a string, use `{:s}` as a placeholder:"
   ]
  },
  {
   "cell_type": "code",
   "execution_count": 7,
   "metadata": {},
   "outputs": [
    {
     "name": "stdout",
     "output_type": "stream",
     "text": [
      "all  vowels: ['k', 'd', 's', 'o', 'k', 'd', 'o', 'k', 'w', 'o', 'k', 'd', 'o', 'w', 'k', 'o', 'k', 'o', 'k', 'd', 'e', 'w']\n",
      "first vowel: k\n",
      "last  vowel: w\n",
      "other vowel: dsokdokwokdowkokokde\n",
      "my  numbers: 0123456789\n",
      "even number: 0,2,4,6,8\n",
      "odd numbers: 1,3,5,7,9\n"
     ]
    }
   ],
   "source": [
    "my_string = \"kdsokdokwokdowkokokdew\"\n",
    "print('all  vowels:', list( my_string ))\n",
    "print('first vowel: {:s}'.format(my_string[0]))\n",
    "print('last  vowel: {:s}'.format(my_string[ len(my_string)-1 ]))\n",
    "print('other vowel: {:s}'.format(my_string[ 1:len(my_string)-1 ]))\n",
    "\n",
    "# Note: join() is explained further down\n",
    "\n",
    "my_string = '0123456789'\n",
    "print('my  numbers: {:s}'.format(my_string))\n",
    "print('even number: {:s}'.format(','.join(my_string[0:len(my_string):2])))\n",
    "\n",
    "odds = slice(1,len(my_string),2)\n",
    "print('odd numbers: {:s}'.format(','.join(my_string[ odds ])))"
   ]
  },
  {
   "cell_type": "markdown",
   "metadata": {
    "deletable": false,
    "editable": false
   },
   "source": [
    "## String operations\n",
    " \n",
    "Strings come with a lot of helpful functions (of which `.format()` is just one!). We show some below. See [this article](https://realpython.com/python-strings/) for additional background. Experiment with them yourself! Some of the most important ones (apart from `.format()`, `+`, and `*`) are:\n",
    "* `len(my_string)         # the length of my_string`\n",
    "* `str( var )             # convert var to string`\n",
    "* `my_string.upper()      # make my_string uppercase`\n",
    "* `my_string.lower()      # same, lowercase`\n",
    "* `my_string.capitalize() # capitalize the first character, lower all others`\n",
    "* `my_char.join(my_list)  # join the characters in my_list by my_char`"
   ]
  },
  {
   "cell_type": "markdown",
   "metadata": {
    "deletable": false,
    "editable": false
   },
   "source": [
    "## String manipulation\n",
    "\n",
    "Strings are immutable types, so you cannot modify its content in place. With the below code\n",
    "\n",
    "#### DO THIS\n",
    "1. in `my_name = \"james bond\"` in the code below, try to change the `j` in a `J` and the `b` in a `B`, by changing characters `my_name[0]` and `my_name[6]`\n",
    "```\n",
    "    \n",
    "    my_name[0] = \"J\"\n",
    "    my_name[6] = \"B\"\n",
    "```\n",
    "Python will raise a `TypeError` complaining that strings do not permit this. What you should do is, one of:\n",
    "1. do this assignment:\n",
    "    ```\n",
    "        my_name = \"james bond\".title()   # title case: capitalize all words\n",
    "    ```\n",
    "2. do this:\n",
    "    ```\n",
    "        my_name = \"james bond\"\n",
    "        my_real_name = my_name.title()\n",
    "    ```\n",
    "3. or just re-assign:\n",
    "    ```\n",
    "        my_name = \"james bond\"\n",
    "        my_name = \"James Bond\"\n",
    "    ```\n",
    "    "
   ]
  },
  {
   "cell_type": "code",
   "execution_count": 8,
   "metadata": {},
   "outputs": [
    {
     "name": "stdout",
     "output_type": "stream",
     "text": [
      "my name is james bond ; James Bond !\n"
     ]
    }
   ],
   "source": [
    "my_name = \"james bond\"\n",
    "my_real_name = my_name.title()\n",
    "print(\"my name is\", my_name, ';', my_real_name, '!')"
   ]
  },
  {
   "cell_type": "markdown",
   "metadata": {
    "deletable": false,
    "editable": false
   },
   "source": [
    "## String comparison\n",
    "\n",
    "When comparing strings (in sorting, for instance), remember that strings are compared *lexicographically* and not *numerically* (like numbers)."
   ]
  },
  {
   "cell_type": "code",
   "execution_count": 9,
   "metadata": {},
   "outputs": [
    {
     "name": "stdout",
     "output_type": "stream",
     "text": [
      "my_string: This string is 32 positions long, length: 32\n",
      "my_other_string: My other string is somehwat longer, length: 34\n",
      "\n",
      "my_other_string <  my_string? : True\n",
      "my_other_string == my_string? : False\n",
      "my_other_string  > my_string? : False\n"
     ]
    }
   ],
   "source": [
    "my_string = \"This string is 32 positions long\"\n",
    "print('my_string: {:s}, length: {:d}'.format(my_string, len(my_string)))\n",
    "\n",
    "my_other_string = \"My other string is somehwat longer\"\n",
    "print('my_other_string: {:s}, length: {:d}'.format(my_other_string, len(my_other_string)))\n",
    "\n",
    "print()\n",
    "\n",
    "print('my_other_string <  my_string? : {:s}'.format( str(my_other_string < my_string) ))\n",
    "print('my_other_string == my_string? : {:s}'.format( str(my_other_string == my_string) ))\n",
    "print('my_other_string  > my_string? : {:s}'.format( str(my_other_string >  my_string) ))"
   ]
  },
  {
   "cell_type": "markdown",
   "metadata": {
    "deletable": false,
    "editable": false
   },
   "source": [
    "## Strings-to-numbers and numbers-to-strings\n",
    "\n",
    "How to handle numbers and numbers in the form of a string? If you want to handle them *as a number*, convert the string to a number (see below). For instance, to do computations or compare them as numbers. If you want to handle them as strings, compare the number to a string."
   ]
  },
  {
   "cell_type": "code",
   "execution_count": 10,
   "metadata": {},
   "outputs": [
    {
     "name": "stdout",
     "output_type": "stream",
     "text": [
      "my_string represents the value of my_eps: 0.100000\n",
      "my_eps represents the value of my_string: 0.1\n"
     ]
    }
   ],
   "source": [
    "my_string = '0.1'\n",
    "my_eps    =  0.1\n",
    "\n",
    "if  my_eps == float(my_string): # turn my_string into a real and compare ...\n",
    "    print('my_string represents the value of my_eps: {:f}'.format(float(my_string)))\n",
    "else:\n",
    "    print('values cannot be compared')\n",
    "    \n",
    "# the other way around ... Don't forget to change the placeholder! \n",
    "# observe how default numberic precision works if you don't specify decimales to print ...\n",
    "\n",
    "if str(my_eps) == my_string:    # turn my_eps into a string\n",
    "    print('my_eps represents the value of my_string: {:s}'.format(str(my_eps)))\n",
    "else:\n",
    "    print('values cannot be compared')"
   ]
  },
  {
   "cell_type": "markdown",
   "metadata": {
    "deletable": false,
    "editable": false
   },
   "source": [
    "## String formatting\n",
    "\n",
    "Strings can be formatted during creation, *not just when printing*. For formatted printing of strings, see *Notebook_23 on Formatted Printing*. For further background on string formatting, see [here](https://www.geeksforgeeks.org/python-format-function/). You should have observed that `.format()` is actually a string operation (or: string method). Below we show a few more."
   ]
  },
  {
   "cell_type": "code",
   "execution_count": 11,
   "metadata": {},
   "outputs": [
    {
     "name": "stdout",
     "output_type": "stream",
     "text": [
      "URL / domain        \tpath                    \tranked pages\t coverage\n",
      "--------------------\t------------------------\t------------\t---------\n",
      "http://www.tudelft.nl\t/en/eemcs/study/        \t    20%     \t      40%\n",
      "http://www.tudelft.nl\t/en/3me/education/      \t    18%     \t      13%\n",
      "http://www.uu.nl    \t/bachelors/en           \t    22%     \t      63%\n"
     ]
    }
   ],
   "source": [
    "# Compose a table of 4 fields and 'tab' from field to field ...\n",
    "\n",
    "f_widths = (20, 24, 12, 9)       # field  width field 1 .. 4\n",
    "f_aligns = ('<', '<', '^', '>')  # alignment of the field 1..4\n",
    "\n",
    "next_fld = '\\t'\n",
    "next_ln  = '\\n'\n",
    "\n",
    "# compose the field format specifications ...\n",
    "field_1  = '{:' + str(f_aligns[0]) + str(f_widths[0]) + 's}' # composes: '{:<8s}'\n",
    "field_2  = '{:' + str(f_aligns[1]) + str(f_widths[1]) + 's}'\n",
    "field_3  = '{:' + str(f_aligns[2]) + str(f_widths[2]) + 's}'\n",
    "field_4  = '{:' + str(f_aligns[3]) + str(f_widths[3]) + 's}'\n",
    "\n",
    "# the layout of a single line: fields as defined above ...\n",
    "line_tmpl = field_1 + next_fld + \\\n",
    "            field_2 + next_fld + \\\n",
    "            field_3 + next_fld + \\\n",
    "            field_4\n",
    "\n",
    "# use the line template to fill header lines and data line ...\n",
    "header   = line_tmpl.format(\"URL / domain\", \"path\", \"ranked pages\", \"coverage\")\n",
    "hbars    = line_tmpl.format(\"-\"*f_widths[0],\"-\"*f_widths[1],\"-\"*f_widths[2],\"-\"*f_widths[3])\n",
    "\n",
    "# now comes the data in each of the 'cells' ...\n",
    "data_ln_1= line_tmpl.format(\"http://www.tudelft.nl\", \"/en/eemcs/study/\", \"20%\", \"40%\")\n",
    "data_ln_2= line_tmpl.format(\"http://www.tudelft.nl\", \"/en/3me/education/\", \"18%\", \"13%\")\n",
    "data_ln_3= line_tmpl.format(\"http://www.uu.nl\", \"/bachelors/en\", \"22%\", \"63%\")\n",
    "\n",
    "# pack all data lines in a single string  ...\n",
    "data = data_ln_1 + next_ln + data_ln_2 + next_ln +  data_ln_3\n",
    "\n",
    "# ... and print all at once ...\n",
    "print(header + next_ln + hbars + next_ln + data)"
   ]
  },
  {
   "cell_type": "markdown",
   "metadata": {
    "deletable": false,
    "editable": false
   },
   "source": [
    "Here's another approach"
   ]
  },
  {
   "cell_type": "code",
   "execution_count": 12,
   "metadata": {},
   "outputs": [
    {
     "name": "stdout",
     "output_type": "stream",
     "text": [
      "HEADER ABOVE THIS TABLE\n",
      "-----------------------\n",
      "| 1.0| 2.0| 3| 4| 5| OK| \n",
      "| 1.0| 2.0| 3| 4| 5| OK| \n",
      "| 1.0| 2.0| 3| 4| 5| OK| \n"
     ]
    }
   ],
   "source": [
    "nl      = \"\\n\"\n",
    "vbar    = \"| \"\n",
    "space   = \" \"\n",
    "\n",
    "# try to create 'my_hdr' using: ' '.join([\"header\", \"above\", \"this\", \"table\"]), or even\n",
    "# using: space.join([\"header\", \"above\", \"this\", \"table\"]) ...\n",
    "my_hdr  = \"header\" + space + \"above\" + space + \"this\" + space + \"table\"\n",
    "my_hbar = \"-\" * len(my_hdr)                          # horizontal bar of length header\n",
    "my_vals = ['1.0', '2.0'] + ['3', '4', '5'] + [\"OK\"]  # some list of values (strings)\n",
    "my_data = vbar.join( my_vals )                       # connect all values by a vbar \n",
    "my_row  = vbar + my_data + vbar                      # add leftmost and rightmost bar\n",
    "\n",
    "print(my_hdr.upper() + nl + my_hbar + nl + my_row + nl + my_row + nl + my_row)"
   ]
  },
  {
   "cell_type": "markdown",
   "metadata": {
    "deletable": false,
    "editable": false
   },
   "source": [
    "Below, the use of `\\b` is being demonstrated. The typical use of this print character is to overwrite some values in a displayed number, status, input value or something similar."
   ]
  },
  {
   "cell_type": "code",
   "execution_count": 13,
   "metadata": {},
   "outputs": [
    {
     "name": "stdout",
     "output_type": "stream",
     "text": [
      "Printing: 1\b2\b3\b4\b5   (12345, but `\\b` 'backspaces', overwriting the same position all the time)\n"
     ]
    }
   ],
   "source": [
    "print(\"Printing: 1\\b2\\b3\\b4\\b5   \" \\\n",
    "      \"(12345, but `\\\\b` 'backspaces', overwriting the same position all the time)\")"
   ]
  },
  {
   "cell_type": "markdown",
   "metadata": {
    "deletable": false,
    "editable": false
   },
   "source": [
    "## Done"
   ]
  }
 ],
 "metadata": {
  "kernelspec": {
   "display_name": "Python 3",
   "language": "python",
   "name": "python3"
  },
  "language_info": {
   "codemirror_mode": {
    "name": "ipython",
    "version": 3
   },
   "file_extension": ".py",
   "mimetype": "text/x-python",
   "name": "python",
   "nbconvert_exporter": "python",
   "pygments_lexer": "ipython3",
   "version": "3.7.6"
  },
  "latex_envs": {
   "LaTeX_envs_menu_present": true,
   "autoclose": false,
   "autocomplete": true,
   "bibliofile": "biblio.bib",
   "cite_by": "apalike",
   "current_citInitial": 1,
   "eqLabelWithNumbers": true,
   "eqNumInitial": 1,
   "hotkeys": {
    "equation": "Ctrl-E",
    "itemize": "Ctrl-I"
   },
   "labels_anchors": false,
   "latex_user_defs": false,
   "report_style_numbering": false,
   "user_envs_cfg": false
  }
 },
 "nbformat": 4,
 "nbformat_minor": 2
}
