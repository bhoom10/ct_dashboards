{
 "cells": [
  {
   "cell_type": "markdown",
   "metadata": {
    "deletable": false,
    "editable": false
   },
   "source": [
    "<header>\n",
    "    <div style=\"overflow: auto;\">\n",
    "        <img src=\"https://digital-skills.tudelft.nl/nb_style/figures/TUDelft.jpg\" style=\"float: left;\" />\n",
    "        <img src=\"https://digital-skills.tudelft.nl/nb_style/figures/DUT_Flame.png\" style=\"float: right; width: 100px;\" />\n",
    "    </div>\n",
    "    <div style=\"text-align: center;\">\n",
    "        <h2><large>Digital Skills</large> -- Python Basic Programming --</h2>\n",
    "        <h6>&copy; 2019, TU Delft. Creative Commons</h6>     \n",
    "    </div>\n",
    "    <br>   \n",
    "    <br>\n",
    "</header>"
   ]
  },
  {
   "cell_type": "markdown",
   "metadata": {
    "deletable": false
   },
   "source": [
    "## What you will learn\n",
    "\n",
    "#### In the course as a whole\n",
    "This Notebook is one of several notebooks that make up the Python Basic Programming course. The **whole course** treats the following aspects of Python programming:\n",
    "* Variables (types, assignments, print formats, precision, operators; this part)\n",
    "* Control flow (for loops, while loops, conditions, and if-then-else statements)\n",
    "* Code Organization (Indentation, execution flow, import, functions)\n",
    "* Basic Plotting\n",
    " \n",
    "#### In this Notebook:\n",
    "In the remainder of **this Notebook**, we will further explore and practice 4 topics of the various variables Python offers:\n",
    "1. What is control flow\n",
    "2. Conditions, comparison operators, if-then-else\n",
    "3. Logical complement and negation\n",
    "4. For loops, while loops\n",
    "\n",
    "\n",
    "# Control flow -- conditions, if-then-else, loops\n",
    "\n",
    "You want your programs to handle a whole *class of cases*. In that case, you may quickly find yourself coping with special cases, exceptions, a missing value, a value out of bounds, etc. That being the case, your program will need what we call *if-then-else* branching, with *conditions* (or: *logical expressions*) the evaluation of which determine the path through your code Python will follow. *Loops*, also discussed in this notebook, bring in an element of controlled repetition of parts of your program. Collectively, these programming elements are referred to as *control flow*. They determine the selection and the order of operations (the *flow*) of your program execution.\n",
    "\n",
    "<img width=\"500\" src=\"./figures/control-flow1.png\"/>\n",
    "\n",
    "In the above code example, the darker code lines are executed for the input case (see header above the code), while grayed code lines are skipped. Which lines are executed and which are skipped depends on the condition `a > b` that is part of the `if a > b:` line. If the condition `a > b` holds (left column) the code lines of the else-part are skipped (in the example the grayed line: `print('max is b')`. If the condition does *not* hold (i.e, `a > b` evaluates to `False`, right column), the else-part is executed and the code block of the if-part is skipped. Of course, the condition in the if-then-else must be evaluated in all cases to discern the route through this 2-way execution path. You as a programmers control what is executed by means of the condition, in this case: `a > b`. \n",
    "\n",
    "## Comparison operators\n",
    "\n",
    "In the above example, `>` is called a *comparison operator*. Comparison operators are always defined for equal-typed `a` and `b`. If `a` and `b` are not of the same type, Python will attempt to convert so as to obtain equal types `a` and `b`. When a conversion method has been implemented (for instance `int` to `float`) you can readily use the comparison operators, Python will handle conversions needed. But if no such conversion has been implemented, the comparison will not work. For instance, when comparing a type `int` with a `str`. If the string contains the representation of a number, you can still enforce the conversion in your code (like: `a > int(b)`), but comparing just *any* string to an `int` makes no sense of course.\n",
    "\n",
    "|symbol|operation|code example|explanation|\n",
    "|:---:|:---|:---|:---|\n",
    "| `<` | smaller than | `a < b`| `True` if `a` has value smaller than value of `b`, `False` otherwise|\n",
    "| `<=`| smaller than or equal | `a <= b`| `True` if value `a` smaller than or equal to value `b`, `False` otherwise|\n",
    "| `==`| equal valued with | `a == b`| `True`, if values `a` and `b` are equal, `False` otherwise|\n",
    "| `>=`| greater than or equal | `a >= b`| `True` if `a` has at least value `b`, `False` if not |\n",
    "| `>` | greater than | `a > b`| `True` if `a` has value greater than value `b` |\n",
    "| `!=`| not equal-valued with | `a != b`| `True` if value `a` unequal value `b`, `False` if equal |\n",
    "| `<>`| idem | `a <> b`| same as `a != b` |\n",
    "\n",
    "#### DO THIS\n",
    "1. implement the code snippet we used in the above example in the code box below\n",
    "2. check the case in which `a = 12` and `b = 10`\n",
    "3. check the case in which `a = 10` and `b = 12`\n",
    "4. set `a = 10` and `b = 10`; before running this case, predict what your program will output by examining the code\n",
    "5. change the operator in the condition in line `if a > b:` such that the program in this case prints `max is a`"
   ]
  },
  {
   "cell_type": "code",
   "execution_count": 10,
   "metadata": {
    "tags": [
     "conditionals"
    ]
   },
   "outputs": [
    {
     "name": "stdout",
     "output_type": "stream",
     "text": [
      "a= 12 , b= 10\n",
      "max is a\n",
      "done\n"
     ]
    }
   ],
   "source": [
    "a = 12\n",
    "b = 10\n",
    "\n",
    "print('a=', a, ', b=', b)\n",
    "if a > b:\n",
    "    print('max is a')\n",
    "else:\n",
    "    print('max is b')\n",
    "print('done')"
   ]
  },
  {
   "cell_type": "markdown",
   "metadata": {
    "deletable": false,
    "editable": false
   },
   "source": [
    "## Conditions\n",
    "\n",
    "Conditions (or: logical expressions) can be as simple as: `a > b`, but can also be complicated and composed of multiple parts, like in: `a > b or a == b`. The evaluation of the whole condition comes down to determining the logical values `True` or `False` of each of the parts, and using logical operators `not`, `and`, and `or`. The final result of the evaluation of the whole condition is always one single value `True` or `False`. Examples of composite conditions:\n",
    "\n",
    "```python\n",
    "a = 12\n",
    "b = 10\n",
    "\n",
    "if a > 10 and b > 10:\n",
    "    print('both a and b exceed value 10')\n",
    "else:\n",
    "    print('at least one of a and b has value 10 or smaller')\n",
    "```\n",
    "We might code `(a > 10) and (b > 10)` to enforce evaluation of the parts within the parentheses first, but Python will do this anyway, according to its **operator precedence** (see [the Python documentation](https://docs.python.org/3/reference/expressions.html#operator-precedence)). For the case `a = 12` and `b = 10`, condition evaluation leads to `True and False` which is finally evaluated to `False`. Consequently, execution flow will go down the else-part (verify it!). We also might code `a > 10 and b > 10 == True`, but the evaluation of a condition always results in a `True` or `False`. Adding `== True` creates another condition, and is unconventional. It is discouraged to do this [see PEP8 Style Guide](https://www.python.org/dev/peps/pep-0008/)\n",
    "\n",
    "#### DO THIS\n",
    "1. copy-paste the code of the example above in the code box below. For value pairs:\n",
    "  - `a = 12, b = 12`\n",
    "  - `a = 12, b = 10`\n",
    "  run the program\n",
    "2. implement condition `(a > 10) and (b > 10) == True` and run the program. Is it working correctly?\n",
    "3. remove ` == True` and rerun. Is it still working correctly?\n",
    "4. finally remove the parentheses from your condition (to return to the original condition) and verify if your program still works correctly\n",
    "5. replace `and` with `or` and rerun the two cases with the value pairs as above. What needs to be changed in the `print()` lines to produce the correct output?"
   ]
  },
  {
   "cell_type": "code",
   "execution_count": 11,
   "metadata": {
    "tags": [
     "conditionals"
    ]
   },
   "outputs": [
    {
     "name": "stdout",
     "output_type": "stream",
     "text": [
      "at least one of a and b has value 10 or smaller\n"
     ]
    }
   ],
   "source": [
    "a = 12\n",
    "b = 10\n",
    "\n",
    "if a > 10 and b > 10:\n",
    "    print('both a and b exceed value 10')\n",
    "else:\n",
    "    print('at least one of a and b has value 10 or smaller')"
   ]
  },
  {
   "cell_type": "markdown",
   "metadata": {
    "deletable": false,
    "editable": false
   },
   "source": [
    "If-then-else constructs can be nested, like so:\n",
    "```python\n",
    "a = 12\n",
    "b = 10\n",
    "\n",
    "if a > 10:\n",
    "    print('a exceeds value 10')\n",
    "    if b > 10:\n",
    "        print('both a and b exceed value 10')\n",
    "    else:\n",
    "        print('a exceeds 10, but b has value 10 or smaller')\n",
    "else:\n",
    "    print('a has value 10 or smaller')\n",
    "```\n",
    "Observe that instead of a composite condition, we can also break down the control flow in nested if-then-else constructs.\n",
    "\n",
    "#### DO THIS\n",
    "1. copy-paste the code of the example above in the code box below. For value pairs:\n",
    "  - `a = 12, b = 12`\n",
    "  - `a = 12, b = 10`\n",
    "2. run the program and verify its correctness"
   ]
  },
  {
   "cell_type": "code",
   "execution_count": 12,
   "metadata": {
    "tags": [
     "conditionals"
    ]
   },
   "outputs": [
    {
     "name": "stdout",
     "output_type": "stream",
     "text": [
      "a exceeds value 10\n",
      "a exceeds 10, but b has value 10 or smaller\n"
     ]
    }
   ],
   "source": [
    "a = 12\n",
    "b = 10\n",
    "\n",
    "if a > 10:\n",
    "    print('a exceeds value 10')\n",
    "    if b > 10:\n",
    "        print('both a and b exceed value 10')\n",
    "    else:\n",
    "        print('a exceeds 10, but b has value 10 or smaller')\n",
    "else:\n",
    "    print('a has value 10 or smaller')"
   ]
  },
  {
   "cell_type": "markdown",
   "metadata": {
    "deletable": false,
    "editable": false
   },
   "source": [
    "We want to combine the two above programs and we want to know precisely *which* of the variables `a` and `b` have value 10 or smaller:\n",
    "  - `a and b`\n",
    "  - only `a` or:\n",
    "  - only `b`\n",
    "\n",
    "We use the below code skeleton for that:\n",
    "```python\n",
    "if a > 10 and b > 10:\n",
    "    print('both a and b exceed value 10')\n",
    "else:\n",
    "    if a <= 10:\n",
    "        if b <= 10:\n",
    "            print('...')\n",
    "        else:\n",
    "            print('...')\n",
    "    else:\n",
    "        print('...')\n",
    "``` \n",
    "\n",
    "#### DO THIS\n",
    "1. copy-paste the code of the code skeleton above in the code box below\n",
    "2. in the `print()` code lines, replace the `...` by a message that reflects exactly one of the three cases: `a and b` have value 10 or snaller, or: only `a` or: only `b`\n",
    "3. run the program and verify its correctness for value pairs:\n",
    "  - `a = 12, b = 12`\n",
    "  - `a = 12, b = 10`\n",
    "  - `a = 10, b = 10`"
   ]
  },
  {
   "cell_type": "code",
   "execution_count": 13,
   "metadata": {
    "tags": [
     "conditionals"
    ]
   },
   "outputs": [
    {
     "name": "stdout",
     "output_type": "stream",
     "text": [
      "...\n"
     ]
    }
   ],
   "source": [
    "a = 10\n",
    "b = 12\n",
    "\n",
    "if a > 10 and b > 10:\n",
    "    print('both a and b exceed value 10')\n",
    "else:\n",
    "    if a <= 10:\n",
    "        if b <= 10:\n",
    "            print('...')\n",
    "        else:\n",
    "            print('...')\n",
    "    else:\n",
    "        print('...')"
   ]
  },
  {
   "cell_type": "markdown",
   "metadata": {
    "deletable": false,
    "editable": false
   },
   "source": [
    "## logical complement and negation\n",
    "\n",
    "Any condition, no matter how complicated, can be negated (i.e, taking the **logical complement**), by putting the whole condition in parentheses and negating it. Look at the below code; if you think of the set of values pairs for `a` and `b` that go down the if-branch given the condition `a > 12 and b > 12`, than the complement of that set is the set of value pairs that go down the else-branch. You can think of the logical complement of condition `a > 12 and b > 12` as the **associated condition** that **interchanges** these two flows. \n",
    "\n",
    "```python\n",
    "if a > 12 and b > 12:\n",
    "    print('a and b above 12')\n",
    "else:\n",
    "    print('logical complement: a <= 12 or b <= 12')\n",
    "```\n",
    "Recall that condition `a <= 12 or b <= 12` evaluates to `True` if either `a` has value 12 or less, or `b` has value 12 or less, or both `a` and `b` have value 12 or less. The logical complement of `a > 12 and b > 12` is equivalent to: `a <= 12 or b <= 12` is equivalent to: `not( a > 12 ) or not( b > 12 )` which is equivalent to: `not (a > 12 and b > 12)`. Determining `not( ... )` is a logical operation known as **negation**. The effect of the parentheses is that the condition within the parentheses is evaluated completely, before the result of the condition is negated: `not a > 12 and b > 12` would evaluate to a result that differs from the evaluation of `not(a > 12 and b > 12)`, see [here](https://docs.python.org/3/reference/expressions.html#operator-precedence).\n",
    "\n",
    "With the below code\n",
    "\n",
    "#### DO THIS\n",
    "1. verify the correctness of the code by running the code for value pairs: \n",
    " - `a = N,   b = N`\n",
    " - `a = N+1, b = N-1`\n",
    " - `a = N+1, b = N+1`\n",
    "2. interchange the two `print()` code lines and *negate* the condition in `if a > N and b > N:` so that the modified code outputs correct results for all use cases again, as above\n",
    "3. redo this whole exercise using the condition `a >= N and b >= N`"
   ]
  },
  {
   "cell_type": "code",
   "execution_count": 14,
   "metadata": {
    "tags": [
     "conditionals"
    ]
   },
   "outputs": [
    {
     "name": "stdout",
     "output_type": "stream",
     "text": [
      "logical complement: a <= 12  or b <= 12\n"
     ]
    }
   ],
   "source": [
    "N = 12\n",
    "a = N\n",
    "b = N\n",
    "if a > N and b > N:\n",
    "    print('a and b above', N)\n",
    "else:\n",
    "    print('logical complement: a <=', N, ' or b <=', N)"
   ]
  },
  {
   "cell_type": "markdown",
   "metadata": {
    "deletable": false,
    "editable": false
   },
   "source": [
    "Observe that comparison operators we've seen so far compare **by value**. Comparison **by address** is also supported: \n",
    "\n",
    "|symbol|operation|code example|explanation|\n",
    "|:---:|:---|:---|:---|\n",
    "| `is` | is identical to | `a is b`| `True` if `a` and `b` are two variable names connected to the same value identity, `False` otherwise|\n",
    "| `is not` | is not identical to | `a is not b`| `True` if `a` and `b` are not sharing the same identity, `False` if identical|\n",
    "\n",
    "We will not go into comparison by address here, with one exception: comparison to `None`. There is only one `None` value object in Python, and when you assign `a = None` and `b = None`, both will be assigned the **identity** of `None`. In other words, `a` and `b` share the same identity, namely that of `None`. Hence, `a is None` in this case, will always yield `True`, as well as `b is None` as well as `a is b` as long as you don not reassign `a` or `b` another value. In accordance with the PEP8 Python Style Guide, comparison to `None` by address is recommended. In general, we recommend following PEP8 as closely as possible; it contains all the **best practices** for coding in Python.\n",
    "\n",
    "with the below code\n",
    "\n",
    "#### DO THIS\n",
    "1. initialize `a` and `b` to `None` and run the program\n",
    "2. assign `a = 1.0` and rerun the program\n",
    "3. next, assign also `b = -1.0` and rerun the program\n",
    "4. set `a` and `b` back to `None`, replace operators `is` by `is not` in the condition and replace `or` by `and`. Adapt the messages in `print()` to make the program to produce the correct results. Redo the steps above"
   ]
  },
  {
   "cell_type": "code",
   "execution_count": 15,
   "metadata": {
    "tags": [
     "conditionals"
    ]
   },
   "outputs": [
    {
     "name": "stdout",
     "output_type": "stream",
     "text": [
      "value a: None , value b: None\n",
      "identities a: 140732109708512 b: 140732109708512 , None: 140732109708512\n",
      "a or b None\n"
     ]
    }
   ],
   "source": [
    "a = None\n",
    "b = None\n",
    "\n",
    "print('value a:', a, ', value b:', b)\n",
    "print('identities a:', id(a), 'b:', id(b), ', None:', id(None))\n",
    "\n",
    "if a is None or b is None:\n",
    "    print('a or b None')\n",
    "else:\n",
    "    print('neither a nor b None')\n",
    "    "
   ]
  },
  {
   "cell_type": "markdown",
   "metadata": {
    "deletable": false,
    "editable": false
   },
   "source": [
    "## Loops\n",
    "\n",
    "A *loop* in computer parlance, is a controlled repetitive execution of a group of instructions. In Python, you can create loops using the keyword(s)`for in` or using the keyword `while`. We will be working with both forms, starting with `for in`.\n",
    "\n",
    "#### DO THIS\n",
    "1. recall the variable type `range()` from **Notebook-20 on Variables** and recall the parameters it takes to construct a `range()`. \n",
    "2. run the below program and carefully check the output it gives\n",
    "3. make the program start at `k` equal to `0`\n",
    "4. remember that `range()` stops right before `stop`, so to include `k = 10` we specify `stop = 11`. Replace `11` by `10 + 1` and rerun the program. Count how many lines the program prints. Verify that the loop produces 10-0+1 = 11 - 0 = `stop - start` lines\n",
    "5. add a line to the program (below the loop, not in the loop), printing the number of lines"
   ]
  },
  {
   "cell_type": "code",
   "execution_count": 16,
   "metadata": {
    "tags": [
     "loops"
    ]
   },
   "outputs": [
    {
     "name": "stdout",
     "output_type": "stream",
     "text": [
      "value k: 1\n",
      "value k: 2\n",
      "value k: 3\n",
      "value k: 4\n",
      "value k: 5\n",
      "value k: 6\n",
      "value k: 7\n",
      "value k: 8\n",
      "value k: 9\n",
      "output: 9 lines\n"
     ]
    }
   ],
   "source": [
    "start = 1\n",
    "stop  = 10\n",
    "\n",
    "for k in range(start, stop):\n",
    "    print('value k:', k)\n",
    "print('output:', stop-start, 'lines')"
   ]
  },
  {
   "cell_type": "markdown",
   "metadata": {
    "deletable": false,
    "editable": false
   },
   "source": [
    "We are going to print our top-10 of electric cars. We are now going to use variable `k` to loop over the list and print the top-10 and the top-5.\n",
    "\n",
    "Using the below code box\n",
    "\n",
    "#### DO THIS\n",
    "1. copy-paste this list in the below code box. \n",
    "```python\n",
    "my_e_car = ['Tesla model S', 'BMW i3', 'Kia e-Niro', 'Nissan Leaf', 'Opel Ampera', \n",
    "            'Volkswagen e-Golf', 'Hyundai Ioniq EV', 'Renault Zoe R110', 'Kia Soul EV', \n",
    "            'Hyundai Kona Electric']\n",
    "```\n",
    "2. print the list of electric cars, using `print('position:', k, ' e-car:', my_e_cars[k])` in the `for` loop instead of printing `k`. Adapt `start`, and `stop` to print the whole list\n",
    "3. the **position** is 1 off, because we start at `start=0`; set `start = 1` and `stop=11`. Rerun; what happens? Why? Reset to `start = 0` and `stop=10`, and change `print('position:', k, ' e-car:', my_e_cars[k])` to `print('position:', k+1, ' e-car:', my_e_cars[k])`. Rerun. Does it work now? Why does it work now?\n",
    "4. rerun the program with simply `for k in range(len(my_e_car)):` and rerun\n",
    "5. append a line to the program, below the loop: `print('top -', len(my_e_car), 'of e-cars')` and rerun the program\n",
    "6. shorten your `my_e_car` list to a top-5 (remove the last 5 items) and rerun the program. Does it work, still?"
   ]
  },
  {
   "cell_type": "code",
   "execution_count": 17,
   "metadata": {
    "tags": [
     "loops"
    ]
   },
   "outputs": [
    {
     "name": "stdout",
     "output_type": "stream",
     "text": [
      "position: 0  e-car: Tesla model S\n",
      "position: 1  e-car: BMW i3\n",
      "position: 2  e-car: Kia e-Niro\n",
      "position: 3  e-car: Nissan Leaf\n",
      "position: 4  e-car: Opel Ampera\n",
      "position: 5  e-car: Volkswagen e-Golf\n",
      "position: 6  e-car: Hyundai Ioniq EV\n",
      "position: 7  e-car: Renault Zoe R110\n",
      "position: 8  e-car: Kia Soul EV\n",
      "position: 9  e-car: Hyundai Kona Electric\n"
     ]
    }
   ],
   "source": [
    "start = 0\n",
    "stop  = 10\n",
    "\n",
    "my_e_car = ['Tesla model S', 'BMW i3', 'Kia e-Niro', 'Nissan Leaf', 'Opel Ampera', \n",
    "            'Volkswagen e-Golf', 'Hyundai Ioniq EV', 'Renault Zoe R110', 'Kia Soul EV', \n",
    "            'Hyundai Kona Electric']\n",
    "\n",
    "for k in range(start, stop):\n",
    "    print('position:', k, ' e-car:', my_e_car[k])\n"
   ]
  },
  {
   "cell_type": "markdown",
   "metadata": {
    "deletable": false,
    "editable": false
   },
   "source": [
    "## While loops\n",
    "\n",
    "A while loop is a loop that executes **as long as some condition holds**, like so:"
   ]
  },
  {
   "cell_type": "code",
   "execution_count": 18,
   "metadata": {
    "tags": [
     "loops"
    ]
   },
   "outputs": [
    {
     "name": "stdout",
     "output_type": "stream",
     "text": [
      "after 13 times taking the root, the loop terminated.\n"
     ]
    }
   ],
   "source": [
    "import math  # import math functions\n",
    "\n",
    "big_number = 1.8498393322e+12\n",
    "nth_sqrt   = big_number\n",
    "n          = 0\n",
    "\n",
    "while nth_sqrt > 1.005:             # nth-root for n goes to +inf is 1\n",
    "    nth_sqrt = math.sqrt(nth_sqrt)  # take its root again\n",
    "    n = n + 1\n",
    "\n",
    "print('after', n, 'times taking the root, the loop terminated.')"
   ]
  },
  {
   "cell_type": "markdown",
   "metadata": {
    "deletable": false,
    "editable": false
   },
   "source": [
    "in which `nth_sqrt > 1.005` is the condition to be held for the while loop to continue. With the above code:\n",
    "\n",
    "#### DO THIS\n",
    "1. run the program for the first time and observe the value of `n` at which the condition apparently became `False`\n",
    "2. change `big_number = 100.0` and rerun the program. Does it still execute the while loop the same number of times?\n",
    "3. set `big_number = 1.000` and rerun. How many times is the while loop executed now? Could we have done this program with a for loop you think? Why not?\n",
    "4. reset `big_number` to an arbitrary big number again. Now comment out the line `nth_sqrt = math.sqrt(nth_sqrt)`, by putting a comment token `#` in the first position on that line. If you rerun the program now, your program is not going to terminate! Before pressing the run button, analyze **why not**\n",
    "5. then run and wait a while. Your program will be **hanging**. Interrupt the program by clicking with the mouse in the cell, then in the top menu, select **Kernel->Interrupt** or even **Kernel->Restart** if necessary. Occasionally, when something like this happens, you need to restart Jupyter Notebooks. This should motivate you to always verify that your while loop terminates properly!\n",
    "6. we are going to protect our code by means of a maximum number of loop executions. Not very elegant, but as long as our code is under development, is may save us from time to time. We already keep track of `n` and if `n` exceeds say 100, we force control flow to exit the while loop with a `break` . Just below the line `n = n + 1` add code lines: \n",
    "```python\n",
    "    if n > 100:\n",
    "        break\n",
    "```\n",
    "  Add this to your code and check again if your program ends now."
   ]
  },
  {
   "cell_type": "markdown",
   "metadata": {
    "deletable": false,
    "editable": false
   },
   "source": [
    "## Done"
   ]
  }
 ],
 "metadata": {
  "celltoolbar": "Edit Metadata",
  "kernelspec": {
   "display_name": "Python 3",
   "language": "python",
   "name": "python3"
  },
  "language_info": {
   "codemirror_mode": {
    "name": "ipython",
    "version": 3
   },
   "file_extension": ".py",
   "mimetype": "text/x-python",
   "name": "python",
   "nbconvert_exporter": "python",
   "pygments_lexer": "ipython3",
   "version": "3.8.10"
  },
  "latex_envs": {
   "LaTeX_envs_menu_present": true,
   "autoclose": false,
   "autocomplete": true,
   "bibliofile": "biblio.bib",
   "cite_by": "apalike",
   "current_citInitial": 1,
   "eqLabelWithNumbers": true,
   "eqNumInitial": 1,
   "hotkeys": {
    "equation": "Ctrl-E",
    "itemize": "Ctrl-I"
   },
   "labels_anchors": false,
   "latex_user_defs": false,
   "report_style_numbering": false,
   "user_envs_cfg": false
  }
 },
 "nbformat": 4,
 "nbformat_minor": 2
}
