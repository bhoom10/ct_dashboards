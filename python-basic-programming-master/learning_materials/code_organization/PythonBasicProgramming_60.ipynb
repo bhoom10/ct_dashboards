{
 "cells": [
  {
   "cell_type": "markdown",
   "metadata": {
    "deletable": false,
    "editable": false
   },
   "source": [
    "<header>\n",
    "    <div style=\"overflow: auto;\">\n",
    "        <img src=\"https://digital-skills.tudelft.nl/nb_style/figures/TUDelft.jpg\" style=\"float: left;\" />\n",
    "        <img src=\"https://digital-skills.tudelft.nl/nb_style/figures/DUT_Flame.png\" style=\"float: right; width: 100px;\" />\n",
    "    </div>\n",
    "    <div style=\"text-align: center;\">\n",
    "        <h2><large>Digital Skills</large> -- Python Basic Programming --</h2>\n",
    "        <h6>&copy; 2019, TU Delft. Creative Commons</h6>     \n",
    "    </div>\n",
    "    <br>   \n",
    "    <br>\n",
    "</header>"
   ]
  },
  {
   "cell_type": "markdown",
   "metadata": {
    "deletable": false,
    "editable": false
   },
   "source": [
    "## What you will learn\n",
    "\n",
    "#### In the course as a whole\n",
    "This Notebook is one of several notebooks that make up the Python Basic Programming course. The **whole course** treats the following aspects of Python programming:\n",
    "\n",
    " * Variables (types, assignments, print formats, precision, operators; this part)\n",
    " \n",
    " * Control flow (for loops, while loops, conditions, and if-then-else statements)\n",
    "\n",
    " * Code Organization (Indentation, execution flow, import, functions)\n",
    " \n",
    " * Basic Plotting\n",
    " \n",
    "#### In this Notebook:\n",
    "In the remainder of **this Notebook**, we will further explore and practice source code organization:\n",
    "\n",
    " 1. How indentation of Python source code works\n",
    "\n",
    " 2. Next, you learn how to structure your Python code, to minimize the risk of errors. Also, you learn how Python executes your code\n",
    "\n",
    " 3. How to import modules and how their content is added to, and to be used in your program\n",
    "\n",
    " 4. How to think about, design, implement and use functions"
   ]
  },
  {
   "cell_type": "markdown",
   "metadata": {
    "deletable": false,
    "editable": false
   },
   "source": [
    "# Source Code Organization (indentation, execution, functions, import)\n",
    "\n",
    "## Indentation\n",
    "In programming, you often need to group source code lines together in what is usually called a *block*, in a loop for instance. See the below code example. Below `a` and `b` are two integers, `a` greater than `b`;\n",
    "```python\n",
    "a = 16\n",
    "b = 10\n",
    "# make a and b be at most 2 apart\n",
    "while a - b > 2:\n",
    "    a -= 1    # decrement a by 1\n",
    "    b += 1    # increment b by 1\n",
    "print('after equalizing a and b: a=', a, ' and b=', b)\n",
    "```\n",
    "How should Python discern that the block of code lines that belongs to the `while`-loop, and need to be executed when the condition `a - b > 2` holds, include the lines:\n",
    "```python \n",
    "    a -= 1    # decrement a by 1\n",
    "    b += 1    # increment b by 1\n",
    "```\n",
    "but not the `print()`? Well you can guess that this is due to the indentation. Indeed it is. Python *reads* structure from the indentation. In other words; in Python, indentation *matters*. The result of the above program is: `a` equal to 14, `b` equal to 12. If you remove the indentation spaces in front of `b += 1`, the result will be `a` equal to 12, `b` equal to 11. This does not to an error, because it is the last line of the indented block. Were you to remove the space in front of `a -= 1`, then what results is:\n",
    "\n",
    "```python\n",
    "File \"<ipython-input-7-6d7322eeec42>\", line 5\n",
    "    a -= 1    # decrement a by 1\n",
    "    ^\n",
    "IndentationError: expected an indented block\n",
    "```\n",
    "an `IndentationError`. \n",
    "\n",
    "#### DO THIS\n",
    "1. do the experiment yourself, below!"
   ]
  },
  {
   "cell_type": "code",
   "execution_count": 2,
   "metadata": {
    "tags": [
     "sequences"
    ]
   },
   "outputs": [
    {
     "name": "stdout",
     "output_type": "stream",
     "text": [
      "the equalized values of a and b: a= 14  and b= 12\n"
     ]
    }
   ],
   "source": [
    "a = 16\n",
    "b = 10\n",
    "# make a and b be atmost 2 apart\n",
    "while a - b > 2:\n",
    "    a -= 1    # decrement a by 1\n",
    "    b += 1    # increment b by 1\n",
    "print('the equalized values of a and b: a=', a, ' and b=', b)"
   ]
  },
  {
   "cell_type": "markdown",
   "metadata": {
    "deletable": false,
    "editable": false
   },
   "source": [
    "#### Remarks\n",
    "Indentation in Python is pretty straightforward, but there are a few *must knows*;\n",
    "- Python does not prescribed *how much* you indent, just that *within a single block*, all indentations are the same\n",
    "- there is no need for blocks to all have exactly the same indentation. The width of the indentation of one block may be 1 space, while others are 40 space, *as long as it is consistent within a single block*\n",
    "- indentation only has significance for *leading* indentation; indentation with which your code line starts and which extends until the first non-whitespace character or token\n",
    "- Python uses whitespace for indentation, which is a combination of TABs and spaces. Python3 is more restrictive than Python2; we recommend to use only spaces (see below, how editors can be tweaked to do so for you)\n",
    "\n",
    "Most *Python(-aware) editors* are very helpful in this respect;\n",
    "* Python-syntax aware editors jump already to the correct level of indentation, if needed, and  conventionally indent by 4 space, no tabs\n",
    "* even when you use the TAB key to move right to indent, editors tend to replace the TAB-characters by 4 spaces\n",
    "* in a Python editor, if you want to increase or decrease indentation, select the lines to move and press TAB to increase, and Shift+TAB to decrease indentation\n",
    "* even when copy-pasting, some editors may themselves correct or signal any inconsistencies in indentation white space. However, be aware that not every editor does this and changing editors, may result in unexpected behavior. The indentation within a single block must be composed exactly the same way; you must not have a TAB character in one line and only spaces in the next. Even if your code lines seemingly line up perfectly, you may have to redo the indentation to get rid of a persisting `IndentationError`. Such difficulties appear often when you copy-paste code lines (Python2? Python3?) and/or mix the use of different editors on the same program\n",
    "\n",
    "With the below code (a slightly modified version of the above):\n",
    "\n",
    "#### DO THIS\n",
    "1. run the program with *initial values* for `a` and `b`;\n",
    "  - `a` smaller than `b`\n",
    "  - `a` equal to `b`\n",
    "  - `a` greater than `b`\n",
    "  and check the output of the equalization process\n",
    "2. select all of the code lines within a single block. Then press TAB a few times. Rerun the program and see is you get an error. Is this what you expected?\n",
    "3. select all the code lines in another block and hit the TAB once. Rerun the program and verify the result\n",
    "4. select all lines in a third block. *detab* (i.e, press Shift+TAB) until there is no indentation left. Unselect the lines and put a single space before each line, so that the resulting indentation is just 1 space. Rerun the program\n",
    "5. put the cursor immediately after a colon ':' and press Enter. The editor will jump to the next indentation level. That is the default indentation width (most likely: 4 spaces). ALign all blocks again to that indentation width. Rerun the program and verify there are no indentation problems left"
   ]
  },
  {
   "cell_type": "code",
   "execution_count": 3,
   "metadata": {
    "tags": [
     "sequences"
    ]
   },
   "outputs": [
    {
     "name": "stdout",
     "output_type": "stream",
     "text": [
      "equalization result;\n",
      "... a and b differ by 1 after equalization ...\n",
      "... values of a and b: a= 23  b= 22\n"
     ]
    }
   ],
   "source": [
    "a = 35\n",
    "b = 10\n",
    "# make a and b differ by atmost 1\n",
    "while a - b >= 2:\n",
    "    a -= 1    # decrement a by 1\n",
    "    b += 1    # increment b by 1\n",
    "print('equalization result;')\n",
    "if a < b:\n",
    "    print('... wrong input values ...')\n",
    "    print('... specify values a >= b')\n",
    "elif a == b:\n",
    "    print('... a and b equal after equalization ...')\n",
    "    print('... value of both a and b is:', a)\n",
    "else:\n",
    "    print('... a and b differ by 1 after equalization ...')\n",
    "    print('... values of a and b: a=', a, ' b=', b)"
   ]
  },
  {
   "cell_type": "markdown",
   "metadata": {
    "deletable": false,
    "editable": false
   },
   "source": [
    "#### Indentation and long code lines\n",
    "Sooner or later, your code line takes up more than 80 characters; a long `print()` for instance. How to fix this? Do this: use the escape character `\\` *as the **last character** on your long line* and then continue on the next line. The escape character undoes the end-of-line line break and as a result, Python *sees* your multiple line parts as one long line. A line break `\\n` is a non-printable character, and that's why you won't see it. You can use this code line extension multiple times for a single long line. For the continuation on the next line, *indentation rules do not apply* (after all, it is note the leading indentation). \n",
    "\n",
    "Even *without* an escape character, Python may interpret that you spreading your code line across multiple physical lines in your program, depending on *how* you spread it. When you have begun a tuple, a list, a series of items to print, a function parameter list, and a couple of other occasions, Python even without a `\\` understands that it has to merge a number of physical lines in your program to complete the current code construct (actually, it just skips any whitespace characters and line breaks until it sees the closure of the current construct). We will soon see an example below. In all instances, you can enforce continuation of the current code line on a next physical line using the `\\`. In some occasions, wrapping multiple parts on multiple lines by parentheses `(` and `)` also works.\n",
    "\n",
    "Experiment with the below code to see how this works;\n",
    "\n",
    "#### DO THIS\n",
    "1. in the below code, run the code skeleton to see what the program in its initial state does\n",
    "2. next, move the second line in the `print()` construct (the line with 'dislocation:'), to the right or the left and rerun. Do the indentation rules apply here?\n",
    "3. move the **first** line in the `print()` construct (the line that starts with `print()`) to the right and rerun. Do indentation rules apply here?\n",
    "4. next, in the assignment of the `target_point_coord`, move `(2088283, 7847832)` to a newly inserted line, and rerun. You will see a `SyntaxError`. Indent it and rerun. Does this remove the error?\n",
    "5. now append a `\\` to the end of the line `target_point_coords = `, like so: `target_point_coords = \\` and rerun\n",
    "6. change \n",
    "```python\n",
    "target_point_coords = \\\n",
    "    (2088283, 7847832)\n",
    "```\n",
    "  to:\n",
    "```python\n",
    "target_point_coords = (\n",
    "    (2088283, 7847832)\n",
    ")\n",
    "```\n",
    "  and rerun. Does this work too?\n",
    "7. now append a `\\` to all the physical lines of the `print()` code line, like so:\n",
    "```python\n",
    "print('Lunar Fox laser beam geometry performance verification,', \\\n",
    "      'dislocation:', \\\n",
    "      math.sqrt( (impact_point_coords[0] - target_point_coords[0] )**2  + \\\n",
    "                 (impact_point_coords[1] - target_point_coords[1] )**2  ) )\n",
    "```\n",
    "  and rerun\n",
    "8. move the cursor at one of the `\\`s and move it right (but do *not* put anything after the `\\` on the same line). Rerun to see the effect of extra whitespace *before* the `\\`\n",
    "9. now add a `\\` also to the last line, like so: \n",
    "  `                 (impact_point_coords[1] - target_point_coords[1] )**2  ) ) \\`\n",
    "  run it; it should give no problem (although you do not need to break the last line of course, since there is no continuation anymore). It runs because it is the very last line\n",
    "10. now append an extra code line right under the last line, like so:\n",
    "```python\n",
    "                 (impact_point_coords[1] - target_point_coords[1] )**2  ) ) \\\n",
    "print('Verification done.')\n",
    "```\n",
    "  if you run your program now, you'll see a `SyntaxError`, because due to the last `\\`, Python also want to merge this newly added line, which of course results in an error\n",
    "11. remove the the `\\` from the last line of the `print()` again, and rerun. Your program code should show nicely lined up now, and working\n",
    "\n",
    "For recommendations on multi-line code statements, refer to the [PEP8 Style Guide](https://www.python.org/dev/peps/pep-0008/) and [this article about PEP8](https://realpython.com/python-pep8/#tabs-vs-spaces)"
   ]
  },
  {
   "cell_type": "code",
   "execution_count": 1,
   "metadata": {
    "tags": [
     "sequences"
    ]
   },
   "outputs": [
    {
     "name": "stdout",
     "output_type": "stream",
     "text": [
      "Lunar Fox laser beam geometry performance verification, dislocation: 348.3633160939883\n",
      "Verification done.\n"
     ]
    }
   ],
   "source": [
    "import math\n",
    "\n",
    "target_point_coords = (2088283, 7847832)\n",
    "impact_point_coords = (2087949, 7847931)\n",
    "\n",
    "print('Lunar Fox laser beam geometry performance verification,',\n",
    "      'dislocation:',\n",
    "      math.sqrt( (impact_point_coords[0] - target_point_coords[0] )**2  +\n",
    "                 (impact_point_coords[1] - target_point_coords[1] )**2  ) )\n",
    "print('Verification done.')"
   ]
  },
  {
   "cell_type": "markdown",
   "metadata": {
    "deletable": false,
    "editable": false
   },
   "source": [
    "## Execution flow\n",
    "Execution flow is nothing more than the code lines Python executes, as dictated by your control flow. Python is an *interpreted programming language*, which in contrast to a *compiled language*, cannot discover missing parts, incompatible types, and what have you, *until it is executing* your code. Therefore, the principal rule when working with Python is: *define before you use*. You cannot refer to some function before Python has *seen* its definition!\n",
    "\n",
    "Discover it yourself. Using the below code (Hint: switch line numbers on; **View->Toggle Line Numbers**)\n",
    "\n",
    "#### DO THIS\n",
    "1. run the below code; it will give a `NameError`:\n",
    "```python\n",
    "    NameError                                 Traceback (most recent call last)\n",
    "    <ipython-input-3-d45528cc61cb> in <module>()\n",
    "          8 tool_missing = False\n",
    "          9 \n",
    "    ---> 10 for step in my_activities:\n",
    "         11     # select best tool for this assembly step ...\n",
    "         12     if step in ('fix', 'install'):     # if activity is one of 'fix' or 'install'\n",
    "\n",
    "    NameError: name 'my_activities' is not defined\n",
    "```\n",
    "\n",
    "2. analyze:\n",
    "  * in which line this error occurs\n",
    "  * what has been defined at that point and what not\n",
    "  * what therefore must be the cause of this error\n",
    "3. repair it"
   ]
  },
  {
   "cell_type": "code",
   "execution_count": 5,
   "metadata": {
    "tags": [
     "sequences"
    ]
   },
   "outputs": [
    {
     "name": "stdout",
     "output_type": "stream",
     "text": [
      "Assembly and tooling plan;\n"
     ]
    },
    {
     "ename": "NameError",
     "evalue": "name 'my_activities' is not defined",
     "output_type": "error",
     "traceback": [
      "\u001b[1;31m---------------------------------------------------------------------------\u001b[0m",
      "\u001b[1;31mNameError\u001b[0m                                 Traceback (most recent call last)",
      "\u001b[1;32m<ipython-input-5-d45528cc61cb>\u001b[0m in \u001b[0;36m<module>\u001b[1;34m\u001b[0m\n\u001b[0;32m      8\u001b[0m \u001b[0mtool_missing\u001b[0m \u001b[1;33m=\u001b[0m \u001b[1;32mFalse\u001b[0m\u001b[1;33m\u001b[0m\u001b[1;33m\u001b[0m\u001b[0m\n\u001b[0;32m      9\u001b[0m \u001b[1;33m\u001b[0m\u001b[0m\n\u001b[1;32m---> 10\u001b[1;33m \u001b[1;32mfor\u001b[0m \u001b[0mstep\u001b[0m \u001b[1;32min\u001b[0m \u001b[0mmy_activities\u001b[0m\u001b[1;33m:\u001b[0m\u001b[1;33m\u001b[0m\u001b[1;33m\u001b[0m\u001b[0m\n\u001b[0m\u001b[0;32m     11\u001b[0m     \u001b[1;31m# select best tool for this assembly step ...\u001b[0m\u001b[1;33m\u001b[0m\u001b[1;33m\u001b[0m\u001b[1;33m\u001b[0m\u001b[0m\n\u001b[0;32m     12\u001b[0m     \u001b[1;32mif\u001b[0m \u001b[0mstep\u001b[0m \u001b[1;32min\u001b[0m \u001b[1;33m(\u001b[0m\u001b[1;34m'fix'\u001b[0m\u001b[1;33m,\u001b[0m \u001b[1;34m'install'\u001b[0m\u001b[1;33m)\u001b[0m\u001b[1;33m:\u001b[0m     \u001b[1;31m# if activity is one of 'fix' or 'install'\u001b[0m\u001b[1;33m\u001b[0m\u001b[1;33m\u001b[0m\u001b[0m\n",
      "\u001b[1;31mNameError\u001b[0m: name 'my_activities' is not defined"
     ]
    }
   ],
   "source": [
    "my_parts_list = ['bolt', 'nutt', 'washer', 'pin', 'rod']\n",
    "my_tools_list = ['wrench', 'hammer', 'screwdriver', 'pipe wrench']\n",
    "\n",
    "# plan the tooling of the assembly actiities ...\n",
    "print('Assembly and tooling plan;')\n",
    "\n",
    "# see if we miss some tools ...\n",
    "tool_missing = False\n",
    "\n",
    "for step in my_activities:\n",
    "    # select best tool for this assembly step ...\n",
    "    if step in ('fix', 'install'):     # if activity is one of 'fix' or 'install' \n",
    "        tool_needed = 'pipe wrench'\n",
    "    elif step in ('mount', 'attach'):\n",
    "        tool_needed = 'wrench'\n",
    "    elif step in ('adjust'):\n",
    "        tool_needed = 'screwdriver'\n",
    "    else:\n",
    "        tool_needed = 'hammer'\n",
    "        \n",
    "    # see if we have the tool available ...\n",
    "    tool_avail = tool_needed in my_tools_list\n",
    "    \n",
    "    # keep track of any missing tool ...\n",
    "    if not tool_avail:\n",
    "        tool_missing = True\n",
    "        \n",
    "    print('activity:', step, ', tools to prepair:', tool_needed, 'available:', tool_avail)\n",
    "\n",
    "# list of assembly activities ...\n",
    "my_activities = ['fix', 'mount', 'attach', 'install', 'adjust']\n",
    "\n",
    "# issue warning if the have missing tools ...\n",
    "if tool_missing:\n",
    "    print('WARNING: some tools in the tooling plan are missing!')"
   ]
  },
  {
   "cell_type": "markdown",
   "metadata": {
    "deletable": false,
    "editable": false
   },
   "source": [
    "## Source code structure\n",
    "\n",
    "How is Python source code to be structured in order to minimize chances of missing definitions and other deficiencies? Do this: organize your Python code as indicated in the below diagram. \n",
    "\n",
    "<img width=\"560\" src=\"./figures/source_structure.png\"/>\n",
    "\n",
    "Let's go down the organization of a fictive `my_program` Python program;\n",
    "* we start with a program header in which you document what your program does, the assumptions that you made, and everything else you yourself and anyone else who reads your code must know, in order to understand its merits\n",
    "* next, as per the recommendations in the [PEP8 Style Guide](https://www.python.org/dev/peps/pep-0008/), we do all the imports we need to make our program working. What exactly is needed, depends on the functions and variables we use in our code; we can compute $\\pi$ ourselves, we can also import it from `module math`. Maybe we also need function `math.sqrt()`, we have access to after importing `module math`\n",
    "* then, we define all our own functions\n",
    "* next comes the rest of our code, which also has its preferred order;\n",
    "  * variables creation and initialization\n",
    "  * a part in which all the computations are carried out, to prepare:\n",
    "    - results to be printed\n",
    "    - results to be plotted\n",
    "  * a part that does this printing\n",
    "  * a part that does the plotting\n",
    "  \n",
    "  Understand that this is *not mandatory*, only good practice. Printing and plotting are not necessarily the *very last* things to happen; they may be partly interspersed with computations code, but generally, this is a best practice ordering. In a notebook, you might place the code of each of these parts in a separate cell. In Spyder, you might either put them in separate cells as well, or make a single file (a *script*) you can run altogether. The order in which to organize the source code elements may be kept exactly the same.\n",
    "\n",
    "\n",
    "## Source code encoding\n",
    "For doing *data sciences* with Python, it is good to remember that Python supports the use of [`utf-8`](https://en.wikipedia.org/wiki/UTF-8), moreover, the source code is commonly assumed to be `utf-8`-encoded. `utf-8`-encoding implies that strings may contain and string functions can handle characters such as &#9658; and &#4688; and &#767; and  &#2400; and &#286;. The use of `utf-8` is default in most Python environments, including Anaconda. "
   ]
  },
  {
   "cell_type": "markdown",
   "metadata": {
    "deletable": false,
    "editable": false
   },
   "source": [
    "## Module import\n",
    "\n",
    "A module is basically a chunk of Python code, meant to be reusable in various contexts. For now, we only use modules that came with Anaconda. You can make use of these modules in your program using a simple `import`; no further actions required. Some modules live within a package. Packages are commonly no more than a collection of modules structured in a hierarchy. Examples:\n",
    "```python\n",
    "import matplotlib.pyplot as plt\n",
    "import scipy.stats as sts`\n",
    "```\n",
    "in which `matplotlib`, resp. `scipy` is the package, but what you import is one of its modules (`pyplot` and `stats`, resp.). See further examples below.\n",
    "\n",
    "#### How to import a module?\n",
    "The basic approach:\n",
    "```python\n",
    "import math  # everything from math can now used in my script.\n",
    "```\n",
    "   or:\n",
    "```python\n",
    "# import specific modules you need from a package ...\n",
    "import scipy.stats            # statistical module of SciPy\n",
    "import matplotlib.pyplot      # module pyplot from the matplotlib package\n",
    "```\n",
    "\n",
    "Observe:\n",
    "\n",
    "* we use a separate code line for each import\n",
    "* to arrive at an individual module within a package, we use a *dot-separated path*, telling us where to find the module within the package\n",
    "* for more details, see [the documentation](https://docs.python.org/3/reference/import.html) or see [this tutorial](https://www.digitalocean.com/community/tutorials/how-to-import-modules-in-python-3)\n"
   ]
  },
  {
   "cell_type": "code",
   "execution_count": 6,
   "metadata": {
    "tags": [
     "functionals"
    ]
   },
   "outputs": [
    {
     "name": "stdout",
     "output_type": "stream",
     "text": [
      "x= 2.0\n",
      "x*PI= 6.283185307179586 = 2.0 .PI\n"
     ]
    }
   ],
   "source": [
    "import math\n",
    "import numpy\n",
    "\n",
    "x = math.sqrt(4)\n",
    "print('x=', x)\n",
    "print('x*PI=', x*math.pi, '=', x*math.pi/numpy.pi, '.PI')"
   ]
  },
  {
   "cell_type": "markdown",
   "metadata": {
    "deletable": false,
    "editable": false
   },
   "source": [
    "Remark that we use the full module name in front of each of the variables, constants, functions ... we use from the imported module. This would mean that, in the case of matplotlib, we would obtain code like: "
   ]
  },
  {
   "cell_type": "code",
   "execution_count": 7,
   "metadata": {
    "tags": [
     "functionals"
    ]
   },
   "outputs": [
    {
     "data": {
      "image/png": "[encoded data removed]",
      "text/plain": [
       "<Figure size 432x288 with 1 Axes>"
      ]
     },
     "metadata": {
      "needs_background": "light"
     },
     "output_type": "display_data"
    }
   ],
   "source": [
    "%matplotlib inline\n",
    "import matplotlib.pyplot\n",
    "\n",
    "matplotlib.pyplot.axes()\n",
    "matplotlib.pyplot.plot([0.0, 0.2, 0.3, 0.6, 0.8, 1.0], # x-coordinates\n",
    "                       [1.0, 0.8, 0.6, 0.7, 0.4, 0.2], # y-coordinates\n",
    "                        color='blue', marker='o')\n",
    "matplotlib.pyplot.grid()\n",
    "matplotlib.pyplot.show()"
   ]
  },
  {
   "cell_type": "markdown",
   "metadata": {
    "deletable": false,
    "editable": false
   },
   "source": [
    "This is a bit inconvenient. Therefore, Python supports the use of an alias name:"
   ]
  },
  {
   "cell_type": "code",
   "execution_count": 8,
   "metadata": {
    "tags": [
     "functionals"
    ]
   },
   "outputs": [
    {
     "data": {
      "image/png": "[encoded data removed]",
      "text/plain": [
       "<Figure size 432x288 with 1 Axes>"
      ]
     },
     "metadata": {
      "needs_background": "light"
     },
     "output_type": "display_data"
    }
   ],
   "source": [
    "import matplotlib.pyplot as plt # use 'plt' as an alias name for 'matplotlib.pyplot'\n",
    "\n",
    "X = [0.0, 0.2, 0.3, 0.6, 0.8, 1.0]\n",
    "Y = [1.0, 0.8, 0.6, 0.7, 0.4, 0.2]\n",
    "\n",
    "plt.axes()\n",
    "plt.plot(X, Y, color='blue', marker='o')\n",
    "plt.grid()\n",
    "plt.show()"
   ]
  },
  {
   "cell_type": "markdown",
   "metadata": {
    "deletable": false,
    "editable": false
   },
   "source": [
    "You are free to choose your own alias name:"
   ]
  },
  {
   "cell_type": "code",
   "execution_count": 9,
   "metadata": {
    "tags": [
     "functionals"
    ]
   },
   "outputs": [
    {
     "name": "stdout",
     "output_type": "stream",
     "text": [
      "NumPy's PI: 3.141592653589793\n"
     ]
    }
   ],
   "source": [
    "import numpy as this_is_the_widely_aclaimed_and_appraised_numpy\n",
    "\n",
    "print('NumPy\\'s PI:', this_is_the_widely_aclaimed_and_appraised_numpy.pi)"
   ]
  },
  {
   "cell_type": "markdown",
   "metadata": {
    "deletable": false,
    "editable": false
   },
   "source": [
    "but you may prefer shorter names :-)\n",
    "\n",
    "With the below code skeleton\n",
    "\n",
    "#### DO THIS\n",
    "1. in the package `scipy`, in the sub-package `stats` there is a module `mstats`. This module contains a function to compute the geometric average value of a list of data values, called `gmean()`. See [here](https://docs.scipy.org/doc/scipy/reference/generated/scipy.stats.mstats.gmean.html). Import the `mstats` module and assign it an alias name `mst`\n",
    "2. the skeleton creates a list of values in `my_data`. Print its geometric mean value using `mst.gmean(my_data)`"
   ]
  },
  {
   "cell_type": "code",
   "execution_count": 10,
   "metadata": {
    "tags": [
     "functionals"
    ]
   },
   "outputs": [],
   "source": [
    "import scipy.stats.mstats as mst\n",
    "\n",
    "my_data = [1.0, 2.0, 3.0, 4.0, 5.0]\n"
   ]
  },
  {
   "cell_type": "markdown",
   "metadata": {
    "deletable": false,
    "editable": false
   },
   "source": [
    "## Functions\n",
    "Your program grows and grows, you find yourself repeating the same piece of code, and you decide it's time to create a function. Using a function, you define the code in one place, and call that function to duty whenever and as often as needed to. When you need to change something to the code, without a function, we have to apply changes everywhere where the code has been copied. With a function, you do it only once; within the function. \n",
    "\n",
    "A function is a well demarcated chunks of code that can handle some computational task in a generic way. Examples: `math.sqrt()` and `matplotlib.pyplot.plot()`. These functions can be used, *after importing them*. All you need to know for function usage, is what the function returns, and which *parameters* or *arguments* (*input variables* that appear in the top line of the function implementation) you have to hand over to the function for your case. For imported functions, you would look these details up in the documentation.  \n",
    "\n",
    "But we can also create functions ourselves; it is an ordinary part of the Python syntax. We may do this in our own programs in our notebook, we might also store functions outside our Notebook, that we ourselves import, like we do with for instance `math`. There is really no difference between functions you find in modules and those in your own code. In this notebook, we keep things simple and define only functions within the notebook itself. \n",
    "\n",
    "<img width=\"560\" src=\"./figures/function_interface.png\"/>\n",
    "\n",
    "In the above diagram;\n",
    "* we have set apart a block of code lines in a function `my_func()`, that does a specific task for us; for instance, it computes an angle\n",
    "* the *calling program*, which *uses* `my_func()`, at several places in the code (we see only a fragment of the code in the diagram), and `my_func()` can compute and return this angle. In the function `my_func()`, the computed angle is named `rho`, in the function caller (our program), the returned value will be assigned to angle `phi`\n",
    "* in order to do its computations, function `my_func()` needs two input values that it assigns to parameters `a` and `b`. Furthermore, let us assume for the sake of this example, that `my_func()` can compute and return an angle $\\rho \\in [0..2\\pi)$ (positive only), or using `sin()` and `cos()` rules, on domain $(-\\frac{1}{2}\\pi, \\frac{1}{2}\\pi]$. For positive only, you need to set `Flag` to `True`. This is what is reflected in the top line of the function:\n",
    "```python\n",
    "def my_func(a, b, flag):\n",
    "```\n",
    "* the call to this function in our program looks like this:\n",
    "```python\n",
    "phi = my_func(p, q, True)\n",
    "```\n",
    "  Python connects the value of `p` with `a`, `q` with `b` and the value `True` with `flag`. The execution of the program is interrupted, the control flow is routed to `my_func()` and execution of `my_func()` is about to begin. With the values handed over, `my_func()` does its computations. The whole function is going to be executed. Once done, `my_func()` creates a value `rho` holding the requested angle value. Assigning a value returned by a function to a variable, works exactly like assigning a value to a variable like we saw before. The variable name `phi` now becomes connected to the angle value created by `my_func()`, a value that is of type `float` in our diagram. Once the function is done, the control flow returns to the program, which now continues on the next code line, following the function call. This interfacing protocol of caller and function has been depicted in the above diagram.\n",
    "\n",
    "Let's go through another example, to further illustrate this; we organized a online gaming event and now have to compile the final standings and rule out a winner, on the basis of a score list by each player. For each player, we discard the lowest score and the highest score, and take the sum of the rest of the scores for the ranking"
   ]
  },
  {
   "cell_type": "code",
   "execution_count": 11,
   "metadata": {
    "tags": [
     "sequences"
    ]
   },
   "outputs": [
    {
     "name": "stdout",
     "output_type": "stream",
     "text": [
      "Game end results;\n",
      "end result Timo : 40\n",
      "end result Katy : 44\n",
      "end result Burt : 39\n",
      "end result Mink : 37\n",
      "end result Ruby : 34\n",
      "Winner: Katy with high score: 44\n"
     ]
    }
   ],
   "source": [
    "player_names = ['Timo', 'Katy', 'Burt', 'Mink', 'Ruby']\n",
    "player_scores= [\n",
    "    [10, 12, 12, 10,  8,  8], # Timo\n",
    "    [12,  9,  8, 12, 11, 13], # ...\n",
    "    [10, 11, 10,  8,  7, 12], # ...\n",
    "    [ 8,  9, 11, 10, 10,  8], # ...\n",
    "    [ 7, 10, 10,  8,  8,  8]  # Ruby\n",
    "]\n",
    "\n",
    "print('Game end results;')\n",
    "for p in range(len(player_names)):\n",
    "    # for each player ...\n",
    "    player = player_names[p]\n",
    "    scores = player_scores[p]\n",
    "        \n",
    "    # obtain the end score dropping the min and max score ...\n",
    "    # ... we have to find the min and max first ...\n",
    "    # ... below, min_s is the min score, max_s the max score ...\n",
    "    \n",
    "    # ... use the first score to init min_s and max_s ...\n",
    "    # ... init the sum_s (sum of scores) to 0 ...\n",
    "    min_s = max_s = scores[0]\n",
    "    sum_s = scores[0]\n",
    "    \n",
    "    M = len(scores)  # nr of scores per player\n",
    "        \n",
    "    # ... now loop over the rest of the scores ...\n",
    "    for s in range(1, M):\n",
    "        if scores[s] < min_s:\n",
    "            min_s = scores[s]\n",
    "        else:\n",
    "            if scores[s] > max_s:\n",
    "                max_s = scores[s]\n",
    "        sum_s = sum_s + scores[s]\n",
    "        \n",
    "    # ... compute sum of scores minus min and max ...\n",
    "    end_score = sum_s - max_s - min_s\n",
    "    \n",
    "    # remember the high score and its player ...\n",
    "    if p == 0:\n",
    "        hgh_score = end_score\n",
    "        winner = player\n",
    "    else:\n",
    "        if end_score > hgh_score:\n",
    "            hgh_score = end_score\n",
    "            winner = player\n",
    "    print('end result', player, ':', end_score)\n",
    "    \n",
    "print('Winner:', winner, 'with high score:', hgh_score)"
   ]
  },
  {
   "cell_type": "markdown",
   "metadata": {
    "deletable": false,
    "editable": false
   },
   "source": [
    "The program works, and rules out Katy as the correct winner with 65-13-8 = 44 points. But the program is not easy to comprehend: it is one big loop with an embedded loop. To restructure the program and make it easier to read and verify, we take out the embedded loop. With the below code skeleton, which is largely a copy of the above (we keep the above untouched, so that you can always start anew)\n",
    "\n",
    "#### DO THIS\n",
    "1. define a function:\n",
    "```python\n",
    "def calc_end_score(scores):\n",
    "    '''return avg scores dropped the min and max'''\n",
    "    ...\n",
    "    return end_score\n",
    "```\n",
    "  put this definition in the top of the program, according to the diagram for source code structuring presented above\n",
    "2. cut all the program code lines;\n",
    "```python\n",
    " # obtain the end score dropping the min and max score ...\n",
    " # ... we have to find the min and max first ...\n",
    "\n",
    "               ...\n",
    "\n",
    " # ... compute sum of scores minus min and max ...\n",
    " end_score = sum_s - max_s - min_s\n",
    "```\n",
    "  and move these lines into the function just defined, where `...` is\n",
    "3. correct the indentation of the function body\n",
    "4. in the program, where we cut out the the code lines, we need a call the new function, to obtain the end score for that player, like so:\n",
    "```python\n",
    "# obtain the end score dropping the min and max score ...\n",
    "end_score = calc_end_score(scores)\n",
    "```\n",
    "5. run the program to see if you can get it to work as before"
   ]
  },
  {
   "cell_type": "code",
   "execution_count": 12,
   "metadata": {
    "tags": [
     "functionals"
    ]
   },
   "outputs": [
    {
     "name": "stdout",
     "output_type": "stream",
     "text": [
      "Game end results;\n",
      "end result Timo : 40\n",
      "end result Katy : 44\n",
      "end result Burt : 39\n",
      "end result Mink : 37\n",
      "end result Ruby : 34\n",
      "Winner: Katy with high score: 44\n"
     ]
    }
   ],
   "source": [
    "def calc_end_score(scores):\n",
    "    '''return avg scores dropped the min and max'''\n",
    "    # ...\n",
    "    return end_score\n",
    "\n",
    "player_names = ['Timo', 'Katy', 'Burt', 'Mink', 'Ruby']\n",
    "player_scores= [\n",
    "    [10, 12, 12, 10,  8,  8], # Timo\n",
    "    [12,  9,  8, 12, 11, 13], # ...\n",
    "    [10, 11, 10,  8,  7, 12], # ...\n",
    "    [ 8,  9, 11, 10, 10,  8], # ...\n",
    "    [ 7, 10, 10,  8,  8,  8]  # Ruby\n",
    "]\n",
    "\n",
    "print('Game end results;')\n",
    "for p in range(len(player_names)):\n",
    "    # for each player ...\n",
    "    player = player_names[p]\n",
    "    scores = player_scores[p]\n",
    "        \n",
    "    # obtain the end score dropping the min and max score ...\n",
    "    # ... we have to find the min and max first ...\n",
    "    # ... below, min_s is the min score, max_s the max score ...\n",
    "    \n",
    "    # ... use the first score to init min_s and max_s ...\n",
    "    # ... init the sum_s (sum of scores) to 0 ...\n",
    "    min_s = max_s = scores[0]\n",
    "    sum_s = scores[0]\n",
    "    \n",
    "    M = len(scores)  # nr of scores per player\n",
    "        \n",
    "    # ... now loop over the rest of the scores ...\n",
    "    for s in range(1, M):\n",
    "        if scores[s] < min_s:\n",
    "            min_s = scores[s]\n",
    "        else:\n",
    "            if scores[s] > max_s:\n",
    "                max_s = scores[s]\n",
    "        sum_s = sum_s + scores[s]\n",
    "        \n",
    "    # ... compute sum of scores minus min and max ...\n",
    "    end_score = sum_s - max_s - min_s\n",
    "    \n",
    "    # remember the high score and its player ...\n",
    "    if p == 0:\n",
    "        hgh_score = end_score\n",
    "        winner = player\n",
    "    else:\n",
    "        if end_score > hgh_score:\n",
    "            hgh_score = end_score\n",
    "            winner = player\n",
    "    print('end result', player, ':', end_score)\n",
    "    \n",
    "print('Winner:', winner, 'with high score:', hgh_score)"
   ]
  },
  {
   "cell_type": "markdown",
   "metadata": {
    "deletable": false,
    "editable": false
   },
   "source": [
    "#### Remarks\n",
    "* in the above function, we have assumed that `scores` is a list of length 6, as defined. It is not uncommon in a function to check the input; a list could be empty or `None`. For the sake of clarity, we let go for now\n",
    "* the code line '''return avg scores dropped the min and max''' is a string that is recognized by python as documentation of the function. If you make Python execute:\n",
    "```python\n",
    "calc_end_score?\n",
    "```\n",
    "Python will display:\n",
    "```python\n",
    "Signature: calc_end_score(scores)\n",
    "Docstring: return avg scores dropped the min and max\n",
    "File:      ...\n",
    "Type:      function\n",
    "```\n",
    "  If you want to know more about these *docstring*s, refer [PEP-0257](https://www.python.org/dev/peps/pep-0257/)\n",
    "* finally, observe that the last calculation that is done in `calc_end_score()` is:\n",
    "```python\n",
    "end_score = sum_s - max_s - min_s\n",
    "```"
   ]
  },
  {
   "cell_type": "markdown",
   "metadata": {
    "deletable": false,
    "editable": false
   },
   "source": [
    "#### Further steps\n",
    "We are going to take it one step further: We determine `min_s`, `max_s`, and `sum_s` in function `calc_end_score()`, or in plain language, the minimum, maximum and sum of all the scores. In a sense, that is (almost) precisely what we do to find the winner! The high score is just the max of all the player standings. We don't use the min in this case, nor do we use the sum, but still,  neglecting these two and use only the max for the high score, we are doing the same thing twice. The question arises: can we make one single function doing these two things for us?\n",
    "\n",
    "Yes we can. Copy paste your previous solution above into the below code box, and with this code\n",
    "\n",
    "#### DO THIS\n",
    "1. implement a function `find_mms(scores)`. Function name *mms* stands for *minimum, maximum, sum*. Function `find_mms(scores)` is given a list of scores, and returns the minimum in that list, the maximum and the sum. With these we can calculate an end_score and determine a high score. Above function `calc_end_score()`, define a second function:\n",
    "```python\n",
    "    def find_mms(scores):\n",
    "        '''return min, max, sum of scores'''\n",
    "        ...\n",
    "        return (mn, mx, sm)\n",
    "```\n",
    "  Notice that function `find_mms()` returns a single return variable, but in this case, this is not an `int` or a `float`, but a `tuple` in which we can pack the calculated min, max and sum\n",
    "\n",
    "2. from function `calc_end_score()`, move the following code lines to function `find_mms()` where the dots `...` are:\n",
    "```python\n",
    "    # obtain the end score dropping the min and max score ...\n",
    "    # ... we have to find the min and max first ...\n",
    "    # ... below, min_s is the min score, max_s the max score ...\n",
    "\n",
    "    # ... use the first score to init min_s and max_s ...\n",
    "    # ... init the sum_s (sum of scores) to 0 ...\n",
    "    min_s = max_s = scores[0]\n",
    "    sum_s = scores[0]\n",
    "\n",
    "    M = len(scores)  # nr of scores per player\n",
    "\n",
    "    # ... now loop over the rest of the scores ...\n",
    "    for s in range(1, M):\n",
    "        if scores[s] < min_s:\n",
    "            min_s = scores[s]\n",
    "        else:\n",
    "            if scores[s] > max_s:\n",
    "                max_s = scores[s]\n",
    "        sum_s = sum_s + scores[s]\n",
    "```\n",
    "  remove the first three comment lines, to adjust the comment, and rename the variables as needed\n",
    "\n",
    "3. next, change function `calc_end_score()`:\n",
    "```python\n",
    "    ...\n",
    "    min_s, max_s, sum_s = find_mms(scores)  \n",
    "        \n",
    "    # ... compute sum of scores minus min and max ...\n",
    "    end_score = sum_s - max_s - min_s\n",
    "    return end_score\n",
    "```\n",
    "  is now sufficient to replace the code lines just moved\n",
    "\n",
    "4. run the program, so that it works again\n",
    "\n",
    "5. now in the program, cut out the code lines:\n",
    "```python\n",
    "    ...\n",
    "    # remember the high score and its player ...\n",
    "    if p == 0:\n",
    "        hgh_score = end_score\n",
    "        winner = player\n",
    "    else:\n",
    "        if end_score > hgh_score:\n",
    "            hgh_score = end_score\n",
    "            winner = player\n",
    "    ...\n",
    "```\n",
    "  instead, add the end_score to a *new list* `end_scores`. Create an empty list before the loop over all player-scores starts and in the position of the cut-out lines, you simply append the current player's `end_score` to the list `end_scores`, like so:\n",
    "```python\n",
    "    ...\n",
    "    end_scores.append(end_score)\n",
    "```\n",
    "6. next, below the loop, before we print the winner, we place a call:\n",
    "```python\n",
    "    # find the winning score ...\n",
    "    low_score, high_score, sum_score = find_mms(end_scores)\n",
    "```\n",
    "  run the program and verify that we find Katy's score of 44 again\n",
    "7. final step: how to find the name of the winner? There are various possibilities; we take the easiest way here: once we know the `high_score`, we can find the index of that high score in the list `end_scores`, and use index so found in `player_name` to find the corresponding name, like so:\n",
    "```python\n",
    "    winner = player_name[ end_scores.index(high_score) ]\n",
    "```\n",
    "8. print not only the name of the winner, but also the high score and the average score\n",
    "\n",
    "9. finish the program and run it\n",
    "\n",
    "Notice how much simpler and easier to read the program has become, after all these restructuring actions"
   ]
  },
  {
   "cell_type": "code",
   "execution_count": 13,
   "metadata": {
    "tags": [
     "functionals"
    ]
   },
   "outputs": [
    {
     "name": "stdout",
     "output_type": "stream",
     "text": [
      "Game end results;\n",
      "end result Timo : 40\n",
      "end result Katy : 44\n",
      "end result Burt : 39\n",
      "end result Mink : 37\n",
      "end result Ruby : 34\n",
      "Winner: Katy with high score: 44\n"
     ]
    }
   ],
   "source": [
    "def calc_end_score(scores):\n",
    "    '''return avg scores dropped the min and max'''\n",
    "    \n",
    "    # ... use the first score to init min_s and max_s ...\n",
    "    # ... init the sum_s (sum of scores) to 0 ...\n",
    "    min_s = max_s = scores[0]\n",
    "    sum_s = scores[0]\n",
    "    \n",
    "    M = len(scores)  # nr of scores per player\n",
    "        \n",
    "    # ... now loop over the rest of the scores ...\n",
    "    for s in range(1, M):\n",
    "        if scores[s] < min_s:\n",
    "            min_s = scores[s]\n",
    "        else:\n",
    "            if scores[s] > max_s:\n",
    "                max_s = scores[s]\n",
    "        sum_s = sum_s + scores[s]\n",
    "    end_score = sum_s - max_s - min_s\n",
    "    return end_score\n",
    "\n",
    "player_names = ['Timo', 'Katy', 'Burt', 'Mink', 'Ruby']\n",
    "player_scores= [\n",
    "    [10, 12, 12, 10,  8,  8], # Timo\n",
    "    [12,  9,  8, 12, 11, 13], # ...\n",
    "    [10, 11, 10,  8,  7, 12], # ...\n",
    "    [ 8,  9, 11, 10, 10,  8], # ...\n",
    "    [ 7, 10, 10,  8,  8,  8]  # Ruby\n",
    "]\n",
    "\n",
    "print('Game end results;')\n",
    "for p in range(len(player_names)):\n",
    "    # for each player ...\n",
    "    player = player_names[p]\n",
    "    scores = player_scores[p]\n",
    "        \n",
    "    # ... compute sum of scores minus min and max ...\n",
    "    end_score = calc_end_score(scores)\n",
    "    \n",
    "    # remember the high score and its player ...\n",
    "    if p == 0:\n",
    "        hgh_score = end_score\n",
    "        winner = player\n",
    "    else:\n",
    "        if end_score > hgh_score:\n",
    "            hgh_score = end_score\n",
    "            winner = player\n",
    "    print('end result', player, ':', end_score)\n",
    "    \n",
    "print('Winner:', winner, 'with high score:', hgh_score)"
   ]
  },
  {
   "cell_type": "markdown",
   "metadata": {
    "deletable": false,
    "editable": false
   },
   "source": [
    "#### Remarks\n",
    "- clever generalization of tasks in a function can bring a generic solution for a variety of usages in your program, for any number of players, and any length scores, moreover, for any list or tuple of which we want to find min, max and sum. With these, we can also determine the average\n",
    "- that functions themselves may again be calling functions\n",
    "- that Python can assign a function returned value to a variable, that the type of the value returned determines the type\n",
    "- that Python may also return a tuple. When the tuple has three items, like in `return (mn, mx, sm)`, its items can be assigned directly to three variable in the function caller, like in: `low_score, high_score, sum_score = find_mms(end_scores)`. The first tuple item is assigned to `low_score`, the second tuple item to `high_score`, and the last tuple item to `sum_score`. The function still returns a single tuple, that we immediately split out over three separate variables\n",
    " - the indentation to mark the function body\n",
    "\n",
    "#### Local and global variables\n",
    "\n",
    "Variables you define inside a function, have a *scope* (life cycle) that ceases it the function terminates. This is called a *local scope*. If you try to use such a variable outside the function, Python will complain that it is undefined. On the other hand, any variable defined outside the function is also available inside the function. Using variables as *global variables* inside functions, is not considered a good programming habit. Best refrain from doing this. If you do not return anything from a function, it will effectively return `None`\n",
    "\n",
    "#### Predicates\n",
    "\n",
    "An important type of functions are *predicates*: functions that return either `True` or `False`. Say you want a function that determines whether a given whole number is an even number or not. Then a predicate could be:"
   ]
  },
  {
   "cell_type": "code",
   "execution_count": 14,
   "metadata": {
    "tags": [
     "functionals",
     "sequences"
    ]
   },
   "outputs": [
    {
     "name": "stdout",
     "output_type": "stream",
     "text": [
      "integer: 1 is even? False\n",
      "integer: 2 is even? True\n",
      "integer: -5 is even? False\n",
      "integer: -1 is even? False\n",
      "integer: 0 is even? True\n",
      "integer: -2 is even? True\n",
      "integer: 3 is even? False\n",
      "integer: 7 is even? False\n",
      "integer: 14 is even? True\n",
      "integer: 22 is even? True\n",
      "integer: 37 is even? False\n"
     ]
    }
   ],
   "source": [
    "# define the predicate ...\n",
    "def is_even(x):\n",
    "    '''return T|F integer x is even'''\n",
    "    return x % 2 == 0\n",
    "\n",
    "for x in (1, 2, -5, -1, 0, -2, 3, 7, 14, 22, 37):\n",
    "    # use the predicate \n",
    "    print('integer:', x, 'is even?', is_even(x))"
   ]
  },
  {
   "cell_type": "markdown",
   "metadata": {
    "deletable": false,
    "editable": false
   },
   "source": [
    "#### DO THIS\n",
    "1. look up what Python operator `%` does and check that logical expression `x % 2 == 0` only holds for even numbers\n",
    "2. implement a predicate: `is_odd()` yourself and implement it in the below code skeleton. Run the program and verify the output\n",
    "3. copy-paste function `is_even()` from the above example into the below code box. We now have two functions in the program. Verify that `is_odd(x) == not is_even(x)`. Use this in the below code to check once more the output of your `is_odd()`\n",
    "4. how could you do the same thing to check the output of `is_even()`? Implement and run this\n",
    "5. replace the current `print()` code line, by the following if-then-else\n",
    "```python\n",
    "    if is_even(x):\n",
    "        print('integer:', x, 'is an even number')\n",
    "    else:\n",
    "        print('integer:', x, 'is an odd number')\n",
    "```\n",
    "6. in the if-then-else, replace `is_even()` by `is_odd()` and make sure the results are identical to the previous step"
   ]
  },
  {
   "cell_type": "code",
   "execution_count": 15,
   "metadata": {
    "tags": [
     "sequences"
    ]
   },
   "outputs": [
    {
     "name": "stdout",
     "output_type": "stream",
     "text": [
      "integer: 1 is odd? Ellipsis\n",
      "integer: 2 is odd? Ellipsis\n",
      "integer: -5 is odd? Ellipsis\n",
      "integer: -1 is odd? Ellipsis\n",
      "integer: 0 is odd? Ellipsis\n",
      "integer: -2 is odd? Ellipsis\n",
      "integer: 3 is odd? Ellipsis\n",
      "integer: 7 is odd? Ellipsis\n",
      "integer: 14 is odd? Ellipsis\n",
      "integer: 22 is odd? Ellipsis\n",
      "integer: 37 is odd? Ellipsis\n"
     ]
    }
   ],
   "source": [
    "# define the predicates ...\n",
    "def is_odd(x):\n",
    "    '''return T|F integer x is odd'''\n",
    "    return ... \n",
    "\n",
    "for x in (1, 2, -5, -1, 0, -2, 3, 7, 14, 22, 37):\n",
    "    # use the predicate \n",
    "    print('integer:', x, 'is odd?', is_odd(x))"
   ]
  },
  {
   "cell_type": "markdown",
   "metadata": {
    "deletable": false,
    "editable": false
   },
   "source": [
    "## Done"
   ]
  }
 ],
 "metadata": {
  "kernelspec": {
   "display_name": "Python 3",
   "language": "python",
   "name": "python3"
  },
  "language_info": {
   "codemirror_mode": {
    "name": "ipython",
    "version": 3
   },
   "file_extension": ".py",
   "mimetype": "text/x-python",
   "name": "python",
   "nbconvert_exporter": "python",
   "pygments_lexer": "ipython3",
   "version": "3.8.10"
  },
  "latex_envs": {
   "LaTeX_envs_menu_present": true,
   "autoclose": false,
   "autocomplete": true,
   "bibliofile": "biblio.bib",
   "cite_by": "apalike",
   "current_citInitial": 1,
   "eqLabelWithNumbers": true,
   "eqNumInitial": 1,
   "hotkeys": {
    "equation": "Ctrl-E",
    "itemize": "Ctrl-I"
   },
   "labels_anchors": false,
   "latex_user_defs": false,
   "report_style_numbering": false,
   "user_envs_cfg": false
  }
 },
 "nbformat": 4,
 "nbformat_minor": 2
}
