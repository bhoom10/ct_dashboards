{
 "cells": [
  {
   "cell_type": "markdown",
   "metadata": {
    "deletable": false
   },
   "source": [
    "<header>\n",
    "    <div style=\"overflow: auto;\">\n",
    "        <img src=\"https://digital-skills.tudelft.nl/nb_style/figures/TUDelft.jpg\" style=\"float: left;\" />\n",
    "        <img src=\"https://digital-skills.tudelft.nl/nb_style/figures/DUT_Flame.png\" style=\"float: right; width: 100px;\" />\n",
    "    </div>\n",
    "    <div style=\"text-align: center;\">\n",
    "        <h2><large>Digital Skills</large> -- Python Basic Programming --</h2>\n",
    "        <h6>&copy; 2019, TU Delft. Creative Commons</h6>     \n",
    "    </div>\n",
    "    <br>   \n",
    "    <br>\n",
    "</header>"
   ]
  },
  {
   "cell_type": "markdown",
   "metadata": {
    "deletable": false,
    "editable": false
   },
   "source": [
    "## What you will learn\n",
    "\n",
    "#### In the course as a whole\n",
    "This Notebook is one of several notebooks that make up the Python Basic Programming course. The **whole course** treats the following aspects of Python programming:\n",
    "\n",
    " * Variables (types, assignments, print formats, precision, operators; this part)\n",
    " \n",
    " * Control flow (for loops, while loops, conditions, and if-then-else statements)\n",
    "\n",
    " * Code Organization (Indentation, execution flow, import, functions)\n",
    " \n",
    " * Basic Plotting\n",
    " \n",
    "#### In this Notebook:\n",
    "In the remainder of **this Notebook**, we will further explore and practice 4 topics of the various variables Python offers:\n",
    "\n",
    " 1. How to document a function using docstrings\n",
    "\n",
    " 2. Function formal parameter list\n",
    "\n",
    " 3. Using formal parameter default values\n",
    "\n",
    " 4. Global and local variables, LEGB-model, mutable vs. immutables"
   ]
  },
  {
   "cell_type": "markdown",
   "metadata": {
    "deletable": false,
    "editable": false
   },
   "source": [
    "# functions\n",
    "## Documenting code -- docstrings\n",
    "Functions are well demarcated chunks of code that can handle some computational task in a generic way. functions are meant to be reusable, and applied in a variety of use cases. But there is always a limit to what they can do. If at some point, you have thousands of functions in your project, you depend on good documentation. Today, we have spacial documentation tools that can generate industrial quality documentation by a single command. However, the details of the design, implementation and use, must be documented while creating. Key concept in this whole process is the *docstring*. \n",
    "\n",
    "A [docstring](https://www.python.org/dev/peps/pep-0257/#what-is-a-docstring) is a string literal that occurs as the first statement in a function, but also in a module and class definition. Recall that Python support single-quote, double-quote strings. Like in:\n",
    "```Python\n",
    "my_string_single = 'My name is Bond. James Bond'\n",
    "my_string_double = \"My name is Bond. James Bond\"\n",
    "```\n",
    "These two string are equivalent, sometimes even identical. For details, you may want to consult **Notebook-25 on Strings**. There is a third form of strings: the string with 3 (single or double) quotes. By [convention](https://www.python.org/dev/peps/pep-0257/#what-is-a-docstring) a docstring is a string literal using triple quotes `'''` or `\"\"\"`. With the below code\n",
    "\n",
    "#### DO THIS\n",
    "- in `'My name is Bond. James Bond'`, move the cursor right after the period, and press return on your keyboard, to obtain this:\n",
    "```python\n",
    "my_string_single = 'My name is Bond.\n",
    "James Bond'\n",
    "my_string_double = \"My name is Bond. James Bond\"\n",
    "```\n",
    "  and rerun the code. You'll have a `SyntaxError: EOL while scanning string literal`\n",
    "  because Python thinks your code line has ended while incomplete\n",
    "- repair it and try to do the same with the value of `my_string_double`. Rerun, it will fail too. repair it\n",
    "- now introduce a third variable: `my_string_triple = '''My name is Bond. James Bond'''` Print this string alike and rerun the program. Now it works ...\n",
    "- replace the triple single quotes `'''` by triple double quotes `\"\"\"` and rerun. Does this also work?"
   ]
  },
  {
   "cell_type": "code",
   "execution_count": 1,
   "metadata": {},
   "outputs": [
    {
     "name": "stdout",
     "output_type": "stream",
     "text": [
      "single quote:  My name is Bond. James Bond\n",
      "double quote:  My name is Bond. James Bond\n",
      "triple quote:  My name is Bond. James Bond\n"
     ]
    }
   ],
   "source": [
    "my_string_single = 'My name is Bond. James Bond'\n",
    "my_string_double = \"My name is Bond. James Bond\"\n",
    "my_string_triple = '''My name is Bond. James Bond'''\n",
    "print('single quote: ', my_string_single)\n",
    "print('double quote: ', my_string_double)\n",
    "print('triple quote: ', my_string_triple)"
   ]
  },
  {
   "cell_type": "markdown",
   "metadata": {
    "deletable": false,
    "editable": false
   },
   "source": [
    "Although triple-quote strings can be used in your program just like the others, it is wise to reserve triple-quote strings in your code for docstrings. See the [docstrings discussed in the Style Guide](https://www.python.org/dev/peps/pep-0008/#documentation-strings) for details. Special documentation tools, such as [sphinx](http://sphinx-doc.org/en/master/), assume you to do so or even rely on it. \n",
    "\n",
    "## Documentation example in this notebook\n",
    "Below is an example of documenting a function. With this example below\n",
    "\n",
    "#### DO THIS\n",
    "- inspect the docstring in the cell below and run the cell\n",
    "- then run the next cell under the cell below. What do you see?\n",
    "- put away with the popped up panel. Comment out the first line in this cell and uncomment the send, like so:\n",
    "```python\n",
    "#%pdoc closest_to_origin\n",
    "closest_to_origin?\n",
    "```\n",
    "  observe how (apparently) the documentation functions in this notebook also pick up and process this kind of information for you\n",
    "- change the name of the return parameter `min_ndx` to `max_ndx` in the docstring of function `closest_to_origin()` and rerun the two cells. Check out the impact on the docstring. Is the code and the docstring conformal? \n",
    "- Observe that the info is just extracted from the docstring, and not derived from the code. Be aware that this info must be kept exactly in line with the code, one-to-one related by you"
   ]
  },
  {
   "cell_type": "code",
   "execution_count": 2,
   "metadata": {},
   "outputs": [
    {
     "name": "stdout",
     "output_type": "stream",
     "text": [
      "point closest to origin (0, 0) is point: (-1, 1)\n",
      "point closest to origin (5, 5) is point: (5, 4)\n",
      "point closest to origin (2, -1) is point: (3, -2)\n"
     ]
    }
   ],
   "source": [
    "def closest_to_origin(origin, points):\n",
    "    '''\n",
    "    Given a list of points in the plane, return the index \n",
    "    of the single point closest to a given origin. In case\n",
    "    multiple points are equidistant to the origin, only the\n",
    "    first is returned\n",
    "    \n",
    "    input\n",
    "    -----\n",
    "    origin   : the point in the plane relative to which we \n",
    "               measure the distance (the origin). The origin\n",
    "               is a 2-tuples (x,y)\n",
    "    points   : the list of points of which we want to find\n",
    "               the one nearest-by to the origin. Points are\n",
    "               2-tuples (x,y)\n",
    "    return\n",
    "    ------\n",
    "    min_ndx  : the index into points, pointing at the point\n",
    "               that is nearest-by to the origin. The index\n",
    "               is in [0,len(points)-1], None when points is\n",
    "               empty list\n",
    "    '''\n",
    "        \n",
    "    # initialize variables ...\n",
    "    ndx, min_ndx, min_dist2 = -1,None, float('inf')\n",
    "    for p in points:\n",
    "        ndx += 1\n",
    "        dist2 = (p[0]-origin[0])**2 + (p[1]-origin[1])**2\n",
    "        if dist2 < min_dist2:\n",
    "            min_dist2 = dist2\n",
    "            min_ndx   = ndx\n",
    "    return min_ndx\n",
    "\n",
    "\n",
    "# above, we have DEFINED the function, below we USE it ...\n",
    "\n",
    "\n",
    "# these are my points ...\n",
    "my_points = [(5,4), (-1,1), (3, -2), (4,0)]\n",
    "\n",
    "# these are my origings ...\n",
    "my_origins = [(0,0), (5,5), (2,-1)]\n",
    "\n",
    "\n",
    "for origin in my_origins:\n",
    "    # find me the index of the point in my_points closest to origin\n",
    "    p_closest = closest_to_origin(origin, my_points)\n",
    "    # print the results ...\n",
    "    if p_closest is None:\n",
    "        print('empty points list; no closest point determined')\n",
    "    else:\n",
    "        print('point closest to origin {:s} is point: {:s}'. \\\n",
    "                        format(str(origin), str(my_points[p_closest])))\n",
    "\n",
    "# done."
   ]
  },
  {
   "cell_type": "code",
   "execution_count": 3,
   "metadata": {},
   "outputs": [],
   "source": [
    "#%pdoc closest_to_origin\n",
    "closest_to_origin?"
   ]
  },
  {
   "cell_type": "markdown",
   "metadata": {
    "deletable": false,
    "editable": false
   },
   "source": [
    "## Function interface -- formal parameters (arguments)\n",
    "Python has a very flexible and versatile function interface that we will just discuss briefly. A function receives its parameters, its *arguments*, as a comma separated list from the function caller. Parameters are coupled in the order of appearance, between the function caller and the receiving function. The function's parameters are called the *formal parameters*, the parameters offered by the function caller, are called the *actual parameters*. Since being coupled one-by-one, left-to-right, parameter exchanged this way are called *positional parameters*.\n",
    "\n",
    "<img width=\"600\" src=\"./figures/pos_parms.png\"/>\n",
    "\n",
    "The below program demonstrates what formal parameters are and how they work. Start at the main script and see what the actual parameter are, next, how they are passed on to the function. "
   ]
  },
  {
   "cell_type": "code",
   "execution_count": 4,
   "metadata": {},
   "outputs": [
    {
     "name": "stdout",
     "output_type": "stream",
     "text": [
      "actual     parameters;\n",
      "actual     parameter: p    id(p)    : 140732110184848 value: 1\n",
      "actual     parameter: q    id(q)    : 140732110184976 value: 5\n",
      "actual     parameter: sign id(sign) : 140732109662544 value: True\n",
      "\n",
      "positional parameters; (Compare the position, id and values)\n",
      "\n",
      "positional parameter: a    id(a)    : 140732110184848 value: 1\n",
      "positional parameter: b    id(b)    : 140732110184976 value: 5\n",
      "positional parameter: flag id(flag) : 140732109662544 value: True\n"
     ]
    }
   ],
   "source": [
    "def my_func(a, b, flag):\n",
    "    # unpack my formal positional parameters a, b, flag\n",
    "    print('positional parameters; (Compare the position, id and values)\\n')\n",
    "    print('positional parameter: a   ', 'id(a)    :', id(a), 'value:', a)\n",
    "    print('positional parameter: b   ', 'id(b)    :', id(b), 'value:', b)\n",
    "    print('positional parameter: flag', 'id(flag) :', id(flag), 'value:', flag)\n",
    "    \n",
    "# these actual parameter are passed to my_func() ...\n",
    "p, q, sign = 1, 5, True\n",
    "\n",
    "print('actual     parameters;')\n",
    "print('actual     parameter: p   ', 'id(p)    :', id(p), 'value:', p)\n",
    "print('actual     parameter: q   ', 'id(q)    :', id(q), 'value:', q)\n",
    "print('actual     parameter: sign', 'id(sign) :', id(sign), 'value:', sign)\n",
    "print('')\n",
    "\n",
    "my_func(p, q, sign)\n"
   ]
  },
  {
   "cell_type": "markdown",
   "metadata": {
    "deletable": false,
    "editable": false
   },
   "source": [
    "#### Remarks\n",
    "- for a one-to-one pairing of actual and formal parameters, we need to have exactly the number of formal parameters in our list of actual parameters, upon the call\n",
    "- if one of the parameters is missing, we get an error, unless we assign default values to the formal parameters, that takes the place of a missing value;\n",
    "  * parameters can be given a *default* value, like in: `flag=True`, meaning: if there is no value given (by the caller) for `flag` (only `a` and `b` are provided), the `flag` assumes value `True`\n",
    "  * default values must always come last in the list; default values can only be assigned to the last `m` formal parameters. Once  a default for a parameter occurs, no positional parameters are accepted anymore. See the below code;\n",
    "  \n",
    "#### DO THIS\n",
    "- run the program as is, and analyze how it works\n",
    "- remove actual parameter `sign` from the function call. Before you rerun, predict the value of `flag` that is going to be printed\n",
    "- now rerun the program and verify the outcome\n",
    "- change `flag=True` to `flag` (remove the default value assignment). Rerun. You now get a 'missing positional argument' error; can you explain why.\n",
    "- change `flag` to `flag=False` and rerun. Does this give what you expected?\n",
    "- change `my_func(p, q)` to `my_func(p, q, True)`. Before you rerun, predict what value `flag` will have when calling the function again\n",
    "- rerun and verify the result\n",
    "- now do this:\n",
    "  * change `flag=False` to `flag` again (remove the default value for `flag`)\n",
    "  * assign a default value 0 to `b`, like so: `b=0`\n",
    "  \n",
    "  We expect an error (`SyntaxError: non-default argument follows default argument`) because now after a default for `b`, we get again a positional parameter without a default, which is not allowed. Rerun to verify that this is indeed the case\n",
    "- again, change `flag` to `flag=True`. Also, change the call `my_func(p, q, True)` to `my_func(p)`. Rerun and verify if what is being printed, conforms to what you expected\n",
    "- next, assign a default value to `a`: change it to `a=1`. All positional parameters have a default value now. Rerun with *no* actual parameters: just `my_func()`\n",
    "- observe that `my_var` is always `None`, simply because we do not return anything from our function `my_func`. Although you could do this, it is recommend to *always* return a value, if no meaningful value can be returned, return `None` explicitly. Append a code line `return True` to the function and see if it is correctly assigned to `my_var`"
   ]
  },
  {
   "cell_type": "code",
   "execution_count": 5,
   "metadata": {},
   "outputs": [
    {
     "name": "stdout",
     "output_type": "stream",
     "text": [
      "actual     parameters;\n",
      "actual     parameter: p    id(p)    : 140732110184848 value: 1\n",
      "actual     parameter: q    id(q)    : 140732110184976 value: 5\n",
      "actual     parameter: sign id(sign) : 140732109662544 value: True\n",
      "\n",
      "positional parameters; (Compare the position, id and values)\n",
      "\n",
      "positional parameter: a    id(a)    : 140732110184848 value: 1\n",
      "positional parameter: b    id(b)    : 140732110184976 value: 5\n",
      "positional parameter: flag id(flag) : 140732109662544 value: True\n",
      "assigned value to my_var: None\n"
     ]
    }
   ],
   "source": [
    "def my_func(a, b, flag=True):\n",
    "    # unpack my formal positional parameters a, b, flag\n",
    "    print('positional parameters; (Compare the position, id and values)\\n')\n",
    "    print('positional parameter: a   ', 'id(a)    :', id(a), 'value:', a)\n",
    "    print('positional parameter: b   ', 'id(b)    :', id(b), 'value:', b)\n",
    "    print('positional parameter: flag', 'id(flag) :', id(flag), 'value:', flag)\n",
    "    \n",
    "# these actual parameter are passed to my_func() ...\n",
    "p, q, sign = 1, 5, True\n",
    "\n",
    "print('actual     parameters;')\n",
    "print('actual     parameter: p   ', 'id(p)    :', id(p), 'value:', p)\n",
    "print('actual     parameter: q   ', 'id(q)    :', id(q), 'value:', q)\n",
    "print('actual     parameter: sign', 'id(sign) :', id(sign), 'value:', sign)\n",
    "print('')\n",
    "\n",
    "my_var = my_func(p, q, sign)\n",
    "print('assigned value to my_var:', my_var)\n"
   ]
  },
  {
   "cell_type": "markdown",
   "metadata": {
    "deletable": false,
    "editable": false
   },
   "source": [
    "## Global and local variables\n",
    "Recall that in the program (in the main script), variables are global by defaults. So in the above code, the actual parameters `p`, `q` and `sign` are global variables. Within a function, the formal parameters and all variables you create within the function, are local by defaults. When execution of the function reaches the end of the function code block, the local variables of the function go out of scope (the local scope plus its variables, in fact its who;e *namespace* vanishes), and the result is returned in a global objects that is associated with the name of the global variable in the left-hand-side of the assignment (`my_var` in the above diagram) \n",
    "\n",
    "Being global, all variables also can be reached inside the function. Accessing and perhaps even modifying a global variable, though possible, is to be discouraged and seen as bad practice. We won't do this; we always pass on parameters if we need to change them. If you give formal parameters the same name as the actual parameters, then still they are different variables, living in a different namespace. To avoid confusion, use a different name.\n",
    "\n",
    "#### LEGB-model\n",
    "Python has a fixed order of looking up names, that we will briefly discuss: the LEGB-model. Looking for a variable `my_var`, Python will look for this name:\n",
    "1. in the namespace connected to the local scope ('L'), if not found:\n",
    "2. in the namespace connected to the enclosing scope ('E', the scope in which a function is defined for instance). If not found:\n",
    "3. in the namespace of the global scope ('G'), if not found:\n",
    "4. in the namespace of the *builtins* (('B')\n",
    "\n",
    "If still not found, a `NameError` will be issued. You see above that:\n",
    "* if `my_var` exists in the global scope and in the local scope of a function, the local is always first found; no conflict of variables with the same name\n",
    "* it is perfectly possible to replace a built-in function such as `len()` or `min()` with your own, although recommendations are to not do so and use a different name\n",
    "\n",
    "#### Mutable versus immutable variables\n",
    "A very important distinction to be made is between mutable and immutable variables. Remember from **Notebook-20 on Variables**, that every variable we've seen so far (except `list`) is immutable, even `int` and `float`. We  will first explore how immutable variables behave in the context of functions. Then we compare that with mutables. Even though this may seem odd to you at first sight, modifying an immutable works smoothly. However, it is important to understand the assignment model Python uses. This same model applies to functions. With the below code\n",
    "\n",
    "#### DO THIS\n",
    "- run the below program and verify that `a` and `x` point to the same identifier, meaning: they are referring to the same *value object* (yes, a value in Python is also an object, and so is its type specifier...)\n",
    "- apparently, `a` and `x` are referring to the same value, we square it, but in the end this squared values is gone! Let us check what happens inside the function first: copy-paste the two print lines in function `square` to the bottom of the function, after we have squared `x`. Rerun. Are `a` and `x` still referring to the same value object at the end of the function?\n",
    "- `x` is now pointing to a different value object; to the value object with value `100`, while `a` is still referring to value object `10`\n",
    "- remember that `x` goes out of scope when the function is done. We're gonna check this. Insert `print('(2) id(x)=', id(x), 'x=', x)` right after the function call: `a = square(a)`. Indeed, you'll get a `NameError` meaning that (following the LEGB-model) the name `x` is nowhere to be found! `x` has vanished. What is the solution here you think to pertain the squared value of `x` and assign it to `a`?\n",
    "- the solution is of course: return the `x` after it has been squared, after which it will be assigned to `a` in the function call. Implement it and check that `a` now becomes also referring to the same value object like `x` does, after being squared"
   ]
  },
  {
   "cell_type": "code",
   "execution_count": 6,
   "metadata": {},
   "outputs": [
    {
     "name": "stdout",
     "output_type": "stream",
     "text": [
      "(1) id(a)= 2720271436240 a= 10.0\n",
      "(f) id(x)= 2720271436240 x= 10.0\n",
      "(f) Is x identical to a? True\n",
      "(2) id(a)= 140732109708512 a= None\n",
      "(3) Is a identical to None? True\n"
     ]
    }
   ],
   "source": [
    "def square(x):\n",
    "    '''return x square'''\n",
    "    print('(f) id(x)=', id(x), 'x=', x)\n",
    "    print('(f) Is x identical to a?', x is a)\n",
    "    x = x*x\n",
    "\n",
    "# function caller ...\n",
    "a = 10.0\n",
    "\n",
    "print('(1) id(a)=', id(a), 'a=', a)\n",
    "a = square(a)\n",
    "print('(2) id(a)=', id(a), 'a=', a)\n",
    "print('(3) Is a identical to None?', a is None)\n"
   ]
  },
  {
   "cell_type": "markdown",
   "metadata": {
    "deletable": false,
    "editable": false
   },
   "source": [
    "#### Remarks\n",
    "- now it is time to come back to variables and assignments, as we have discussed in the **Notebook-20 on Variables**. In Python, almost everything is defined as an object, including values, including `int`, `float`, `str` and others. If you do mathematical operations on say an integer, Python will write the result into a new value object of the resulting type, and your reassignment make the variable name now referring to this new value object. Unless there are other variables still pointing to it, the old value object goes to waste\n",
    "- you are now going to verify this; with the below code,\n",
    "\n",
    "#### DO THIS\n",
    "- add 1 to `a` and then compare the two identities before and after the addition `a = a + 1`\n",
    "- in a sense, the new value object is the end result of the operation. A function works no different than an operation. Define a function `add(x, n)` that returns `x+n`\n",
    "- replace `a = a + 1` by function call `a = add(a, 1)` to make your new function add 1 to `a` and ask the new `id(a)` What do you observe?\n",
    "- Python decides itself, to reuse or not to reuse a value object for a new situation. In this case, Python may discover it already has an object with value 11 (you made it with the operation `a = a + 1`, and often it just returns *the same object* by the time you ran `a = a + 1`. Remember in Python a variable is little more than a name associated with an `id`, the value object defines the type and it is by creating a new value object that Python can reassign new values to immutables. Also realize that operations as well as functions do exactly the same; they return a value object of the resulting type. It is this concept that allows variables, functions, ... to work with all sorts of value type dynamically, yet protecting types from undergoing unsupported modifications and operations!"
   ]
  },
  {
   "cell_type": "code",
   "execution_count": 7,
   "metadata": {},
   "outputs": [
    {
     "name": "stdout",
     "output_type": "stream",
     "text": [
      "(1) id(a)= 2720262007120 a= 10.0\n",
      "(2) id(a)= 2720262007664 a= 11.0\n"
     ]
    }
   ],
   "source": [
    "def add(x, n):\n",
    "    '''return x + n'''\n",
    "    s = x + n\n",
    "    return s\n",
    "\n",
    "a = 10.0\n",
    "\n",
    "print('(1) id(a)=', id(a), 'a=', a)\n",
    "a = a + 1\n",
    "print('(2) id(a)=', id(a), 'a=', a)\n"
   ]
  },
  {
   "cell_type": "markdown",
   "metadata": {
    "deletable": false,
    "editable": false
   },
   "source": [
    "We have seen above how Python deals with operations on immutables. How is this with mutables? Recall that the only mutable variable we met so far, is a `list`. Let's \n",
    "continue experimenting, to discover how this works. With the below code\n",
    "\n",
    "#### DO THIS\n",
    "- run the below code to see what it does. Does the id of any of the lists change? Can you explain why this is?\n",
    "- call function `swap_names()`, with `k`, `m` both set to the first list item. Rerun and verify if the swapping has been correctly carried out\n",
    "- call function `swap_names()`, with one or both of the `k` and `m` out of bound. Check if indeed no swapping has taken place and check the id's. Does it make any difference if swapping takes place or not?"
   ]
  },
  {
   "cell_type": "code",
   "execution_count": 8,
   "metadata": {},
   "outputs": [
    {
     "name": "stdout",
     "output_type": "stream",
     "text": [
      "(1) created;\n",
      "    dutch : 2720272238664 , dutch = ['Hans', 'Henk', 'Mien', 'Riet', 'Dirk']\n",
      "    french: 2720272237640 , french= ['Noel', 'Suze', 'Aimy', 'Yann', 'Eric']\n",
      "    german: 2720272063656 , german= ('Rudi', 'Karl', 'Alex', 'Hedi', 'Elsa')\n",
      "(2) after calling swap_names\n",
      "    dutch : 2720272238664 , dutch = ['Hans', 'Henk', 'Mien', 'Suze', 'Dirk']\n",
      "    french: 2720272237640 , french= ['Noel', 'Riet', 'Aimy', 'Yann', 'Eric']\n",
      "    german: 2720272063656 , german= ('Rudi', 'Karl', 'Alex', 'Hedi', 'Elsa')\n"
     ]
    }
   ],
   "source": [
    "def swap_names(a_list, another_list, k, m):\n",
    "    '''swap the a single pair of names of two list'''\n",
    "    swapped = False\n",
    "    if k in range(len(a_list)) and m in range(len(another_list)):\n",
    "        # swap a_list[k] and another_list[m] ...\n",
    "        a_list[k], another_list[m] = another_list[m], a_list[k]\n",
    "        swapped = True\n",
    "    return swapped\n",
    "\n",
    "\n",
    "dutch  = ['Hans', 'Henk', 'Mien', 'Riet', 'Dirk']\n",
    "french = ['Noel', 'Suze', 'Aimy', 'Yann', 'Eric']\n",
    "german = ('Rudi', 'Karl', 'Alex', 'Hedi', 'Elsa')\n",
    "\n",
    "print('(1) created;')\n",
    "print('    dutch :', id(dutch) , ', dutch =', dutch)\n",
    "print('    french:', id(french), ', french=', french)\n",
    "print('    german:', id(german), ', german=', german)\n",
    "\n",
    "swapped = swap_names(dutch, french, 3, 1)\n",
    "\n",
    "print('(2) after calling swap_names')\n",
    "if swapped == False:\n",
    "    print('names were not swapped; check indices')\n",
    "else:\n",
    "    print('    dutch :', id(dutch) , ', dutch =', dutch)\n",
    "    print('    french:', id(french), ', french=', french)\n",
    "    print('    german:', id(german), ', german=', german)\n"
   ]
  },
  {
   "cell_type": "markdown",
   "metadata": {
    "deletable": false,
    "editable": false
   },
   "source": [
    "If you are going to change many or all items in a list, you may want to rewrite the whole list in a function and return it to the caller. With the below code, \n",
    "\n",
    "#### DO THIS\n",
    "- create a function yourself that takes a single list of names on input (as a formal parameter), and returns a new list in which all names are now in uppercase characters. When having a name: `name = 'Hans'` you obtain `'HANS'` by using `name.upper()`. Follow this approach:\n",
    " * create a new empty list in the function\n",
    " * read each items, make it uppercase and:\n",
    " * append it to the new list\n",
    "- run your program; now that we return a new list, are id's still the same? Why not?\n",
    "- is the old list still available to you? Verify it!"
   ]
  },
  {
   "cell_type": "code",
   "execution_count": 9,
   "metadata": {},
   "outputs": [
    {
     "name": "stdout",
     "output_type": "stream",
     "text": [
      "(1) created;\n",
      "    dutch : 2720272150088 , dutch = ['Hans', 'Henk', 'Mien', 'Riet', 'Dirk']\n",
      "(2) folded to uppercase;\n",
      "    dutch : 2720272148552 , dutch = ['HANS', 'HENK', 'MIEN', 'RIET', 'DIRK']\n"
     ]
    }
   ],
   "source": [
    "def to_upper(a_list):\n",
    "    '''return a list with all items in uppercase'''\n",
    "    new_list = []\n",
    "    for item in a_list:\n",
    "        new_list.append(item.upper())\n",
    "    return new_list\n",
    "\n",
    "\n",
    "dutch  = ['Hans', 'Henk', 'Mien', 'Riet', 'Dirk']\n",
    "\n",
    "print('(1) created;')\n",
    "print('    dutch :', id(dutch) , ', dutch =', dutch)\n",
    "\n",
    "dutch = to_upper(dutch)\n",
    "\n",
    "print('(2) folded to uppercase;')\n",
    "print('    dutch :', id(dutch) , ', dutch =', dutch)"
   ]
  },
  {
   "cell_type": "markdown",
   "metadata": {
    "deletable": false,
    "editable": false
   },
   "source": [
    "#### mutables and default values\n",
    "Special attention is always needed in case mutable are given a default value in a formal parameter list. With the below code \n",
    "\n",
    "#### DO THIS\n",
    "- in a list of numbers `a_list`, each item must be squared and increased by a term `(a-b)`. Design and implement a function `sqr_inc(a, b, a_list)` that does this\n",
    "- run the program and verify it's working correctly\n",
    "- now we assign a default: `a_list = []`. Rerun the program. Is it working ok?\n",
    "- now call function `f_list = sqr_inc(a, b)`, making use of the default (don't specify a list). What is the result now? How is this possible?\n",
    "- what if you rename `a_list` in the function, to `f_list`? Rerun and verify\n",
    "- what if you remove `f_list=[]` from the formal parameter list? Rerun and verify"
   ]
  },
  {
   "cell_type": "code",
   "execution_count": 10,
   "metadata": {},
   "outputs": [
    {
     "name": "stdout",
     "output_type": "stream",
     "text": [
      "(1) id(f_list)= 2720272217992 f_list= [10.0, 11.0, 12.0, 13.0, 14.0, 15.0]\n",
      "(2) (after calling sqr_inc())\n",
      "    id(f_list)= 2720272217992 f_list= [102.0, 123.0, 146.0, 171.0, 198.0, 227.0]\n"
     ]
    }
   ],
   "source": [
    "def sqr_inc(a, b, a_list):\n",
    "    '''return list of squares of all elements in a_list + (a-b)'''\n",
    "    term = (a-b)\n",
    "    for k in range(len(a_list)):\n",
    "        a_list[k] = a_list[k] * a_list[k] + term\n",
    "    return a_list\n",
    "\n",
    "a = 12.0\n",
    "b = 10.0\n",
    "f_list = [10.0, 11.0, 12.0, 13.0, 14.0, 15.0]\n",
    "print('(1) id(f_list)=', id(f_list), 'f_list=', f_list)\n",
    "\n",
    "# ... function call ...\n",
    "f_list = sqr_inc(a, b, f_list)\n",
    "\n",
    "print('(2) (after calling sqr_inc())')\n",
    "print('    id(f_list)=', id(f_list), 'f_list=', f_list)\n"
   ]
  },
  {
   "cell_type": "markdown",
   "metadata": {
    "deletable": false,
    "editable": false
   },
   "source": [
    "#### Remarks\n",
    "Now we have seen above what can happen with mutables and default you can understand that in Python, practices are:\n",
    "* don't assign a default value `=[]` to a list in a formal parameter list\n",
    "* always pass a list as a formal parameter and (unless simply too clumsy), generate a new list and prepare the modified list in return"
   ]
  },
  {
   "cell_type": "markdown",
   "metadata": {
    "deletable": false,
    "editable": false
   },
   "source": [
    "## Done"
   ]
  }
 ],
 "metadata": {
  "kernelspec": {
   "display_name": "Python 3",
   "language": "python",
   "name": "python3"
  },
  "language_info": {
   "codemirror_mode": {
    "name": "ipython",
    "version": 3
   },
   "file_extension": ".py",
   "mimetype": "text/x-python",
   "name": "python",
   "nbconvert_exporter": "python",
   "pygments_lexer": "ipython3",
   "version": "3.7.6"
  },
  "latex_envs": {
   "LaTeX_envs_menu_present": true,
   "autoclose": false,
   "autocomplete": true,
   "bibliofile": "biblio.bib",
   "cite_by": "apalike",
   "current_citInitial": 1,
   "eqLabelWithNumbers": true,
   "eqNumInitial": 1,
   "hotkeys": {
    "equation": "Ctrl-E",
    "itemize": "Ctrl-I"
   },
   "labels_anchors": false,
   "latex_user_defs": false,
   "report_style_numbering": false,
   "user_envs_cfg": false
  }
 },
 "nbformat": 4,
 "nbformat_minor": 2
}
