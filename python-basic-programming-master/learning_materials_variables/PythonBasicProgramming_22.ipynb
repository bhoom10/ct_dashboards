{
 "cells": [
  {
   "cell_type": "markdown",
   "metadata": {
    "deletable": false,
    "editable": false
   },
   "source": [
    "<header>\n",
    "    <div style=\"overflow: auto;\">\n",
    "        <img src=\"https://digital-skills.tudelft.nl/nb_style/figures/TUDelft.jpg\" style=\"float: left;\" />\n",
    "        <img src=\"https://digital-skills.tudelft.nl/nb_style/figures/DUT_Flame.png\" style=\"float: right; width: 100px;\" />\n",
    "    </div>\n",
    "    <div style=\"text-align: center;\">\n",
    "        <h2><large>Digital Skills</large> -- Python Basic Programming --</h2>\n",
    "        <h6>&copy; 2019, 2020, TU Delft. Creative Commons</h6>     \n",
    "    </div>\n",
    "    <br>   \n",
    "    <br>\n",
    "</header>"
   ]
  },
  {
   "cell_type": "markdown",
   "metadata": {
    "deletable": false,
    "editable": false
   },
   "source": [
    "## In this Notebook\n",
    "\n",
    "In this notebook, we introduce *additional variable types* not discussed in *Notebook PythonBasicProgramming_20 on Variables*:\n",
    "* numeric variable `complex` in Python\n",
    "* how to create a complex variable from literals\n",
    "* how to create a complex variable using `complex()`\n",
    "* how to manipulate complex variables\n",
    "* conversions, trigonometric, logarithmic and other operations\n",
    "\n",
    "All topics will be discussed at basic programming level.\n",
    "\n",
    "#### Assumed prior knowledge and skills\n",
    "- basic understanding of complex numbers\n",
    "- Notebook PythonBasicProgramming_20 on Variables\n",
    "- Notebook PythonBasocProgramming-23 on Formatted Output"
   ]
  },
  {
   "cell_type": "markdown",
   "metadata": {
    "deletable": false,
    "editable": false
   },
   "source": [
    "# Variables -- complex numbers\n",
    "\n",
    "## Complex numbers in programming Python\n",
    "\n",
    "A complex number is a a number with a real part and an imaginary part: like in: $z=x+yj$. In this example, complex number $z$ has real part $x$ and $y$, both real number quantities, and $j$ a number with the property that $j^2=-1$. Verify that you understand that while $yj$ is an imaginary number, $y$ itself is a real number. In programming languages (including Python), complex numeric types are conventionally implemented as an ordered 2-tuple `z=(x,y)` of real numbers `x` and `y`, in which `z[0]` represents the value of the real part and, likewise, `z[1]` represents the value of the imaginary part. Being an ordered pair, there is no need to store anything related to `j` in a complex type.\n",
    "\n",
    "The nature of a complex type comes to the surface in:\n",
    "1. the value assignment from literals (in which `j` must appear)\n",
    "2. the addition and multiplication operations on type `complex`\n",
    "3. the string representation of complex numeric variables\n",
    "\n",
    "Remember, that when given a numeric variable of type `complex` and two real values for their constituent parts, the `complex` is uniquely defined.\n",
    "\n",
    "We will further discuss this below. Programming examples and to-do's will help to further illustrate. One final remark: in this notebook, we use `j` rather than `i`, simply because Python does this, too. Indeed, a `j` is less likely to be misread for a `1` than is an `i`. If you need so for an article or for  whatever reason, a printing routine that prints an `i` rather than a `j` is easily made\n",
    "\n",
    "## How to create and assign a value to a complex variable?\n",
    "\n",
    "Recall that in Python you do not need to specify the variable *type* in your code; Python derives the type of the variable itself, from the type of value you assign it. To that end, Python *first* evaluates  the *right-hand-side*; what is to the right of the assignment operator. In the below case, with value specification `1.45 + 2.05j`, the right-hand-side is interpreted as a specification of a complex number, because it contain a real number literal *trailed by a `j`*. Variable `my_cplx` will be assigned Python's numeric type for complex numbers, seeking to determine the two real value parts it needs to know for that. Python recognizes in the value specification a real part value and a imaginary part value (the j-trailed part), and is thus able to store these two real values. Recall also that for any variable, you may assign it value `None` (of type `NoneType`), which can be replaced by another type of value, later on. \n",
    "\n",
    "<img width=\"480\" src=\"./figures/cplx_assignment.png\">\n",
    "\n",
    "#### Complex number literal value-specifications\n",
    "Valid literal value-specifications in the creation of complex variables, are:\n",
    "```python\n",
    "    z = 1.0 + 1.0j\n",
    "    z = -1j\n",
    "    z = 0.0 - 1j\n",
    "    z = -1j + 2.0\n",
    "    z = math.pi + 0j\n",
    "    z = 1.0e10 + -1.0e20j\n",
    "    z = 1E-3 + 2E-2j\n",
    "```\n",
    "Using the below code\n",
    "\n",
    "#### DO THIS\n",
    "1. copy-paste the above complex value-specifications from literals, into the program code, and print them. Verify the result\n",
    "2. in each of code lines creating a complex, try removing the `j`, Rerun and observe the effect\n",
    "3. in `z3 = 0.0 - 1j` change the sign of the term `1j` to `-1j`. Verify that the result is equivalent to `z3 = 0.0 + 1j`"
   ]
  },
  {
   "cell_type": "code",
   "execution_count": 1,
   "metadata": {},
   "outputs": [
    {
     "name": "stdout",
     "output_type": "stream",
     "text": [
      "z1: (1+1j)\n",
      "z2: (-0-1j)\n",
      "z3: -1j\n",
      "z4: (2-1j)\n",
      "z5: (3.141592653589793+0j)\n",
      "z6: (10000000000-1e+20j)\n",
      "z7: (0.001+0.02j)\n"
     ]
    }
   ],
   "source": [
    "import cmath\n",
    "\n",
    "z1 = 1.0 + 1.0j\n",
    "z2 = -1j\n",
    "z3 = 0.0 - 1j\n",
    "z4 = -1j + 2.0\n",
    "z5 = cmath.pi + 0j\n",
    "z6 = 1.0e10 + -1.0e20j\n",
    "z7 = 1E-3 + 2E-2j\n",
    "print('z1:', z1)\n",
    "print('z2:', z2)\n",
    "print('z3:', z3)\n",
    "print('z4:', z4)\n",
    "print('z5:', z5)\n",
    "print('z6:', z6)\n",
    "print('z7:', z7)"
   ]
  },
  {
   "cell_type": "markdown",
   "metadata": {
    "deletable": false,
    "editable": false
   },
   "source": [
    "#### Complex number from complex() \n",
    "Literals are not the only way to create a `complex`; another way to do this, is by using `complex()`. Whether or not there is a `j` in your value specifications here, is irrelevant: after all, you use `complex()` so you get a `complex`. But if you *do* include a `j` in this case, always check how Python determines the input value(s). \n",
    "\n",
    "Valid complex specifications using the `complex()` function (constructor): are:\n",
    "```python\n",
    "    z = complex(0)            # gives: 0.0j\n",
    "    z = complex(0,0)\n",
    "    z = complex(x,y)          # x a float or complex and y a float or complex\n",
    "    z = complex(1.0 + 1.0j)   # literal may contain spaces\n",
    "    z = complex('1.0+1.0j')   # string must not contain spaces\n",
    "    z - complex(my_cstring)   # my_cstring a valid complex number string, like: my_cstring='1.-2.j'\n",
    "    z = complex(1j,1j)        # Python will calculate two real numbers; check the effect\n",
    "```\n",
    "\n",
    "Critical is to provide a real number literal trailed by a `j`.\n",
    "\n",
    "In the below code, the complex variables we saw in earlier, reappear. Using the code below;\n",
    "\n",
    "#### DO THIS\n",
    "1. for all variables `z1..z7`, change the literal value-specification in the right-hand-side to a value-specification in which you use `complex( literal )`.like so:  `z1 = 1.0 + 1.0j` is to be changed into `z1 = complex(1.0 + 1.0j)`\n",
    "2. for all variables `z1..z7`, change the literal value-specification in the right-hand-side to a value-specification in which you use `complex( string-literal )`.like so:  `z1 = complex(1.0 + 1.0j)` is to be changed into `z1 = complex('1.0+1.0j')`, removing spaces and other repairs, as needed. Use: `PI = str(cmath.pi)` to obtain a string version of `cmath.pi`\n",
    "3. for all variables `z1..z7`, change the string-literal value-specification in the right-hand-side to a value-specification in which you use `complex( x, y )` with `x`, `y` floats, like so:  `z1 = complex('1.0+1.0j')` is to be changed int `z1 = complex(1.0, 1.0)`"
   ]
  },
  {
   "cell_type": "code",
   "execution_count": 2,
   "metadata": {},
   "outputs": [
    {
     "name": "stdout",
     "output_type": "stream",
     "text": [
      "z1: (1+1j)\n",
      "z2: (-0-1j)\n",
      "z3: -1j\n",
      "z4: (2-1j)\n",
      "z5: (3.141592653589793+0j)\n",
      "z6: (10000000000-1e+20j)\n",
      "z7: (0.001+0.02j)\n"
     ]
    }
   ],
   "source": [
    "import cmath\n",
    "\n",
    "z1 = 1.0 + 1.0j\n",
    "z2 = -1j\n",
    "z3 = 0.0 - 1j\n",
    "z4 = -1j + 2.0\n",
    "z5 = cmath.pi + 0j\n",
    "z6 = 1.0e10 + -1.0e20j\n",
    "z7 = 1E-3 + 2E-2j\n",
    "print('z1:', z1)\n",
    "print('z2:', z2)\n",
    "print('z3:', z3)\n",
    "print('z4:', z4)\n",
    "print('z5:', z5)\n",
    "print('z6:', z6)\n",
    "print('z7:', z7)"
   ]
  },
  {
   "cell_type": "markdown",
   "metadata": {
    "deletable": false,
    "editable": false
   },
   "source": [
    "#### Common mistakes\n",
    "Some common mistakes, are:\n",
    "- wrong type:\n",
    "```python\n",
    "    z = 0                              # makes z a float or int, use: 0 + 0j , or: 0j, or: complex(0) instead\n",
    "``` \n",
    "- wrong use of `j`:\n",
    "```python\n",
    "    z = j                              # makes Python interpret j as a var, use: 1j instead\n",
    "    z = 1 j                            # no space allowed between 1 and j, use: 1j instead\n",
    "\n",
    "    z = float('1.0') + float('1.0')j   # use j only in literals, use: complex(float('1.0'),float('1.0'))\n",
    "                                       # or, use multiplication:  = float('1.0') + float('1.0')*1j\n",
    "```\n",
    "- wrong use of string literal in `complex()`:\n",
    "```python\n",
    "    complex('1 + 1j')                  # malformed string, use either: complex(1 + 1j), or: complex('1+1j')\n",
    "```\n",
    "- correct but possibly unintended use of `complex()`:\n",
    "```python\n",
    "    z = complex(1, 1j)                 # interpreted by Python as 1+1j.j = 0j, use complex(1,1) for 1+1j\n",
    "    z = complex('1'+'1j')              # interpreted by Python as 11j, use complex('1+1j') for 1+1j\n",
    "```"
   ]
  },
  {
   "cell_type": "markdown",
   "metadata": {
    "deletable": false,
    "editable": false
   },
   "source": [
    "## How to manipulate complex variable values?\n",
    "\n",
    "In Python, `complex`, like `float`, is a immutable type.\n",
    "\n",
    "Complex *addition* is defined as follows: assume two complex variables $z_1 = x_1 + y_1j$ and $z_2 = x_2 + y_2j$. The addition, represented by the math symbol $+$ is defined as: $z_1 + z_2 = x_1+x_2 + (y_1+y_2)j$. We see immediately:\n",
    "```python\n",
    "    z1+z2 equivalent to: complex(x1+x2,y1+y2)\n",
    "```\n",
    "In a similar fashion, for *multiplication* (math symbol $*$), we obtain: $z_1 * z_2 = (x_1x_2-y_1y_2 + (x_1y_2+x_2y_1)j$, which is easy to verify by hand calculations:\n",
    "```python\n",
    "    z1*z2 equivalent to: complex(x1*x2-y1*y2, x1*y2+x2*y1)\n",
    "```\n",
    "For *subtraction*, we have:\n",
    "```python\n",
    "    z1-z2 equivalent to: complex(x1-x2,y1-y2)\n",
    "```\n",
    "For *division*, we give the result, leaving a verification to you as an ex: \n",
    "```python\n",
    "    z1/z2 equivalent to: complex((x1*x2+y1*y2)/(x2**2+y2**2), (x2*y1-x1*y2)/(x2**2+y2**2))\n",
    "```\n",
    "For square, we use the `**` operator, like this:\n",
    "```python\n",
    "    z**2 = equivalent to: complex(x**2-y**2, 2(x*y))\n",
    "```\n",
    "\n",
    "with the below code\n",
    "\n",
    "#### DO THIS\n",
    "1. for `z1 = complex(x1,y1)` and `z2 = complex(x2,y2)`, print:\n",
    " * `z1` and `z2`\n",
    " * `z1 + z2`\n",
    " * `z1 * z2`\n",
    " * `z1 - z2`\n",
    " * `z1 / z2`\n",
    " * `z1**2`\n",
    " * `z2**2`\n",
    "2. print a verification calculation of each of these operations, using the above rules (below, one such verification is given as a template)"
   ]
  },
  {
   "cell_type": "code",
   "execution_count": 3,
   "metadata": {},
   "outputs": [
    {
     "name": "stdout",
     "output_type": "stream",
     "text": [
      "z1:  (-1+2j)\n",
      "z2:  (-1+1j)\n",
      "add up  : z1+z2= (-2+3j)\n",
      "multiply: z1*z2= (-1-3j)\n",
      "subtract : z1-z2= 1j\n",
      "division : z1/z2= (1.5-0.5j)\n",
      "squared) : z1**2= (-3-4j)\n",
      "squared) : z2**2= -2j\n",
      "verification add: (x1+x2,y1+y2)=( -2.0 , 3.0 )\n"
     ]
    }
   ],
   "source": [
    "x1, x2 =-1.0, -1.0\n",
    "y1, y2 = 2.0,  1.0\n",
    "\n",
    "z1, z2 = complex(x1, y1), complex(x2,y2)\n",
    "print('z1: ', z1)\n",
    "print('z2: ', z2)\n",
    "print('add up  : z1+z2=', z1+z2)\n",
    "print('multiply: z1*z2=', z1*z2)\n",
    "print('subtract : z1-z2=', z1-z2)\n",
    "print('division : z1/z2=', z1/z2)\n",
    "print('squared) : z1**2=', z1**2)\n",
    "print('squared) : z2**2=', z2**2)\n",
    "\n",
    "print('verification add: (x1+x2,y1+y2)=(', x1+x2, ',', y1+y2, ')')\n",
    "# print('verification mul: ... ') \n",
    "# print('verification sub: ... ')\n",
    "# print('verification div: ... ')\n",
    "# print('verification sqr: ... ')\n",
    "# print('verification sqr: ... ')"
   ]
  },
  {
   "cell_type": "markdown",
   "metadata": {
    "deletable": false,
    "editable": false
   },
   "source": [
    "Using the above code\n",
    "\n",
    "#### DO THIS\n",
    "1. change `z1` to `z1 = -1+0j`, and change `z2` to `z2 = 1+0j`. Multiplication,squared,  and division should deliver neutral value `1`, and add and subtract should yield `+2` and `0` resp. Verify this. Verify that in this case, because of imaginary parts are zero, no rotation occurs\n",
    "2. change `z1` to `z1=-0+1j` and `z2` to `z2=-0-1j`. Define what to expect for each of the operations, run the program and verify that in this case, because of imaginary parts are non-zero, on every operation rotation occurs. What is the nature of this rotation?\n",
    "3. change `z1` to `z1= 1+1j`, and `z2` to `z2 = 1+1j` and verify `z1*z2 == z1**2 == z2**2`. Is there rotation occurring here?"
   ]
  },
  {
   "cell_type": "markdown",
   "metadata": {
    "deletable": false,
    "editable": false
   },
   "source": [
    "## How to print complex variable values?\n",
    "\n",
    "The values of `complex` can be printed in the following ways:\n",
    "\n",
    "- default (see code below)\n",
    "- formatted as a string, example: `pint('z={:s}'.format(str(z))))` If you do not know about formatted printing, open **Notebook-23 Formatted print**\n",
    "- formatted like a float: example: `print('z={:+18.5f}'.format(z)))`\n",
    "- formated as a float, using a placeholder for the real and the imaginary part, separately: \n",
    "  example: `print('real: {:+8.5f} imag: {:+8.5f}'.format(z.real, z.imag))`\n",
    "- printed using `i` instead of `j`: `print('z={:+4.2f}+{:4.2f}i'.format(z.real, z.imag))`\n"
   ]
  },
  {
   "cell_type": "markdown",
   "metadata": {
    "deletable": false,
    "editable": false
   },
   "source": [
    "## Further operations on complex numbers\n",
    "\n",
    "Python offers operations, constants and functions operating on complex numbers in module `cmath` and in `numpy`. There is no room in this notebook to go in them all. We make a rudimentary selection below. In the below table, `z`, `z1`, `z2`, `w` ar complex numbers, `x`, `y` are real. Others can be determined from the context.\n",
    "\n",
    "| Category | Operation | Purpose | example |                  \n",
    "|:---|:---|:---|:---|\n",
    "| elementary   | `complex.real` | return the real part of `z`   | `z1.real` |\n",
    "| .            | `complex.imag` | return the imaginary part `z` | `z1.imag` |\n",
    "| .            | `complex.conjugate` \n",
    "| .            | `abs(z)`       | return modulus `|z|` of `z`   | `mod_z1 = abs(z1)` |\n",
    "| .            | `phase(z)`     | return the argument of `z`    | `phi = cmath.phase(z)` |\n",
    "| .            | `sqrt(z)`      | return the root of ``z`       | `r = cmath.sqrt(z)` |\n",
    "| angular      | `polar(z)`     | return the polar form of `z`  | `(r,phi) = polar(z)` |\n",
    "| .            | `rect()`       | return the rectangular from of `z` | `w = (rect( polar(z) )` |\n",
    "| Trigonometry | `sin(z)`       | sin of complex `z`            | `h = sin(z)` |\n",
    "| Hyperbolic   | `sinh(z)`      | sine-hyperboilc of `z`        | `g = sinh(z) ` |\n",
    "\n"
   ]
  },
  {
   "cell_type": "code",
   "execution_count": 4,
   "metadata": {},
   "outputs": [
    {
     "name": "stdout",
     "output_type": "stream",
     "text": [
      "complex numbers;\n",
      "-------------------------------------------------\n",
      "         z        conj z       mod        arg    \n",
      "-------------------------------------------------\n",
      "z1: (+1.0,+1.0) (+1.0,-1.0) +1.41421  +0.25000 pi\n",
      "z2: (+1.0,-1.0) (+1.0,+1.0) +1.41421  -0.25000 pi\n",
      "z3: (-1.0,+1.0) (-1.0,-1.0) +1.41421  +0.75000 pi\n",
      "z4: (-1.0,-1.0) (-1.0,+1.0) +1.41421  -0.75000 pi\n",
      "z5: (+1.0,+0.0) (+1.0,-0.0) +1.00000  +0.00000 pi\n",
      "z6: (+0.0,+1.0) (+0.0,-1.0) +1.00000  +0.50000 pi\n",
      "\n",
      "Some computations;\n",
      "the orthogonal of (1+0j) = 1j\n",
      "the angle of (-1+1j) is +0.75 pi rad, so in polar notation: r=1.41421, phi=+0.75 pi rad\n",
      "check: polar w=(1.41421,+0.75 pi) in rectangular notation gives: w=(-0.9999974810218273+0.9999974810218274j) ~~ z3\n"
     ]
    }
   ],
   "source": [
    "import cmath as cm\n",
    "\n",
    "z1, z2, z3, z4, z5, z6 = 1+1j, 1-1j, -1+1j, -1-1j, 1+0j, 0+1j\n",
    "\n",
    "print('complex numbers;')\n",
    "print('-------------------------------------------------')\n",
    "print('         z        conj z       mod        arg    ')\n",
    "print('-------------------------------------------------')\n",
    "print('z1: ({:+4.1f},{:+4.1f}) ({:+4.1f},{:+4.1f}) {:+8.5f}  {:+8.5f} pi'.\n",
    "      format(z1.real, z1.imag, z1.real, -z1.imag, abs(z1), cm.phase(z1)/cm.pi))\n",
    "print('z2: ({:+4.1f},{:+4.1f}) ({:+4.1f},{:+4.1f}) {:+8.5f}  {:+8.5f} pi'.\n",
    "      format(z2.real, z2.imag, z2.real, -z2.imag, abs(z2), cm.phase(z2)/cm.pi))\n",
    "print('z3: ({:+4.1f},{:+4.1f}) ({:+4.1f},{:+4.1f}) {:+8.5f}  {:+8.5f} pi'.\n",
    "      format(z3.real, z3.imag, z3.real, -z3.imag, abs(z3), cm.phase(z3)/cm.pi))\n",
    "\n",
    "print('z4: ({:+4.1f},{:+4.1f}) ({:+4.1f},{:+4.1f}) {:+8.5f}  {:+8.5f} pi'.\n",
    "      format(z4.real, z4.imag, z4.real, -z4.imag, abs(z4), cm.phase(z4)/cm.pi))\n",
    "print('z5: ({:+4.1f},{:+4.1f}) ({:+4.1f},{:+4.1f}) {:+8.5f}  {:+8.5f} pi'.\n",
    "      format(z5.real, z5.imag, z5.real, -z5.imag, abs(z5), cm.phase(z5)/cm.pi))\n",
    "print('z6: ({:+4.1f},{:+4.1f}) ({:+4.1f},{:+4.1f}) {:+8.5f}  {:+8.5f} pi'.\n",
    "      format(z6.real, z6.imag, z6.real, -z6.imag, abs(z6), cm.phase(z6)/cm.pi))\n",
    "\n",
    "print('\\nSome computations;')\n",
    "print('the orthogonal of {:s} = {:s}'.format(str(z5), str(z5*1j)))\n",
    "print('the angle of {:s} is {:+5.2f} pi rad, so in polar notation: r={:7.5f}, phi={:+5.2f} pi rad'. \\\n",
    "     format(str(z3), cm.phase(z3)/cm.pi,cm.polar(z3)[0], cm.polar(z3)[1]/cm.pi))\n",
    "# verification; return to rectangular notation ...\n",
    "w = cm.rect(1.41421, 0.75*cm.pi)\n",
    "print('check: polar w=(1.41421,+0.75 pi) in rectangular notation gives: w={:s} ~~ z3'.format(str(w)))\n"
   ]
  },
  {
   "cell_type": "markdown",
   "metadata": {
    "deletable": false,
    "editable": false
   },
   "source": [
    "Using the below code\n",
    "\n",
    "#### DO THIS\n",
    "1. create 4 complex variables on the unit circle `z1, z2, z3, z4 = 1.0+0j, 0+1j, -1+0j, 0-1j`. \n",
    "   * convert all variables `z1..z4` to polar and exponential notations. Look up these operations in module `cmath` documentation, found [here](https://docs.python.org/3/library/cmath.html)\n",
    "   * verify the angle `phi` by computing the arctangent (hint, use: `math.atan2(z.imag, z.real)`) returned by `cmath.polar()`\n",
    "2. compute for each of the complex variables `z1..z4` the hyperbolic tangent (hint, use: `cmath.tanh(z)`). Print the values so obtained for each of the variables\n",
    "3. do the same for the `sqrt()`, using `cmath.sqrt(z)`\n",
    "4. do the same for the `log()` (base 10)\n",
    "5. do the same for the `exp()`"
   ]
  },
  {
   "cell_type": "code",
   "execution_count": 5,
   "metadata": {},
   "outputs": [
    {
     "name": "stdout",
     "output_type": "stream",
     "text": [
      "complex numbers;\n",
      "z=(1+0j)       real: +1.00000 imag: +0.00000 mod: +1.00000 arg: +0.00000 pi\n",
      "z=1j           real: +0.00000 imag: +1.00000 mod: +1.00000 arg: +0.50000 pi\n",
      "z=(-1+0j)      real: -1.00000 imag: +0.00000 mod: +1.00000 arg: +1.00000 pi\n",
      "z=-1j          real: +0.00000 imag: -1.00000 mod: +1.00000 arg: -0.50000 pi\n",
      "conversions (check output formatting);\n",
      "z= +1.00000+0.00000j  polar: (+1.00000,+0.00000 pi) exp: +1.00000e(+1.00000+0.00000j) rect: 1.00000+0.00000j\n",
      "z= +0.00000+1.00000j  polar: (+1.00000,+0.50000 pi) exp: +1.00000e(+0.00000+1.00000j) rect: 0.87758+0.47943j\n",
      "z= -1.00000+0.00000j  polar: (+1.00000,+1.00000 pi) exp: +1.00000e(-1.00000+0.00000j) rect: 0.54030+0.84147j\n",
      "z= +0.00000-1.00000j  polar: (+1.00000,-0.50000 pi) exp: +1.00000e(+0.00000-1.00000j) rect: 0.87758-0.47943j\n",
      "alternative, also using atan2\n",
      "z= +1.00000+0.00000j  polar: (+1.00000,+0.00000 pi) exp: +1.00000e(+1.00000+0.00000j) rect: 1.00000+0.00000j\n",
      "z= +0.00000+1.00000j  polar: (+1.00000,+0.50000 pi) exp: +1.00000e(+0.00000+1.00000j) rect: 0.87758+0.47943j\n",
      "z= -1.00000+0.00000j  polar: (+1.00000,+1.00000 pi) exp: +1.00000e(-1.00000+0.00000j) rect: 0.54030+0.84147j\n",
      "z= +0.00000-1.00000j  polar: (+1.00000,-0.50000 pi) exp: +1.00000e(+0.00000-1.00000j) rect: 0.87758-0.47943j\n",
      "hyperbolic;\n",
      "z= +1.00000+0.00000j   tanh: +7.615941559558e-01+0.000000000000e+00j\n",
      "z= +0.00000+1.00000j   tanh: +0.000000000000e+00+1.557407724655e+00j\n",
      "z= -1.00000+0.00000j   tanh: -7.615941559558e-01+0.000000000000e+00j\n",
      "z= +0.00000-1.00000j   tanh: +0.000000000000e+00-1.557407724655e+00j\n",
      "square root;\n",
      "z= +1.00000+0.00000j   sqrt: +1.000000000000E+00+0.000000000000E+00j\n",
      "z= +0.00000+1.00000j   sqrt: +7.071067811865E-01+7.071067811865E-01j\n",
      "z= -1.00000+0.00000j   sqrt: +0.000000000000E+00+1.000000000000E+00j\n",
      "z= +0.00000-1.00000j   sqrt: +7.071067811865E-01-7.071067811865E-01j\n",
      "logarithmic;\n",
      "z=(1+0j)       log_10: +0.000000000000e+00+0.000000000000e+00j\n",
      "z=1j           log_10: +0.000000000000e+00+6.821881769209e-01j\n",
      "z=(-1+0j)      log_10: +0.000000000000e+00+1.364376353842e+00j\n",
      "z=-1j          log_10: +0.000000000000e+00-6.821881769209e-01j\n",
      "z=(1+0j)       exp: +2.718281828459e+00+0.000000000000e+00j\n",
      "z=1j           exp: +5.403023058681e-01+8.414709848079e-01j\n",
      "z=(-1+0j)      exp: +3.678794411714e-01+0.000000000000e+00j\n",
      "z=-1j          exp: +5.403023058681e-01-8.414709848079e-01j\n"
     ]
    }
   ],
   "source": [
    "import  math as rm\n",
    "import cmath as cm\n",
    "\n",
    "z1, z2, z3, z4 = 1.0+0j, 0+1j, -1+0j, 0-1j\n",
    "\n",
    "print('complex numbers;')\n",
    "\n",
    "for z in (z1, z2, z3, z4):\n",
    "    print('z={:10s}   real: {:+8.5f} imag: {:+8.5f} mod: {:+8.5f} arg: {:+8.5f} pi'.\\\n",
    "          format(str(z), z.real, z.imag, abs(z), cm.phase(z)/cm.pi))\n",
    "\n",
    "\n",
    "print('conversions (check output formatting);')\n",
    "for z in (z1, z2, z3, z4):\n",
    "    m, angl = cm.polar(z)\n",
    "    phi = angl / cm.pi     # times pi\n",
    "    theta = cm.cos(angl) + cm.sin(angl)*1j\n",
    "    print('z={:+18.5f}  polar: ({:+8.5f},{:+8.5f} pi) exp: {:+8.5f}e({:+8.5f}) rect: {:8.5f}'. \\\n",
    "          format(z, m, phi, m, theta, cm.rect(m,phi)))\n",
    "\n",
    "print('alternative, also using atan2')\n",
    "for z in (z1, z2, z3, z4):\n",
    "    m, angl = cm.polar(z)\n",
    "    phi = rm.atan2(z.imag, z.real) / rm.pi  # times pi\n",
    "    theta = cm.cos(angl) + cm.sin(angl)*1j\n",
    "    print('z={:+18.5f}  polar: ({:+8.5f},{:+8.5f} pi) exp: {:+8.5f}e({:+8.5f}) rect: {:8.5f}'. \\\n",
    "          format(z, m, phi, m, theta, cm.rect(m,phi)))\n",
    "\n",
    "\n",
    "print('hyperbolic;')\n",
    "for z in (z1, z2, z3, z4):\n",
    "\tprint('z={:+18.5f}   tanh: {:+15.12e}'. format(z, cm.tanh(z)))\n",
    "\n",
    "print('square root;')\n",
    "for z in (z1, z2, z3, z4):\n",
    "\tprint('z={:+18.5f}   sqrt: {:+15.12E}'. format(z, cm.sqrt(z)))\n",
    "\n",
    "print('logarithmic;')\n",
    "for z in (z1, z2, z3, z4):\n",
    "\tprint('z={:10s}   log_10: {:+15.12e}'. format(str(z), cm.log10(z)))\n",
    "\n",
    "for z in (z1, z2, z3, z4):\n",
    "\tprint('z={:10s}   exp: {:+15.12e}'. format(str(z), cm.exp(z)))"
   ]
  },
  {
   "cell_type": "markdown",
   "metadata": {
    "deletable": false,
    "editable": false
   },
   "source": [
    "Much like all the other numeric types in Python, complex numbers can also be printed as an *f-string*, see below. "
   ]
  },
  {
   "cell_type": "code",
   "execution_count": 6,
   "metadata": {},
   "outputs": [
    {
     "name": "stdout",
     "output_type": "stream",
     "text": [
      "complex numbers;\n",
      "z=(1+0j)       real: +1.00000 imag: +0.00000 mod: +1.00000 arg: +0.00000 pi\n",
      "z=1j           real: +0.00000 imag: +1.00000 mod: +1.00000 arg: +0.50000 pi\n",
      "z=(-1+0j)      real: -1.00000 imag: +0.00000 mod: +1.00000 arg: +1.00000 pi\n",
      "z=-1j          real: +0.00000 imag: -1.00000 mod: +1.00000 arg: -0.50000 pi\n",
      "z=(1+0j)       exp: +2.718281828459e+00+0.000000000000e+00j\n",
      "z=1j           exp: +5.403023058681e-01+8.414709848079e-01j\n",
      "z=(-1+0j)      exp: +3.678794411714e-01+0.000000000000e+00j\n",
      "z=-1j          exp: +5.403023058681e-01-8.414709848079e-01j\n"
     ]
    }
   ],
   "source": [
    "import  math as rm\n",
    "import cmath as cm\n",
    "\n",
    "z1, z2, z3, z4 = 1.0+0j, 0+1j, -1+0j, 0-1j\n",
    "\n",
    "print('complex numbers;')\n",
    "\n",
    "for z in (z1, z2, z3, z4):\n",
    "    print(f'z={str(z):10s}   real: {z.real:+8.5f} imag: {z.imag:+8.5f}', end=' ')\n",
    "    print(f'mod: {abs(z):+8.5f} arg: {cm.phase(z)/cm.pi:+8.5f} pi')\n",
    "\n",
    "for z in (z1, z2, z3, z4):\n",
    "    print(f'z={str(z):10s}   exp: {cm.exp(z):+15.12e}')"
   ]
  },
  {
   "cell_type": "markdown",
   "metadata": {
    "deletable": false,
    "editable": false
   },
   "source": [
    "# Recommended follow-up\n",
    "## Programming Project\n",
    "\n",
    "You are firmly recommended to rehearse the above new knowledge and concepts, by doing a *Programming Project* yourself: open **ProgrammingProject_22.ipynb** for a fitting project using complex numbers.\n",
    "\n",
    "## Further pointers to supporting material\n",
    "\n",
    "* if you did not already did so, take Notebook **Notebook_23.ipynb on Formatted printing**\n",
    "* do you want to know more about Numpy? Open **Notebook-82.ipynb on Numpy and Scipy**\n",
    "\n",
    "* Want to know more about the *Python Style Guide*? Follow [this document online](https://www.python.org/dev/peps/pep-0008/)"
   ]
  },
  {
   "cell_type": "markdown",
   "metadata": {
    "deletable": false,
    "editable": false
   },
   "source": [
    "## Done"
   ]
  }
 ],
 "metadata": {
  "kernelspec": {
   "display_name": "Python 3",
   "language": "python",
   "name": "python3"
  },
  "language_info": {
   "codemirror_mode": {
    "name": "ipython",
    "version": 3
   },
   "file_extension": ".py",
   "mimetype": "text/x-python",
   "name": "python",
   "nbconvert_exporter": "python",
   "pygments_lexer": "ipython3",
   "version": "3.7.6"
  },
  "latex_envs": {
   "LaTeX_envs_menu_present": true,
   "autoclose": false,
   "autocomplete": true,
   "bibliofile": "biblio.bib",
   "cite_by": "apalike",
   "current_citInitial": 1,
   "eqLabelWithNumbers": true,
   "eqNumInitial": 1,
   "hotkeys": {
    "equation": "Ctrl-E",
    "itemize": "Ctrl-I"
   },
   "labels_anchors": false,
   "latex_user_defs": false,
   "report_style_numbering": false,
   "user_envs_cfg": false
  }
 },
 "nbformat": 4,
 "nbformat_minor": 2
}
