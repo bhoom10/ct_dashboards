{
 "cells": [
  {
   "cell_type": "markdown",
   "metadata": {
    "deletable": false,
    "editable": false
   },
   "source": [
    "<header>\n",
    "    <div style=\"overflow: auto;\">\n",
    "        <img src=\"https://digital-skills.tudelft.nl/nb_style/figures/TUDelft.jpg\" style=\"float: left;\" />\n",
    "        <img src=\"https://digital-skills.tudelft.nl/nb_style/figures/DUT_Flame.png\" style=\"float: right; width: 100px;\" />\n",
    "    </div>\n",
    "    <div style=\"text-align: center;\">\n",
    "        <h2><large>Digital Skills</large> -- Python Basic Programming --</h2>\n",
    "        <h6>&copy; 2019, TU Delft. Creative Commons</h6>     \n",
    "    </div>\n",
    "    <br>   \n",
    "    <br>\n",
    "</header>"
   ]
  },
  {
   "cell_type": "code",
   "execution_count": 1,
   "metadata": {
    "deletable": false
   },
   "outputs": [
    {
     "data": {
      "text/html": [
       "<script src='../Logui/logui.bundle.js'></script> \n",
       "<script notebook=4 src='../Logui/Logui_test.js'></script>\n",
       "\n",
       "<script> \n",
       "    require( \n",
       "        ['base/js/namespace', 'jquery'],  \n",
       "        function(jupyter, $) { \n",
       "            $(jupyter.events).on(\"kernel_ready.Kernel\", function () { \n",
       "                jupyter.actions.call('jupyter-notebook:run-cell'); \n",
       "            }); \n",
       "        } \n",
       "    ); \n",
       "</script> \n"
      ],
      "text/plain": [
       "<IPython.core.display.HTML object>"
      ]
     },
     "metadata": {},
     "output_type": "display_data"
    }
   ],
   "source": [
    "%%html \n",
    "<script src='../Logui/logui.bundle.js'></script> \n",
    "<script notebook=4 src='../Logui/Logui_test.js'></script> "
   ]
  },
  {
   "cell_type": "markdown",
   "metadata": {
    "deletable": false,
    "editable": false
   },
   "source": [
    "## What you will learn\n",
    "\n",
    "#### In the course as a whole\n",
    "This Notebook is one of several notebooks that make up the Python Basic Programming course. The **whole course** treats the following aspects of Python programming:\n",
    "\n",
    " * Variables (types, assignments, print formats, precision, operators; this part)\n",
    " \n",
    " * Control flow (for loops, while loops, conditions, and if-then-else statements)\n",
    "\n",
    " * Code Organization (Indentation, execution flow, import, functions)\n",
    " \n",
    " * Basic Plotting\n",
    " \n",
    "#### In this Notebook:\n",
    "In the remainder of **this Notebook**, we will further explore and practice basic plotting a functions in a single variable:\n",
    "\n",
    " 1. How to create a simple graph with a function plot\n",
    " \n",
    " 2. How to plot lines, points and lines-points\n",
    "\n",
    " 3. How to plot multiple functions in a single graph\n",
    "\n",
    " 4. How to plot graph elements, like title, axes labels, and legend\n",
    " \n",
    " 5. Matplotlib terminology\n",
    " \n",
    "# Basic plotting\n",
    "For plotting in combination with Python, we will use [Matplotlib](https://matplotlib.org/). Matplotlib is an integral part of Anaconda, and ready to be used. Matplotlib is itself composed of several plotting modules. We will use [module pyplot](http://queirozf.com/entries/matplotlib-pylab-pyplot-etc-what-s-the-different-between-these), offering a plotting style which is largely comparable to plotting in Matlab. Plotting comes with a lot of options, features and details. In this Notebook, we restrict ourselves to basic plotting of functions in a single variable, like $y=f(x)$.\n",
    "\n",
    "Let's go down an example, to see what plotting is about;"
   ]
  },
  {
   "cell_type": "code",
   "execution_count": null,
   "metadata": {
    "tags": [
     "visualization"
    ]
   },
   "outputs": [
    {
     "data": {
      "image/png": "[encoded data removed]",
      "text/plain": [
       "<Figure size 432x288 with 1 Axes>"
      ]
     },
     "metadata": {
      "needs_background": "light"
     },
     "output_type": "display_data"
    }
   ],
   "source": [
    "# way of displaying graphics in this notebook ...\n",
    "%matplotlib inline\n",
    "\n",
    "# we import the pyplot module ...\n",
    "import matplotlib.pyplot as plt\n",
    "\n",
    "# define domain ...\n",
    "X_MIN, X_MAX = -10, 10 # domain definition, used in generating the data points\n",
    "\n",
    "# create two empty lists of x- and y-coordinates ... \n",
    "X, Y = [], []\n",
    "\n",
    "# next, we start generating the function values ...\n",
    "for x in range(X_MIN, X_MAX+1):\n",
    "    X.append(x)                              # add the next x\n",
    "    Y.append((2/5)*x**2 - (6/5)*x + (1/2))   # add the next y=f(x)\n",
    "\n",
    "# ... and subsequently, we plot them ...\n",
    "# ... compose the graph first (in memory) ...\n",
    "\n",
    "plt.plot(X, Y, '-')    # plotting pairs (x, y) with line '-' style\n",
    "\n",
    "# ... when ready, make the plot visible ... \n",
    "plt.show()"
   ]
  },
  {
   "cell_type": "markdown",
   "metadata": {
    "deletable": false,
    "editable": false
   },
   "source": [
    "Observe that your program (more in particular: `matplotlib.pyplot`) figures out a lot of details for you, such as the plot size, and the range of the x-axis and the y-axis.\n",
    "\n",
    "#### DO THIS\n",
    "1. using the above example as starting code, in the below code box, make a function `f(x)` that returns `y=(2/5)*x**2 - (6/5)*x + (1/2)`. Replace the computation of a new `y`-value by a call to this function\n",
    "2. change your domain from (-10,10) to (-2,4). Rerun the program and verify the  adaption of your axis system\n",
    "3. change your domain to (-2.0, 4.0) and (try to) rerun. What error do you see and why? Is it a Matplotlib problem or is it due to our own programming? Set the domain back to (-2,4) and rerun to see if the program works alright again\n",
    "4. we are going to put a title above the figure. Put a line `plt.title(' your text ')` right under the line `plt.plot(...)`. You add the title to the plot construction in memory, *before showing the plot*. Rerun the program\n",
    "5. next, we are going to add a grid, for easy interpretation of the figure. Insert a code line: `plt.grid(True)`, right under the line `plt.title(...)` and rerun the program\n",
    "6. we prefer a red plot line. Do this: in code line `plt.plot(...)`, change `-` to `r-` (in which `r` refers to color `red`). Rerun the program\n",
    "7. we also want computed points to be plotted. Change `r-` in `r-o` and rerun. Verify that the correct points (as computed by your program) are being plot\n",
    "8. change the line type: change `r-` to `r-.`to make it dash-dot like, and `r--` to make it color red, dashed\n",
    "9. experiment with style: select any color from 'b', 'g', 'r', 'c', 'm', 'y', 'k', 'w' and select any line type from '-', '--', -.', '-o', '-+', '-*', '-x', '-s', '-d', and concatenate them into single string such as: 'b-o'. Specify this string as 3rd parameter in `plt.plot()`. Rerun to see the effect\n",
    "10. if you want *no* line, just the magenta square-shaped points: do this: change `r-o` to `ms` (for: magenta + square)"
   ]
  },
  {
   "cell_type": "code",
   "execution_count": null,
   "metadata": {
    "tags": [
     "visualization"
    ]
   },
   "outputs": [
    {
     "data": {
      "image/png": "[encoded data removed]",
      "text/plain": [
       "<Figure size 432x288 with 1 Axes>"
      ]
     },
     "metadata": {
      "needs_background": "light"
     },
     "output_type": "display_data"
    }
   ],
   "source": [
    "# import the pyplot module ...\n",
    "import matplotlib.pyplot as plt\n",
    "\n",
    "def f(x):\n",
    "    # y = your function ...\n",
    "    return y\n",
    "\n",
    "# define domain ...\n",
    "X_MIN, X_MAX = -10, 10 # domain definition, used in generating the data points\n",
    "\n",
    "# create two empty lists of x- and y-coordinates ... \n",
    "X, Y = [], []\n",
    "\n",
    "# here we start generating the function values ...\n",
    "for x in range(X_MIN, X_MAX+1):\n",
    "    X.append(x)                              # add the next x\n",
    "    Y.append((2/5)*x**2 - (6/5)*x + (1/2))   # add the next y=f(x)\n",
    "    \n",
    "# we do the plotting below ...\n",
    "plt.plot(X, Y, 'r-o')  # plotting pairs (x, y) with line '-' style\n",
    "plt.show()             # make the plot visible"
   ]
  },
  {
   "cell_type": "markdown",
   "metadata": {
    "deletable": false,
    "editable": false
   },
   "source": [
    "It is not hard to determine that for function $f(x)=\\frac{2}{5}x^2-\\frac{6}{5}x+\\frac{1}{2}$, we have a minimum at $x = \\frac{3}{2}$, with value $f(\\frac{3}{2})= - \\frac{2}{5}$. We want to draw the asymptote $y = -\\frac{2}{5}$ and draw the line $x = \\frac{3}{2}$. How to do this?\n",
    "\n",
    "#### DO THIS\n",
    "1. we start with the asymptote: we have $x \\in [X_{MIN}, X_{MAX}]$. In our program given by `X_MIN` and `X_MAX`. Make an extra X-array `X_asymp = [X_MIN, X_MAX]`. For both these x-coordinates, we have `y = -2/5`, so the corresponding `Y_asymp = [-2/5, -2/5]`. Plot this asymptote in the above code box, in the program you just finished. Just add a second plot line. Plot the asymptote as a black line (`k`), dashed (`--`)\n",
    "2. add a 4-th actual parameter to the `plt.plot()` function that prints your asymptote: `linewidth=1` to make the line thinner than the function line\n",
    "3. next comes the vertical line $x = \\frac{3}{2}$. The X-coordinates are easy: define `X_line = [3/2, 3/2]`, for the Y-coordinates, we can take values from the graph or calculate. We simply take `Y_line = [-5, 50]`. Again, we draw a thin black dashed line. Adapt and rerun the program above\n",
    "4. finally, let us add an annotation to each of the axes. add `plt.xlabel('x')` after all the `plt.plot()` lines, and `plt.ylabel(y='f(x)')`, resp. for the X- and the Y-axis. Rerun the program\n",
    "\n",
    "#### Observe from these examples;\n",
    "- that, basically, it takes only 2 lines of code to create a reasonably good quality plot\n",
    "- that data preparation, in the example, is tuned towards plotting; we split Y- and Y-coordinates over two separate lists. Had we had a single list of `(x,y)`-pairs we would  have to split them before plotting. We will see later on how to do this\n",
    "- that Matplotlib itself can lay out your axes system ('automagically') deriving fitting values from the data you deliver\n",
    "- no matter *how* you computed x-coordinates `X` and y-coordinates `Y`, as soon as you can feed two non-empty and equal-length list to the `plt.plot()` command, matplotlib is able to plot these for you \n",
    "- the code line `plt.show()` makes your plot visible. Prepare all elements *before* you call `plt.show()`. Do this only when you you want to see the end result, otherwise all elements pieced together in memory so far, are gone"
   ]
  },
  {
   "cell_type": "markdown",
   "metadata": {
    "deletable": false,
    "editable": false
   },
   "source": [
    "## Plotting multiple functions in a single graph\n",
    "At some point, you will want to plot *multiple functions* in a single plot. How to do that? Well we can simply add yet another `plt.plot()` with the second function plot.\n",
    "\n",
    "#### DO THIS\n",
    "1. implement a second function $f_2(x) = \\frac{1}{36} (x - \\frac{3}{2})^3 - \\frac{2}{5}$, for $x \\in [-10,10]$. Create a new list `X2` and `Y2` and plot this function along with the function we already have. Plot the function $f_2(x)$ using a blue solid line. Rename `f(x)` to `f_1(x)` and adapt the call to this function\n",
    "2. extend the positive part of the domain to see if the two functions intersect. Change `X_MAX` to 20 and rerun. Do they intersect? Verify it\n",
    "3. since we use the same domain for both functions, there is no need to define an `X2` array; both functions `f_1(x)` and `f_2(x)` can share a single `X` list. Modify the program, so that `X, Y1, Y2` remain\n",
    "4. next, we are going to add a *legend*. After the last `plt.plot()` add: `plt.legend()`. Rerun the program. Matplotlib will complain that it found no labels. Indeed, we have to add a label to each of the `plt.plot()` lines, that will appear in the legend. Do like this: `plt.plot(X, Y, 'r-o', label='f_1(x)')` and similarly for the other plots. Do not label the asymptote and the vertical line. Having done this, rerun the program\n",
    "5. finally, let us assume we are more interested in the positive part of the domain than the negative. How can we instruct `pyplot` to plot only the positive part, without recomputing the data? Do this: use `plt.xlim()` to define the part of the x-axis to use in the plot. *Before* the fist `plt.plot()`, insert a code line `plt.xlim(0, X_MAX)`. Rerun the program\n",
    "\n",
    "The expected graph now looks like this; feel free to experiment and give it your style.\n",
    "\n",
    "![expected graph](./figures/expected_graph_80_1.png)"
   ]
  },
  {
   "cell_type": "markdown",
   "metadata": {
    "deletable": false,
    "editable": false
   },
   "source": [
    "## Matplotlib terminology\n",
    "We have seen a lot of terminology already. Sure, you'll have to get familiar with at least the basic parlance that pops up when you start learning to work with Matplotlib. Below is a handy diagram, taken from the online [Matplotlib docs](https://matplotlib.org/examples/showcase/anatomy.html) (termnology is in blue).\n",
    "\n",
    "<img width=\"580\" src=\"./figures/mpl_anatomy1.png\">\n",
    "\n",
    "#### Additional references\n",
    "Matplotlib is a huge package and so is its documentation. Unfortunately, there are various recipes to Matplotlib which may also depend on the environment in which they are used. That said, some additional pointers are:\n",
    "\n",
    "*Terminology and concepts:* Matplotlib terminology and concepts can be found [here](https://matplotlib.org/examples/showcase/anatomy.html)\n",
    "\n",
    "*Beginners:* an extensive beginners-friendly article can be found [here](https://realpython.com/python-matplotlib-guide/)\n",
    "\n",
    "*More extensive references:* do you want to know more about using Matplotlib? An extensive User Manual for Matplolib can be found [here](http://pageperso.lif.univ-mrs.fr/~francois.denis/IAAM1/Matplotlib.pdf). NOTE: the code in this reference is not always conforming to Python3. You may have to adapt code examples."
   ]
  },
  {
   "cell_type": "markdown",
   "metadata": {
    "deletable": false,
    "editable": false
   },
   "source": [
    "## Done"
   ]
  }
 ],
 "metadata": {
  "celltoolbar": "Edit Metadata",
  "kernelspec": {
   "display_name": "Python 3 (ipykernel)",
   "language": "python",
   "name": "python3"
  },
  "language_info": {
   "codemirror_mode": {
    "name": "ipython",
    "version": 3
   },
   "file_extension": ".py",
   "mimetype": "text/x-python",
   "name": "python",
   "nbconvert_exporter": "python",
   "pygments_lexer": "ipython3",
   "version": "3.7.3"
  },
  "latex_envs": {
   "LaTeX_envs_menu_present": true,
   "autoclose": false,
   "autocomplete": true,
   "bibliofile": "biblio.bib",
   "cite_by": "apalike",
   "current_citInitial": 1,
   "eqLabelWithNumbers": true,
   "eqNumInitial": 1,
   "hotkeys": {
    "equation": "Ctrl-E",
    "itemize": "Ctrl-I"
   },
   "labels_anchors": false,
   "latex_user_defs": false,
   "report_style_numbering": false,
   "user_envs_cfg": false
  }
 },
 "nbformat": 4,
 "nbformat_minor": 2
}
