{
 "cells": [
  {
   "cell_type": "markdown",
   "metadata": {
    "deletable": false,
    "editable": false
   },
   "source": [
    "<header>\n",
    "    <div style=\"overflow: auto;\">\n",
    "        <img src=\"https://digital-skills.tudelft.nl/nb_style/figures/TUDelft.jpg\" style=\"float: left;\" />\n",
    "        <img src=\"https://digital-skills.tudelft.nl/nb_style/figures/DUT_Flame.png\" style=\"float: right; width: 100px;\" />\n",
    "    </div>\n",
    "    <div style=\"text-align: center;\">\n",
    "        <h2><large>Digital Skills</large> -- Python Basic Programming --</h2>\n",
    "        <h6>&copy; 2019, TU Delft. Creative Commons</h6>     \n",
    "    </div>\n",
    "    <br>   \n",
    "    <br>\n",
    "</header>"
   ]
  },
  {
   "cell_type": "markdown",
   "metadata": {
    "deletable": false,
    "editable": false
   },
   "source": [
    "# Numpy and SciPy\n",
    "\n",
    "[Numpy](https://numpy.org/) is the *numerical workhorse* within the family of Python modules. Numpy offers basic concepts with which you have great flexibility to layout computational schemes. Today, on top of Numpy, [SciPy](https://www.scipy.org/) seeks to offer high-level programmers interfaces to generic computational problems, much in the sense that [Matlab](https://www.mathworks.com/products/matlab.html) does. A good starting point to learn more, is [here](https://www.scipy.org/about.html). Also noteworthy is the general explanation found [here](https://www.scipy.org/getting-started.html). Both Numpy and SciPy change with Python, check [here](https://www.scipy.org/) or [here](https://docs.scipy.org/doc/) regularly.\n",
    "\n",
    "Numpy and SciPy even have some overlap: both Numpy and SciPy offer a module for linear algebra, for instance;"
   ]
  },
  {
   "cell_type": "markdown",
   "metadata": {
    "deletable": false,
    "editable": false
   },
   "source": [
    "Why is Numpy important for plotting? See this sourcce https://realpython.com/python-matplotlib-guide/"
   ]
  },
  {
   "cell_type": "code",
   "execution_count": null,
   "metadata": {},
   "outputs": [],
   "source": [
    "# find solution linear system of equations A.x = b , in this example A = I_4\n",
    "# using module 1. Numpy.linalg resp. 2. SciPy.linalg ...\n",
    "\n",
    "from numpy import linalg as npLA\n",
    "from scipy import linalg as spLA\n",
    "\n",
    "A = np.eye(4, dtype=float)   # a 4x4 indentity matrix I_4 float (value 1 if on diagonal, else 0)\n",
    "b = np.ones(4, dtype=float)  # a vector of 1's ...\n",
    "\n",
    "print('my matrix A;\\n', A)\n",
    "print('solution given', b)\n",
    "\n",
    "print('A.x = b solution vector; 1. numpy linalg;\\n vector x =', npLA.solve(A, b))\n",
    "print('A.x = b solution vector; 2. scipy linalg;\\n vector x =', spLA.solve(A, b))"
   ]
  },
  {
   "cell_type": "markdown",
   "metadata": {
    "deletable": false,
    "editable": false
   },
   "source": [
    "Of course, `module linalg` code is not necessarily duplicated. Nevertheless don't just randomly pick one; when in doubt, prefer the higher level concepts in SciPy. It is likely to be more stable into the future, more and more taking the place of Numpy."
   ]
  },
  {
   "cell_type": "markdown",
   "metadata": {
    "deletable": false,
    "editable": false
   },
   "source": [
    "## Arrays\n",
    "You have been wondering what the above data structures are. The 'vector' is perhaps immediate: it is like a list in Python, but now in Numpy style. A list of elements of all the same types, is also called *array*, see [here](https://docs.scipy.org/doc/numpy-1.14.0/reference/arrays.html). Apparently a square structure of numbers is called a *matrix*. Indeed, a tabular-format structure or rows (left-right) and columns (top-bottom) of numerical values, is called a matrix. Although numpy offers a data type `np.array` (see [here](https://www.numpy.org/doc/1.17/user/basics.types.html)) many programmes use the more general form `np.ndarray` instead. In Numpy, we use an `ndarray`  (an n-dimenisonal array) to implement these two and be able to mix them in computations. Formally, there is a difference between a vector and a single column matrix for instance, but Numpy's approach is to hide this as well as possible, using the concept of `ndarray` and implied dimensions it tries to find from the context. We will demo this below. Check it and be aware that Numpy does this. We will not go any deeper into this. To avoid confusion, we will speak about vectors and matrices, but remember the `ndarray` underlying structure. When in doubt, inspect its shape, like so:"
   ]
  },
  {
   "cell_type": "code",
   "execution_count": null,
   "metadata": {},
   "outputs": [],
   "source": [
    "R = np.array([1,1,1,1,1,1,1,1,1,1], dtype=int) # a single dimension array (vector)\n",
    "\n",
    "A = np.ones((10,1), dtype=int) # explicitly implement a 10 by 1 matrix\n",
    "B = np.ones( 10,    dtype=int) # let numpy find out (implied dimension)\n",
    "\n",
    "print('10 by 1 col matrix A: shape:', A.shape, ';\\n', A)\n",
    "print('10 element ndarray B: shape:', B.shape, ';\\n', B)\n",
    "print('10 element array   R: shape:', R.shape, ';\\n', R)\n",
    "\n",
    "# try to reshape B to have the same shape as A ...\n",
    "print('10 element array   B: reshaped:', B.reshape(10,1).shape, ';\\n', B)\n",
    "\n",
    "# do it this way; C = reshaped B and make it the same shape as A ...\n",
    "C = B.reshape(10, 1)\n",
    "print('10 by 1 col matrix C: reshaped B:', C.shape, ';\\n', C)"
   ]
  },
  {
   "cell_type": "markdown",
   "metadata": {
    "deletable": false,
    "editable": false
   },
   "source": [
    "Reshaping a matrix is also possible, and handy in populating a matrix also. Check the code below.\n",
    "\n",
    "With this code;\n",
    "\n",
    "#### DO THIS\n",
    "1. change 16 to 25 and rerun\n",
    "2. turn the reshaping of the matrix in a separate step, so include a line containing: `.reshape(mat_size, mat_size)`; what needs to be added before this code fragment?\n",
    "3. change the code so as to obtain a truth matrix with diagonal values `True` and the rest `False`. Print the matrix\n",
    "4. using a loop over the matrix diagonal, assert that the diagonal is `True`\n",
    "5. create a 2-tuple `diag = (d,d)` and use that for indexing the `truth_matrix` in the loop below\n",
    "6. change `diag` to `diag = (...,d)` and `diag = (d, ...)` resp. and redo the last step\n",
    "7. change the ellipse `...` to a valid row or column number, i.e `r,c in [0..3]`. Rerun and observe the effect in the printed matrix\n",
    "8. combine row and column numbers with ellipses, like in `diag = (...,2)` and observe the effect\n",
    "9. finally, use two ellipses, like in `diag = (..., ...)` and rerun. What happens?\n",
    "10. the first two row of the truth_matrix can be priinted using `print(truth_matrix[(1,2),:])`. Try it and reason how this works. Now print the last two columns only. Also try using negative indexes into the matrix\n",
    "\n",
    "A further explanation of the above experiment is given below."
   ]
  },
  {
   "cell_type": "code",
   "execution_count": null,
   "metadata": {},
   "outputs": [],
   "source": [
    "import numpy as np\n",
    "\n",
    "# dimensioning a square matrix of in total 16 elements\n",
    "nr_elems = 16  # allow a square matrix, so take a whole number root\n",
    "mat_size = int(np.sqrt(nr_elems))\n",
    "\n",
    "# creating a 16-element vector of True's \n",
    "initial_truth_vector = [True for elem in range(nr_elems)]\n",
    "\n",
    "# make the truth matrix out of a single vector plus reshaping operation ...\n",
    "truth_matrix = np.array(initial_truth_vector, dtype=np.bool).reshape(mat_size, mat_size)\n",
    "\n",
    "#modify the matrix elements on the diagonal ...\n",
    "diag_size = truth_matrix.shape[0]   # or .shape[1]; it's square, no?\n",
    "\n",
    "for d in range(diag_size):\n",
    "\n",
    "    # define a 2-tuple index called diag ...\n",
    "    # diag = (d, d)\n",
    "    truth_matrix[d, d] = False\n",
    "    \n",
    "print('my truth matrix looks as follows;')\n",
    "print(truth_matrix)"
   ]
  },
  {
   "cell_type": "markdown",
   "metadata": {
    "deletable": false,
    "editable": false
   },
   "source": [
    "A matrix does not need to be square (same number of rows and columns), however; a matrix can also have 4 rows, for instance, with 2 columns, like so:"
   ]
  },
  {
   "cell_type": "code",
   "execution_count": null,
   "metadata": {},
   "outputs": [],
   "source": [
    "import numpy as np\n",
    "\n",
    "D = np.empty((4,2), dtype=int)  # a (4 by 2)-shape matrix of ints, values uninitialized\n",
    "\n",
    "\n",
    "np.random.seed(1001)\n",
    "\n",
    "for row in range(4):\n",
    "    for col in range(2):\n",
    "        D[row][col] = np.random.randint(1,100)\n",
    "        \n",
    "print('my matrix D;\\n', D)"
   ]
  },
  {
   "cell_type": "markdown",
   "metadata": {
    "deletable": false,
    "editable": false
   },
   "source": [
    "with the above code\n",
    "\n",
    "#### DO THIS\n",
    "1. run the program several times; check the range in which random integers are being generated and verify the result\n",
    "2. Numpy supports the standard way of indexing;\n",
    "```python\n",
    "    print(D[0][0])  # matrix element row=0, col=0\n",
    "    print(D[0][1])  # matrix element row=0, col=1\n",
    "    print(D[1][0])  # matrix element row=1, col=0\n",
    "    # etc.\n",
    "```\n",
    "   but also a notation that takes a tuple `row, col`, like in:\n",
    "```python\n",
    "    print(D[0, 0])  # matrix element row=0, col=0\n",
    "    print(D[0, 1])  # matrix element row=0, col=1\n",
    "    print(D[1, 0])  # matrix element row=1, col=0\n",
    "    # etc.\n",
    "```\n",
    "   replace in the above code the current indexing of `D` by this way of indexing. Next replace `D[0, 0]` by `D[(0,0)]` and convince yourself that this also works\n",
    "    \n",
    "3. Now assume that these values represent data points `(x, y)` in some domain, then plotting them is done as follows:"
   ]
  },
  {
   "cell_type": "markdown",
   "metadata": {
    "deletable": false,
    "editable": false
   },
   "source": [
    "Below, we are going to use simple `numpy` and `scipy` data structures and operations for plotting with matplotlib."
   ]
  },
  {
   "cell_type": "code",
   "execution_count": null,
   "metadata": {},
   "outputs": [],
   "source": [
    "%matplotlib inline\n",
    "import matplotlib.pyplot as plt\n",
    "\n",
    "XCOORD, YCOORD = 0, 1\n",
    "\n",
    "plt.xlim(0,100)  # set our domain on which we sampled values in D ...\n",
    "plt.ylim(0,100)\n",
    "plt.plot(D[..., XCOORD], D[..., YCOORD], 'ro')\n",
    "plt.title('the data points matrix D represents')\n",
    "plt.grid()\n",
    "plt.show()"
   ]
  },
  {
   "cell_type": "markdown",
   "metadata": {
    "deletable": false,
    "editable": false
   },
   "source": [
    "   in which the key step is: splitting 2-column matrix $D$ in a column `D[k][0]` and a column `D[k][1]` containing the `X` and `Y` coordinates, resp. This can be done in several ways;\n",
    "   * using *ellipses*, like shown in this examples, or:\n",
    "   * using *a wildcard* `D[::, XCOORD]` instead of `[..., XCOORD])`. A wild card symbol (like `...` does), says: disregard the first coordinate (the row). The column coordinate specified in our case, is `0`, and `1`, resp. (see the values of `XCOORD`, and `YCOORD`, resp. \n",
    "   * by creating two new lists `X` and `Y` and copy the values from `D` into these lists, to feed to `plt.plot()`\n",
    "   * by creating two such numpy arrays, for the same purpose\n",
    "   First we *freeze* our data points by setting a *seed* for the random generator. By doing so, we constantly generate the same points in `D`, no matter how often we run the program. Do this: go back to the previous program (the one that generates `D`), and add a code line `np.random.seed(1001)` right above the loop that generates `D`\n",
    "4. Starting with the first possibility given right above, change the plotting program by replacing the ellipses by index wildcards. Verify if you have the same plot all the time\n",
    "5. create a separate list `X` and `Y` yourselve, in a loop, fill them with values from `D` and replot this way. Use for instance:\n",
    "```python\n",
    "X, Y = [], []\n",
    "for row in range(4):\n",
    "    X.append(D[row][0])\n",
    "    Y.append(D[row][1])\n",
    "```\n",
    "6. now, instead of `X, Y = [], []`, create *numpy arrays*: `X, Y = np.empty(4, dtype=float), np.empty(4, dtype=float)`. Copy the values from `D` into these `X, Y`. You cannot append anymore, you'll have to assign.\n",
    "7. next, instead of `X, Y = np.empty(4, dtype=float), np.empty(4, dtype=float)`, use `X, Y = np.zeros(4, dtype=float), np.zeros(4, dtype=float)` and use **addition** to assign the values from `D` to `X, Y`\n",
    "8. next, instead of `X, Y = np.zeros(4, dtype=float), np.zeros(4, dtype=float)`, use `X, Y = np.ndarray(4, dtype=float), np.ndarray(4, dtype=float)` and use **assignment** again to assign the values from `D` to `X, Y`\n",
    "9. change `np.ndarray(4, dtype=float)` to `np.ndarray((4,1), dtype=float)`"
   ]
  },
  {
   "cell_type": "markdown",
   "metadata": {
    "deletable": false,
    "editable": false
   },
   "source": [
    "## Scatterplots\n",
    "\n",
    "Let's do a complete exercise, to recap what we just learned. We are going to plot data points (x,y), both distributed across a symmetric domain according to a (double) normal distribution with mean=0, standard deviation=1. \n",
    "\n",
    "#### DO THIS\n",
    "1. generate N data points `(x,y)` in a function `gen_random_points(N, X_MIN, X_MAX, Y_MIN, Y_MAX)` that returns a  N-by-2-ndarray, created using `data = np.empty((N,2), dtype=float)` within the function. Use:\n",
    "```python\n",
    "    X_MIN, X_MAX = -10, 10\n",
    "    Y_MIN, Y_MAX = -10, 10\n",
    "    N = 1000\n",
    "    data = gen_random_points(N, X_MIN, X_MAX, Y_MIN, Y_MAX)\n",
    "```\n",
    "2. use `x = scale * np.random.normal(0,1)  # norm(0,1) multiplied by a scale factor` to generate a value for `x` and likewise for `y`. Compute scale from `scale = min((x_max-x_min), (y_max-y_min)) / (2 * 3)` in which (2*3) is used to host the spread of 3 times the standard deviation on both the left and right side of the mean value\n",
    "3. use a loop in the data generation function, or generate N samples at one time (see the [documentation of `np.random.normal()`](https://docs.scipy.org/doc/numpy-1.15.0/reference/generated/numpy.random.normal.html)\n",
    "4. prepare the plotting by setting up a plot, in function `def plot_init(x_min, x_max, y_min, y_max, title='')`\n",
    "   which is largely given, for convenience. Inspect the code to understand what it does. In order to be able to save the plot in a PDF file, we return the figure created from this function\n",
    "5. finalize function `def plot_points(x_min, x_max, y_min, y_max, data)`. This function returns nothing (None). Plot all points generated earlier as red dots. Only if within a circle centered at the mean value, with radius equal to the standard deviation\n",
    "6. Save your figure using:\n",
    "```python\n",
    "    fig.savefig('scatter_plot.pdf')\n",
    "```\n",
    "\n",
    "The figure expected is given below\n",
    "![expected figure](./figures/expected_graph_82_1.png)"
   ]
  },
  {
   "cell_type": "code",
   "execution_count": null,
   "metadata": {},
   "outputs": [],
   "source": [
    "# compute random points in an X-Y domain and color them using a simple\n",
    "# color scale, associated with their distance from the origin ...\n",
    "\n",
    "import numpy as np\n",
    "\n",
    "def gen_random_points(N, x_min, x_max, y_min, y_max):\n",
    "    '''return a data array of points [x, y] in the domain defined by parameters'''\n",
    "    scale = min((x_max-x_min), (y_max-y_min)) / (2 * 3)\n",
    "    data = np.empty((N,2), dtype=float)    # initialize an empty Nx2 array to store points [x,y]\n",
    "    for p in range(N):\n",
    "        x = scale * np.random.normal(0,1)  # norm(0,1) multiplied by a scale factor\n",
    "        y = scale * np.random.normal(0,1)\n",
    "        data[p] = [x, y]                   # pack [x,y] in array data, at index p\n",
    "    return data\n",
    "\n",
    "# prepare the plotting ...\n",
    "def plot_init(x_min, x_max, y_min, y_max, title=''):\n",
    "    '''initialize the plot'''\n",
    "    fig = plt.figure(figsize=(8,6))   # define figure sizes as (width, height)\n",
    "    plt.xlim(x_min, x_max)            # lower, upper bound of x axis\n",
    "    plt.ylim(y_min, y_max)\n",
    "    plt.xlabel('x coordinate')        # label the x-axis\n",
    "    plt.ylabel('y coordinate')\n",
    "    # add a text annotation ...\n",
    "    plt.annotate('(x,y) scaled from normal(0,1)', \\\n",
    "                xy=((x_min+x_max)/2, y_max-0.75), ha='center')\n",
    "    # overlay with a grid ...\n",
    "    plt.grid(True)\n",
    "    # add a title ...\n",
    "    plt.title(title)\n",
    "    # return a reference to the plot ...\n",
    "    return fig\n",
    "\n",
    "def plot_points(x_min, x_max, y_min, y_max, data):\n",
    "    '''plot the generated points, while coloring them'''\n",
    "    # rather than a color string, we use RGB-values to define colors.\n",
    "    # RGB = tuple(red, green, blue factor): \n",
    "    #   example: red: RGB(1.,0.,0.), green: RGB(0.,1.,0.), blue: RGB(0.,0.,1.)\n",
    "    # we color as follows\n",
    "    #   outside circle radius = 20/6 -> color red\n",
    "    #   inside circle radius = 20/6 -> color blue-ish\n",
    "    scale = min((x_max-x_min),(y_max-y_min)) / ( 2 * 3)\n",
    "    for p in data:\n",
    "        x, y = p\n",
    "        dist_to_orig = np.sqrt(x**2 + y**2)     # at this distance from the origin\n",
    "        cscale = min(dist_to_orig/scale, 1.0)   # which determines the red scale\n",
    "        # plot the color-scaled point ...\n",
    "        plt.plot([ p[0] ], [ p[1] ], color=(cscale*1.0, 0.6, 0.6), marker='.')\n",
    "\n",
    "# ---- main part ------------------------------------------------------------------\n",
    "\n",
    "X_MIN, X_MAX = -10, 10\n",
    "Y_MIN, Y_MAX = -10, 10\n",
    "\n",
    "N = 1000\n",
    "                \n",
    "data = gen_random_points(N, X_MIN, X_MAX, Y_MIN, Y_MAX)\n",
    "\n",
    "fig = plot_init(X_MIN, X_MAX, Y_MIN, Y_MAX, \\\n",
    "            title='Scatter plot, double normal distribution (N={:d})'.format(N))\n",
    "\n",
    "plot_points(X_MIN, X_MAX, Y_MIN, Y_MAX, data)\n",
    "\n",
    "# show as soon as your in-memory plot is compleet ...\n",
    "plt.show()\n",
    "\n",
    "# save it to file...\n",
    "fig.savefig('scatter_plot.pdf')"
   ]
  },
  {
   "cell_type": "markdown",
   "metadata": {
    "deletable": false,
    "editable": false
   },
   "source": [
    "#### Discussion\n",
    "\n",
    " 1. you will easily recognize the skeleton, although it is now embedded in functions\n",
    " 2. in `gen_random_points()` we determine the scale as follows:\n",
    "     - we generate a random point from a normal(0, 1) distribution (Gaussian, with mean=0.0, stddev=1.0)\n",
    "     - 3 times the standard deviation must fit in half of the scale, giving a divisor of (2 * 3)\n",
    "     - we take the minimum of the x-range and the y-range as leading\n",
    " 3. in `plot_points` we need the scale again (we could pass it on, or recompute)\n",
    "     - we use the fraction `dist_to_orig/scale` (how far is the point away from the origin, relatively), to compute the red-fraction on [0..1] to color the point. We cannot color with `cscale > 1.0`, therefore we limit it at `1.0`"
   ]
  },
  {
   "cell_type": "code",
   "execution_count": null,
   "metadata": {},
   "outputs": [],
   "source": [
    "# compute random points in an X-Y domain around a line y=x\n",
    "\n",
    "import numpy as np\n",
    "\n",
    "def gen_random_points(N, x_min, x_max, y_min, y_max):\n",
    "    '''return a data array of points [x, y] in the domain spanned by parameters'''\n",
    "    ### YOUR CODE COMES HERE\n",
    "    pass\n",
    "    return data\n",
    "\n",
    "# prepare the plotting ...\n",
    "def plot_init(x_min, x_max, y_min, y_max, title=''):\n",
    "    '''initialize the plot'''\n",
    "    fig = plt.figure(figsize=(8,6))   # define figure sizes as (width, height)\n",
    "    plt.xlim(x_min, x_max)            # lower, upper bound of x axis\n",
    "    plt.ylim(y_min, y_max)\n",
    "    plt.xlabel('x coordinate')        # labelling the x-axis\n",
    "    plt.ylabel('y coordinate')\n",
    "    # add a text annotation ...\n",
    "    plt.annotate('(x,y) random normal(0,1) around y=x', \\\n",
    "                 xy=((x_min+x_max)/2, y_max-0.75), ha='center')\n",
    "    # overlay with a grid ...\n",
    "    plt.grid(True)\n",
    "    # add a title ...\n",
    "    plt.title(title)\n",
    "    # return a reference to the plot ...\n",
    "    return fig\n",
    "\n",
    "def plot_points(data):\n",
    "    '''plot the generated points, while coloring them'''\n",
    "    # position of taken from the lists of X-coordinates, Y-coordinates ...\n",
    "    # plot points as red dots, line as green solid line ...\n",
    "    ### YOUR CODE COMES HERE\n",
    "    pass\n",
    "\n",
    "                \n",
    "X_MIN, X_MAX = -10, 10\n",
    "Y_MIN, Y_MAX = -10, 10\n",
    "\n",
    "N = 1000\n",
    "                \n",
    "# data = gen_random_points(...)\n",
    "\n",
    "# fig = plot_init(...)\n",
    "\n",
    "# plot_points(...)\n",
    "\n",
    "# show as soon as your in-memory plot is compleet ...\n",
    "# ...\n",
    "\n",
    "# save it to a file. \n",
    "# ..."
   ]
  },
  {
   "cell_type": "markdown",
   "metadata": {
    "deletable": false,
    "editable": false
   },
   "source": [
    "## Done"
   ]
  }
 ],
 "metadata": {
  "kernelspec": {
   "display_name": "Python 3",
   "language": "python",
   "name": "python3"
  },
  "language_info": {
   "codemirror_mode": {
    "name": "ipython",
    "version": 3
   },
   "file_extension": ".py",
   "mimetype": "text/x-python",
   "name": "python",
   "nbconvert_exporter": "python",
   "pygments_lexer": "ipython3",
   "version": "3.7.6"
  },
  "latex_envs": {
   "LaTeX_envs_menu_present": true,
   "autoclose": false,
   "autocomplete": true,
   "bibliofile": "biblio.bib",
   "cite_by": "apalike",
   "current_citInitial": 1,
   "eqLabelWithNumbers": true,
   "eqNumInitial": 1,
   "hotkeys": {
    "equation": "Ctrl-E",
    "itemize": "Ctrl-I"
   },
   "labels_anchors": false,
   "latex_user_defs": false,
   "report_style_numbering": false,
   "user_envs_cfg": false
  }
 },
 "nbformat": 4,
 "nbformat_minor": 2
}
