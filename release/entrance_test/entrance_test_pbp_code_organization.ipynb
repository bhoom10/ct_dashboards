{
 "cells": [
  {
   "cell_type": "markdown",
   "metadata": {
    "deletable": false,
    "editable": false
   },
   "source": [
    "# Python Entry Test\n",
    "\n",
    "## Part 3 of 4: Code Organization (Indentation, execution flow, import, functions)\n",
    "\n",
    "## Instructions\n",
    "\n",
    "Below are 5 Exercises: python problems you need to solve, in order to pass this test. For each correct answer, you will be assigned points, with a maximum of 100 points in total. If you score 80 points or higher, you have passed the test. You cannot see your score immediately; your test will be graded as part of a batch job, later on.\n",
    "\n",
    "Note the following:\n",
    "1. You are asked to code in **Python3** (version 3), not Python2\n",
    "2. For some answers, you obtain a *skeleton*, to frame your answer. You are asked to complete it\n",
    "3. The answer you are expected to given starts where it says:\n",
    "```python\n",
    "    # YOUR CODE HERE\n",
    "    raise NotImplementedError()\n",
    "```\n",
    "   Start your answer by *removing these two lines*. Do not put your answer anywhere else than *just here, in this box*\n",
    "4. You may use as many lines for your answer as you see necessary\n",
    "5. In general, however, no more than 5 lines of code are needed\n",
    "6. Ignore all boxes that are completely empty; just focus on `# YOUR CODE HERE`"
   ]
  },
  {
   "cell_type": "markdown",
   "metadata": {
    "deletable": false,
    "editable": false
   },
   "source": [
    "# Begin of the Test\n",
    "\n",
    "#### Exercise 1: below is a piece of code that, if you run it, yields an `IndentationError`. You are asked to correct all the indentation of the source code, so that the program runs and produces the correct result: `code=10`. Do not remove, change or add any code; just repair the indentation."
   ]
  },
  {
   "cell_type": "code",
   "execution_count": null,
   "metadata": {
    "deletable": false,
    "nbgrader": {
     "cell_type": "code",
     "checksum": "70e6913c44209767107aad81c697be52",
     "grade": false,
     "grade_id": "q1",
     "locked": false,
     "schema_version": 3,
     "solution": true
    }
   },
   "outputs": [],
   "source": [
    "    import math\n",
    "    \n",
    " def square_root(x):\n",
    "    return math.sqrt(x)\n",
    "\n",
    " def run():\n",
    "      print('code={:d}'. \\\n",
    "            format(int(square_root(100))))\n",
    "    \n",
    "# call run() to run this code ...\n",
    "run()\n",
    "# YOUR CODE HERE\n",
    "raise NotImplementedError()"
   ]
  },
  {
   "cell_type": "code",
   "execution_count": null,
   "metadata": {
    "deletable": false,
    "editable": false,
    "nbgrader": {
     "cell_type": "code",
     "checksum": "c8083423a348010c8a6360c65f26d708",
     "grade": true,
     "grade_id": "at11",
     "locked": true,
     "points": 5,
     "schema_version": 3,
     "solution": false
    }
   },
   "outputs": [],
   "source": []
  },
  {
   "cell_type": "code",
   "execution_count": null,
   "metadata": {
    "deletable": false,
    "editable": false,
    "nbgrader": {
     "cell_type": "code",
     "checksum": "10c40d73a9a3a88854fc48d9e6354496",
     "grade": true,
     "grade_id": "at12",
     "locked": true,
     "points": 5,
     "schema_version": 3,
     "solution": false
    }
   },
   "outputs": [],
   "source": []
  },
  {
   "cell_type": "code",
   "execution_count": null,
   "metadata": {
    "deletable": false,
    "editable": false,
    "nbgrader": {
     "cell_type": "code",
     "checksum": "a113f644d29a323c232d28d048fc7fc0",
     "grade": true,
     "grade_id": "at13",
     "locked": true,
     "points": 5,
     "schema_version": 3,
     "solution": false
    }
   },
   "outputs": [],
   "source": []
  },
  {
   "cell_type": "markdown",
   "metadata": {
    "deletable": false,
    "editable": false
   },
   "source": [
    "#### Exercise 2: the below code is not printing anything. Why not? Repair it by adding exactly two lines of code."
   ]
  },
  {
   "cell_type": "code",
   "execution_count": null,
   "metadata": {
    "deletable": false,
    "nbgrader": {
     "cell_type": "code",
     "checksum": "4f5bbc48d6eda88f4630321e94733bdc",
     "grade": false,
     "grade_id": "q2",
     "locked": false,
     "schema_version": 3,
     "solution": true
    }
   },
   "outputs": [],
   "source": [
    "def give_me_the_answer(text):\n",
    "    print('{:s}'.format(text))\n",
    "    \n",
    "def prepare_the_answer(immediate):\n",
    "    if immediate == True:\n",
    "        answer = \"here is your answer!\"\n",
    "    else:\n",
    "        answer = \"\"\n",
    "    return answer\n",
    "\n",
    "# add a single line setting a variable ...\n",
    "# YOUR CODE HERE\n",
    "raise NotImplementedError()\n",
    "\n",
    "text = prepare_the_answer(NOW)\n",
    "\n",
    "# add a single line here to produce the output ...\n",
    "# YOUR CODE HERE\n",
    "raise NotImplementedError()"
   ]
  },
  {
   "cell_type": "code",
   "execution_count": null,
   "metadata": {
    "deletable": false,
    "editable": false,
    "nbgrader": {
     "cell_type": "code",
     "checksum": "adb4f2ac8b54059dbdc96155365abeba",
     "grade": true,
     "grade_id": "at21",
     "locked": true,
     "points": 8,
     "schema_version": 3,
     "solution": false
    }
   },
   "outputs": [],
   "source": []
  },
  {
   "cell_type": "code",
   "execution_count": null,
   "metadata": {
    "deletable": false,
    "editable": false,
    "nbgrader": {
     "cell_type": "code",
     "checksum": "e2aa9bf6f48927490a351619dc12d4e7",
     "grade": true,
     "grade_id": "at22",
     "locked": true,
     "points": 12,
     "schema_version": 3,
     "solution": false
    }
   },
   "outputs": [],
   "source": []
  },
  {
   "cell_type": "markdown",
   "metadata": {
    "deletable": false,
    "editable": false
   },
   "source": [
    "#### Exercise 3: in the below code skeleton, insert the necessary `import`'s as specified"
   ]
  },
  {
   "cell_type": "code",
   "execution_count": null,
   "metadata": {
    "deletable": false,
    "nbgrader": {
     "cell_type": "code",
     "checksum": "a82920eb7ecc73a9402cbd0ac53ecdd8",
     "grade": false,
     "grade_id": "q3",
     "locked": false,
     "schema_version": 3,
     "solution": true
    }
   },
   "outputs": [],
   "source": [
    "# import math and name it by the alias m\n",
    "# import numpy and name it by the alias np\n",
    "# import nose.tools and name it nt\n",
    "# YOUR CODE HERE\n",
    "raise NotImplementedError()\n",
    "\n",
    "my_sqrt = m.sqrt(m.pi)\n",
    "my_other_sqrt = np.sqrt(np.pi)\n",
    "\n",
    "# check the result to be (almost) equal ...\n",
    "nt.assert_almost_equal(my_sqrt, my_other_sqrt)\n"
   ]
  },
  {
   "cell_type": "code",
   "execution_count": null,
   "metadata": {
    "deletable": false,
    "editable": false,
    "nbgrader": {
     "cell_type": "code",
     "checksum": "5157fff354ed57d503c140daefe714d5",
     "grade": true,
     "grade_id": "at31",
     "locked": true,
     "points": 5,
     "schema_version": 3,
     "solution": false
    }
   },
   "outputs": [],
   "source": []
  },
  {
   "cell_type": "code",
   "execution_count": null,
   "metadata": {
    "deletable": false,
    "editable": false,
    "nbgrader": {
     "cell_type": "code",
     "checksum": "485812480d1146e71bbac6268636f11c",
     "grade": true,
     "grade_id": "at32",
     "locked": true,
     "points": 5,
     "schema_version": 3,
     "solution": false
    }
   },
   "outputs": [],
   "source": []
  },
  {
   "cell_type": "code",
   "execution_count": null,
   "metadata": {
    "deletable": false,
    "editable": false,
    "nbgrader": {
     "cell_type": "code",
     "checksum": "981e0d4542490688c9db3d36049bdc23",
     "grade": true,
     "grade_id": "at33",
     "locked": true,
     "points": 5,
     "schema_version": 3,
     "solution": false
    }
   },
   "outputs": [],
   "source": []
  },
  {
   "cell_type": "code",
   "execution_count": null,
   "metadata": {
    "deletable": false,
    "editable": false,
    "nbgrader": {
     "cell_type": "code",
     "checksum": "224d45c95f4675ab20a4d1baa2c98fee",
     "grade": true,
     "grade_id": "at34",
     "locked": true,
     "points": 5,
     "schema_version": 3,
     "solution": false
    }
   },
   "outputs": [],
   "source": []
  },
  {
   "cell_type": "markdown",
   "metadata": {
    "deletable": false,
    "editable": false
   },
   "source": [
    "#### Exercise 4: the below code should print: `Every word is now in the correct order`. Initially, however, when you first run it, it prints: `Every sentence is now in the wrong order`. You are asked, by moving around whole lines of code, to rearrange the code such that it produces the desired output. \n",
    "\n",
    "You should:\n",
    "\n",
    " 1.   not add any code\n",
    " 2.   not take out (delete) any code\n",
    " 3.   not split up lines, change, or move around parts of one line"
   ]
  },
  {
   "cell_type": "code",
   "execution_count": null,
   "metadata": {
    "deletable": false,
    "nbgrader": {
     "cell_type": "code",
     "checksum": "63bafb9e122bdbb2f63d4f64b5dbbdfa",
     "grade": false,
     "grade_id": "q4",
     "locked": false,
     "schema_version": 3,
     "solution": true
    }
   },
   "outputs": [],
   "source": [
    "# print the right answer with the code elements given below\n",
    "# \n",
    "# the right answer to this exercise is:\n",
    "#\n",
    "# \"Every word is now in the correct order\" \n",
    "#\n",
    "# If your code prints this, your done.\n",
    "\n",
    "word = 'sentence'\n",
    "\n",
    "yes_or_no = True\n",
    "yes_or_no = False\n",
    "\n",
    "def right_answer(flag):\n",
    "    if flag == True:\n",
    "        return 'the correct order'\n",
    "    else:\n",
    "        return 'the wrong order'\n",
    "\n",
    "ans1 = 'Every {0} is now in '.format(word)\n",
    "ans2 = right_answer(yes_or_no)\n",
    "\n",
    "def do_print(ans1, ans2):\n",
    "    print(ans1+ans2)\n",
    "\n",
    "do_print(ans1,ans2)\n",
    "\n",
    "word = 'word'\n",
    "\n",
    "# YOUR CODE HERE\n",
    "raise NotImplementedError()"
   ]
  },
  {
   "cell_type": "code",
   "execution_count": null,
   "metadata": {
    "deletable": false,
    "editable": false,
    "nbgrader": {
     "cell_type": "code",
     "checksum": "490f4648b5d67a1e4c6cc06bcbd8997b",
     "grade": true,
     "grade_id": "at41",
     "locked": true,
     "points": 3,
     "schema_version": 3,
     "solution": false
    }
   },
   "outputs": [],
   "source": []
  },
  {
   "cell_type": "code",
   "execution_count": null,
   "metadata": {
    "deletable": false,
    "editable": false,
    "nbgrader": {
     "cell_type": "code",
     "checksum": "40f69c3e35806ecc4a29798a454a8133",
     "grade": true,
     "grade_id": "at42",
     "locked": true,
     "points": 3,
     "schema_version": 3,
     "solution": false
    }
   },
   "outputs": [],
   "source": []
  },
  {
   "cell_type": "code",
   "execution_count": null,
   "metadata": {
    "deletable": false,
    "editable": false,
    "nbgrader": {
     "cell_type": "code",
     "checksum": "f68943e6aab1168ed13c855d6e35bdb5",
     "grade": true,
     "grade_id": "at43",
     "locked": true,
     "points": 2,
     "schema_version": 3,
     "solution": false
    }
   },
   "outputs": [],
   "source": []
  },
  {
   "cell_type": "code",
   "execution_count": null,
   "metadata": {
    "deletable": false,
    "editable": false,
    "nbgrader": {
     "cell_type": "code",
     "checksum": "5e2ca6dcc8d9b29706e00dfdd4c0d487",
     "grade": true,
     "grade_id": "at44",
     "locked": true,
     "points": 2,
     "schema_version": 3,
     "solution": false
    }
   },
   "outputs": [],
   "source": []
  },
  {
   "cell_type": "code",
   "execution_count": null,
   "metadata": {
    "deletable": false,
    "editable": false,
    "nbgrader": {
     "cell_type": "code",
     "checksum": "a91bde8fab4ea47fb0297808f3a287af",
     "grade": true,
     "grade_id": "at45",
     "locked": true,
     "points": 10,
     "schema_version": 3,
     "solution": false
    }
   },
   "outputs": [],
   "source": []
  },
  {
   "cell_type": "markdown",
   "metadata": {
    "deletable": false,
    "editable": false
   },
   "source": [
    "#### Exercise 5: given a list of samples `all_samples`, containing all samples taken from some process. Samples have a number (an *id*) representing their time of sampling: (example: a sample `1630` has been taken at `16:30h`). This list `all_samples` needs to be filtered, as follows:\n",
    "\n",
    "- remove all rejected samples (samples to reject have been specified by their id's in an auxiliary list called `samples_rejected`)\n",
    "- remove all samples taken after some deadline (recall that a sample id reflects the time of sampling)\n",
    " \n",
    "Below is a skeleton, containing a couple of functions you are to complete. Using these functions, you are asked to split `all_samples` in two new lists:\n",
    "\n",
    " 1. list `regular_samples` of all samples that are **neither rejected, nor late**\n",
    " 2. a list `samples_removed` of **all other samples**, i.e. removed from the original list\n",
    " \n",
    " Take 20:00h as the deadline (i.e., remove all samples > 2000)"
   ]
  },
  {
   "cell_type": "code",
   "execution_count": null,
   "metadata": {
    "deletable": false,
    "nbgrader": {
     "cell_type": "code",
     "checksum": "2c2742b251e82827802fcdf93fa8ad19",
     "grade": false,
     "grade_id": "q5",
     "locked": false,
     "schema_version": 3,
     "solution": true
    }
   },
   "outputs": [],
   "source": [
    "# the list of all samples ...\n",
    "all_samples       = [  155,  230,  340,  352,  455,  507,  710,  830,  900, \n",
    "                      1005, 1120, 1121, 1410, 1530, 1630, 1810, 1930, 2021, \n",
    "                      2043, 2136, 2151, 2201 ]\n",
    "\n",
    "# the list of samples rejected ...\n",
    "samples_rejected  = [  340, 352, 507, 1120,  1121, 1930 ]\n",
    "\n",
    "def sample_rejected(s):\n",
    "    '''return T|F s in list samples_rejected'''\n",
    "    # YOUR CODE HERE\n",
    "    raise NotImplementedError()\n",
    "    \n",
    "def late_sample(s, deadline):\n",
    "    '''return T|F s taken after deadline'''\n",
    "    # YOUR CODE HERE\n",
    "    raise NotImplementedError()\n",
    "\n",
    "def regular_sample(s, deadline):\n",
    "    '''return T|F s is regular (i.e., not rejected or late)'''\n",
    "    # YOUR CODE HERE\n",
    "    raise NotImplementedError()\n",
    "\n",
    "# create the lists and split ...\n",
    "regular_samples = list()\n",
    "samples_removed = list()\n",
    "\n",
    "# deadline for late samples ...\n",
    "deadline = 2000\n",
    "\n",
    "for sample in all_samples:\n",
    "    # YOUR CODE HERE\n",
    "    raise NotImplementedError()\n",
    "\n",
    "print('regular samples: {:s}'.format(str(regular_samples)))\n",
    "print('samples removed: {:s}'.format(str(samples_removed)))\n"
   ]
  },
  {
   "cell_type": "code",
   "execution_count": null,
   "metadata": {
    "deletable": false,
    "editable": false,
    "nbgrader": {
     "cell_type": "code",
     "checksum": "a8f657d3b0818ed838a388c04847726f",
     "grade": true,
     "grade_id": "at51",
     "locked": true,
     "points": 5,
     "schema_version": 3,
     "solution": false
    }
   },
   "outputs": [],
   "source": []
  },
  {
   "cell_type": "code",
   "execution_count": null,
   "metadata": {
    "deletable": false,
    "editable": false,
    "nbgrader": {
     "cell_type": "code",
     "checksum": "f041a9733b82c68c15d14d4ce751314c",
     "grade": true,
     "grade_id": "at52",
     "locked": true,
     "points": 5,
     "schema_version": 3,
     "solution": false
    }
   },
   "outputs": [],
   "source": []
  },
  {
   "cell_type": "code",
   "execution_count": null,
   "metadata": {
    "deletable": false,
    "editable": false,
    "nbgrader": {
     "cell_type": "code",
     "checksum": "338359f87d160b1f9d43afe688a16b36",
     "grade": true,
     "grade_id": "at53",
     "locked": true,
     "points": 5,
     "schema_version": 3,
     "solution": false
    }
   },
   "outputs": [],
   "source": []
  },
  {
   "cell_type": "code",
   "execution_count": null,
   "metadata": {
    "deletable": false,
    "editable": false,
    "nbgrader": {
     "cell_type": "code",
     "checksum": "b32319ab83c5b7bc7100f6704a3f4bb8",
     "grade": true,
     "grade_id": "at54",
     "locked": true,
     "points": 5,
     "schema_version": 3,
     "solution": false
    }
   },
   "outputs": [],
   "source": []
  },
  {
   "cell_type": "code",
   "execution_count": null,
   "metadata": {
    "deletable": false,
    "editable": false,
    "nbgrader": {
     "cell_type": "code",
     "checksum": "d9ff5c7485e3596dfcdc50cf0554ddf3",
     "grade": true,
     "grade_id": "at55",
     "locked": true,
     "points": 5,
     "schema_version": 3,
     "solution": false
    }
   },
   "outputs": [],
   "source": []
  },
  {
   "cell_type": "markdown",
   "metadata": {
    "deletable": false,
    "editable": false
   },
   "source": [
    "# End of the Test"
   ]
  }
 ],
 "metadata": {
  "kernelspec": {
   "display_name": "Python 3",
   "language": "python",
   "name": "python3"
  },
  "language_info": {
   "codemirror_mode": {
    "name": "ipython",
    "version": 3
   },
   "file_extension": ".py",
   "mimetype": "text/x-python",
   "name": "python",
   "nbconvert_exporter": "python",
   "pygments_lexer": "ipython3",
   "version": "3.7.6"
  },
  "latex_envs": {
   "LaTeX_envs_menu_present": true,
   "autoclose": false,
   "autocomplete": true,
   "bibliofile": "biblio.bib",
   "cite_by": "apalike",
   "current_citInitial": 1,
   "eqLabelWithNumbers": true,
   "eqNumInitial": 1,
   "hotkeys": {
    "equation": "Ctrl-E",
    "itemize": "Ctrl-I"
   },
   "labels_anchors": false,
   "latex_user_defs": false,
   "report_style_numbering": false,
   "user_envs_cfg": false
  }
 },
 "nbformat": 4,
 "nbformat_minor": 2
}
