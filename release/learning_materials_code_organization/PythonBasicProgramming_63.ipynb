{
 "cells": [
  {
   "cell_type": "markdown",
   "metadata": {
    "deletable": false,
    "editable": false
   },
   "source": [
    "<header>\n",
    "    <div style=\"overflow: auto;\">\n",
    "        <img src=\"https://digital-skills.tudelft.nl/nb_style/figures/TUDelft.jpg\" style=\"float: left;\" />\n",
    "        <img src=\"https://digital-skills.tudelft.nl/nb_style/figures/DUT_Flame.png\" style=\"float: right; width: 100px;\" />\n",
    "    </div>\n",
    "    <div style=\"text-align: center;\">\n",
    "        <h2><large>Digital Skills</large> -- Python Basic Programming --</h2>\n",
    "        <h6>&copy; 2019, TU Delft. Creative Commons</h6>     \n",
    "    </div>\n",
    "    <br>   \n",
    "    <br>\n",
    "</header>"
   ]
  },
  {
   "cell_type": "markdown",
   "metadata": {
    "deletable": false,
    "editable": false
   },
   "source": [
    "## What you will learn\n",
    "\n",
    "#### In the course as a whole\n",
    "This Notebook is one of several notebooks that make up the Python Basic Programming course. The **whole course** treats the following aspects of Python programming:\n",
    "\n",
    " * Variables (types, assignments, print formats, precision, operators; this part)\n",
    " \n",
    " * Control flow (for loops, while loops, conditions, and if-then-else statements)\n",
    "\n",
    " * Code Organization (Indentation, execution flow, import, functions)\n",
    " \n",
    " * Basic Plotting\n",
    " \n",
    "#### In this Notebook:\n",
    "In the remainder of **this Notebook**, we will further explore and practice 4 topics of the various variables Python offers:\n",
    "\n",
    " 1. two methods of module import\n",
    "\n",
    " 2. namespaces and scope of imported code\n",
    " \n",
    "# Module import\n",
    "\n",
    "## import\n",
    "\n",
    "Python expects you feed it 1 source code file, but you may include in this single file source code from other source code files through the mechanism of *modules*. A module is an externally stored source code that can be inserted in another program or module. More specifically;\n",
    "* Python uses the `import` keyword to let the interpreter know that at the point of the keyword, additional Python code should be inserted, that resides in a file of which the name is stated right after the `import` keyword\n",
    "* before continuing with the rest of your program, Python will import the modules specified first, and as a whole\n",
    "* the module, in turn may import other modules. This way, a whole tree of source code can be executed by python\n",
    "* Code (*extension modules*) written in other languages such as C/C++ or Java, can be used in combination with Python. Much of the numeric modules (`Numpy`, `SciPy`, ...) available for Python are created this way, possibly with the assistance of tools such as `Numba` \n",
    "* an imported module has its own *scope* and hence its own *namespace*. Each scope (each collection of code lines that forms some unity, like an import, a function, a loop ...) has itself a name and has its own set of variable names, collected in a dictionary that we call a **namespace**; a namespace is a sort of *family name* for variables in the same scope. The name of the scope of the top-level scope is `'__main__'`. The fact that `math.pi` can be separated from `numpy.pi` is due to the name of the module, which serves as its namespace\n",
    "* In order to import *modules* in your source code, Python must be able to track it down. To that end, Python consults a special environment variable: the `PYTHONPATH`, which is essentially a list of directories concatenated into a long string, in which Python will search for your module\n",
    "* modules may be organized in a hierarchy of modules, in a *package*. An example you already saw, is `matplotlib`, another example is `scipy`. To arrive at an individual module, we use a *dot-separated path*, telling us where to find the module within the hierarchy of the package\n",
    "\n",
    "There are two formats of importing code from a module:\n",
    "1. importing a modules as a whole, preserving its own namespace and scope\n",
    "2. importing selected, specified objects from a module, and adding these to the enclosing namespace and scope\n",
    "\n",
    "examples of import format 1 and 2, resp."
   ]
  },
  {
   "cell_type": "code",
   "execution_count": null,
   "metadata": {},
   "outputs": [],
   "source": [
    "# example of format 1, with use of an alias name 'it'\n",
    "\n",
    "# all variables and functions of itertools live in a namespace 'it'\n",
    "# we must now refer to them by their namespace 'it.', see below\n",
    "\n",
    "import itertools as it                    # format 1\n",
    "\n",
    "# use permutations to permute a 3-element list ...\n",
    "print('all permutation of [1,2,3];')\n",
    "all_perms = it.permutations([1, 2, 3])   # we must use 'it.permutations' as the full name\n",
    "for perm in all_perms:\n",
    "    print('permutation:', perm)\n",
    "    "
   ]
  },
  {
   "cell_type": "code",
   "execution_count": null,
   "metadata": {},
   "outputs": [],
   "source": [
    "# example of format 2; no alias name\n",
    "\n",
    "# the definition of function `permutations()` is now added to our\n",
    "# program (and namespace), as if we had defined it ourselves! \n",
    "# we can just call it in the usual way (see below)\n",
    "    \n",
    "from itertools import permutations        # format 2\n",
    "\n",
    "# use permutations to permute a 3-element list ...\n",
    "print('all permutation of [1,2,3];')\n",
    "all_perms = permutations([1, 2, 3])   # no need to use any other namespace!\n",
    "for perm in all_perms:\n",
    "    print('permutation:', perm)\n",
    "    "
   ]
  },
  {
   "cell_type": "markdown",
   "metadata": {
    "deletable": false,
    "editable": false
   },
   "source": [
    "#### Remarks\n",
    "* the second format, format 2, seems more attractive and more convenient. It has some major consequences, however;\n",
    "  1. the name `permutations()` may clash with a name we already have. This does not happen if `permutations()` lives in another namespace, but if we merge it with our own variables in the default namespace of our program, we must be sure it does not clash\n",
    "  2. what is clash anyway? Since, in our source code structure model, we do importing before our own source code, we might (inadvertently) overwrite it by our own implementation. In a small program, you would notice, in a big project, it can go unnoticed for quite a while ...\n",
    "* the second format can be appropriate when you need only a small piece of a huge package. When you need a module from a huge package, you can still use import format 1. See example below"
   ]
  },
  {
   "cell_type": "code",
   "execution_count": null,
   "metadata": {},
   "outputs": [],
   "source": [
    "import math\n",
    "import scipy.stats.mstats as mst\n",
    "\n",
    "my_data = [1.0, 2.0, 3.0, 4.0, 5.0]\n",
    "\n",
    "my_stats = mst.describe(my_data)\n",
    "\n",
    "print('data analysis;')\n",
    "print('  data values:', my_data)\n",
    "print('         mean:', my_stats.mean)\n",
    "print('std deviation:', math.sqrt(my_stats.variance))\n"
   ]
  },
  {
   "cell_type": "markdown",
   "metadata": {
    "deletable": false,
    "editable": false
   },
   "source": [
    "The above example is almost identical to;"
   ]
  },
  {
   "cell_type": "code",
   "execution_count": null,
   "metadata": {},
   "outputs": [],
   "source": [
    "from math import sqrt as m_sqrt\n",
    "from scipy.stats import mstats as mst\n",
    "\n",
    "my_data = [1.0, 2.0, 3.0, 4.0, 5.0]\n",
    "\n",
    "my_stats = mst.describe(my_data)\n",
    "\n",
    "print('data analysis;')\n",
    "print('  data values:', my_data)\n",
    "print('         mean:', my_stats.mean)\n",
    "print('std deviation:', m_sqrt(my_stats.variance))"
   ]
  },
  {
   "cell_type": "markdown",
   "metadata": {
    "deletable": false,
    "editable": false
   },
   "source": [
    "#### Remarks\n",
    "* in the last example, we see that importing a `module` out of a package using import format 2, plus an alias name, is a convenient way to reduce the amount of code being imported, while still being able to work with a separate namespace (in this case `mst`)\n",
    "* observe the use of a prefix `m_` you could apply to sort of mimic a namespace for `sqrt()`\n",
    "* modules you import may themselves import modules. This is the case in the example just given, for `scipy`. Notice that this nowhere appears in the code; it is something that the Python module loader takes care of\n",
    "* according to our source code structure diagram, we import modules in the very beginning of our program, in accordance with the [Style Guide](https://www.python.org/dev/peps/pep-0008/)\n",
    "* as stated, using a format 2 type of import adds new (global) variables to the default namespace. In Python, we can inquire global variables, using function `globals()`. Namespaces are a dictionary, which we have not discussed so far. A dictionary is a mutable data type, composed of a collection key-value pairs, like in: `my_dict = {'key1': 1, 'key2': 22}`. In this example, 'key2' is the key, `22` the value. One of the things you can do in a dictionary, is asking for a list of items keys, using `dict.keys()`. Using this, do this in the below code\n",
    "\n",
    "#### DO THIS\n",
    "- run the below cell, that inquires all interactive variable, we created in this notebook\n",
    "- verify that `m_sqrt` is in the list\n",
    "- copy `print('m_sqrt in namespace?', 'm_sqrt' in globals().keys() )`, and run it\n",
    "- add a line to verify that `sqrt` as a variable, does *not* exist in the namespace"
   ]
  },
  {
   "cell_type": "code",
   "execution_count": null,
   "metadata": {},
   "outputs": [],
   "source": [
    "# list all names we defined in this notebook\n",
    "%who_ls"
   ]
  },
  {
   "cell_type": "code",
   "execution_count": null,
   "metadata": {},
   "outputs": [],
   "source": [
    "# verify that m_sqrt() is in the current namespace, and not sqrt() ...\n",
    "print('import verification import;')\n",
    "print('sqrt()   in current namespace  ?', 'sqrt' in globals().keys())\n",
    "print('m_sqrt() in current namespace?', 'm_sqrt' in globals().keys())"
   ]
  },
  {
   "cell_type": "markdown",
   "metadata": {
    "deletable": false,
    "editable": false
   },
   "source": [
    "## import and types\n",
    "It is paramount in programming, to understand types at all times. They do not always correspond to the terminology in use. We speak about **Scipy** as a *package* but it is really a `class module` instance. With the below code\n",
    "\n",
    "#### DO THIS\n",
    "- add an import `import scipy.stats as sts` below the first import of `scipy` and add a print line that displays `type(sts)`. Rerun the program and check the result\n",
    "- add an import `import scipy.stats.mstats as mst` below the first import of `scipy.stats` and add a print line that displays `type(mst)`\n",
    "- add an import `from scipy.stats.mstats import gmean` and print the type of `gmean`\n",
    "- did you see any type `class package` or anything like this?"
   ]
  },
  {
   "cell_type": "code",
   "execution_count": null,
   "metadata": {},
   "outputs": [],
   "source": [
    "import scipy as sci\n",
    "import scipy.stats as sts\n",
    "import scipy.stats.mstats as mst\n",
    "\n",
    "# import a single function ...\n",
    "from scipy.stats.mstats import gmean\n",
    "\n",
    "print('import scipy as sci;', 'sci is a:', type(sci))\n",
    "print('import scipy.stats as sts;', 'sts is a:', type(sts))\n",
    "print('import scipy.stats.mstats as mst', 'mst is a:', type(mst))\n",
    "print('but;')\n",
    "print('from scipy.stats.mstats import gmean', 'gmean is a:', type(gmean))"
   ]
  },
  {
   "cell_type": "markdown",
   "metadata": {
    "deletable": false,
    "editable": false
   },
   "source": [
    "## import errors\n",
    "\n",
    "When Python is not able to track down the modules you want it to import (because you made a typo, for instance, or it is in a place that Python cannot reach), you will see an `ModuleNotFoundError`, like so:\n",
    "```python\n",
    "import non_existing_module as nomod\n",
    "\n",
    "nomod.cannot_do()\n",
    "```\n",
    "will give as output:\n",
    "```python\n",
    "ModuleNotFoundError                       Traceback (most recent call last)\n",
    "<ipython-input-13-56059740225b> in <module>()\n",
    "----> 1 import non_existing_module as nomod\n",
    "      2 \n",
    "      3 nomod.cannot_do()\n",
    "\n",
    "ModuleNotFoundError: No module named 'non_existing_module'\n",
    "```\n",
    "\n",
    "## Your own code as a module\n",
    "You may have a lot of code that is a bit bulky and gets in the way. The solution is simple:\n",
    "\n",
    "#### DO THIS\n",
    "- assume in the below program, you have a long list of `player names` you want to move out of the way\n",
    "- store the names in a text file in your working directory, where this notebook is\n",
    "- import the names in your program, using an import: `import players as pl`"
   ]
  },
  {
   "cell_type": "code",
   "execution_count": null,
   "metadata": {},
   "outputs": [],
   "source": [
    "import players as pl # Python looks for a file with the name 'players.py'\n",
    "\n",
    "print('players', type(pl), ', name:', globals()['pl'])\n",
    "\n",
    "for p in pl.NAMES:\n",
    "    print('player:', p)"
   ]
  },
  {
   "cell_type": "markdown",
   "metadata": {
    "deletable": false,
    "editable": false
   },
   "source": [
    "In order to reproduce statistical experiments in which you use a random generator, it can be quite convenient to **always use the same seed**. When working with Python, you can just add your personal seed to a module. With the below code\n",
    "\n",
    "#### DO THIS\n",
    "- move line `my_seed = 20190630  # your brithday?` to your own module `module myseed` with a filename `myseed.py` in the current working directory\n",
    "- import your `module myseed` and run the program\n",
    "- check the type of of `myseed` and verify it is a `class module`\n",
    "- increase the length of the random number list to check in indeed the list is fully reproducible "
   ]
  },
  {
   "cell_type": "code",
   "execution_count": null,
   "metadata": {},
   "outputs": [],
   "source": [
    "import random as rnd\n",
    "\n",
    "# get my own seed ...\n",
    "import myseed\n",
    "\n",
    "nr_experiments = 10\n",
    "nr_list_size   = 30\n",
    "\n",
    "# my_seed = 20190630  # your brithday?\n",
    "\n",
    "print('random numbers experiment:', nr_experiments, \n",
    "      'lists of', nr_list_size, 'random numbers')\n",
    "for sample in range(nr_experiments):\n",
    "    # reset the random generator before each list ...\n",
    "    rnd.seed(myseed.my_seed)\n",
    "    for nr in range(nr_list_size):\n",
    "        print(rnd.randint(0,100), end=' ')\n",
    "    print('')"
   ]
  },
  {
   "cell_type": "markdown",
   "metadata": {
    "deletable": false,
    "editable": false
   },
   "source": [
    "## Names and namespace resultion\n",
    "What if we do this? Which pi values is finally assigned to variable `pi`? With the below code\n",
    "\n",
    "#### DO THIS\n",
    "- run the program to see which `pi` is finally used\n",
    "- `scipy` and `numpy` are heavily intertwined and might use a share `pi`. But what if we change the order of import such that `math.pi` is imported last?\n",
    "- apply this change, run the program and examine the effect\n",
    "- since we apply format 2 type of import here, what is your conclusion about the ordering of the inputs? "
   ]
  },
  {
   "cell_type": "code",
   "execution_count": null,
   "metadata": {},
   "outputs": [],
   "source": [
    "from math import pi\n",
    "from numpy import pi\n",
    "from scipy import pi\n",
    "\n",
    "print('resulting pi:', 'id:', id(pi), 'value:', globals()['pi'])\n",
    "\n",
    "# let's try to find out which pi is being used ...\n",
    "import math as m, numpy as n, scipy as s\n",
    "if pi is m.pi:\n",
    "    print('we used math.pi')\n",
    "elif pi is n.pi:\n",
    "    print('we used numpy.pi')\n",
    "elif pi is s.pi:\n",
    "    print('we used scipy.pi')\n",
    "else:\n",
    "    print('we cannot determine')"
   ]
  },
  {
   "cell_type": "markdown",
   "metadata": {
    "deletable": false,
    "editable": false
   },
   "source": [
    "It is better to rely on mechanism like this, instead, better do this:"
   ]
  },
  {
   "cell_type": "code",
   "execution_count": null,
   "metadata": {},
   "outputs": [],
   "source": [
    "from math  import pi as m_pi\n",
    "from numpy import pi as n_pi\n",
    "from scipy import pi as s_pi\n",
    "\n",
    "print('PI constants definitions from three packages (60 decimals);')\n",
    "print('PI from math  : {:63.60f}'.format(m_pi))\n",
    "print('PI from NumPy : {:63.60f}'.format(n_pi))\n",
    "print('PI from SciPy : {:63.60f}'.format(s_pi))"
   ]
  },
  {
   "cell_type": "markdown",
   "metadata": {
    "deletable": false,
    "editable": false
   },
   "source": [
    "#### Remarks\n",
    "* the fact that `math.pi` can be separated from `numpy.pi` is due to the name of the module, which serves as a namespace. When you choose to use an alias name, it is that name that determines the namespace. Should you you decide to move your own code into a module, it would no longer bare the name `__main__` anymore, but the name of that module (derived from the filename in which you store your code).\n",
    "\n",
    "For a quick recap of how to import, consult: https://www.digitalocean.com/community/tutorials/how-to-import-modules-in-python-3. For additional background, refer to: https://docs.python.org/3/reference/import.html . "
   ]
  },
  {
   "cell_type": "markdown",
   "metadata": {
    "deletable": false,
    "editable": false
   },
   "source": [
    "## Done"
   ]
  }
 ],
 "metadata": {
  "kernelspec": {
   "display_name": "Python 3",
   "language": "python",
   "name": "python3"
  },
  "language_info": {
   "codemirror_mode": {
    "name": "ipython",
    "version": 3
   },
   "file_extension": ".py",
   "mimetype": "text/x-python",
   "name": "python",
   "nbconvert_exporter": "python",
   "pygments_lexer": "ipython3",
   "version": "3.7.6"
  },
  "latex_envs": {
   "LaTeX_envs_menu_present": true,
   "autoclose": false,
   "autocomplete": true,
   "bibliofile": "biblio.bib",
   "cite_by": "apalike",
   "current_citInitial": 1,
   "eqLabelWithNumbers": true,
   "eqNumInitial": 1,
   "hotkeys": {
    "equation": "Ctrl-E",
    "itemize": "Ctrl-I"
   },
   "labels_anchors": false,
   "latex_user_defs": false,
   "report_style_numbering": false,
   "user_envs_cfg": false
  }
 },
 "nbformat": 4,
 "nbformat_minor": 2
}
