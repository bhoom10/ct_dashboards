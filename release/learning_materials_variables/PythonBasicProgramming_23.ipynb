{
 "cells": [
  {
   "cell_type": "markdown",
   "metadata": {
    "deletable": false,
    "editable": false
   },
   "source": [
    "<header>\n",
    "    <div style=\"overflow: auto;\">\n",
    "        <img src=\"https://digital-skills.tudelft.nl/nb_style/figures/TUDelft.jpg\" style=\"float: left;\" />\n",
    "        <img src=\"https://digital-skills.tudelft.nl/nb_style/figures/DUT_Flame.png\" style=\"float: right; width: 100px;\" />\n",
    "    </div>\n",
    "    <div style=\"text-align: center;\">\n",
    "        <h2><large>Digital Skills</large> -- Python Basic Programming --</h2>\n",
    "        <h6>&copy; 2019, TU Delft. Creative Commons</h6>     \n",
    "    </div>\n",
    "    <br>   \n",
    "    <br>\n",
    "</header>"
   ]
  },
  {
   "cell_type": "markdown",
   "metadata": {
    "deletable": false,
    "editable": false
   },
   "source": [
    "## In this Notebook\n",
    "\n",
    "In this notebook, we discuss formatted printing:\n",
    "* simple printing and print default behavior\n",
    "* print numeric variable with the precision you specify\n",
    "* print an optional sign in front of a numeric value\n",
    "* print in scientific or engineering notation\n",
    "* print list and tuples as a string or item-by-item\n",
    "* printing a Sequence types as a string\n",
    "* print strings left- or right-justified, or centered\n",
    "\n",
    "All topics will be discussed at basic programming level.\n",
    "\n",
    "#### Assumed prior knowledge and skills\n",
    "- Notebook PythonBasicProgramming_20 on Variables"
   ]
  },
  {
   "cell_type": "markdown",
   "metadata": {
    "deletable": false,
    "editable": false
   },
   "source": [
    "# Formatted printing\n",
    "\n",
    "## The limits of unformatted printing\n",
    "\n",
    "Below, we will be printing a time-speed-distance table, somewhat like this:\n",
    "\n",
    "| time | speed | distance |\n",
    "|---:|---:|---:|\n",
    "| 0.0 | 0.00 |  0.00 |\n",
    "| 1.0 | 0.85 |  0.43 |\n",
    "| 2.0 | 1.63 |  1.67 |\n",
    "| 3.0 | 2.34 |  3.65 |\n",
    "| 4.0 | 2.44 |  6.04 |\n",
    "| 5.0 | 2.51 |  8.52 |\n",
    "| 6.0 | 2.52 | 11.03 |\n",
    "| 7,0 |\t2.48 | 13.53 |\n",
    "| 8,0 | 2.49 | 16.02 |\n",
    "| 9,0 | 2.48 | 18.50 |\n",
    "|10,0 | 2.48 | 20.98 | \n",
    "\n",
    "Using the below `Program-time-speed-dist program`\n",
    "\n",
    "#### DO THIS:\n",
    "\n",
    " 1. line up the columns in the below printing of the table, by inserting spaces between time, speed and distance\n",
    " \n",
    " 2. Analyze what the key problem is, in lining up this way\n"
   ]
  },
  {
   "cell_type": "code",
   "execution_count": null,
   "metadata": {},
   "outputs": [],
   "source": [
    "%run ./resources/time-speed-dist\n",
    "\n",
    "# Program-time-speed-dist1\n",
    "\n",
    "print('time', 'speed', 'distance')\n",
    "print('----', '-----', '--------')\n",
    "\n",
    "\n",
    "for t in range(11):\n",
    "    print(\"\", tme[t], \" \", spd[t], \" \", dst[t])"
   ]
  },
  {
   "cell_type": "markdown",
   "metadata": {
    "deletable": false,
    "editable": false
   },
   "source": [
    "The problem with print as in the above `Program-time-speed-dist1` is that `print` has no clue of tables or columns, let alone outlining. Rather, `print()` inserts a single space between two values, and applies simple default rules for formatting and aligning values. \n",
    "\n",
    "With the above program\n",
    "\n",
    "#### DO THIS\n",
    "1. change `print(\"\", tme[t], \" \", spd[t], \" \", dst[t])` to `print(tme[t], spd[t], dst[t], sep='\\t')`, in which `sep` is the field- or column separator; Rerun. What is the effect? Are number ligned up ok now?\n",
    "2. in the lines\n",
    "```python\n",
    "print('time', 'speed', 'distance')\n",
    "print('----', '-----', '--------')\n",
    "```\n",
    "   leave out the comma's in the value list, and rerun. What does Python do? Is this only the case with strings or also with numbers? Try and rerun to exeriment"
   ]
  },
  {
   "cell_type": "code",
   "execution_count": null,
   "metadata": {},
   "outputs": [],
   "source": [
    "print('1. space-separated      :', 'my', 'list', 'of', 'items')\n",
    "print('2. items concatenated   :', 'my'  'list'  'of'  'items')\n",
    "\n",
    "print('3. but not with numbers :', 1, 3, -4, 5.0) # try to omit the commas here ..."
   ]
  },
  {
   "cell_type": "markdown",
   "metadata": {
    "deletable": false,
    "editable": false
   },
   "source": [
    "If you want more control, you need formatted printing; a bit of a confusing term, because what you actually do is composing a string rather than moving something during printing. The `print()` in the above `Program-time-speed-dist1` composes a string in a default way, gluing together simple value conversions using a space. You can replace a space by a TAB but that doesn't help you much. During formatted printing, you actually control the forming of the eventual string to print, using string operations, that fit a string into a spcified field.\n",
    "\n",
    "A recommended introduction can be found [here](https://www.python-course.eu/python3_formatted_output.php). You may want to skip the old formatting style using the `%` in this article, and focus on using *string formatting*  `.format()` and on the use of *f-strings*\n",
    "\n",
    "Let's start with a simple programming example: "
   ]
  },
  {
   "cell_type": "code",
   "execution_count": null,
   "metadata": {},
   "outputs": [],
   "source": [
    "time = 2.0\n",
    "speed = 1.63\n",
    "dist = 1.67\n",
    "\n",
    "print(\"| time={:3.1f} | speed={:4.2f} | dist={:4.2f} |\".format(time, speed, dist))"
   ]
  },
  {
   "cell_type": "markdown",
   "metadata": {
    "deletable": false,
    "editable": false
   },
   "source": [
    "Experiment with it and observe (*switch on line numbers* in your code: menu View->Toggle Line Numbers)\n",
    "\n",
    "#### DO THIS\n",
    "1. expand the `column width` by increasing the field width specification (the digit left of the decimal point in the `{}`-placeholder specification)\n",
    "2. increase the number of decimals (the digit right of the decimal point in the `{}`)\n",
    "3. mimic what happens if the value of the distance will be 10.00 or more. Increase the field width to account for this and check what happens to the column width\n",
    "4. print a sign in front of each value: change `{:3.1f}` into `{:+3.1f}`. Do the same for all placeholders. What happens to the column width?\n",
    "\n",
    "#### Observe\n",
    "\n",
    "- the above print code (line 5 in the code) takes the form of a single string with 3 embedded `{}` placeholders, on which a string formatting operation is carried out using `.format()`, that given 3 values, puts these value one-by-one in the placeholders. There is one placeholder for each value to be printed. Inside the placeholder is a further specification, how to fit in the number value-string. In the placeholder, we see a `:` after which comes the field width (how many spaces to reserve for this value), a decimal point, and finally the number of decimals after the decimal point `.`\n",
    "- *which* placeholder format to use depends on the variable value type: for floats, you use `{:f}`, while for integer numbers, you use `{:d}`, and for string (can also be formatted this way), you use `{:s}`\n",
    "- you specify the number of spaces you want to be reserved by the placeholder: here the *width* of the number, the total number of positions (characters) to use while printing. In case of a float, you specify the *total width* (that includes everything, also the sign and the decimal point), followed by the `.` and the number of decimals\n",
    " \n",
    "Examples:\n",
    "\n",
    "| `val` | formatted `print` statement | effect |\n",
    "|:---:|:---|:---|\n",
    "|  2 | `print('integer: {:4d}'.format(val))` | `integer:    4` |\n",
    "| 16 | `print('integer: {:4d}'.format(val))` | `integer:   16` |\n",
    "|1000| `print('integer: {:4d}'.format(val))` | `integer: 1000` |\n",
    "\n",
    "Observe that the integer value of `val` is right-aligned in the 4-digit-width reserved place we specified (right column).\n",
    "\n",
    "Likewise, for floating point numbers:\n",
    "\n",
    "| `val` | `print` statement | effect |\n",
    "|:---:|:---|:---|\n",
    "|3.14| `print(f'float: {:4.2f}'.format(val))` | `float: 3.14` |\n",
    "|3.14159| `print('float: {:8.5f}'.format(val))` | `float:  3.14159` |\n",
    "|3.14159| `print('float: {:8.1f}'.format(val))` | `float:      3.1` |\n",
    "|3.14159| `print('float: {:5.3f}'.format(val))` | `float:    3.142` |"
   ]
  },
  {
   "cell_type": "code",
   "execution_count": null,
   "metadata": {},
   "outputs": [],
   "source": [
    "%run ./resources/time-speed-dist\n",
    "\n",
    "# Program-time-speed-dist2 (reuses external data in time-speed-dist.py)\n",
    "\n",
    "# the header width determines the column width\n",
    "# in this case ... (sometimes it is the value)\n",
    "# Time column     width: 4\n",
    "# Speed column    width: 5\n",
    "# Distance column width: 8\n",
    "# column margin        : 1\n",
    "\n",
    "print(' ------------------------- ')\n",
    "print('| Time | Speed | Distance |') # 27 wide (3x2 margins + total header widths\n",
    "print('|  (s) | (m/s) |    (m)   |') #          +  4x border = 6 + 17 + 4 = 27)\n",
    "print('|-------------------------|')\n",
    "\n",
    "for t in range(11):\n",
    "    print('| {:4.1f} | {:5.2f} | {:8.2f} |'.format(tme[t], spd[t], dst[t]))\n",
    "\n",
    "print(' -------------------------')"
   ]
  },
  {
   "cell_type": "markdown",
   "metadata": {
    "deletable": false,
    "editable": false
   },
   "source": [
    "In `Program-time-speed-dist2`\n",
    "\n",
    "#### DO THIS\n",
    "1. make the column margin 2 and line up the table again\n",
    "2. abbreviate 'Distance' to 'Dist.' and line up the table again\n",
    "3. replace 'Time' by 's', 'Speed' by 'v' and 'Distance' by 'p'. Drop the 2nd header row containing the units. In this case, the header width no longer determines the column width, but the values do. Change the header like specified, and line up the table again"
   ]
  },
  {
   "cell_type": "markdown",
   "metadata": {
    "deletable": false,
    "editable": false
   },
   "source": [
    "## Narrow field for wide number formats\n",
    "\n",
    "What happens if the value string doe not fit in the field width specified? Well, let's see:"
   ]
  },
  {
   "cell_type": "code",
   "execution_count": null,
   "metadata": {},
   "outputs": [],
   "source": [
    "# use formatted printing to print integer values\n",
    "\n",
    "nr = 1\n",
    "# your print(...) comes here ...\n",
    "print('integer: {:4d}'.format(nr))\n",
    "\n",
    "nr = 23\n",
    "# your print(...) comes here ...\n",
    "\n",
    "nr = 456\n",
    "# your print(...) comes here ...\n",
    "\n",
    "nr = 7890\n",
    "# your print(...) comes here ...\n",
    "\n",
    "nr = 12345678\n",
    "# your print(...) comes here ...\n",
    "\n",
    "# print an empty line ...\n",
    "print()\n",
    "\n",
    "nr = 1\n",
    "# your print(...) comes here ...\n",
    "print('integer: {:8d}'.format(nr))\n",
    "\n",
    "nr = 23\n",
    "# your print(...) comes here ...\n",
    "\n",
    "nr = 456\n",
    "# your print(...) comes here ...\n",
    "\n",
    "nr = 7890\n",
    "# your print(...) comes here ...\n",
    "\n",
    "nr = 12345678\n",
    "# your print(...) comes here ...\n"
   ]
  },
  {
   "cell_type": "markdown",
   "metadata": {
    "deletable": false,
    "editable": false
   },
   "source": [
    "Using the above code\n",
    "\n",
    "#### DO THIS\n",
    "\n",
    " 1. program the printing of integers: `1`, `23`, `456`, `7890`, and: `12345678`, using placeholder `{:4d}`\n",
    " 2. print an empty line\n",
    " 3. then: print the same series of integers with placeholder: `{:8d}`\n",
    " 4. check out what Python does of the field width is not wide enough *in the case of an integer*"
   ]
  },
  {
   "cell_type": "code",
   "execution_count": null,
   "metadata": {},
   "outputs": [],
   "source": [
    "# use formated printing to print float values\n",
    "\n",
    "value = 1.280\n",
    "print('real value: {:4.0f}'.format(value))\n",
    "\n",
    "print()\n",
    "\n",
    "value = 23.456\n",
    "print('real value: {:4.0f}'.format(value))\n"
   ]
  },
  {
   "cell_type": "markdown",
   "metadata": {
    "deletable": false,
    "editable": false
   },
   "source": [
    "Using the above code\n",
    "\n",
    "#### DO THIS\n",
    "\n",
    " 1. using float placeholders `{:4.0f}`, `{:4.1f}`, `{:4.2f}`, `{:5.3f}`, and `{:8.3f}`, print the real value `1.280` \n",
    " 2. print an empty line\n",
    " 3. then: print using the same series of placeholders to print the real value `23.456`\n",
    " 4. study the effects carefully (field width, precision, rounding-off)\n",
    " \n",
    "## f-strings\n",
    "Lately (as of Python 3.6), a more compact format of formatted strings has been added to Python, that works with the field format specifiers just discussed, but avoids the `.format()` string formatting. With the below code\n",
    "\n",
    "#### DO THIS\n",
    "1. analyze how a header is printed in the below code. Run the program\n",
    "2. analyze the printing of a variable `eps`\n",
    "3. add to the code\n",
    "   * a print of `a` with format `+6.3f`\n",
    "   * a print of `pi` with format `27.25f`\n",
    "   line these prints up nicely"
   ]
  },
  {
   "cell_type": "code",
   "execution_count": null,
   "metadata": {},
   "outputs": [],
   "source": [
    "import math\n",
    "\n",
    "eps = 1.000000000000e-12\n",
    "a = 15.267223\n",
    "pi = math.pi\n",
    "\n",
    "print(f'formatted printing results using f-strings')\n",
    "print(f'------------------------------------------')\n",
    "print(f'  eps: {eps:+14.12e}')\n"
   ]
  },
  {
   "cell_type": "markdown",
   "metadata": {
    "deletable": false,
    "editable": false
   },
   "source": [
    "## Printing in scientific or engineering format\n",
    "\n",
    "In order to print in scientific or engineering notation, you use a `{:e}` or `{:E}`, and `{:g}` or `{:G}`, resp."
   ]
  },
  {
   "cell_type": "code",
   "execution_count": null,
   "metadata": {},
   "outputs": [],
   "source": [
    "eps = 1.0E-24\n",
    "\n",
    "print('eps is small      : {:E} (or: {:+G} if you like)'.format(eps, eps))\n",
    "print('eps is very small : {:+28.25E}, more precisely'.format(eps))"
   ]
  },
  {
   "cell_type": "markdown",
   "metadata": {
    "deletable": false,
    "editable": false
   },
   "source": [
    "Using the above code\n",
    "\n",
    "#### DO THIS\n",
    "1. change `{:E}` to `{:e}` and `{:G}` to `{:g}`. Rerun and assess the effect\n",
    "2. change `{+28:25E}` to `{:+.24}`. Rerun the program and check the effect\n",
    "3. compute `1.0 - eps` and print it signed and with at least 25 decimals, in engineering notation\n",
    "4. repeat this, using scientific notation"
   ]
  },
  {
   "cell_type": "markdown",
   "metadata": {
    "deletable": false,
    "editable": false
   },
   "source": [
    "## String en-quoting\n",
    "\n",
    "A string variable represents text: en-quoted literals (digits, characters, punctuations, spaces, tabs ...). Python has multiple ways of quoting:\n",
    "\n",
    "| option | quotes | example |\n",
    "|:---:|:---:|:---:|\n",
    "| 1 | single-quotes | `'Hi! I am in a good mood'`|\n",
    "| 2 | double-quotes | `\"Hi! I am in a good mood\"`|\n",
    "| 3 | triple-quotes | `'''Hi! I am in a good mood'''`|\n",
    "| . | or: | `\"\"\"Hi! I am in a good mood\"\"\"`|\n",
    " \n",
    "We explore printing them, using the below code. In order to understand what Python is doing, we must understand that some characters in a string have a *special meaning* and how we can undo their special meaning by *escaping them*. What if we use single quotes to create a string from a literal text that contains a `'`, like in: `my_law = 'Murphy's law'`. Python might be confused, since we have a `'`in the midst of the string characters. After all, `'` is a special character, with a special meaning, namely: begin-of-string or end-of-string. If we want to use it like this, we can cancel its special meaning by escaping it. To do so, put an escape character `\\` in front of the character you want to escape. To escape-the-escape, again use an escape.\n",
    "\n",
    "For additional background information, see [this article](https://realpython.com/python-strings/)"
   ]
  },
  {
   "cell_type": "code",
   "execution_count": null,
   "metadata": {},
   "outputs": [],
   "source": [
    "print('Murphy\\'s law')  # escaping needed in case of single quptes\n",
    "print(\"Murphy's law\")   # no escaping needed here; no confusion\n",
    "\n",
    "print('Python\\'s ESCAPE character is the \\\\')\n",
    "\n",
    "# try to unravel this one, by replacing and putting back escapes ...\n",
    "print('Special characters, using an escaped form, are;\\n\\tthe Tab, and \\n\\tthe newline')"
   ]
  },
  {
   "cell_type": "code",
   "execution_count": null,
   "metadata": {},
   "outputs": [],
   "source": [
    "#  string quotes\n",
    "\n",
    "# Using single, double and triple-quoted strings\n",
    "\n",
    "print()\n",
    "\n",
    "print('1. Single quotes;')\n",
    "print('Hi! I am in a good mood')\n",
    "print('Me too ...\\n ... I\\'m doing quite alright!')  # we must -- escape -- the '\n",
    "\n",
    "print()\n",
    "\n",
    "print(\"2. Double quotes;\")\n",
    "print(\"Hi! I am in a good mood\")\n",
    "print(\"Me too ...\\n ... I'm doing quite alright!\")   # no need to escape the ' in I'm now\n",
    "\n",
    "print()\n",
    "\n",
    "print('''3. Triple quoted;''')\n",
    "print('''Hi! I am in a good mood''')\n",
    "print('''Me too ...\n",
    " ... I'm doing quite alright!''')   # multiple lines ... no escape needed for ' now either\n",
    "\n",
    "print()\n",
    "\n",
    "print(\"\"\"3. (alt) Triple quoted;\"\"\")\n",
    "print(\"\"\"Hi! I am in a good mood\"\"\")\n",
    "print(\"\"\"Me too ...\n",
    " ... I'm doing quite alright!\"\"\")   # multiple lines, no \\n, and no escape needed for '"
   ]
  },
  {
   "cell_type": "markdown",
   "metadata": {
    "deletable": false,
    "editable": false
   },
   "source": [
    "Using the above code\n",
    "\n",
    "#### DO THIS\n",
    "1. replace:\n",
    "  - triple-quotes `'''` by double quotes `\"`\n",
    "  - double-quotes `\"` by single-quotes `'`, and\n",
    "  - single-quotes `'` by triple-quotes `'''`\n",
    "  and rerun the program\n",
    "2. remove the escape from the newlines `\\n` and the tabs `\\t`. rerun the program and analyze the effect. Put the escape characters removed back in place again, and run the program to verify it's working ok again"
   ]
  },
  {
   "cell_type": "markdown",
   "metadata": {
    "deletable": false,
    "editable": false
   },
   "source": [
    "## Printing substrings\n",
    "\n",
    "Like a list and a tuple (also Sequence types), strings are indexed, meaning that we can refer to its characters by their position (index). String are indexed starting from 0. The next character has index 1, etc. You can access a single character at position `k` by using: `my_string[k]`. Try it yourself below. Furthermore, for formatted printing a string, use `{:s}` as a placeholder:"
   ]
  },
  {
   "cell_type": "code",
   "execution_count": null,
   "metadata": {},
   "outputs": [],
   "source": [
    "my_string = \"Hi! I'm indexed!\"\n",
    "print('at string position  0, we have character: {:s}'.format(my_string[0]))\n",
    "print('at string position  1, we have character: {:s}'.format(my_string[1]))\n",
    "print('at string position  2, we have character: {:s}'.format(my_string[2]))\n",
    "print('at string position  3, we have character: {:s}'.format(my_string[3]))\n",
    "print('at string position  4, we have character: {:s}'.format(my_string[4]))\n",
    "print('at string position  5, we have character: {:s}'.format(my_string[5]))\n",
    "print('at string position  6, we have character: {:s}'.format(my_string[6]))\n",
    "# etc."
   ]
  },
  {
   "cell_type": "markdown",
   "metadata": {},
   "source": [
    "Again similar to how we do this with other Sequence types, we may access a *range of characters*, to obtain a substring, like so:"
   ]
  },
  {
   "cell_type": "code",
   "execution_count": null,
   "metadata": {},
   "outputs": [],
   "source": [
    "my_string = \"Hi! I'm indexed!\"\n",
    "print('substring index 4-6: {:s}'.format(my_string[4:7])) # stops at 7, includes 6\n",
    "\n",
    "# I want this part of the string as a substring\n",
    "start =  2  # start at index 2\n",
    "stop  = 13  # stop when arriving at 13\n",
    "\n",
    "print('substring index {:d}-{:d}: {:s}'.format(start, stop, my_string[start:stop]))"
   ]
  },
  {
   "cell_type": "markdown",
   "metadata": {
    "deletable": false,
    "editable": false
   },
   "source": [
    "## Printing other Sequence types\n",
    "\n",
    "Printing a list or a tuple can be daunting. A hint: print them by turning them into their string representation `str(...)`. Example:"
   ]
  },
  {
   "cell_type": "code",
   "execution_count": null,
   "metadata": {},
   "outputs": [],
   "source": [
    "# print sequences-as-string\n",
    "\n",
    "my_facs_list = ['EWI', '3mE', 'IDE', 'AS']        # a list with only strings\n",
    "my_lab_items = ('Special items', 6, True, (0,0))  # a tuple with various item types\n",
    "my_fin_room  = list(range(1000,3000+1,500))       # convert a range into a list\n",
    "\n",
    "print('Faculties involved: {:>40s}'.format(str(my_facs_list))) #  >  means: right flushed\n",
    "print('Lab items involved: {:^40s}'.format(str(my_lab_items))) #  ^  means: centered\n",
    "print('Finances  involved: {:<40s}'.format(str(my_fin_room)) ) #  <  means: left flushed\n"
   ]
  },
  {
   "cell_type": "markdown",
   "metadata": {
    "deletable": false,
    "editable": false
   },
   "source": [
    "Using the above code\n",
    "\n",
    "#### DO THIS\n",
    "1. remove the `list()` that converts the `range`. Rerun the program. What is printed of the range now?\n",
    "2. increase the field width `40` to `60` and run again. What's the effect?\n",
    "3. try to find another way of printing for a list (individual items) and for a range (?)\n",
    "4. change:\n",
    "```python\n",
    "    print('Faculties involved: {:>40s}'.format(str(my_facs_list))) # > = right flushed\n",
    "```\n",
    "   to the f-string:\n",
    "```python\n",
    "    print(f'Faculties involved: {str(my_facs_list):>40s}') # > = right flushed\n",
    "```\n",
    "5. change the other two lines (centered and lefft-aligned, resp.) in similar vein, using an f-string"
   ]
  },
  {
   "cell_type": "markdown",
   "metadata": {
    "deletable": false,
    "editable": false
   },
   "source": [
    "## Done"
   ]
  }
 ],
 "metadata": {
  "kernelspec": {
   "display_name": "Python 3",
   "language": "python",
   "name": "python3"
  },
  "language_info": {
   "codemirror_mode": {
    "name": "ipython",
    "version": 3
   },
   "file_extension": ".py",
   "mimetype": "text/x-python",
   "name": "python",
   "nbconvert_exporter": "python",
   "pygments_lexer": "ipython3",
   "version": "3.7.6"
  },
  "latex_envs": {
   "LaTeX_envs_menu_present": true,
   "autoclose": false,
   "autocomplete": true,
   "bibliofile": "biblio.bib",
   "cite_by": "apalike",
   "current_citInitial": 1,
   "eqLabelWithNumbers": true,
   "eqNumInitial": 1,
   "hotkeys": {
    "equation": "Ctrl-E",
    "itemize": "Ctrl-I"
   },
   "labels_anchors": false,
   "latex_user_defs": false,
   "report_style_numbering": false,
   "user_envs_cfg": false
  }
 },
 "nbformat": 4,
 "nbformat_minor": 2
}
