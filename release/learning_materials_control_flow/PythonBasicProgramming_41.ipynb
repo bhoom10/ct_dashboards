{
 "cells": [
  {
   "cell_type": "markdown",
   "metadata": {
    "deletable": false,
    "editable": false
   },
   "source": [
    "<header>\n",
    "    <div style=\"overflow: auto;\">\n",
    "        <img src=\"https://digital-skills.tudelft.nl/nb_style/figures/TUDelft.jpg\" style=\"float: left;\" />\n",
    "        <img src=\"https://digital-skills.tudelft.nl/nb_style/figures/DUT_Flame.png\" style=\"float: right; width: 100px;\" />\n",
    "    </div>\n",
    "    <div style=\"text-align: center;\">\n",
    "        <h2><large>Digital Skills</large> -- Python Basic Programming --</h2>\n",
    "        <h6>&copy; 2019, TU Delft. Creative Commons</h6>     \n",
    "    </div>\n",
    "    <br>   \n",
    "    <br>\n",
    "</header>"
   ]
  },
  {
   "cell_type": "markdown",
   "metadata": {
    "deletable": false,
    "editable": false
   },
   "source": [
    "# Conditional branching\n",
    "\n",
    "We have seen **if-then-else** constructs in **Notebook-40 on Control Flow**. We will expand on this discussion in this Notebook, mostly in the context of **Conditional brnaching**.\n",
    "\n",
    "## If-then-else if- ... else\n",
    "Often in programming, you will need a *sieve*, a language construct than filters case by case from a flow of cases and processes that specific case. This part of the control flow is best implemented with an *if-then-else if - ... else* construct, like so. Assume you are reading data from a file and now have to process each line:"
   ]
  },
  {
   "cell_type": "code",
   "execution_count": null,
   "metadata": {},
   "outputs": [],
   "source": [
    "# each data line has 5 fields, containing ...\n",
    "# name, nationality (country), age, curriculum, degrees\n",
    "NAME, NLTY, AGE, CURR, DEGR = 0, 1, 2, 3, 4\n",
    "\n",
    "my_data_line = [\n",
    "    ('Jude', \"\" , 26, \"3mE\", \"BSc.\"),\n",
    "    ('Sina', 'Madagaskar', 24, \"Civil Engineering\", \"BSc, M Sc\"),\n",
    "    ('Nick', \"\" , 23, \"Mechanical Engineering\", \"\"),\n",
    "    ('Ties', 'Belgium', 23, \"life sciences\", \"\" ),\n",
    "    ('Cloe', 'France', 23, \"Mathematics\", \"\" )\n",
    "]\n",
    "\n",
    "print('NAME    NATIONALITY           CURRICULUM           DEGREE(s) ')\n",
    "print('----  ---------------  ------------------------  ------------')\n",
    "for nr in range(len(my_data_line)):\n",
    "    \n",
    "    # get the line content ...\n",
    "    line = my_data_line[nr]\n",
    "    \n",
    "    # the name field (must be present)\n",
    "    if line[NAME] is None:\n",
    "        print('error: name missing!')\n",
    "    elif line[NAME] == \"\":\n",
    "        print('error: name empty!')\n",
    "    else:\n",
    "        name = line[NAME]\n",
    "        \n",
    "    # the nationality field is only non-empty \n",
    "    # for international students ...\n",
    "    if line[NLTY] is None:\n",
    "        country = \"Netherlands\"\n",
    "    elif line[NLTY] == \"\":\n",
    "        country = \"Netherlands\"\n",
    "    else:\n",
    "        country = line[NLTY]\n",
    "\n",
    "        \n",
    "    # TO DO: REPLACE THIS WITH YOUR CODE \n",
    "    # ==================================\n",
    "    curriculum = 'Mechanical Engineering'\n",
    "    degree = 'B.Sc., M.Sc.'\n",
    "    \n",
    "    \n",
    "    print('{:4s}  {:15s}  {:24s}  {:12s}'.\n",
    "          format(name, country, curriculum, degree))"
   ]
  },
  {
   "cell_type": "markdown",
   "metadata": {
    "deletable": false,
    "editable": false
   },
   "source": [
    "with the above program\n",
    "\n",
    "#### DO THIS\n",
    "1. study the code construct in the above program, to see how the\n",
    "```python\n",
    "if condition:\n",
    "    do this\n",
    "elif other condition:\n",
    "    do this\n",
    "elif other condition:\n",
    "    do this\n",
    "else:\n",
    "    do this for all other cases\n",
    "```\n",
    "   works. Know that you can have as many `elif` branches as you need, but only one `if` and one `else`. Furthermore, understand that the formatted print;\n",
    "```python\n",
    "print('{:4s}  {:15s}  {:24s}  {:12s}'.format(name, country, curriculum, degree))\n",
    "```\n",
    "   inserts name in a 4-wide string field, followed by 2 spaces, then we get country (nationality) in a 15-wide string field, etc. If you don't know how this works, consult **Notebook-23 on Formatted print**, or read this [article](https://www.python-course.eu/python3_formatted_output.php)\n",
    "2. we implemented a temporary message;\n",
    "```python\n",
    "# TO DO: REPLACE THIS WITH YOUR CODE \n",
    "# ==================================\n",
    "curriculum = 'Mechanical Engineering'\n",
    "degree = 'B.Sc., M.Sc.'\n",
    "```\n",
    "   so that we can show you the skeleton of the printed table. Replace this part of the code by the following tests (in pseudo code);\n",
    "   \n",
    "   if curriculum is None or curriculum == \"\" \n",
    "       set the curriculum to \"unknown\" \n",
    "   elif curriculum equal to '3mE'\n",
    "       replace this by \"Mechanical Engineering\"\n",
    "   else:\n",
    "       accept it is as\n",
    "       \n",
    "   if curriculum is in lower case\n",
    "       turn it into title case          HINT use `curriculum = curriculum.title()` to obtain title case\n",
    "   print it\n",
    "   \n",
    "   and for degree:\n",
    "   \n",
    "   make an if-then-else yourself, such that only degrees 'B.Sc.' or 'M.Sc.' are printed (as spelled here; with `.`s and with uppercase letters). When no degree is given, just print en empty string. Do not print any other degree than 'B.Sc.' and 'M.Sc.'\n",
    "   \n",
    "3. the first two branches are currently:\n",
    "```python\n",
    "# the name field (must be present)\n",
    "if line[NAME] is None:\n",
    "    print('error: name missing!')\n",
    "elif line[NAME] == \"\":\n",
    "    print('error: name empty!')\n",
    "else:\n",
    "    name = line[NAME]\n",
    "```\n",
    "   the `if` and the `elif` could be combined if we manage to unify the action to do (in this case: report an error). Combine the two branches in a single `if` branch by combining `is None` and `== \"\"` in a single condition, and report an `'invalid name'` message for both cases. Observe that we can only do this if we also can unify their actions in a single code block for that branch"
   ]
  },
  {
   "cell_type": "markdown",
   "metadata": {
    "deletable": false,
    "editable": false
   },
   "source": [
    "## Membership conditions\n",
    "Frequently, you want to test a variable to have a value that can be any of a sets of values. We call the above test `if my_var in [-4, -1, 1, 5, 11]` a membership test, and the condition `my_var in [-4, -1, 1, 5, 11]` a membership condition. Membership conditions in Python work with all `Sequence` types we discussed. Go back to **Notebook-20 on Variables** to refresh you knowledge if needed. With the below code\n",
    "\n",
    "#### DO THIS\n",
    "1. make a program, create a variable `my_var` that you assign different test values\n",
    "2. run the program and verify that it works correctly\n",
    "3. verify that 15 is in the sequence 0, 5, 10, 15, ... , 50. Use at least 3 different Sequence types for your membership tests\n",
    "4. introduce a Boolean variable `fivefold`. Assign the result of the membership to `fivefold` first and then print `fivefold` in the print statement\n",
    "5. with the above variable `fivefold`, not only test if present in the sequence, but also test it to be above 40 or under 10. Rerun the program and check its result"
   ]
  },
  {
   "cell_type": "code",
   "execution_count": null,
   "metadata": {},
   "outputs": [],
   "source": [
    "for my_var in [0, 11, 2, -1, 5, 99, 3]:\n",
    "    if my_var in [-4, -1, 1, 5, 11]:\n",
    "        print('my_var has one of the values for selection:', my_var)\n",
    "    elif my_var in [0]:\n",
    "        print('hmmm my_var is zero')\n",
    "    else:\n",
    "        print(\"my_var does not have a value I'm interested in :-(\")"
   ]
  },
  {
   "cell_type": "code",
   "execution_count": null,
   "metadata": {},
   "outputs": [],
   "source": [
    "print('is 15 a multiple of 5?', 15 in [5, 10, 15, 20, 25, 30, 35, 40, 45, 50])\n",
    "print('is 15 a multiple of 5?', 15 in (5, 10, 15, 20, 25, 30, 35, 40, 45, 50))\n",
    "print('is 15 a multiple of 5?', 15 in range(0,10*5+1,5))"
   ]
  },
  {
   "cell_type": "markdown",
   "metadata": {
    "deletable": false,
    "editable": false
   },
   "source": [
    "## Nested if\n",
    "If-then-else constructs can be nested to any depth. In the below program, you set a secret number (`secret = 4`) and the code conducts tests to find out what secret number you have specified. "
   ]
  },
  {
   "cell_type": "code",
   "execution_count": null,
   "metadata": {},
   "outputs": [],
   "source": [
    "secret = 4\n",
    "\n",
    "found = False\n",
    "guess = 0\n",
    "if guess == secret:\n",
    "    found = True\n",
    "else:\n",
    "    guess += 1\n",
    "    if guess == secret:\n",
    "        found = True\n",
    "    else:\n",
    "        guess += 1\n",
    "        if guess == secret:\n",
    "            found = True\n",
    "        else:\n",
    "            guess += 1\n",
    "            if guess == secret:\n",
    "                found = True\n",
    "            else:\n",
    "                guess += 1\n",
    "                if guess == secret:\n",
    "                    found = True\n",
    "                else:\n",
    "                    guess += 1\n",
    "                    if guess == secret:\n",
    "                        found = True\n",
    "    \n",
    "if found:\n",
    "    print('secret number:', guess)\n",
    "else:\n",
    "    print('secret number exceeds:', guess)"
   ]
  },
  {
   "cell_type": "markdown",
   "metadata": {
    "deletable": false,
    "editable": false
   },
   "source": [
    "The above if-them-else construct is clearly **no good programming practice** (don't do it this way), but it works. With this code\n",
    "\n",
    "#### DO THIS\n",
    "1. try to replace all `... else: .... if guess == secret` by an `elif ....:` construct we have used above. Is it possible in this case?\n",
    "2. replace this whole construct by a `while not found:` loop. Implement a solution that prints a message similar to the one currently in the code. `break` the while loop if you exceed 5 numbers tried, like so:\n",
    "```python\n",
    "while not found:\n",
    "    ...\n",
    "    if nr_tried > 5:\n",
    "        break\n",
    "```\n",
    "  Do not forget to initialize `found` and to set `found = True` to stop iterating\n",
    "3. Rerun and verify the correctness\n",
    "\n",
    "## One-line if\n",
    "One form of *if then else* has not yet been discussed: the one-line `if` statement (see below). One specific need for this construct is in *comprehensions* we will discuss later notebooks. Although the [pep 8 Style Guide](https://www.python.org/dev/peps/pep-0008/) is not explicit on this, we recommend using this style of programming just for that purpose, or only in cases no confusion could arise.  With the below code:\n",
    "\n",
    "#### DO THIS\n",
    "1. replace code line \n",
    "```python\n",
    "negative = True if a-b < 0 else False\n",
    "```\n",
    "   by an assingment with a right-hand-side that evaluates `a-b` and assigns the resulting Boolean variable to `negative`, effectively removing this form of `if` altogether\n",
    "2. do you need this language construct to code control flow like in this example?\n",
    "3. create an extra variable `sign` we will use for printing. Put it at the bottom of our code, below the existing code lines. Assign it value '' (empty string) if `negative`. In other cases assign it `+`\n",
    "4. now print the value of `a-b` with sign, like so: `print('value of a-b:', sign+str(a-b) )`. Run it with different values for `a` and `b`"
   ]
  },
  {
   "cell_type": "code",
   "execution_count": null,
   "metadata": {},
   "outputs": [],
   "source": [
    "a = 6\n",
    "b = 8\n",
    "\n",
    "negative = True if a-b < 0 else False\n",
    "\n",
    "print('sum negative?', negative)\n",
    "\n",
    "sign = '' if negative else '+'\n",
    "\n",
    "print('value of a-b:', sign+str(a-b) )"
   ]
  },
  {
   "cell_type": "markdown",
   "metadata": {
    "deletable": false,
    "editable": false
   },
   "source": [
    "When designing the control flow of our program, we should carefully examine and scrutenize the need for nested if constructs. Nested if constructs are among the most likely placces for (logic and programming) errors to pop up. A careful reexamination of the need for nested if is always a clever idea. Always prefer to most simple-to-read construct. With the below code\n",
    "\n",
    "#### DO THIS\n",
    "1. run the above program with `a_list = None`, `a_list = []`, `a_list = [5]`, and `a_list = [2, 5, 7]` and analyze its control flow\n",
    "2. revise the if's and the conditions such that **only a single if** (with a single `if` and an `else` branch, but no `elif` branch) remains\n",
    "3. if you did 2. correctly, the **condition** on the if is now composed of multiple parts. Python will evaluate the parts left-to-right, while (of course) obeying the logical operator precedence. Determine the optimal order of evaluation of the parts, considering that if you try to determine `max(a_list)` on a list that is identical to `None`, will lead to an error \n",
    "4. introduce a Boolean variable: `valid_list` and assign it `True` or `False` using a one-line if statement. Rerun the code\n",
    "5. replace the one-line if in the assignment of `valid_list` by a Boolean expression (remove the if)"
   ]
  },
  {
   "cell_type": "code",
   "execution_count": null,
   "metadata": {},
   "outputs": [],
   "source": [
    "a_list  = [3, 9]\n",
    "\n",
    "if a_list is not None:\n",
    "    if a_list:\n",
    "        # print the max-valued item in the list ...\n",
    "        print('max in my list', max(a_list))\n",
    "    else:\n",
    "         print('we cannot determine the max of this list')\n",
    "else:\n",
    "    print('we cannot determine the max of this list')\n",
    "    "
   ]
  },
  {
   "cell_type": "markdown",
   "metadata": {
    "deletable": false,
    "editable": false
   },
   "source": [
    "## Logical expressions and truth values\n",
    "When variables are involved in the evaluation of conditions (logical expressions), like in:\n",
    "\n",
    "```python\n",
    "my_list = []\n",
    "\n",
    "if my_list:\n",
    "    print('my list has items')\n",
    "else:\n",
    "    print('my list is None or empty')\n",
    "```\n",
    "Python will consider their **values** to evaluate their values' **truth values** (their conversion into a Boolean value, you might say), as part of the evaluation of the whole condition. We will discuss details here. There are three different cases we will discuss:\n",
    "1. `if my_list is None`\n",
    "2. `if my_list == []`\n",
    "3. `if my_list`\n",
    "\n",
    "Case 1 is testing if `my_list` is identical to the one-and-only `None` object; if evaluating to `True`, it must have both `id` equal to `id(None)` and value type `type(None)`. Recall that `type(None)` is a `NoneType` and that is why in this case, trying to determine `len(my_list)` (or any other list operation) will fail: a `NoneType` does not have any length and does not know how to determine what you ask for. If you find that `my_list is None` is true, then further treating it as if it were a list is detined to evoke an error. The Boolean value of this condition is `False`\n",
    "\n",
    "Case 2 can only be done if you are certain that `my_list` is of type `list`; otherwise indexing `[]` is not possible. If this condition is false, an iteration over its indexes or items will not yield any item. The Boolean value of this condition is `False`\n",
    "\n",
    "Case 3 tests if `my_list` is of `list` type, and not an empty list. You can use any list operation. When iterating over `my_list` the iterator will return 1 or more items. The Boolean value of this condition is `True`\n",
    "\n",
    "The below table summarizes;\n",
    "\n",
    "| Case | What tested? | Implications | Boolean value |\n",
    "|:---:|:---|:---|:---:|\n",
    "| 1 | `id(my_list) is id(None)` | if `True` `my_list` is a `NoneType`, list operations will fail | `False` |\n",
    "| 2 | `type(my_list) == list` and *list empty* | iterator will stop instantly when trying to get an item | `False` |\n",
    "| 3 | `type(my_list) == list` and *list not empty* | iterator will yield 1 or more items | `True` |\n",
    "\n",
    "With the below code\n",
    "\n",
    "#### DO THIS\n",
    "1. verify the above described cases:\n",
    "    - `if my_list is None`\n",
    "    - `if my_list == []`\n",
    "    - `if my_list`\n",
    "2. wrap a loop around the cases to test, like so:\n",
    "```python\n",
    "# define three cases for my_list to test ...\n",
    "for my_case in ( None, [], [4, 5, 6] ):\n",
    "    my_list = my_case\n",
    "    # do the testing here ...\n",
    "```"
   ]
  },
  {
   "cell_type": "code",
   "execution_count": null,
   "metadata": {},
   "outputs": [],
   "source": [
    "# define three cases for my_list to test ...\n",
    "for my_case in ( None, [], [4, 5, 6] ):\n",
    "    my_list = my_case\n",
    "    if my_list:\n",
    "        print('my_list:', my_list, '--> my list has items')\n",
    "    else:\n",
    "        print('my_list', my_list, '--> my list is None or empty')"
   ]
  },
  {
   "cell_type": "markdown",
   "metadata": {
    "deletable": false,
    "editable": false
   },
   "source": [
    "#### Remarks\n",
    "* when testing in your program:\n",
    "```python\n",
    "    if len(my_list) > 0: \n",
    "        print('first item:', my_list[0])\n",
    "```\n",
    "  on an empty list, fails: `IndexError: list index out of range`. That is why you do these tests. \n",
    "* sometimes, your list results from some operation or has been returned by some function, and could potentially be `None`. Then, the above test fails *itself*, because a `None` object has no method `len()`: `TypeError: object of type 'NoneType' has no len()`. In that case, you should do a two-stage test, like so:\n",
    "```python\n",
    "    if my_list is not None and len(my_list) > 0:\n",
    "```\n",
    "   which will *not* fail in that case;\n",
    "   - Python will first check if `my_list is not None`\n",
    "   - if this evaluates to `False` (`my_list` *is* `None`), the complete logical expression, being of the type `condition 1 and condition 2`, *cannot* evaluate to `True` anymore, since `condition 1` is already found `False`\n",
    " - henceforth `condition 2` does not need and will not be evaluated anymore, and consequently cannot not yield an error\n",
    " \n",
    "Not only a `list` has a truth value; any variable type has. Generally, any variable connected to **any zero-like value** will evaluate to `False`. See the below table;\n",
    " \n",
    "| variable type | with value | evaluates to | examples |\n",
    "|:---:|:---:|---|---|\n",
    "|any type | `None` | False | any variable with value `None` |\n",
    "|numeric| 0, zero-like | False | `float('0.0')`, `0`, `0.00`, `int('0')` |\n",
    "|boolean| `False`, `None`| False | `False`, `not True`, `None` |\n",
    "|Sequence| empty | False | `list()`, `tuple()`, `range(0)`, `[]`, `()`, `\"\"`, `''`|\n",
    "\n",
    "* as a rule-of-thumb, anything that does not belong to the above table, evaluates to `True`. Examples:\n",
    "   - an non-empty tuple has truth value `True`\n",
    "   - float('1.0') has truth value `True`\n",
    "   - range(10) has truth value `True`\n",
    "* it is the implementation of the type that reflects what *zero-like* values evaluate to `False`\n",
    "* there are 2 additional ways to test truth values:\n",
    "   - convert it to a Boolean using `bool( my_var )`\n",
    "   - using a truth function: `operator.truth( my_var )`\n",
    "\n",
    "With the below code\n",
    "\n",
    "#### DO THIS:\n",
    "1. In the below program, change the float value from 0.0 to 0.1 and rerun the programme. Do the same action for an empty tuple (add a single item), and in case of the string, make the string non-empty with a single point\n",
    "2. looking in the above Table, complete your program with additional tests using integers, empty lists and zero-ranges\n",
    "3. expand the cases in the progam with an additional test for empty and non-empty strings\n",
    "4. define all your test cases like we did above, with `my_case in ( ... )`\n",
    "5. assert that both `bool( my_var )` and `operator.truth( my_var )`, both following the same set of truth value rules, give exactly the same result. Check the below example;\n",
    "```python\n",
    "    import operator\n",
    "    \n",
    "    my_string = ''\n",
    "    my_bool1   = bool(my_string)\n",
    "    my_bool2   = operator.truth(my_string)\n",
    "    assert my_bool1 == my_bool2, 'oops, they should be equal!'\n",
    "```\n",
    "   embedd this assertion in your loop that runs all test cases"
   ]
  },
  {
   "cell_type": "code",
   "execution_count": null,
   "metadata": {},
   "outputs": [],
   "source": [
    "# for several variables, evaluate their truth value in \n",
    "# an if-stamenent and print the result\n",
    "\n",
    "# case 1: numeric\n",
    "my_var = float('0.0')\n",
    "if my_var:\n",
    "    print('(1) my_var DOES NOT HAVE a zero-like value: ', my_var, ' and evaluates to:', bool(my_var))\n",
    "else:\n",
    "    print('(1) my_var HAS a zero-like value: ', my_var, ' and evaluates to:', bool(my_var))\n",
    "\n",
    "# case 2: sequence type\n",
    "my_tuple = ()\n",
    "if my_tuple:\n",
    "    print('(2) my_tuple DOES NOT HAVE a zero-like value: ', my_tuple, ' and evaluates to:', bool(my_tuple))\n",
    "else:\n",
    "    print('(2) my_tuple HAS a zero-like value:', my_tuple, ' and evaluates to:', bool(my_tuple))\n",
    "    \n",
    "# case 4: string\n",
    "my_string = ''\n",
    "if my_string:\n",
    "    print('(3) my_string DOES NOT HAVE a zero-like value: ', my_string, ' and evaluates to:', bool(my_string))\n",
    "else:\n",
    "    print('(3) my_string HAS a zero-like value:', my_string, '  and evaluates to:', bool(my_string))\n",
    "    "
   ]
  },
  {
   "cell_type": "markdown",
   "metadata": {
    "deletable": false,
    "editable": false
   },
   "source": [
    "## Done"
   ]
  }
 ],
 "metadata": {
  "kernelspec": {
   "display_name": "Python 3",
   "language": "python",
   "name": "python3"
  },
  "language_info": {
   "codemirror_mode": {
    "name": "ipython",
    "version": 3
   },
   "file_extension": ".py",
   "mimetype": "text/x-python",
   "name": "python",
   "nbconvert_exporter": "python",
   "pygments_lexer": "ipython3",
   "version": "3.7.6"
  },
  "latex_envs": {
   "LaTeX_envs_menu_present": true,
   "autoclose": false,
   "autocomplete": true,
   "bibliofile": "biblio.bib",
   "cite_by": "apalike",
   "current_citInitial": 1,
   "eqLabelWithNumbers": true,
   "eqNumInitial": 1,
   "hotkeys": {
    "equation": "Ctrl-E",
    "itemize": "Ctrl-I"
   },
   "labels_anchors": false,
   "latex_user_defs": false,
   "report_style_numbering": false,
   "user_envs_cfg": false
  }
 },
 "nbformat": 4,
 "nbformat_minor": 2
}
