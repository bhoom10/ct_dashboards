{
 "cells": [
  {
   "cell_type": "markdown",
   "metadata": {
    "deletable": false,
    "editable": false
   },
   "source": [
    "<header>\n",
    "    <div style=\"overflow: auto;\">\n",
    "        <img src=\"https://digital-skills.tudelft.nl/nb_style/figures/TUDelft.jpg\" style=\"float: left;\" />\n",
    "        <img src=\"https://digital-skills.tudelft.nl/nb_style/figures/DUT_Flame.png\" style=\"float: right; width: 100px;\" />\n",
    "    </div>\n",
    "    <div style=\"text-align: center;\">\n",
    "        <h2><large>Digital Skills</large> -- Python Basic Programming --</h2>\n",
    "        <h6>&copy; 2019, TU Delft. Creative Commons</h6>     \n",
    "    </div>\n",
    "    <br>   \n",
    "    <br>\n",
    "</header>"
   ]
  },
  {
   "cell_type": "markdown",
   "metadata": {
    "deletable": false,
    "editable": false
   },
   "source": [
    "# Loops\n",
    "\n",
    "Python has two language constructs to create a loop: `for .. in` and `while`. With these two constructs, we can make *four* different types of loops. We will call these four types *abstract types* in the below table. Assume `Sequence S`, `len(S) == N`; each `Sequence` type is *iterable*, i.e. can traverse all its items one-by-one and in-order, starting at the one with index zero, up till (but not included) item with index `len(S)`.\n",
    " \n",
    "| nr |language construct| abstract type | control flow | remarks |\n",
    "|:---:|:---:|:---|:---|:---|\n",
    "| 1 | `for index in range(len(S)):` | loop over *index of sequence* | iterate loop block N times | N length of sequence |\n",
    "| 2 | `for item in S:` | loop over *items of sequence* | iterate loop block N times | N number of items |\n",
    "| 3 | `while` condition `:`  | do loop while condition `True` | iterate loop block 0..M times | M often unknown a-priori |\n",
    "| 4 | `while True:` ... `if` condition: `break` | do loop until condition-to-break `True` | iterate loop block 1..M times | M unknown a-priori, M >= 1 |\n",
    "\n",
    "We will given en example of each below to illustrate the abstract concept;"
   ]
  },
  {
   "cell_type": "code",
   "execution_count": null,
   "metadata": {},
   "outputs": [],
   "source": [
    "S = [('Oleg', 22), ('Tina', 23), ('Karl', 23), ('Senn', 19), ('Todd', 26), ('Elsa', 24)]\n",
    "# type nr 1: use the INDEXES of S to iterate. Use another Sequence type for that: range ...\n",
    "print('using a type 1 loop...')\n",
    "for index in range(len(S)):\n",
    "    print('name and age:', S[index])\n",
    "    \n",
    "# type nr 2: use the ITEMS of S to iterate ...\n",
    "print('...using a type 2 loop;')\n",
    "for item in S:\n",
    "    print('name and age:', item)\n",
    "    \n",
    "# type nr 3: use a while with a condition. Use for instance M = len(S) as a condition ...\n",
    "print('...using a type 3 loop;')\n",
    "M = len(S)\n",
    "m = 0                               # don't forget to initialize\n",
    "while m < M:\n",
    "    print('name and age:', S[m])\n",
    "    m += 1                          # don't forget to increment!\n",
    "    \n",
    "# type nr 4: use do ... until condition-to-break True. Use M = len(S) ...\n",
    "print('...using a type 4 loop;')\n",
    "M = len(S)\n",
    "if M > 1:\n",
    "    m = 0\n",
    "    while True:\n",
    "        print('name and age:', S[m])\n",
    "        m += 1\n",
    "        if m >= M: \n",
    "            break\n"
   ]
  },
  {
   "cell_type": "markdown",
   "metadata": {
    "deletable": false,
    "editable": false
   },
   "source": [
    "with the above code\n",
    "\n",
    "#### DO THIS\n",
    "1. comment out the code line that creates list `S`. Below this line, insert a line `S = []`. Rerun the program. It runs without errors. If not, correct it\n",
    "2. in line `if M > 1:` (type 4), replace `if M > 1:` by `if True:`. The effect is that this `if` is effectively canceled out (has no effect because always true). We do this to make no other errors, such as `IndentationError`s and to be able to quickly undo it further down. Run the code now with `S` still an empty list. You'll have an `IndexError` now. Analyze why\n",
    "3. change `if True:` back to `if M > 1:` again. Rerun and see it it works again with empty lists `S`. If so, set it back to the commented out list `S` (remove the line `S = []`. Rerun the program and check if it works correctly again\n",
    "4. with 2-tuple *(name, age)*, we can print name and age apart, using:\n",
    "```python\n",
    "tpl = ('Aziz', 21)\n",
    "print('name:', tpl[0], ', age:', tpl[1])\n",
    "```\n",
    "   giving:\n",
    "```python\n",
    "name: Aziz , age: 21\n",
    "```\n",
    "   modify all four types of loops, printing names and ages apart, like just demonstrated\n",
    "\n",
    "#### Remarks\n",
    "* in this case, it is easy to replace a while-loop of type 3 or 4, by a for-loop of type 1 or 2. Why is this so? Hint. See the right-most column **remarks** in the table\n",
    "* generally, this is not the case. With the below code\n",
    "\n",
    "#### DO THIS\n",
    "1. run the below code and analyze what it does. Verify it works OK for any series of input attempts\n",
    "2. replace the below while-loop by a for-loop. Rerun and verify if it works OK for any series of input attempts"
   ]
  },
  {
   "cell_type": "code",
   "execution_count": null,
   "metadata": {},
   "outputs": [],
   "source": [
    "p = None\n",
    "while p is None:\n",
    "    r = int(input('key in a number in range 10..20: '))\n",
    "    if r in range(10,20+1):\n",
    "        p = r\n",
    "print('you keyed in:', p, ' Done!')"
   ]
  },
  {
   "cell_type": "markdown",
   "metadata": {
    "deletable": false,
    "editable": false
   },
   "source": [
    "## Enumeration\n",
    "Sometimes you prefer a type 2 for loop, in which your iteration variable is an item, not an index. But having the index *also* available, would be handy in your code. You could turn to a type 1 loop, using both `index` and `S[index]`. But there is an alternative, when working with a type 2 loop: function `enumerate()`. It works like this"
   ]
  },
  {
   "cell_type": "code",
   "execution_count": null,
   "metadata": {},
   "outputs": [],
   "source": [
    "S = [('Oleg', 22), ('Tina', 23), ('Karl', 23), ('Senn', 19), ('Todd', 26), ('Elsa', 24)]\n",
    "    \n",
    "# type nr 2: use the ITEMS of S to iterate, get an index from enumeration ...\n",
    "for index, item in enumerate(S):\n",
    "    print('student:', index+1, ', name:', item[0], ', age:', item[1])"
   ]
  },
  {
   "cell_type": "markdown",
   "metadata": {
    "deletable": false,
    "editable": false
   },
   "source": [
    "## Nested loops\n",
    "Loops can be nested to any depth and mixed at will. A *guess the secret number* game is provided below. With the below code\n",
    "\n",
    "#### DO THIS\n",
    "1. run the code and analyze the details of the code\n",
    "2. the code currently has two nested loops:\n",
    "```python\n",
    "stop_input = False\n",
    "while stop_input == False:\n",
    "    valid_input = False\n",
    "    while valid_input != True:\n",
    "        ...\n",
    "        valid_input = True\n",
    "        ...\n",
    "        stop_input = True\n",
    "```\n",
    "   For the loop to work, it must be:\n",
    "   * carefully initialized\n",
    "   * terminated by modified loop conditions. \n",
    "   Currently, the outer-most loop stops if:\n",
    "   * the secret_number is guessed\n",
    "   * you code the stop_code `0`\n",
    "   Modify the code such that, after you guessed the secret number, you can select whether or not you want to play a NEW game, with a new random secret number. Add an extra while loop, to that end. You can play as many games as you want. The other current stop condition (pressing `0`) must be preserved"
   ]
  },
  {
   "cell_type": "code",
   "execution_count": null,
   "metadata": {},
   "outputs": [],
   "source": [
    "import random as rnd\n",
    "\n",
    "print('This program prompts for NUMERIC input.')\n",
    "print('Restart the kernel if your program gets stuck.')\n",
    "\n",
    "secret_number = rnd.randint(0,100)\n",
    "\n",
    "stop_input = False\n",
    "while stop_input == False:\n",
    "    valid_input = False\n",
    "    while valid_input != True:\n",
    "        print('key in a NUMBER in [1..100) and press ENTER, (0 to stop)', end=': ')\n",
    "        value_string = input()\n",
    "        value = int(value_string)\n",
    "        if value in range(0,100):\n",
    "            valid_input = True\n",
    "            if value == 0:\n",
    "                print('you are giving up :-( ...')\n",
    "                stop_input = True\n",
    "                break\n",
    "            else:\n",
    "                if value == secret_number:\n",
    "                    print('YOU GUESSED THE SECRET NUMBER! CONGRATS')\n",
    "                    stop_input = True\n",
    "                    print('game over.')\n",
    "                elif value > secret_number:\n",
    "                    print('... too high ...')\n",
    "                else:\n",
    "                    print('... higher ...')\n",
    "        else:\n",
    "            print('...again...', end='')\n",
    "    \n",
    "print('Program terminates.')"
   ]
  },
  {
   "cell_type": "markdown",
   "metadata": {
    "deletable": false,
    "editable": false
   },
   "source": [
    "## Counting down time\n",
    "Another loop condition can be: elapsed time. A time countdown is easy to program. Below is the type 4 loop implementing this. With the below code\n",
    "\n",
    "#### DO THIS\n",
    "1. run the code to analyze how it works\n",
    "2. we use a type 4 loop here; why is an extra test, like:\n",
    "```python\n",
    "if RUNTIME > 1:\n",
    "    while True:\n",
    "        ...\n",
    "```\n",
    "   like we say earlier, not needed in this code?\n",
    "3. the *break-condition* in this case, is equal to: `elapsed >= RUNTIME`. Replace this code by a *continue-condition*, using the [logical complement](https://www.digitalocean.com/community/tutorials/how-to-use-break-continue-and-pass-statements-when-working-with-loops-in-python-3): `elapsed < RUNTIME`. If this condition holds, you continue else you break. We already saw the use of keyword `break`, the use of the keyword `continue` is straightforward"
   ]
  },
  {
   "cell_type": "code",
   "execution_count": null,
   "metadata": {},
   "outputs": [],
   "source": [
    "## Counting down time\n",
    "\n",
    "import time as tm\n",
    "\n",
    "# set countdown run time ...\n",
    "RUNTIME = 5\n",
    "\n",
    "# set start time ...\n",
    "start = tm.time()\n",
    "elapsed = 0\n",
    "\n",
    "while True:\n",
    "    current = tm.time()\n",
    "    elapsed = current - start\n",
    "    if elapsed >= RUNTIME: break\n",
    "\n",
    "    \n",
    "print('(1) start:', int(start), 'sec. stopped:', int(current), 'sec. run time:', RUNTIME)"
   ]
  },
  {
   "cell_type": "markdown",
   "metadata": {
    "deletable": false,
    "editable": false
   },
   "source": [
    "## Membership tests\n",
    "\n",
    "Every Sequence type also support **membership testing**, which allows you to test if an item is contained in a Sequence. The format for that is the logical condition: `item in S` which evaluates to `True` if `item` is contained in sequence `S`, `False` otherwise. \n",
    "\n",
    "Examples:\n",
    "```python\n",
    "print(\"is 78 in range(1,100+1)\", 78 in range(1,100+1))\n",
    "```\n",
    "would print:\n",
    "```python\n",
    "is 78 in range(1,100+1) True\n",
    "```\n",
    "and: \n",
    "\n",
    "```python\n",
    "print(\"is tuple ('Todd', 26) in S?\", ('Todd', 26) in S)\n",
    "```\n",
    "would print:\n",
    "```python\n",
    "is tuple ('Todd', 26) in S? True\n",
    "```\n",
    "\n",
    "with the below code\n",
    "\n",
    "#### DO THIS\n",
    "1. verify the above examples, using the below code skeleton\n",
    "2. demonstrate using the below code, that: \n",
    "\n",
    "   if tuple (name, age) in S is True *then also:* index of (name, age) in range(0, len(S)) is True. \n",
    "   \n",
    "   Implement a test demonstrating this. Hint: you can obtain the index of `('Todd', 26)` using list function\n",
    "```python\n",
    "   ndx = S.index( ('Todd', 26) )\n",
    "```"
   ]
  },
  {
   "cell_type": "code",
   "execution_count": null,
   "metadata": {},
   "outputs": [],
   "source": [
    "# verify examples given above ...\n",
    "print('example 1?')  # modify to print the result \n",
    "print('example 2?')\n",
    "\n",
    "# verify: if item in S is True,   then also:  its index in range(0, len*S) is True\n",
    "S = [('Oleg', 22), ('Tina', 23), ('Karl', 23), ('Senn', 19), ('Todd', 26), ('Elsa', 24)]\n",
    "rng_S = range(0,len(S))\n",
    "correct = True\n",
    "for student in [\n",
    "       ('Senn', 19), ('Oleg', 22), ('Karl', 23), ('Todd', 26), ('Elsa', 24), ('Tina', 23)\n",
    "    ]:\n",
    "    # check if student is in S ...\n",
    "    if student in S:\n",
    "        # verify that the students index in in rng_S ...\n",
    "        \n",
    "        # write your test here ... (remove pass)\n",
    "        pass\n",
    "    \n",
    "    \n",
    "print('verification correct?', correct)"
   ]
  },
  {
   "cell_type": "markdown",
   "metadata": {
    "deletable": false,
    "editable": false
   },
   "source": [
    "Remember the top-10 electric cars we had in Notebook PythonBasicProgramming-40? We are going to print the list again, but now using a membership condition.\n",
    "\n",
    "#### DO THIS\n",
    "1. using the below code skeleton, print the top-10, like we did in Notebook PythonBasicProgramming-40\n",
    "\n",
    "2. now replace `for k in range(start, stop):` by `for car in my_e_car:`. You have to adapt the printing of `my_e_car[k]` i.e., change it to `car`. Variables `start` and `stop` are no longer needed. Instead, introduce a variable `position` to keep track of the position, while creating the top-10\n",
    "\n",
    "3. Use function `enumerate()` to obtain a 2-tuple `position, car` which can both print the position and the car. Like so:\n",
    "\n",
    "```python\n",
    "   for position, car in enumerate(my_e_car):\n",
    "        # and so on\n",
    "```   \n",
    "   Make the printing look exactly the same as in the previous prints of the list"
   ]
  },
  {
   "cell_type": "code",
   "execution_count": null,
   "metadata": {},
   "outputs": [],
   "source": [
    "start, stop = 1, 10\n",
    "\n",
    "my_e_car = ['Tesla model S', 'BMW i3', 'Kia e-Niro', 'Nissan Leaf', 'Opel Ampera', \n",
    "            'Volkswagen e-Golf', 'Hyundai Ioniq EV', 'Renault Zoe R110', 'Kia Soul EV', \n",
    "            'Hyundai Kona Electric']\n",
    "\n",
    "for k in range(start, stop):\n",
    "    print('position:', k, ' e-car:', my_e_car[k])\n"
   ]
  },
  {
   "cell_type": "markdown",
   "metadata": {
    "deletable": false,
    "editable": false
   },
   "source": [
    "## Done"
   ]
  }
 ],
 "metadata": {
  "kernelspec": {
   "display_name": "Python 3",
   "language": "python",
   "name": "python3"
  },
  "language_info": {
   "codemirror_mode": {
    "name": "ipython",
    "version": 3
   },
   "file_extension": ".py",
   "mimetype": "text/x-python",
   "name": "python",
   "nbconvert_exporter": "python",
   "pygments_lexer": "ipython3",
   "version": "3.7.6"
  },
  "latex_envs": {
   "LaTeX_envs_menu_present": true,
   "autoclose": false,
   "autocomplete": true,
   "bibliofile": "biblio.bib",
   "cite_by": "apalike",
   "current_citInitial": 1,
   "eqLabelWithNumbers": true,
   "eqNumInitial": 1,
   "hotkeys": {
    "equation": "Ctrl-E",
    "itemize": "Ctrl-I"
   },
   "labels_anchors": false,
   "latex_user_defs": false,
   "report_style_numbering": false,
   "user_envs_cfg": false
  }
 },
 "nbformat": 4,
 "nbformat_minor": 2
}
