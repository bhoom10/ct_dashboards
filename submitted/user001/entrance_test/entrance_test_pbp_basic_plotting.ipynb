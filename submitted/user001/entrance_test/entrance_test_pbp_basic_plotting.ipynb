{
 "cells": [
  {
   "cell_type": "markdown",
   "metadata": {
    "deletable": false,
    "editable": false
   },
   "source": [
    "# Python Entry Test¶\n",
    "\n",
    "## Part 4 of 4: Basic plotting\n",
    "\n",
    "## Instructions\n",
    "\n",
    "Below are 5 Exercises: python problems you need to solve, in order to pass this test. For each correct answer, you will be assigned points, with a maximum of 100 points in total. If you score 80 points or higher, you have passed the test. You cannot see your score immediately; your test will be graded as part of a batch job, later on.\n",
    "\n",
    "Note the following:\n",
    "1. You are asked to code in **Python3** (version 3), not Python2\n",
    "2. For some answers, you obtain a *skeleton*, to frame your answer. You are asked to complete it\n",
    "3. The answer you are expected to given starts where it says:\n",
    "```python\n",
    "    # YOUR CODE HERE\n",
    "    raise NotImplementedError()\n",
    "```\n",
    "   Start your answer by *removing these two lines*. Do not put your answer anywhere else than *just here, in this box*\n",
    "4. You may use as many lines for your answer as you see necessary\n",
    "5. In general, however, no more than 5 lines of code are needed\n",
    "6. Ignore all boxes that are completely empty; just focus on `# YOUR CODE HERE`"
   ]
  },
  {
   "cell_type": "markdown",
   "metadata": {
    "deletable": false,
    "editable": false
   },
   "source": [
    "# Begin of the Test\n",
    "\n",
    "#### Exercise 1: make a plot of a given function\n",
    "\n",
    "Given a function: $y = (x-5)^2 + 2$. \n",
    "\n",
    " 1. prepare the function coordinates: $(x, F(x))$ in two lists `X` and `Y` in the below code skeleton\n",
    " \n",
    " 2. plot the function as a red solid line (use: `plt.plot(..., ..., 'r-')`), using the below given code skeleton\n",
    " \n",
    " 3. plot a horizontal asymptote (line) $y = constant = y_{min}$ and a vertical symmetry line $x=constant$ as dashed blue lines. \n",
    " \n",
    "    For 3. do this:   \n",
    " \n",
    "    * Create lists `X_asymp` and `Y_asymp` and `X_symm` and `Y_symm` to contain the coordinates for the asymptote and the vertical symmetry line, resp.    \n",
    " \n",
    "    * to plot a straight line, we need at least 2 points (begin and end point). Compute or simply code in the below skeleton two points $(x_0, y_{min})$ and $(x_1, y_{min})$ for the horizontal asymptote. Append these two points to the lists: `X_asymp` and `Y_asymp`, resp. (remember we need separate lists for X and Y)   \n",
    " \n",
    "    * do the same for the symmetry line   \n",
    " \n",
    "    * then: plot each of them in the same way as the plotting in 2. To obtain a dashed blue line, use: `plt.plot(..., ..., 'b--')`"
   ]
  },
  {
   "cell_type": "code",
   "execution_count": null,
   "metadata": {
    "deletable": false,
    "nbgrader": {
     "cell_type": "code",
     "checksum": "85f9e4c756275edb1479935cb1953cfa",
     "grade": false,
     "grade_id": "q1",
     "locked": false,
     "schema_version": 3,
     "solution": true
    },
    "tags": []
   },
   "outputs": [],
   "source": [
    "%matplotlib inline\n",
    "\n",
    "# use pyplot ...\n",
    "import matplotlib.pyplot as plt\n",
    "\n",
    "# program your function to plot below ...\n",
    "def F(x):\n",
    "    # specify y=F(x) below ...\n",
    "    # like in: y = (x ...)**2 etc.\n",
    "    # YOUR CODE HERE\n",
    "    raise NotImplementedError()\n",
    "    return y\n",
    "\n",
    "# nr of points acros X-domain ...\n",
    "N = 10+1 # 1 extra for endpoint ...\n",
    "\n",
    "# empty lists to hold your function x and y coordinates ...\n",
    "X, Y = [], []\n",
    "\n",
    "# use this code to generate your data ...\n",
    "for x in range(N):\n",
    "    # append the next x to X ...\n",
    "    # YOUR CODE HERE\n",
    "    raise NotImplementedError()\n",
    "    # ... and the F(x) to Y ...\n",
    "    # YOUR CODE HERE\n",
    "    raise NotImplementedError()\n",
    "\n",
    "# plot the line using the prepared lists X and Y ...\n",
    "\n",
    "# plt.plot( list of x-coordinates, list of y-coordinates, 'r-')\n",
    "# YOUR CODE HERE\n",
    "raise NotImplementedError()\n",
    "\n",
    "# do something similar here, for the y_min line and line x=5 ...\n",
    "X_asymp, Y_asymp = [], []\n",
    "X_symm,  Y_symm  = [], []\n",
    "\n",
    "# APPEND COORDINATES needed to plot the\n",
    "# asymptote and the symmetry line BELOW\n",
    "# like so:\n",
    "#    x_0 = ...\n",
    "#    x_1 = ...\n",
    "#    X_asymp.append(x_0)\n",
    "#    X_asymp.append(x_1)\n",
    "#    ...\n",
    "# then issue a plot comand to plot the lines ...\n",
    "\n",
    "# YOUR CODE HERE\n",
    "raise NotImplementedError()\n",
    "\n",
    "# ----- do not change below -------\n",
    "plt.grid(True)\n",
    "plt.title('$F(x)=(x-5)^{2}+2$,   for $x \\in [0..10]$')\n",
    "plt.show()"
   ]
  },
  {
   "cell_type": "code",
   "execution_count": null,
   "metadata": {
    "deletable": false,
    "editable": false,
    "nbgrader": {
     "cell_type": "code",
     "checksum": "c8083423a348010c8a6360c65f26d708",
     "grade": true,
     "grade_id": "at11",
     "locked": true,
     "points": 5,
     "schema_version": 3,
     "solution": false
    },
    "tags": [
     "visualization"
    ]
   },
   "outputs": [],
   "source": []
  },
  {
   "cell_type": "code",
   "execution_count": null,
   "metadata": {
    "deletable": false,
    "editable": false,
    "nbgrader": {
     "cell_type": "code",
     "checksum": "10c40d73a9a3a88854fc48d9e6354496",
     "grade": true,
     "grade_id": "at12",
     "locked": true,
     "points": 5,
     "schema_version": 3,
     "solution": false
    },
    "tags": [
     "visualization"
    ]
   },
   "outputs": [],
   "source": []
  },
  {
   "cell_type": "code",
   "execution_count": null,
   "metadata": {
    "deletable": false,
    "editable": false,
    "nbgrader": {
     "cell_type": "code",
     "checksum": "a113f644d29a323c232d28d048fc7fc0",
     "grade": true,
     "grade_id": "at13",
     "locked": true,
     "points": 5,
     "schema_version": 3,
     "solution": false
    },
    "tags": [
     "visualization"
    ]
   },
   "outputs": [],
   "source": []
  },
  {
   "cell_type": "code",
   "execution_count": null,
   "metadata": {
    "deletable": false,
    "editable": false,
    "nbgrader": {
     "cell_type": "code",
     "checksum": "8dc4f1bee61956c6c36e3bc8ebe51ce6",
     "grade": true,
     "grade_id": "at14",
     "locked": true,
     "points": 5,
     "schema_version": 3,
     "solution": false
    },
    "tags": [
     "visualization"
    ]
   },
   "outputs": [],
   "source": []
  },
  {
   "cell_type": "code",
   "execution_count": null,
   "metadata": {
    "deletable": false,
    "editable": false,
    "nbgrader": {
     "cell_type": "code",
     "checksum": "d6aca9e4f2b29cb15ccb159d7f8b195e",
     "grade": true,
     "grade_id": "at15",
     "locked": true,
     "points": 0,
     "schema_version": 3,
     "solution": false
    },
    "tags": [
     "visualization"
    ]
   },
   "outputs": [],
   "source": []
  },
  {
   "cell_type": "markdown",
   "metadata": {
    "deletable": false,
    "editable": false
   },
   "source": [
    "#### Exercise 2: make a scatter plot of 40 randomly distributed points (x,y)∈[0,1)×[0,1)\n",
    "\n",
    "Finalize the code skeleton given below to produce the following plot:\n",
    "\n",
    "![expected result 2](./figures/expected_result2.png)\n",
    "\n",
    " 1. specify the domains\n",
    " 2. specify the correct number of point N to generate\n",
    " 3. generate N random point coordinates $(x,y)$ and append them to two lists `X` and `Y`\n",
    " 4. specify a blue small dot marker string\n",
    " 5. plot the points"
   ]
  },
  {
   "cell_type": "code",
   "execution_count": null,
   "metadata": {
    "deletable": false,
    "nbgrader": {
     "cell_type": "code",
     "checksum": "329c471e831b18edca1f390a5cb0488d",
     "grade": false,
     "grade_id": "q2",
     "locked": false,
     "schema_version": 3,
     "solution": true
    },
    "tags": []
   },
   "outputs": [],
   "source": [
    "%matplotlib inline\n",
    "\n",
    "# import random generator ...\n",
    "import random as rnd\n",
    "\n",
    "# define the x and y domain ...\n",
    "#XMIN, XMAX = ( , )\n",
    "#YMIN, YMAX = ( , )\n",
    "# YOUR CODE HERE\n",
    "raise NotImplementedError()\n",
    "\n",
    "# how many points to generate?\n",
    "# specify N below ...\n",
    "#N = \n",
    "# YOUR CODE HERE\n",
    "raise NotImplementedError()\n",
    "\n",
    "# create empty coordinates lists...\n",
    "X, Y = [], []\n",
    "\n",
    "# generate N random data point coordinates ...\n",
    "# and append them to X and Y ...\n",
    "for n in range(N):\n",
    "    # rnd.random() returns random float in [0,1)\n",
    "    # ... generate a random x coordinate and an y ...\n",
    "    \n",
    "    # YOUR CODE HERE\n",
    "    raise NotImplementedError()\n",
    "    \n",
    "    # ... add them to the list to plot ...\n",
    "    \n",
    "    # YOUR CODE HERE\n",
    "    raise NotImplementedError()\n",
    "\n",
    "# add the marker string to plot a blue dot ...\n",
    "#marker = \n",
    "# YOUR CODE HERE\n",
    "raise NotImplementedError()\n",
    "\n",
    "# uncomment the following line and fill in X, Y and marker ...\n",
    "# plt.plot( list of x-coordinates, list of y-coordinates, marker string)\n",
    "# YOUR CODE HERE\n",
    "raise NotImplementedError()\n",
    "\n",
    "# ----- do not change below -------\n",
    "plt.grid(True)\n",
    "title = 'scatterplot random points on [{:4.1f},{:4.1f}] x [{:4.1f},{:4.1f}] (N={:d})'. \\\n",
    "          format(XMIN,XMAX,YMIN,YMAX, N)\n",
    "plt.title(title)\n",
    "plt.show()   "
   ]
  },
  {
   "cell_type": "code",
   "execution_count": null,
   "metadata": {
    "deletable": false,
    "editable": false,
    "nbgrader": {
     "cell_type": "code",
     "checksum": "4de3a28498a9a49ce35358d72ef9c274",
     "grade": true,
     "grade_id": "at21",
     "locked": true,
     "points": 5,
     "schema_version": 3,
     "solution": false
    },
    "tags": [
     "visualization"
    ]
   },
   "outputs": [],
   "source": []
  },
  {
   "cell_type": "code",
   "execution_count": null,
   "metadata": {
    "deletable": false,
    "editable": false,
    "nbgrader": {
     "cell_type": "code",
     "checksum": "dfad58f835636bd51ec4b62f75336cd7",
     "grade": true,
     "grade_id": "at22",
     "locked": true,
     "points": 5,
     "schema_version": 3,
     "solution": false
    },
    "tags": [
     "visualization"
    ]
   },
   "outputs": [],
   "source": []
  },
  {
   "cell_type": "code",
   "execution_count": null,
   "metadata": {
    "deletable": false,
    "editable": false,
    "nbgrader": {
     "cell_type": "code",
     "checksum": "898e6dbd18a50d08f1e7638659b5b80a",
     "grade": true,
     "grade_id": "at24",
     "locked": true,
     "points": 5,
     "schema_version": 3,
     "solution": false
    },
    "tags": [
     "visualization"
    ]
   },
   "outputs": [],
   "source": []
  },
  {
   "cell_type": "code",
   "execution_count": null,
   "metadata": {
    "deletable": false,
    "editable": false,
    "nbgrader": {
     "cell_type": "code",
     "checksum": "ea94286d11ff56f42ca2a3aaae6a3cb6",
     "grade": true,
     "grade_id": "at23",
     "locked": true,
     "points": 5,
     "schema_version": 3,
     "solution": false
    },
    "tags": [
     "visualization"
    ]
   },
   "outputs": [],
   "source": []
  },
  {
   "cell_type": "markdown",
   "metadata": {
    "deletable": false,
    "editable": false
   },
   "source": [
    "#### Exercise 3: plot random points in a scatter plot and recolor points belonging to a given sub-domain\n",
    "\n",
    "Random points $(u,v)$ are randomly generated by a random generator on a unit domain $[0,1)$. You are to map and plot 100 random points so generated, on the wider target domain $[X_{min},X_{max}) \\times [Y_{min}, Y_{max})$. To accomplish this, we are going to define and program a *shift* and a *scaling*, with which we can *map* the unit domain on the target domain. See the below sketch.\n",
    "\n",
    " To map $(u,v) \\rightarrow (x,y)$ use:\n",
    "```python\n",
    "    (x,y)=(shift + scale*u, shift + scale*v)\n",
    "```\n",
    "in which:\n",
    "- `shift` is $O_d- O_r = -10$, and\n",
    "- `scale` is $X~range_d / range_r = 20$.\n",
    "\n",
    "<img width=\"380\" src=\"./figures/transform.png\">\n",
    "\n",
    "We are going to do the above pltting task step-by-step. And to help you, we provide you again with a code skeleton. \n",
    "\n",
    "Do this:\n",
    "\n",
    "1. implement the `shift` and `scale` as described above, in the below code skeleton\n",
    "\n",
    "2. implement the generation of unit random numbers `(u,v)`, and its mapping onto `(x,y)` using the `shift` and `scale` factors computed under 1. Add the so mapped points `(x,y)` to the lists `X` and `Y`\n",
    "\n",
    "3. plot points $(x,y)$ that are **in quadrant 1** (i.e, the points for which: $x > 0 \\wedge y > 0$) using **red square marker**, and points in the other quadrants (for which either $x \\leq 0 \\vee y \\leq 0$), with a **blue dot marker**. Do the plotting in the **left subplot** (the left part of the plot).\n",
    "\n",
    "Additional hints for 3: \n",
    "\n",
    "* for plotting a red square, you code in the below code skeleton: `marker = 'rs'`. For a blue dot, set: `marker = 'bo'`\n",
    "* to plot in the left subplot, you use the code: `ax[0].plot()` in the code skeleton\n",
    "* to have an impression of what is asked from you, see the expected plot given in the below figure\n",
    "\n",
    "4. in the right subplot, we are going to plot the same data, but with their markers *reversed*: the blue dot marker for quadrant 1 and the red square marker for every point not in quadrant 1. We could just change the markers, or leave the markers as is, and change the selection of points (the line: `p > x0 ...` in your code). Do the latter: update the selection of the points to be plotted **now** with a red square, the rest with a blue dot\n",
    "\n",
    "Additional hints for 4:\n",
    "\n",
    "* what you actually are asked to do, is to select the **logical complement** of the data points that you plotted with a red marker in 3. You **logically invert** the selection\n",
    "* now use `ax[1].plot()` to make your code plotting in the right subplot\n",
    "\n",
    "The expected result is shown below.\n",
    "\n",
    "![expected result](./figures/expected_result3.png)"
   ]
  },
  {
   "cell_type": "code",
   "execution_count": null,
   "metadata": {
    "deletable": false,
    "nbgrader": {
     "cell_type": "code",
     "checksum": "9579bfee809aba3162d92c33027f84d1",
     "grade": false,
     "grade_id": "q3",
     "locked": false,
     "schema_version": 3,
     "solution": true
    },
    "tags": []
   },
   "outputs": [],
   "source": [
    "%matplotlib inline\n",
    "import matplotlib.pyplot as plt\n",
    "\n",
    "import numpy\n",
    "\n",
    "\n",
    "# domain (equal for x and y)\n",
    "target_domain  = (-10,10)\n",
    "unit_domain    = (  0, 1)\n",
    "\n",
    "# indices into domain\n",
    "MIN, MAX =    0, 1\n",
    "\n",
    "N = 100\n",
    "\n",
    "# using the above explanation on `shift` and `scale`, program\n",
    "# below the computation of these two transform-factors, like so:\n",
    "#shift   = target_domain[...] - unit_domain[...]\n",
    "#range_d = target_domain[...] - target_domain[...]\n",
    "#range_r = unit_domain[...]   - unit_domain[...]\n",
    "#scale = ... / ...\n",
    "# YOUR CODE HERE\n",
    "raise NotImplementedError()\n",
    "\n",
    "X, Y = numpy.empty(N), numpy.empty(N)\n",
    "# below, you are going to use scale and shift to\n",
    "# compute X and Y coordinates of the generated points,\n",
    "# like so:\n",
    "#for j in range(N):\n",
    "#    u = numpy.random.random()\n",
    "#    v = numpy.random.random()\n",
    "#    X[j] = shift + scale*u\n",
    "#    Y[j] = shift + scale*v\n",
    "# YOUR CODE HERE\n",
    "raise NotImplementedError()\n",
    "\n",
    "NR_ROWS, NR_COLS, FIG_SIZE = 1, 2, (10,4)\n",
    "fig, ax = plt.subplots(NR_ROWS, NR_COLS, figsize=FIG_SIZE)\n",
    "fig.tight_layout(pad=2.0, w_pad=4.5, h_pad=0.0)\n",
    "\n",
    "# use: ax[0] to plot in the left subplot, ax[1] for the right subplot \n",
    "\n",
    "ax[0].set_xlim(target_domain)\n",
    "ax[0].set_ylim(target_domain)\n",
    "# we compute x0 and y0 as the central x and y in the target_domain\n",
    "# this is where we put the axis system ...\n",
    "x0 = y0 = ( target_domain[MIN] + target_domain[MAX]) / 2\n",
    "ax[0].plot([target_domain[MIN], target_domain[MAX]], [y0, y0], 'k--', linewidth=2.0)\n",
    "ax[0].plot([x0, x0], [target_domain[MIN], target_domain[MAX]], 'k--', linewidth=2.0)\n",
    "\n",
    "for p, q in zip(X,Y):\n",
    "    # with next p from X and q from Y ...\n",
    "    # ... test in which quadrant ...\n",
    "    # ... plot with the correct marker ...\n",
    "    # ... set the marker to:  marker = 'rs'   for a red square\n",
    "    # ....or:            to:  marker = 'bo'   for a blue dot\n",
    "\n",
    "    # YOUR CODE HERE\n",
    "    raise NotImplementedError()\n",
    "    \n",
    "ax[0].grid(axis='both', which='major')\n",
    "ax[0].set_title('{:d} samples, red: quadrant 1'.format(N))\n",
    "    \n",
    "# next, in the right subplot, plot the inverted data ...\n",
    "ax[1].set_xlim(target_domain)\n",
    "ax[1].set_ylim(target_domain)\n",
    "ax[1].plot([target_domain[MIN], target_domain[MAX]], [y0, y0], 'k--', linewidth=2.0)\n",
    "ax[1].plot([x0, x0], [target_domain[MIN], target_domain[MAX]], 'k--', linewidth=2.0)\n",
    "\n",
    "# now invert your selection of red squared points ...\n",
    "\n",
    "for p, q in zip(X,Y):\n",
    "    # YOUR CODE HERE\n",
    "    raise NotImplementedError()\n",
    "    \n",
    "ax[1].grid(axis='both', which='major')\n",
    "ax[1].set_title('{:d} samples, red: quadrant 2,3,4'.format(N))\n",
    "\n",
    "plt.show()"
   ]
  },
  {
   "cell_type": "code",
   "execution_count": null,
   "metadata": {
    "deletable": false,
    "editable": false,
    "nbgrader": {
     "cell_type": "code",
     "checksum": "5157fff354ed57d503c140daefe714d5",
     "grade": true,
     "grade_id": "at31",
     "locked": true,
     "points": 5,
     "schema_version": 3,
     "solution": false
    },
    "tags": [
     "visualization"
    ]
   },
   "outputs": [],
   "source": []
  },
  {
   "cell_type": "code",
   "execution_count": null,
   "metadata": {
    "deletable": false,
    "editable": false,
    "nbgrader": {
     "cell_type": "code",
     "checksum": "485812480d1146e71bbac6268636f11c",
     "grade": true,
     "grade_id": "at32",
     "locked": true,
     "points": 5,
     "schema_version": 3,
     "solution": false
    },
    "tags": [
     "visualization"
    ]
   },
   "outputs": [],
   "source": []
  },
  {
   "cell_type": "code",
   "execution_count": null,
   "metadata": {
    "deletable": false,
    "editable": false,
    "nbgrader": {
     "cell_type": "code",
     "checksum": "981e0d4542490688c9db3d36049bdc23",
     "grade": true,
     "grade_id": "at33",
     "locked": true,
     "points": 5,
     "schema_version": 3,
     "solution": false
    },
    "tags": [
     "visualization"
    ]
   },
   "outputs": [],
   "source": []
  },
  {
   "cell_type": "code",
   "execution_count": null,
   "metadata": {
    "deletable": false,
    "editable": false,
    "nbgrader": {
     "cell_type": "code",
     "checksum": "224d45c95f4675ab20a4d1baa2c98fee",
     "grade": true,
     "grade_id": "at34",
     "locked": true,
     "points": 5,
     "schema_version": 3,
     "solution": false
    },
    "tags": [
     "visualization"
    ]
   },
   "outputs": [],
   "source": []
  },
  {
   "cell_type": "markdown",
   "metadata": {
    "deletable": false,
    "editable": false
   },
   "source": [
    "#### Exercise 4: plot two orthogonal vectors and a circle, using a given code skeleton\n",
    "\n",
    "Given a vector $\\vec{v}=(4,2)$, starting from origin $O=(0,0)$ and heading to point $P=(4,2)$. We want to create a vector $\\vec{w}=(-v[1],v[0])$, such that $\\vec{w} \\perp \\vec{v}$. Also, we want to show that the length (the *norm*) $| \\vec{w} |~=~ | \\vec{v}|$. We achieve this by drawing a circle with radius $R=|\\vec{v}|$, showing that both $\\vec{v}$ and $\\vec{w}$ end exactly on this circle.\n",
    "\n",
    "Using the below code skeleton, your are asked to:\n",
    "1. implement `Orig = (0,0)`, `v = (4,2)`, and perpendicular `w` as defined above\n",
    "2. implement $L = |\\vec{v}| = \\sqrt{v_x^2 + v_y^2}$, the length of vector `v` which is equal to the distance of point `(4,2)` from the origin in this case\n",
    "3. run the program to plot the vectors implemented, and the circle with radius $L$\n",
    "\n",
    "The expected result is shown below.\n",
    "\n",
    "![expected result 4](./figures/expected_result4.png)\n"
   ]
  },
  {
   "cell_type": "code",
   "execution_count": null,
   "metadata": {
    "deletable": false,
    "nbgrader": {
     "cell_type": "code",
     "checksum": "e3032213ffd82cee89a449232b873052",
     "grade": false,
     "grade_id": "q4",
     "locked": false,
     "schema_version": 3,
     "solution": true
    },
    "tags": []
   },
   "outputs": [],
   "source": [
    "%matplotlib inline\n",
    "import math\n",
    "import matplotlib.pyplot as plt\n",
    "\n",
    "XMIN, XMAX = -10, +10\n",
    "YMIN, YMAX = -10, +10\n",
    "\n",
    "# instantiate: Orig, v, w below (each a 2-tuple (x,y)) ...\n",
    "# Orig is given below, as an example of what is epected from you ...\n",
    "# Orig = (0,0)   # origin (begin point) of the vectors v and w\n",
    "# v = ( , )      # destination (end point) of vector v\n",
    "# w = ( , )      # same, vector w, w perpendicular to v\n",
    "# YOUR CODE HERE\n",
    "raise NotImplementedError()\n",
    "\n",
    "# we need these for plotting ...\n",
    "v_x, v_y  = v[0]-Orig[0], v[1]-Orig[1]\n",
    "w_x, w_y  = w[0]-Orig[0], w[1]-Orig[1]\n",
    "\n",
    "# compute the length L using the definition given ...\n",
    "#L = math.sqrt( ... )\n",
    "# YOUR CODE HERE\n",
    "raise NotImplementedError()\n",
    "\n",
    "# now w're good to plot ... no changes needed below.\n",
    "\n",
    "# arrow parameters ...\n",
    "HD_WIDTH  = .5     # head width\n",
    "HD_LNGTH  = .5     # head length\n",
    "FC_COLOR  = 'red'  # face color\n",
    "EC_COLOR  = 'red'  # edge color\n",
    "\n",
    "#cricle parameters ...\n",
    "CL_FILL   = False  # do not fill circle\n",
    "CL_LCOLOR = 'blue'\n",
    "CL_LSTYLE = '-.'\n",
    "CL_LWIDTH = 2\n",
    "\n",
    "# no need to change anything below ...\n",
    "ax = plt.axes()\n",
    "ax.set_xlim(XMIN, XMAX)\n",
    "ax.set_ylim(YMIN, YMAX)\n",
    "\n",
    "# plot vector v (just fill in first line of command; keep rest)\n",
    "ax.arrow(x=Orig[0], y=Orig[1], dx=v_x, dy=v_y, \\\n",
    "    head_width=HD_WIDTH, head_length=HD_LNGTH, \\\n",
    "    length_includes_head=True, \\\n",
    "    fc=FC_COLOR, ec=EC_COLOR)\n",
    "ax.text(2, 1.2, r'$\\vec{v}$')\n",
    "\n",
    "# plot vector w (just fill in first line of command; keep rest)\n",
    "ax.arrow(x=Orig[0], y=Orig[1], dx=w_x, dy=w_y, \\\n",
    "    head_width=HD_WIDTH, head_length=HD_LNGTH, \\\n",
    "    length_includes_head=True, \\\n",
    "    fc=FC_COLOR, ec=EC_COLOR)\n",
    "ax.text(-.8, 2, r'$\\vec{w}$')\n",
    "\n",
    "# label the origin ...\n",
    "ax.text(-0.9, -0.5, r'$O=(0,0)$')\n",
    "\n",
    "# plot radius ...\n",
    "ax.arrow(x=Orig[0], y=Orig[1], dx=L, dy=0, \\\n",
    "    head_width=HD_WIDTH/2, head_length=HD_LNGTH/2, \\\n",
    "    length_includes_head=True, fc='k', ec='k')\n",
    "ax.text(2.2, .1, 'R={:4.2f}'.format(L))\n",
    "\n",
    "crcle = plt.Circle(Orig, radius=L, \\\n",
    "    fill=CL_FILL, color=CL_LCOLOR, \\\n",
    "    linestyle=CL_LSTYLE, linewidth=CL_LWIDTH)\n",
    "ax = plt.gca()\n",
    "ax.add_patch(crcle)\n",
    "ax.axis('scaled')\n",
    "\n",
    "plt.grid(True)\n",
    "plt.show()"
   ]
  },
  {
   "cell_type": "code",
   "execution_count": null,
   "metadata": {
    "deletable": false,
    "editable": false,
    "nbgrader": {
     "cell_type": "code",
     "checksum": "0eaaf4f116d8fe0d783ffcd13d740d89",
     "grade": true,
     "grade_id": "at41",
     "locked": true,
     "points": 10,
     "schema_version": 3,
     "solution": false
    },
    "tags": [
     "visualization"
    ]
   },
   "outputs": [],
   "source": []
  },
  {
   "cell_type": "code",
   "execution_count": null,
   "metadata": {
    "deletable": false,
    "editable": false,
    "nbgrader": {
     "cell_type": "code",
     "checksum": "1b7a8ae7e51fca003c1d54868b77048e",
     "grade": true,
     "grade_id": "at42",
     "locked": true,
     "points": 10,
     "schema_version": 3,
     "solution": false
    },
    "tags": [
     "visualization"
    ]
   },
   "outputs": [],
   "source": []
  },
  {
   "cell_type": "markdown",
   "metadata": {
    "deletable": false,
    "editable": false
   },
   "source": [
    "#### Exercise 5: prepare and plot a simple histogram\n",
    "\n",
    "Data on ball bearing rolling friction coefficients $C_r$ are read from a test data file `Bearings.dat`. The file contains 109 bearing data records: `id, cr`, where `id` is the bearing id, and `cr` is its rolling friction coefficient. The below code skeleton reads in these data already, you are to program the data analysis.\n",
    "\n",
    "More in detail, you are asked to analyze this $C_r$ value, and identify the bearings (by their id's) with the minimum, and maximum values for $C_r$. Also, compute the average value, using the below skeleton. Finally, plot a histogram with bars for each of the $C_r$ classes (called: bins), and a line of the average value. The expected diagram is shown below.\n",
    "\n",
    "![expected histogram](./figures/expected_result5.png)\n",
    "\n",
    "\n",
    "1. in function `printAnalysis()`, implement the statistical analysis;\n",
    "  * check out all min, max and avg initializations first\n",
    "  * using a `for` .. `in` loop:\n",
    "     - find the min, max `cr` (record their `id`)\n",
    "     - sum up all `cr` values to compute avg afterwards\n",
    "  * once the loop is done, divide sum by number of bearings to find average\n",
    "2. run the program, check the printed analysis and the plot and verify the results. Expected results;\n",
    "```\n",
    "    Ball bearing analysis (N=109)\n",
    "    Count  : 109 data values\n",
    "    Cr min : 2.1000000000e-04 [id 25]\n",
    "    Cr max : 9.8100000000e-03 [id 31]\n",
    "    Cr avg : 4.6193577982e-03\n",
    "```\n",
    "3. plot a vertical dashed line for `cr` equal to the average value, much like the plotting of the minimum `cr`. To that end, in `plotStats()`, prepare `X` and `Y` with two coordinate pairs for the vertical line. The minimum `cr` value is contained in `mma` and for `Y`, just take frequencies 0 to 20.  Implement and rerun\n"
   ]
  },
  {
   "cell_type": "code",
   "execution_count": null,
   "metadata": {
    "deletable": false,
    "nbgrader": {
     "cell_type": "code",
     "checksum": "a1386db81b21749ffc5e68d7d3ae43df",
     "grade": false,
     "grade_id": "q5",
     "locked": false,
     "schema_version": 3,
     "solution": true
    },
    "tags": []
   },
   "outputs": [],
   "source": [
    "%matplotlib inline\n",
    "\n",
    "import matplotlib.pyplot as plt\n",
    "\n",
    "# import other modules we need ...\n",
    "import numpy as np\n",
    "import scipy.stats as st\n",
    "\n",
    "\n",
    "def loadBearingDataFromFile(flname,delim=','):\n",
    "    ''' load bearing data from 'flname'; return N, data'''\n",
    "    id, cr = np.loadtxt(flname, delimiter=delim, comments='#', \\\n",
    "                        usecols=(0,1), unpack=True)\n",
    "    N = len(id)\n",
    "    # print('{:d} data records gelezen van file: {:s}'.format(N,flname))\n",
    "    data = np.empty(N*2, dtype=float).reshape(N,2)\n",
    "    data[...,0] = id\n",
    "    data[...,1] = cr\n",
    "    return data\n",
    "\n",
    "def printAnalysis(data,domain):\n",
    "    '''analyze data and return min,max,avg'''\n",
    "    # indexes data record layout ...\n",
    "    ID,CR = (0,1)\n",
    "    CRMIN,CRMAX  = max(domain), min(domain) #(domain[1],domain[0])\n",
    "    \n",
    "    # nr data items in data array ?\n",
    "    N = len(data)\n",
    "    \n",
    "    # init running statistics ...\n",
    "    crmin, crmax, crsum =(CRMIN,CRMAX,0.0)\n",
    "    # keep track of items ...\n",
    "    idmin, idmax = (None,None)\n",
    "    \n",
    "    # implement the statistical analysis below;\n",
    "    # check out the above initializations first\n",
    "    #\n",
    "    # using a for .. in loop over data:\n",
    "    # - find min CR-value and store in crmin (register id in idmin)\n",
    "    # - find max CR-value and store in crmax (register id in idmax)\n",
    "    # - sum up all CR in crsum\n",
    "    # once the loop has terminated, divide crsum by nr of bearings \n",
    "    # to find cravg\n",
    "    \n",
    "    # YOUR CODE HERE\n",
    "    raise NotImplementedError()\n",
    "    \n",
    "    # statistical analysis ...\n",
    "    hdr='Ball bearing analysis (N={:d})'.format(N)   \n",
    "    print(hdr)\n",
    "    print('Count  : {:d} data values'.    format(N))\n",
    "    print('Cr min : {:15.10e} [id {:d}]'. format(crmin,int(idmin)))\n",
    "    print('Cr max : {:15.10e} [id {:d}]'. format(crmax,int(idmax)))\n",
    "    print('Cr avg : {:15.10e}'.           format(cravg))\n",
    "    # return main stats ...\n",
    "    return (crmin,crmax,cravg)\n",
    "\n",
    "def plotStats(data,domain,mma):\n",
    "    '''plot data and results in a histogram'''\n",
    "    \n",
    "    # define plotting constants constant ...\n",
    "    # ... #classes (bins) in histo\n",
    "    NRCLASSES    = 10\n",
    "    # ... domain interval sizes (width of the bins)\n",
    "    LOW,HGH,STEP = (domain[0],domain[1],(domain[1]-domain[0])/NRCLASSES)\n",
    "    # ... indexes in min,max,avg typle\n",
    "    MIN,MAX,AVG = (0,1,2)\n",
    "    \n",
    "    # skeleton for histogram ....\n",
    "    plt.subplots(1, figsize=(8,4))\n",
    "    axis = plt.subplot(111)\n",
    "    \n",
    "    axis.set_title('Histogram $C_r$ (N={:d})'.format(len(data)))\n",
    "    axis.set_xlabel('$C_r$')\n",
    "    axis.set_ylabel('Frequency')\n",
    "    axis.set_xticks(np.arange(LOW, HGH+STEP, STEP ))\n",
    "    axis.set_yticks([0,5,10,15,20])\n",
    "    \n",
    "    # ... now start plotting the histogram iself ...\n",
    "    axis.hist(data[...,1], \n",
    "              bins=np.arange(LOW, HGH+STEP, STEP), rwidth=.72, \\\n",
    "              color='orange',histtype='bar')\n",
    "    \n",
    "    # ...  vertical line for min value found during analyse ...\n",
    "    axis.plot([mma[MIN],mma[MIN]],[0, 5], \\\n",
    "              color='red',linestyle='--',linewidth=3.0,\\\n",
    "              label='minimum $C_r$')\n",
    "    \n",
    "    # in similar vein, plot vertical line for avg below:\n",
    "    # 1. use the correct X_avg = [x=avg,x=avg]  , as calculated\n",
    "    # 2. use Y_avg=[0,20] to plot your x=avg line ...\n",
    "    # X_avg = [ , ]\n",
    "    # Y_avg = [ , ]\n",
    "    # YOUR CODE HERE\n",
    "    raise NotImplementedError()\n",
    "    \n",
    "    axis.plot(X_avg, Y_avg, \\\n",
    "              color='brown',linestyle=':',linewidth=3.0,\\\n",
    "              label='average $C_r$')\n",
    "    axis.grid(which='major',axis='both',alpha=.75)\n",
    "    # ... best position for legend in plot ...\n",
    "    plt.legend(loc='best')\n",
    "    \n",
    "    return X_avg, Y_avg\n",
    "\n",
    "# -----------------------------------------------------------\n",
    "\n",
    "COMMA       = ','\n",
    "flname      = './resources/Bearings.dat'\n",
    "# values of Cr belong to this OPEN domain\n",
    "CRLOW,CRHGH = (0.000, 0.010)    \n",
    "DOMAIN      = (CRLOW,CRHGH) # 2-tuple domain boundaries \n",
    "\n",
    "# ... load data from file ...\n",
    "data = loadBearingDataFromFile(flname,COMMA)\n",
    "# ... analyze. print results ...\n",
    "mma = printAnalysis(data,DOMAIN)\n",
    "# ... plot histogram ...\n",
    "X_avg, Y_avg = plotStats(data,DOMAIN,mma)\n"
   ]
  },
  {
   "cell_type": "code",
   "execution_count": null,
   "metadata": {
    "deletable": false,
    "editable": false,
    "nbgrader": {
     "cell_type": "code",
     "checksum": "faa57767f3849619607d5d0d774d9515",
     "grade": true,
     "grade_id": "at51",
     "locked": true,
     "points": 10,
     "schema_version": 3,
     "solution": false
    },
    "tags": [
     "visualization"
    ]
   },
   "outputs": [],
   "source": []
  },
  {
   "cell_type": "code",
   "execution_count": null,
   "metadata": {
    "deletable": false,
    "editable": false,
    "nbgrader": {
     "cell_type": "code",
     "checksum": "f041a9733b82c68c15d14d4ce751314c",
     "grade": true,
     "grade_id": "at52",
     "locked": true,
     "points": 5,
     "schema_version": 3,
     "solution": false
    },
    "tags": [
     "visualization"
    ]
   },
   "outputs": [],
   "source": []
  },
  {
   "cell_type": "code",
   "execution_count": null,
   "metadata": {
    "deletable": false,
    "editable": false,
    "nbgrader": {
     "cell_type": "code",
     "checksum": "338359f87d160b1f9d43afe688a16b36",
     "grade": true,
     "grade_id": "at53",
     "locked": true,
     "points": 5,
     "schema_version": 3,
     "solution": false
    },
    "tags": [
     "visualization"
    ]
   },
   "outputs": [],
   "source": []
  },
  {
   "cell_type": "markdown",
   "metadata": {
    "deletable": false,
    "editable": false
   },
   "source": [
    "## End of the Test"
   ]
  }
 ],
 "metadata": {
  "kernelspec": {
   "display_name": "Python 3",
   "language": "python",
   "name": "python3"
  },
  "language_info": {
   "codemirror_mode": {
    "name": "ipython",
    "version": 3
   },
   "file_extension": ".py",
   "mimetype": "text/x-python",
   "name": "python",
   "nbconvert_exporter": "python",
   "pygments_lexer": "ipython3",
   "version": "3.8.10"
  },
  "latex_envs": {
   "LaTeX_envs_menu_present": true,
   "autoclose": false,
   "autocomplete": true,
   "bibliofile": "biblio.bib",
   "cite_by": "apalike",
   "current_citInitial": 1,
   "eqLabelWithNumbers": true,
   "eqNumInitial": 1,
   "hotkeys": {
    "equation": "Ctrl-E",
    "itemize": "Ctrl-I"
   },
   "labels_anchors": false,
   "latex_user_defs": false,
   "report_style_numbering": false,
   "user_envs_cfg": false
  }
 },
 "nbformat": 4,
 "nbformat_minor": 2
}
