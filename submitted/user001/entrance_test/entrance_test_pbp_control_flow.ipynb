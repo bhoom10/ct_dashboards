{
 "cells": [
  {
   "cell_type": "markdown",
   "metadata": {
    "deletable": false,
    "editable": false
   },
   "source": [
    "# Python Entry Test\n",
    "\n",
    "## Part 2 of 4: Control flow (for loops, while loops and if-then-else statements)\n",
    "\n",
    "## Instructions\n",
    "\n",
    "Below are 5 Exercises: python problems you need to solve, in order to pass this test. For each correct answer, you will be assigned points, with a maximum of 100 points in total. If you score 80 points or higher, you have passed the test. You cannot see your score immediately; your test will be graded as part of a batch job, later on.\n",
    "\n",
    "Note the following:\n",
    "1. You are asked to code in **Python3** (version 3), not Python2\n",
    "2. For some answers, you obtain a *skeleton*, to frame your answer. You are asked to complete it\n",
    "3. The answer you are expected to given starts where it says:\n",
    "```python\n",
    "    # YOUR CODE HERE\n",
    "    raise NotImplementedError()\n",
    "```\n",
    "   Start your answer by *removing these two lines*. Do not put your answer anywhere else than *just here, in this box*\n",
    "4. You may use as many lines for your answer as you see necessary\n",
    "5. In general, however, no more than 5 lines of code are needed\n",
    "6. Ignore all boxes that are completely empty; just focus on `# YOUR CODE HERE`"
   ]
  },
  {
   "cell_type": "markdown",
   "metadata": {
    "deletable": false,
    "editable": false
   },
   "source": [
    "## Begin of the Test\n",
    "\n",
    "#### Exercise 1: complete the following function, that is to print all integer numbers $m \\in [0..10]$, using a for loop. The expected output is: \n",
    "```\n",
    "integer number: 0\n",
    "integer number: 1\n",
    "integer number: 2\n",
    "...\n",
    "integer number: 10\n",
    "```\n",
    "\n",
    "11 lines in total, no tabs before, just lowercase, and a single space after the colon `:`"
   ]
  },
  {
   "cell_type": "code",
   "execution_count": null,
   "metadata": {
    "deletable": false,
    "nbgrader": {
     "cell_type": "code",
     "checksum": "59c109d059e31a972a965412859cd092",
     "grade": false,
     "grade_id": "q1",
     "locked": false,
     "schema_version": 3,
     "solution": true
    },
    "tags": [
     "loops"
    ]
   },
   "outputs": [],
   "source": [
    "def print_numbers_in_for_loop(first, last):\n",
    "    # for all integer numbers m in [first..last] ...\n",
    "    # YOUR CODE HERE\n",
    "    raise NotImplementedError()\n",
    "\n",
    "print_numbers_in_for_loop(0,10)"
   ]
  },
  {
   "cell_type": "code",
   "execution_count": null,
   "metadata": {
    "deletable": false,
    "editable": false,
    "nbgrader": {
     "cell_type": "code",
     "checksum": "c8083423a348010c8a6360c65f26d708",
     "grade": true,
     "grade_id": "at1",
     "locked": true,
     "points": 15,
     "schema_version": 3,
     "solution": false
    },
    "tags": [
     "loops"
    ]
   },
   "outputs": [],
   "source": []
  },
  {
   "cell_type": "markdown",
   "metadata": {
    "deletable": false,
    "editable": false
   },
   "source": [
    "#### Exercise 2: given a sorted list `my_list = [0,1,2,3,4,5,6,7,8,9,10]`. Also given: 4 initially empty lists `list_1, list_2, list_3, list_4` and 4 half-open intervals:\n",
    "\n",
    "\\begin{enumerate}\n",
    "\\item \\hspace{1.0cm} $I_1 = [0..2)$\n",
    "\n",
    "\\item \\hspace{1.0cm} $I_2 = [2..5)$   \n",
    "\n",
    "\\item \\hspace{1.0cm} $I_3 = [5..8)$   \n",
    "\n",
    "\\item \\hspace{1.0cm} $I_4 = [8..11)$   \n",
    "\\end{enumerate}\n",
    "\n",
    "Copy each of the integer numbers in `my_list` belonging to interval $I_k$ to `list_k`, using `if-elif-else` statements. To copy a number `m` to `list_k` use: `list_k.append(m)`."
   ]
  },
  {
   "cell_type": "code",
   "execution_count": null,
   "metadata": {
    "deletable": false,
    "nbgrader": {
     "cell_type": "code",
     "checksum": "1e020efcb6d9f6939f7def0499c25d2a",
     "grade": false,
     "grade_id": "q2",
     "locked": false,
     "schema_version": 3,
     "solution": true
    },
    "tags": []
   },
   "outputs": [],
   "source": [
    "my_list = [0,1,2,3,4,5,6,7,8,9,10]\n",
    "list_1, list_2, list_3, list_4 = [], [], [], []\n",
    "\n",
    "# sub-optimal but most likely solution ...\n",
    "for m in my_list:\n",
    "    # put each m in the correct list ...\n",
    "    # YOUR CODE HERE\n",
    "    raise NotImplementedError()\n",
    "    \n",
    "# print all lists...\n",
    "for k, lst in enumerate([list_1, list_2, list_3, list_4]):\n",
    "    print('list {:d}: {:s}'.format(k+1, str(lst)))"
   ]
  },
  {
   "cell_type": "code",
   "execution_count": null,
   "metadata": {
    "deletable": false,
    "editable": false,
    "nbgrader": {
     "cell_type": "code",
     "checksum": "a48b243e83c3ad2bb7aa085cdf0194ab",
     "grade": true,
     "grade_id": "at21",
     "locked": true,
     "points": 2,
     "schema_version": 3,
     "solution": false
    },
    "tags": [
     "conditionals",
     "loops"
    ]
   },
   "outputs": [],
   "source": []
  },
  {
   "cell_type": "code",
   "execution_count": null,
   "metadata": {
    "deletable": false,
    "editable": false,
    "nbgrader": {
     "cell_type": "code",
     "checksum": "f519fd3d74565fa537fcebfbc8a59090",
     "grade": true,
     "grade_id": "at22",
     "locked": true,
     "points": 3,
     "schema_version": 3,
     "solution": false
    },
    "tags": [
     "loops",
     "conditionals"
    ]
   },
   "outputs": [],
   "source": []
  },
  {
   "cell_type": "code",
   "execution_count": null,
   "metadata": {
    "deletable": false,
    "editable": false,
    "nbgrader": {
     "cell_type": "code",
     "checksum": "de6964582e053c6bfee2a1fe9e8bb151",
     "grade": true,
     "grade_id": "at23",
     "locked": true,
     "points": 2,
     "schema_version": 3,
     "solution": false
    },
    "tags": [
     "conditionals",
     "loops"
    ]
   },
   "outputs": [],
   "source": []
  },
  {
   "cell_type": "code",
   "execution_count": null,
   "metadata": {
    "deletable": false,
    "editable": false,
    "nbgrader": {
     "cell_type": "code",
     "checksum": "26ad0e95678e202f5f600e359a77409f",
     "grade": true,
     "grade_id": "at24",
     "locked": true,
     "points": 3,
     "schema_version": 3,
     "solution": false
    },
    "tags": [
     "conditionals",
     "loops"
    ]
   },
   "outputs": [],
   "source": []
  },
  {
   "cell_type": "code",
   "execution_count": null,
   "metadata": {
    "deletable": false,
    "editable": false,
    "nbgrader": {
     "cell_type": "code",
     "checksum": "adf15beda38d621769faa9a81a30a5ef",
     "grade": true,
     "grade_id": "at25",
     "locked": true,
     "points": 2,
     "schema_version": 3,
     "solution": false
    },
    "tags": [
     "conditionals",
     "loops"
    ]
   },
   "outputs": [],
   "source": []
  },
  {
   "cell_type": "code",
   "execution_count": null,
   "metadata": {
    "deletable": false,
    "editable": false,
    "nbgrader": {
     "cell_type": "code",
     "checksum": "7b4b2cede69c1e23b186aedcecda2723",
     "grade": true,
     "grade_id": "at26",
     "locked": true,
     "points": 3,
     "schema_version": 3,
     "solution": false
    },
    "tags": [
     "conditionals",
     "loops"
    ]
   },
   "outputs": [],
   "source": []
  },
  {
   "cell_type": "code",
   "execution_count": null,
   "metadata": {
    "deletable": false,
    "editable": false,
    "nbgrader": {
     "cell_type": "code",
     "checksum": "f50769b3cd16c7e71c4334f646d56267",
     "grade": true,
     "grade_id": "at27",
     "locked": true,
     "points": 2,
     "schema_version": 3,
     "solution": false
    },
    "tags": [
     "conditionals",
     "loops"
    ]
   },
   "outputs": [],
   "source": []
  },
  {
   "cell_type": "code",
   "execution_count": null,
   "metadata": {
    "deletable": false,
    "editable": false,
    "nbgrader": {
     "cell_type": "code",
     "checksum": "fbf7e5e7a6544ea2e18e25af62b48ce4",
     "grade": true,
     "grade_id": "at28",
     "locked": true,
     "points": 3,
     "schema_version": 3,
     "solution": false
    },
    "tags": [
     "conditionals",
     "loops"
    ]
   },
   "outputs": [],
   "source": []
  },
  {
   "cell_type": "markdown",
   "metadata": {
    "deletable": false,
    "editable": false
   },
   "source": [
    "#### Exercise 3\n",
    "Let $P > 0$ be an arbitrary big number. Recall that for a big enough $n$, we have that $P^{\\left( \\frac{1}{2} \\right) ^n} \\approx 1$. \n",
    "\n",
    "Repeatedly take the square root of $P$ until:\n",
    "\n",
    "$|~P-1~| \\leq \\epsilon$\n",
    "\n",
    "Here, $|P-1|$ denotes the absolute value of $P-1$. Use $\\epsilon = 1.0E-06$. \n",
    "\n",
    "Complete the below skeleton."
   ]
  },
  {
   "cell_type": "code",
   "execution_count": null,
   "metadata": {
    "deletable": false,
    "nbgrader": {
     "cell_type": "code",
     "checksum": "f2966b8d6db57ae1c29b8e29c953c552",
     "grade": false,
     "grade_id": "q3",
     "locked": false,
     "schema_version": 3,
     "solution": true
    },
    "tags": [
     "loops"
    ]
   },
   "outputs": [],
   "source": [
    "import math\n",
    "\n",
    "bigNum = 879857982742398758947958728934798758934\n",
    "\n",
    "EPS = 1.0e-06\n",
    "number = bigNum\n",
    "\n",
    "n_root = 0\n",
    "# while number more than EPS away from 1.0 do ...\n",
    "# YOUR CODE HERE\n",
    "raise NotImplementedError()\n",
    "    number = math.sqrt(number)\n",
    "    n_root += 1\n",
    "    if n_root >= 50:\n",
    "        break\n",
    "\n",
    "    \n",
    "print('the {:d}-th root of {:d} = 1.000000 +/- {:8.6e}'. format(n_root, bigNum, EPS))"
   ]
  },
  {
   "cell_type": "code",
   "execution_count": null,
   "metadata": {
    "deletable": false,
    "editable": false,
    "nbgrader": {
     "cell_type": "code",
     "checksum": "1ce746a91d1b820b40008ef3cb4eb967",
     "grade": true,
     "grade_id": "at31",
     "locked": true,
     "points": 4,
     "schema_version": 3,
     "solution": false
    },
    "tags": [
     "loops"
    ]
   },
   "outputs": [],
   "source": []
  },
  {
   "cell_type": "code",
   "execution_count": null,
   "metadata": {
    "deletable": false,
    "editable": false,
    "nbgrader": {
     "cell_type": "code",
     "checksum": "72f3fc88c185769ce827f8f8e93e0981",
     "grade": true,
     "grade_id": "at32",
     "locked": true,
     "points": 4,
     "schema_version": 3,
     "solution": false
    },
    "tags": [
     "loops"
    ]
   },
   "outputs": [],
   "source": []
  },
  {
   "cell_type": "code",
   "execution_count": null,
   "metadata": {
    "deletable": false,
    "editable": false,
    "nbgrader": {
     "cell_type": "code",
     "checksum": "f1db3dd63073ea6406506a5132098b35",
     "grade": true,
     "grade_id": "at33",
     "locked": true,
     "points": 4,
     "schema_version": 3,
     "solution": false
    },
    "tags": [
     "loops"
    ]
   },
   "outputs": [],
   "source": []
  },
  {
   "cell_type": "code",
   "execution_count": null,
   "metadata": {
    "deletable": false,
    "editable": false,
    "nbgrader": {
     "cell_type": "code",
     "checksum": "58ef3e19453d6f3dca556ee0642acee2",
     "grade": true,
     "grade_id": "at34",
     "locked": true,
     "points": 4,
     "schema_version": 3,
     "solution": false
    },
    "tags": [
     "loops"
    ]
   },
   "outputs": [],
   "source": []
  },
  {
   "cell_type": "code",
   "execution_count": null,
   "metadata": {
    "deletable": false,
    "editable": false,
    "nbgrader": {
     "cell_type": "code",
     "checksum": "131ab38e9506dd7e7765271d86a5c648",
     "grade": true,
     "grade_id": "at35",
     "locked": true,
     "points": 4,
     "schema_version": 3,
     "solution": false
    },
    "tags": [
     "loops"
    ]
   },
   "outputs": [],
   "source": []
  },
  {
   "cell_type": "markdown",
   "metadata": {
    "deletable": false,
    "editable": false
   },
   "source": [
    "#### Exercise 4: let `my_list` be a list of items. Remove items from that list in a while loop, one-by-one, until you find that the list is empty. Print how many items the list apparently had. Do not use function `len()`; use  `item = my_list.pop()` to remove an item from the list, and increment the item count. Avoid popping from an empty list."
   ]
  },
  {
   "cell_type": "code",
   "execution_count": null,
   "metadata": {
    "deletable": false,
    "nbgrader": {
     "cell_type": "code",
     "checksum": "97ff117fadf514e038e13844f93e62b0",
     "grade": false,
     "grade_id": "q4",
     "locked": false,
     "schema_version": 3,
     "solution": true
    },
    "tags": []
   },
   "outputs": [],
   "source": [
    "my_list = ['a', 1, 5, '6', (3, 5), 13, 11, 'Z', '!', 5, 2, 4, 9, 6, 'y']\n",
    "\n",
    "item_count = 0\n",
    "# while my_list is not empty do ...\n",
    "# YOUR CODE HERE\n",
    "raise NotImplementedError()\n",
    "    item = my_list.pop()\n",
    "    item_count += 1\n",
    "    if item_count >= 50:\n",
    "        break\n",
    "\n",
    "print('my_list contained {:d} items'.format(item_count))"
   ]
  },
  {
   "cell_type": "code",
   "execution_count": null,
   "metadata": {
    "deletable": false,
    "editable": false,
    "nbgrader": {
     "cell_type": "code",
     "checksum": "1586e61cb3b6df9cdc95de25a1e4e58d",
     "grade": true,
     "grade_id": "at41",
     "locked": true,
     "points": 5,
     "schema_version": 3,
     "solution": false
    },
    "tags": [
     "loops",
     "conditionals"
    ]
   },
   "outputs": [],
   "source": []
  },
  {
   "cell_type": "code",
   "execution_count": null,
   "metadata": {
    "deletable": false,
    "editable": false,
    "nbgrader": {
     "cell_type": "code",
     "checksum": "1b7a8ae7e51fca003c1d54868b77048e",
     "grade": true,
     "grade_id": "at42",
     "locked": true,
     "points": 10,
     "schema_version": 3,
     "solution": false
    },
    "tags": [
     "conditionals"
    ]
   },
   "outputs": [],
   "source": []
  },
  {
   "cell_type": "code",
   "execution_count": null,
   "metadata": {
    "deletable": false,
    "editable": false,
    "nbgrader": {
     "cell_type": "code",
     "checksum": "3159ef2df21597a22de85215faca0ca8",
     "grade": true,
     "grade_id": "at43",
     "locked": true,
     "points": 5,
     "schema_version": 3,
     "solution": false
    },
    "tags": [
     "loops"
    ]
   },
   "outputs": [],
   "source": []
  },
  {
   "cell_type": "markdown",
   "metadata": {
    "deletable": false,
    "editable": false
   },
   "source": [
    "#### Exercise 5: Given a list `points` of 10 points $(x,y)$ in the plane. We select all points from `points` lieing in the first quadrant, i.e., above the $X$-axis ( line $y=0$ ) and right of the $Y$-axis ( line $x=0$ ) and collect them in a list `Q1`; the code skeleton below shows this. You are asked to select all other points (i.e., points lieing in quadrant two, three and four) by adding a second for-loop, with inverted  selection criteria, and collect these points in a single second list `Q234`. Print the list `Q234` as a string."
   ]
  },
  {
   "cell_type": "code",
   "execution_count": null,
   "metadata": {
    "deletable": false,
    "nbgrader": {
     "cell_type": "code",
     "checksum": "f5144ce6cd68d83dab3a012ddaa5c61e",
     "grade": false,
     "grade_id": "q5",
     "locked": false,
     "schema_version": 3,
     "solution": true
    },
    "tags": []
   },
   "outputs": [],
   "source": [
    "X0, Y0 = 0.0, 0.0\n",
    "\n",
    "points = [(1,3), (-1,-2), (1,-1), (-2,0), (3,-1), (-4,1), (1,2), (-1,-3), (2,3), (-4,-1)]\n",
    "\n",
    "Q1 = []\n",
    "# make a for-loop to find points in quadrant 1 ...\n",
    "for p in points:\n",
    "    if p[0] > X0 and p[1] > Y0:\n",
    "        Q1.append(p)\n",
    "    \n",
    "print('{:d} points in Q1  : {:s}'.format(len(Q1), str(Q1)))\n",
    "\n",
    "Q234 = []\n",
    "# now make a 2nd for-loop and invert the selection to find points in quadrant 2 to 4 ...\n",
    "for p in points:\n",
    "    # YOUR CODE HERE\n",
    "    raise NotImplementedError()\n",
    "    \n",
    "# print the Q234 list ...\n",
    "# YOUR CODE HERE\n",
    "raise NotImplementedError()"
   ]
  },
  {
   "cell_type": "code",
   "execution_count": null,
   "metadata": {
    "deletable": false,
    "editable": false,
    "nbgrader": {
     "cell_type": "code",
     "checksum": "a8f657d3b0818ed838a388c04847726f",
     "grade": true,
     "grade_id": "at51",
     "locked": true,
     "points": 5,
     "schema_version": 3,
     "solution": false
    },
    "tags": [
     "loops",
     "conditionals"
    ]
   },
   "outputs": [],
   "source": []
  },
  {
   "cell_type": "code",
   "execution_count": null,
   "metadata": {
    "deletable": false,
    "editable": false,
    "nbgrader": {
     "cell_type": "code",
     "checksum": "f041a9733b82c68c15d14d4ce751314c",
     "grade": true,
     "grade_id": "at52",
     "locked": true,
     "points": 5,
     "schema_version": 3,
     "solution": false
    },
    "tags": [
     "conditionals"
    ]
   },
   "outputs": [],
   "source": []
  },
  {
   "cell_type": "code",
   "execution_count": null,
   "metadata": {
    "deletable": false,
    "editable": false,
    "nbgrader": {
     "cell_type": "code",
     "checksum": "5905219c1a05e57135634441ecc2c592",
     "grade": true,
     "grade_id": "at53",
     "locked": true,
     "points": 10,
     "schema_version": 3,
     "solution": false
    },
    "tags": [
     "loops"
    ]
   },
   "outputs": [],
   "source": []
  },
  {
   "cell_type": "code",
   "execution_count": null,
   "metadata": {
    "deletable": false,
    "editable": false,
    "nbgrader": {
     "cell_type": "code",
     "checksum": "b32319ab83c5b7bc7100f6704a3f4bb8",
     "grade": true,
     "grade_id": "at54",
     "locked": true,
     "points": 5,
     "schema_version": 3,
     "solution": false
    },
    "tags": [
     "loop_test",
     "conditionals"
    ]
   },
   "outputs": [],
   "source": []
  },
  {
   "cell_type": "markdown",
   "metadata": {
    "deletable": false,
    "editable": false
   },
   "source": [
    "## End of the Test"
   ]
  }
 ],
 "metadata": {
  "kernelspec": {
   "display_name": "Python 3",
   "language": "python",
   "name": "python3"
  },
  "language_info": {
   "codemirror_mode": {
    "name": "ipython",
    "version": 3
   },
   "file_extension": ".py",
   "mimetype": "text/x-python",
   "name": "python",
   "nbconvert_exporter": "python",
   "pygments_lexer": "ipython3",
   "version": "3.8.10"
  },
  "latex_envs": {
   "LaTeX_envs_menu_present": true,
   "autoclose": false,
   "autocomplete": true,
   "bibliofile": "biblio.bib",
   "cite_by": "apalike",
   "current_citInitial": 1,
   "eqLabelWithNumbers": true,
   "eqNumInitial": 1,
   "hotkeys": {
    "equation": "Ctrl-E",
    "itemize": "Ctrl-I"
   },
   "labels_anchors": false,
   "latex_user_defs": false,
   "report_style_numbering": false,
   "user_envs_cfg": false
  }
 },
 "nbformat": 4,
 "nbformat_minor": 2
}
