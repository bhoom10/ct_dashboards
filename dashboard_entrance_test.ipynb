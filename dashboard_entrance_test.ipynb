{
 "cells": [
  {
   "cell_type": "code",
   "execution_count": 1,
   "id": "b8088d43",
   "metadata": {},
   "outputs": [],
   "source": [
    "import os\n",
    "import json\n",
    "et_dir=\"autograded/user001/entrance_test\"\n",
    "cells_all=[]\n",
    "for file in os.listdir(et_dir):\n",
    "    if file.endswith(\".ipynb\"):\n",
    "        with open(os.path.join(et_dir, file), mode= \"r\", encoding= \"utf-8\") as f:\n",
    "            myfile = json.loads(f.read())\n",
    "            cells_all.extend(myfile['cells'])"
   ]
  },
  {
   "cell_type": "code",
   "execution_count": 2,
   "id": "920ebb8c",
   "metadata": {},
   "outputs": [
    {
     "name": "stdout",
     "output_type": "stream",
     "text": [
      "[0, 0, 0, 0, 0, 1, 10]\n",
      "[18, 15, 19, 13, 20, 5, 14]\n"
     ]
    }
   ],
   "source": [
    "tags_standard = ['visualization', 'functionals','sequences', 'conditionals', 'loops', 'operators', 'data']\n",
    "counts=[0,0,0,0,0,0,0]\n",
    "totals = [0,0,0,0,0,0,0]\n",
    "for cell in cells_all:\n",
    "    if 'tags' in cell['metadata']:\n",
    "        tags = cell['metadata']['tags']\n",
    "        for tag in tags:\n",
    "            for index in range(len(tags_standard)):\n",
    "                if tag == tags_standard[index]:\n",
    "                    totals[index]= totals[index]+1\n",
    "                    if len(cell['outputs']) == 0:\n",
    "                        counts[index]= counts[index]+1\n",
    "                    break\n",
    "\n",
    "print(counts)\n",
    "print(totals)\n",
    "                \n",
    "        \n",
    "        "
   ]
  },
  {
   "cell_type": "code",
   "execution_count": 33,
   "id": "391aba8b",
   "metadata": {
    "scrolled": true
   },
   "outputs": [
    {
     "data": {
      "text/html": [
       "\n",
       "\n",
       "\n",
       "\n",
       "\n",
       "\n",
       "  <div class=\"bk-root\" id=\"829578f5-1939-4198-a2ae-d3228b34cfaf\" data-root-id=\"8404\"></div>\n"
      ]
     },
     "metadata": {},
     "output_type": "display_data"
    },
    {
     "data": {
      "application/javascript": [
       "(function(root) {\n",
       "  function embed_document(root) {\n",
       "    \n",
       "  var docs_json = {\"26850c2b-dd60-4267-aa4c-a5a206f44fcd\":{\"defs\":[],\"roots\":{\"references\":[{\"attributes\":{\"children\":[{\"id\":\"8401\"},{\"id\":\"8402\"},{\"id\":\"8403\"}]},\"id\":\"8404\",\"type\":\"Column\"},{\"attributes\":{\"fill_alpha\":{\"value\":0.1},\"fill_color\":{\"field\":\"colors\"},\"height\":{\"value\":0.5},\"line_alpha\":{\"value\":0.1},\"line_color\":{\"field\":\"colors\"},\"right\":{\"field\":\"counts\"},\"y\":{\"field\":\"concepts\"}},\"id\":\"8396\",\"type\":\"HBar\"},{\"attributes\":{\"data_source\":{\"id\":\"8371\"},\"glyph\":{\"id\":\"8395\"},\"hover_glyph\":null,\"muted_glyph\":null,\"nonselection_glyph\":{\"id\":\"8396\"},\"view\":{\"id\":\"8398\"}},\"id\":\"8397\",\"type\":\"GlyphRenderer\"},{\"attributes\":{\"children\":[{\"id\":\"8373\"}]},\"id\":\"8401\",\"type\":\"Row\"},{\"attributes\":{},\"id\":\"8383\",\"type\":\"CategoricalScale\"},{\"attributes\":{\"formatter\":{\"id\":\"8685\"},\"major_label_policy\":{\"id\":\"8687\"},\"minor_tick_line_color\":null,\"ticker\":{\"id\":\"8390\"}},\"id\":\"8389\",\"type\":\"CategoricalAxis\"},{\"attributes\":{\"source\":{\"id\":\"8371\"}},\"id\":\"8398\",\"type\":\"CDSView\"},{\"attributes\":{\"callback\":null,\"tooltips\":[[\"Passed tests\",\"@counts/@totals\"],[\"Description\",\"@desc\"],[\"Module\",\"@module\"]]},\"id\":\"8372\",\"type\":\"HoverTool\"},{\"attributes\":{\"fill_color\":{\"field\":\"colors\"},\"height\":{\"value\":0.5},\"line_color\":{\"field\":\"colors\"},\"right\":{\"field\":\"counts\"},\"y\":{\"field\":\"concepts\"}},\"id\":\"8395\",\"type\":\"HBar\"},{\"attributes\":{\"align\":\"center\",\"text\":\"Computational Thinking concepts scores\",\"text_font_size\":\"25px\"},\"id\":\"8375\",\"type\":\"Title\"},{\"attributes\":{\"factors\":[\"Visualization\",\"Functionals\",\"Sequences\",\"Conditionals\",\"Loops\",\"Operators\",\"Data\"],\"range_padding\":0.1},\"id\":\"8379\",\"type\":\"FactorRange\"},{\"attributes\":{\"children\":[{\"id\":\"8374\"},{\"id\":\"8399\"}]},\"id\":\"8402\",\"type\":\"Row\"},{\"attributes\":{},\"id\":\"8685\",\"type\":\"CategoricalTickFormatter\"},{\"attributes\":{\"below\":[{\"id\":\"8385\"}],\"center\":[{\"id\":\"8388\"},{\"id\":\"8391\"}],\"left\":[{\"id\":\"8389\"}],\"outline_line_color\":null,\"renderers\":[{\"id\":\"8397\"}],\"title\":{\"id\":\"8375\"},\"toolbar\":{\"id\":\"8392\"},\"toolbar_location\":null,\"width\":650,\"x_range\":{\"id\":\"8377\"},\"x_scale\":{\"id\":\"8381\"},\"y_range\":{\"id\":\"8379\"},\"y_scale\":{\"id\":\"8383\"}},\"id\":\"8374\",\"subtype\":\"Figure\",\"type\":\"Plot\"},{\"attributes\":{\"formatter\":{\"id\":\"8688\"},\"major_label_policy\":{\"id\":\"8690\"},\"minor_tick_line_color\":null,\"ticker\":{\"id\":\"8386\"}},\"id\":\"8385\",\"type\":\"LinearAxis\"},{\"attributes\":{},\"id\":\"8687\",\"type\":\"AllLabels\"},{\"attributes\":{\"data\":{\"colors\":[\"indianred\",\"indianred\",\"indianred\",\"steelblue\",\"steelblue\",\"steelblue\",\"steelblue\"],\"concepts\":[\"Visualization\",\"Functionals\",\"Sequences\",\"Conditionals\",\"Loops\",\"Operators\",\"Data\"],\"counts\":[2,3,4,8,8,9,8],\"desc\":[\"Visualization involves viewing data using graphs or charts\",\"Functionals are blocks that a program is divided into\",\"Sequences are  an activity/task expressed as a series of individual steps or instructions\",\"Conditionals allow making logical decisions based on a condition\",\"Loops allow repetition of a statement multiple times based on a condition\",\"Operators provide support for mathematical, logical, and string expressions\",\"Data involves storing, retrieving, and updating values\"],\"module\":[\"Basic plotting\",\"Code organization\",\"Code organization\",\"Control flow\",\"Control flow\",\"Variables\",\"Variables\"],\"totals\":[10,10,10,10,10,10,8]},\"selected\":{\"id\":\"8692\"},\"selection_policy\":{\"id\":\"8691\"}},\"id\":\"8371\",\"type\":\"ColumnDataSource\"},{\"attributes\":{\"children\":[{\"id\":\"8400\"}]},\"id\":\"8403\",\"type\":\"Row\"},{\"attributes\":{\"end\":10},\"id\":\"8377\",\"type\":\"Range1d\"},{\"attributes\":{},\"id\":\"8390\",\"type\":\"CategoricalTicker\"},{\"attributes\":{\"axis\":{\"id\":\"8389\"},\"dimension\":1,\"grid_line_color\":null,\"ticker\":null},\"id\":\"8391\",\"type\":\"Grid\"},{\"attributes\":{},\"id\":\"8688\",\"type\":\"BasicTickFormatter\"},{\"attributes\":{},\"id\":\"8690\",\"type\":\"AllLabels\"},{\"attributes\":{},\"id\":\"8386\",\"type\":\"BasicTicker\"},{\"attributes\":{\"height\":50,\"text\":\"<h2><i>ACTION</i>: Start the learning materials at the first module that has a red progress bar</h2>\",\"width\":900},\"id\":\"8400\",\"type\":\"Div\"},{\"attributes\":{},\"id\":\"8691\",\"type\":\"UnionRenderers\"},{\"attributes\":{},\"id\":\"8692\",\"type\":\"Selection\"},{\"attributes\":{\"style\":{\"padding-left\":\"20px\"},\"text\":\"</br></br></br></br>\\n              <b>Data</b> involves storing, retrieving, and updating values. <i>Module: Variables</i></br></br>\\n              <b>Operators</b> provide support for mathematical, logical, and string expressions. <i>Module: Variables</i></br></br>\\n              <b>Loops</b> allow repetition of a statement multiple times based on a condition. <i>Module: Control Flow</i></br></br>\\n              <b>Conditionals</b> allow making logical decisions based on a condition. <i>Module: Control Flow</i></br></br>\\n              <b>Sequences</b> are  an activity/task expressed as a series of individual steps. <i>Module: Code Organization</i></br></br>\\n              <b>Functionals</b> are blocks that a program is divided into. <i>Module: Code Organization</i></br></br>\\n              <b>Visualization</b> involves viewing data using graphs or charts. <i>Module: Basic Plotting</i></br>\",\"width\":250},\"id\":\"8399\",\"type\":\"Div\"},{\"attributes\":{\"background\":\"steelblue\",\"height\":50,\"style\":{\"color\":\"white\",\"padding-left\":\"30px\"},\"text\":\"<h1>\\tModule: Entrance Test</h1>\",\"width\":900},\"id\":\"8373\",\"type\":\"Div\"},{\"attributes\":{\"axis\":{\"id\":\"8385\"},\"grid_line_color\":null,\"ticker\":null},\"id\":\"8388\",\"type\":\"Grid\"},{\"attributes\":{\"active_multi\":null,\"tools\":[{\"id\":\"8372\"}]},\"id\":\"8392\",\"type\":\"Toolbar\"},{\"attributes\":{},\"id\":\"8381\",\"type\":\"LinearScale\"}],\"root_ids\":[\"8404\"]},\"title\":\"Bokeh Application\",\"version\":\"2.3.3\"}};\n",
       "  var render_items = [{\"docid\":\"26850c2b-dd60-4267-aa4c-a5a206f44fcd\",\"root_ids\":[\"8404\"],\"roots\":{\"8404\":\"829578f5-1939-4198-a2ae-d3228b34cfaf\"}}];\n",
       "  root.Bokeh.embed.embed_items_notebook(docs_json, render_items);\n",
       "\n",
       "  }\n",
       "  if (root.Bokeh !== undefined) {\n",
       "    embed_document(root);\n",
       "  } else {\n",
       "    var attempts = 0;\n",
       "    var timer = setInterval(function(root) {\n",
       "      if (root.Bokeh !== undefined) {\n",
       "        clearInterval(timer);\n",
       "        embed_document(root);\n",
       "      } else {\n",
       "        attempts++;\n",
       "        if (attempts > 100) {\n",
       "          clearInterval(timer);\n",
       "          console.log(\"Bokeh: ERROR: Unable to run BokehJS code because BokehJS library is missing\");\n",
       "        }\n",
       "      }\n",
       "    }, 10, root)\n",
       "  }\n",
       "})(window);"
      ],
      "application/vnd.bokehjs_exec.v0+json": ""
     },
     "metadata": {
      "application/vnd.bokehjs_exec.v0+json": {
       "id": "8404"
      }
     },
     "output_type": "display_data"
    }
   ],
   "source": [
    "from bokeh.io import output_notebook, output_file, show\n",
    "from bokeh.models import HoverTool, Paragraph, Div, ColumnDataSource\n",
    "from bokeh.plotting import figure\n",
    "from bokeh.layouts import layout\n",
    "\n",
    "# output_notebook()\n",
    "output_file('ET_dashboard.html', title=\"Entrance Test dashboard\")\n",
    "\n",
    "concepts = ['Visualization', 'Functionals', 'Sequences', 'Conditionals', 'Loops', 'Operators', 'Data']\n",
    "modules = ['Basic plotting', 'Code organization', 'Code organization', 'Control flow', 'Control flow', 'Variables', 'Variables']\n",
    "counts = [2, 3, 4, 8, 8, 9, 8]\n",
    "totals = [10,10,10,10,10,10,8]\n",
    "max_value = max(totals)\n",
    "description = ['Visualization involves viewing data using graphs or charts',\n",
    "               'Functionals are blocks that a program is divided into',\n",
    "               'Sequences are  an activity/task expressed as a series of individual steps or instructions',\n",
    "               'Conditionals allow making logical decisions based on a condition',\n",
    "               'Loops allow repetition of a statement multiple times based on a condition',\n",
    "               'Operators provide support for mathematical, logical, and string expressions',\n",
    "               'Data involves storing, retrieving, and updating values']\n",
    "\n",
    "\n",
    "colors=[]\n",
    "for i in range(len(counts)): \n",
    "    if counts[i] < (0.8*totals[i]):\n",
    "        colors.append(\"indianred\")\n",
    "    else:\n",
    "        colors.append(\"steelblue\")\n",
    "source = ColumnDataSource(data=dict(concepts=concepts, counts=counts, colors=colors, totals=totals, desc=description, module = modules))\n",
    "\n",
    "hover = HoverTool(\n",
    "        tooltips=[\n",
    "            (\"Passed tests\", \"@counts/@totals\"),\n",
    "            (\"Description\", \"@desc\"),\n",
    "            (\"Module\", \"@module\")\n",
    "        ]\n",
    "    )\n",
    "\n",
    "div_header = Div(text=\"\"\"<h1>\\tModule: Entrance Test</h1>\"\"\", background=\"steelblue\", width=900, height=50, style={'color': 'white', 'padding-left':'30px'})\n",
    "\n",
    "# show(div)\n",
    "p = figure(y_range=concepts, x_range=(0,max_value), title=\"Computational Thinking concepts scores\", toolbar_location=None, tools=[hover], width=650)\n",
    "p.hbar(y='concepts', height=0.5, left=0,\n",
    "       right='counts', color='colors', source=source)\n",
    "\n",
    "p.y_range.range_padding = 0.1\n",
    "p.ygrid.grid_line_color = None\n",
    "p.xgrid.grid_line_color = None\n",
    "# p.legend.location = \"top_left\"\n",
    "p.axis.minor_tick_line_color = None\n",
    "p.outline_line_color = None\n",
    "# p.xaxis.visible = False\n",
    "p.title.text_font_size = \"25px\"\n",
    "p.title.align = \"center\"\n",
    "\n",
    "# show(p)\n",
    "\n",
    "\n",
    "# p1 = Paragraph(text=\"\"\"Your text is initialized with the 'text' argument.  The\n",
    "# remaining Paragraph arguments are 'width' and 'height'. For this example, those values\n",
    "# are 200 and 100, respectively.\"\"\",\n",
    "# width=200, height=100)\n",
    "text_div = \"\"\"</br></br></br></br>\n",
    "              <b>Data</b> involves storing, retrieving, and updating values. <i>Module: Variables</i></br></br>\n",
    "              <b>Operators</b> provide support for mathematical, logical, and string expressions. <i>Module: Variables</i></br></br>\n",
    "              <b>Loops</b> allow repetition of a statement multiple times based on a condition. <i>Module: Control Flow</i></br></br>\n",
    "              <b>Conditionals</b> allow making logical decisions based on a condition. <i>Module: Control Flow</i></br></br>\n",
    "              <b>Sequences</b> are  an activity/task expressed as a series of individual steps. <i>Module: Code Organization</i></br></br>\n",
    "              <b>Functionals</b> are blocks that a program is divided into. <i>Module: Code Organization</i></br></br>\n",
    "              <b>Visualization</b> involves viewing data using graphs or charts. <i>Module: Basic Plotting</i></br>\"\"\"\n",
    "\n",
    "div_concepts = Div(text=text_div, width=250, style={'padding-left':'20px'})\n",
    "# show(div_concepts)\n",
    "\n",
    "div_action = Div(text=\"\"\"<h2><i>ACTION</i>: Start the learning materials at the first module that has a red progress bar</h2>\"\"\", width=900, height=50)\n",
    "\n",
    "l = layout([\n",
    "    [div_header],\n",
    "    [p, div_concepts],\n",
    "    [div_action]\n",
    "])\n",
    "\n",
    "show(l)\n",
    "# div = Div(text=\"\"\"Your <a href=\"https://en.wikipedia.org/wiki/HTML\">HTML</a>-supported text is initialized with the <b>text</b> argument.  The\n",
    "# remaining div arguments are <b>width</b> and <b>height</b>. For this example, those values\n",
    "# are <i>200</i> and <i>100</i>, respectively.\"\"\",\n",
    "# width=200, height=100)\n",
    "\n",
    "# show(div)"
   ]
  },
  {
   "cell_type": "code",
   "execution_count": null,
   "id": "1c531ba2",
   "metadata": {},
   "outputs": [],
   "source": []
  }
 ],
 "metadata": {
  "kernelspec": {
   "display_name": "Python 3",
   "language": "python",
   "name": "python3"
  },
  "language_info": {
   "codemirror_mode": {
    "name": "ipython",
    "version": 3
   },
   "file_extension": ".py",
   "mimetype": "text/x-python",
   "name": "python",
   "nbconvert_exporter": "python",
   "pygments_lexer": "ipython3",
   "version": "3.8.10"
  }
 },
 "nbformat": 4,
 "nbformat_minor": 5
}
